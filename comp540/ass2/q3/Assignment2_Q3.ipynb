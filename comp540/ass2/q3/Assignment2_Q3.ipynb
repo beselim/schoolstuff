{
 "cells": [
  {
   "cell_type": "markdown",
   "metadata": {},
   "source": [
    "## Question 3"
   ]
  },
  {
   "cell_type": "markdown",
   "metadata": {},
   "source": [
    "Let's first check the code for consistence on a well-conditioned problem."
   ]
  },
  {
   "cell_type": "code",
   "execution_count": 16,
   "metadata": {
    "collapsed": false
   },
   "outputs": [
    {
     "name": "stdout",
     "output_type": "stream",
     "text": [
      "A = \n",
      "   3   1  -3  15\n",
      "  -1  -3  -4   4\n",
      "   4   4  -4   8\n",
      "   2  -2  -4   8\n",
      "\n"
     ]
    }
   ],
   "source": [
    "print('A = ')\n",
    "print(open('test').read())"
   ]
  },
  {
   "cell_type": "code",
   "execution_count": 19,
   "metadata": {
    "collapsed": false
   },
   "outputs": [
    {
     "name": "stdout",
     "output_type": "stream",
     "text": [
      " Do verification?\n",
      " L\n",
      "  1.000000000  0.000000000  0.000000000  0.000000000\n",
      "  0.500000000  1.000000000  0.000000000  0.000000000\n",
      " -0.250000000  0.500000000  1.000000000  0.000000000\n",
      "  0.750000000  0.500000000 -0.250000000  1.000000000\n",
      " U\n",
      "  4.000000000  4.000000000 -4.000000000  8.000000000\n",
      "  0.000000000 -4.000000000 -2.000000000  4.000000000\n",
      "  0.000000000  0.000000000 -4.000000000  4.000000000\n",
      "  0.000000000  0.000000000  0.000000000  8.000000000\n",
      " p\n",
      "           3           4           4\n",
      " x\n",
      "  1.000000000  1.000000000  1.000000000  1.000000000\n"
     ]
    }
   ],
   "source": [
    "%%sh\n",
    "echo '1' | ./a.out"
   ]
  },
  {
   "cell_type": "markdown",
   "metadata": {},
   "source": [
    "----\n",
    "Good to go. "
   ]
  },
  {
   "cell_type": "code",
   "execution_count": 20,
   "metadata": {
    "collapsed": false
   },
   "outputs": [
    {
     "name": "stdout",
     "output_type": "stream",
     "text": [
      " Do verification?\n",
      " \n",
      " Question c)\n",
      " -----------\n",
      " Growth Factor\n",
      "   536870828.78501618     \n",
      " ||x - xc|| / ||xc||\n",
      "   4.9604641931455505E-008\n",
      " \n",
      " Question d)\n",
      " -----------\n",
      " Beginning Iterative Refinement\n",
      " \n",
      "Refinement   1\n",
      " ||x - xc|| / ||xc||\n",
      "   8.8817841970012444E-016\n",
      " ||d|| / ||x||\n",
      "   1.0067332960828062E-008\n",
      " \n",
      "Refinement   2\n",
      " ||x - xc|| / ||xc||\n",
      "   8.8817841970012444E-016\n",
      " ||d|| / ||x||\n",
      "   1.1747784182180241E-016\n",
      " Final x\n",
      "  1.0000000000000000\n",
      "  1.0000000000000000\n",
      "  1.0000000000000000\n",
      "  1.0000000000000000\n",
      "  0.9999999999999999\n",
      "  1.0000000000000000\n",
      "  1.0000000000000000\n",
      "  1.0000000000000002\n",
      "  1.0000000000000004\n",
      "  1.0000000000000000\n",
      "  1.0000000000000009\n",
      "  1.0000000000000009\n",
      "  1.0000000000000009\n",
      "  1.0000000000000009\n",
      "  1.0000000000000009\n",
      "  1.0000000000000009\n",
      "  1.0000000000000009\n",
      "  1.0000000000000009\n",
      "  1.0000000000000009\n",
      "  1.0000000000000009\n",
      "  1.0000000000000009\n",
      "  1.0000000000000009\n",
      "  1.0000000000000009\n",
      "  1.0000000000000009\n",
      "  1.0000000000000009\n",
      "  1.0000000000000009\n",
      "  1.0000000000000007\n",
      "  1.0000000000000007\n",
      "  1.0000000000000007\n",
      "  1.0000000000000000\n"
     ]
    }
   ],
   "source": [
    "%%sh\n",
    "echo '0' | ./a.out"
   ]
  },
  {
   "cell_type": "code",
   "execution_count": null,
   "metadata": {
    "collapsed": true
   },
   "outputs": [],
   "source": []
  }
 ],
 "metadata": {
  "kernelspec": {
   "display_name": "Python 2",
   "language": "python",
   "name": "python2"
  },
  "language_info": {
   "codemirror_mode": {
    "name": "ipython",
    "version": 2
   },
   "file_extension": ".py",
   "mimetype": "text/x-python",
   "name": "python",
   "nbconvert_exporter": "python",
   "pygments_lexer": "ipython2",
   "version": "2.7.10"
  }
 },
 "nbformat": 4,
 "nbformat_minor": 0
}
