{
 "cells": [
  {
   "cell_type": "code",
   "execution_count": 36,
   "metadata": {
    "collapsed": false
   },
   "outputs": [],
   "source": [
    "# Symbolic math package\n",
    "import sympy as sp\n",
    "sp.init_printing()\n",
    "# Custom convenience function\n",
    "from sympyutils import show\n",
    "# Matlab-like package\n",
    "import numpy as np\n",
    "# Plotting\n",
    "import matplotlib.pyplot as plt\n",
    "%matplotlib inline\n",
    "# Custom plotting options\n",
    "import matplotopts\n",
    "matplotopts.custom()"
   ]
  },
  {
   "cell_type": "markdown",
   "metadata": {},
   "source": [
    "# Angled flow past cylinder with Backspin<sup>TM</sup>\n",
    "\n",
    "This kind of flow is obtained by combining a vortex centered at the origin as well as angled flow past a cylinder.\n",
    "\n",
    "## Stream Function\n",
    "As shown in the handwritten notes, the stream function is given by:\n",
    "\\begin{align}\n",
    "\\Psi &= \\Psi_{CWAF} + \\Psi_{vortex} + C\\\\\n",
    " \\text{where} \\quad\\Psi_{CWAF} &= U\\big[r - \\frac{a^2}{r}\\big]\\sin(\\theta - \\alpha)\\\\\n",
    " \\Psi_{vortex} &= \\frac{\\Gamma}{2\\pi}\\log(r)\n",
    "\\end{align}\n",
    "notice that we added a constant $C$. We'll use this for convenience to make the value of the stream function around the cylinder to be equal to 0. In other words:\n",
    "\\begin{gather}\n",
    "\\text{Find}~C ~\\text{such that}~ \\Psi\\big|_{r=a} = 0\\\\\n",
    "\\Psi\\big|_{r=a} = \\frac{\\Gamma}{2\\pi}\\log(a) + C = 0 \\quad\\Rightarrow\\quad C = -\\frac{\\Gamma}{2\\pi}\\log{a}\n",
    "\\end{gather}\n",
    "We can then write our new stream function as:\n",
    "$$\n",
    "\\Psi = U\\left[r - \\frac{a^2}{r}\\right]\\sin(\\theta - \\alpha) + \\frac{\\Gamma}{2\\pi}\\log\\left(\\frac{r}{a}\\right)\n",
    "$$\n",
    "\n",
    "## Velocity\n",
    "\n",
    "The $r$ and $\\theta$ components of the velocity are found like so:\n",
    "\\begin{align}\n",
    "u_r &= \\frac{1}{r}\\frac{\\partial\\Psi}{\\partial\\theta}\\\\\n",
    "u_\\theta &= -\\frac{\\partial\\Psi}{\\partial r}\n",
    "\\end{align}\n",
    "\n",
    "We're going to use the **sympy** package from now on."
   ]
  },
  {
   "cell_type": "code",
   "execution_count": 37,
   "metadata": {
    "collapsed": false
   },
   "outputs": [
    {
     "data": {
      "text/latex": [
       "$$\\Psi=\\frac{\\Gamma}{2 \\pi} \\log{\\left (\\frac{r}{a} \\right )} - U \\left(- \\frac{a^{2}}{r} + r\\right) \\sin{\\left (\\alpha - \\theta \\right )}$$"
      ],
      "text/plain": [
       "<IPython.core.display.Math object>"
      ]
     },
     "execution_count": 37,
     "metadata": {},
     "output_type": "execute_result"
    }
   ],
   "source": [
    "U, r, a, theta, alpha, gam = sp.symbols('U r a theta alpha Gamma', real=True, positive=True)\n",
    "psi_cwaf = U*(r - a**2/r)*sp.sin(theta - alpha)\n",
    "psi_vortex = gam/(2*sp.pi)*sp.log(r/a)\n",
    "psi = psi_cwaf + psi_vortex\n",
    "show(psi, '\\Psi')"
   ]
  },
  {
   "cell_type": "markdown",
   "metadata": {},
   "source": [
    "Sometimes **sympy** does weird stuff, but the expression is the same as above. "
   ]
  },
  {
   "cell_type": "code",
   "execution_count": 38,
   "metadata": {
    "collapsed": false
   },
   "outputs": [
    {
     "data": {
      "text/latex": [
       "$$u_r=\\frac{U}{r} \\left(- \\frac{a^{2}}{r} + r\\right) \\cos{\\left (\\alpha - \\theta \\right )}$$"
      ],
      "text/plain": [
       "<IPython.core.display.Math object>"
      ]
     },
     "execution_count": 38,
     "metadata": {},
     "output_type": "execute_result"
    }
   ],
   "source": [
    "ur = (1/r)*sp.diff(psi, theta)\n",
    "ut = -sp.diff(psi, r)\n",
    "show(ur, 'u_r')"
   ]
  },
  {
   "cell_type": "code",
   "execution_count": 39,
   "metadata": {
    "collapsed": false
   },
   "outputs": [
    {
     "data": {
      "text/latex": [
       "$$u_{\\theta}=- \\frac{\\Gamma}{2 \\pi r} + U \\left(\\frac{a^{2}}{r^{2}} + 1\\right) \\sin{\\left (\\alpha - \\theta \\right )}$$"
      ],
      "text/plain": [
       "<IPython.core.display.Math object>"
      ]
     },
     "execution_count": 39,
     "metadata": {},
     "output_type": "execute_result"
    }
   ],
   "source": [
    "show(ut, 'u_{\\\\theta}')"
   ]
  },
  {
   "cell_type": "markdown",
   "metadata": {},
   "source": [
    "Let's also find the values of the velocity at the surface of the cylinder. This will be useful later. "
   ]
  },
  {
   "cell_type": "code",
   "execution_count": 40,
   "metadata": {
    "collapsed": false
   },
   "outputs": [
    {
     "data": {
      "text/latex": [
       "$$u_r\\big|_{r=a}=0$$"
      ],
      "text/plain": [
       "<IPython.core.display.Math object>"
      ]
     },
     "execution_count": 40,
     "metadata": {},
     "output_type": "execute_result"
    }
   ],
   "source": [
    "surface = [(r, a)]\n",
    "ur_surface = ur.subs(surface)\n",
    "show(ur_surface, 'u_r\\\\big|_{r=a}')"
   ]
  },
  {
   "cell_type": "code",
   "execution_count": 41,
   "metadata": {
    "collapsed": false
   },
   "outputs": [
    {
     "data": {
      "text/latex": [
       "$$u_\\theta\\big|_{r=a}=- \\frac{\\Gamma}{2 \\pi a} + 2 U \\sin{\\left (\\alpha - \\theta \\right )}$$"
      ],
      "text/plain": [
       "<IPython.core.display.Math object>"
      ]
     },
     "execution_count": 41,
     "metadata": {},
     "output_type": "execute_result"
    }
   ],
   "source": [
    "ut_surface = ut.subs(surface)\n",
    "show(ut_surface, 'u_\\\\theta\\\\big|_{r=a}')"
   ]
  },
  {
   "cell_type": "markdown",
   "metadata": {},
   "source": [
    "## Stagnation Points\n",
    "\n",
    "We now seek the stagnation points for this flow. We expect that, for low enough $\\Gamma$, the stagnation points will be located on the surface of the cylinder. This simplifies our task since, as shown above, $u_r$ is zero at the surface. Let's ask **sympy** to solve for the value of $\\theta$ at stagnation points."
   ]
  },
  {
   "cell_type": "code",
   "execution_count": 42,
   "metadata": {
    "collapsed": false
   },
   "outputs": [
    {
     "data": {
      "text/latex": [
       "$$\\theta_{s}=\\left [ \\alpha - \\operatorname{asin}{\\left (\\frac{\\Gamma}{4 \\pi U a} \\right )}, \\quad \\alpha + \\operatorname{asin}{\\left (\\frac{\\Gamma}{4 \\pi U a} \\right )} - \\pi\\right ]$$"
      ],
      "text/plain": [
       "<IPython.core.display.Math object>"
      ]
     },
     "execution_count": 42,
     "metadata": {},
     "output_type": "execute_result"
    }
   ],
   "source": [
    "tstag = sp.solve(ut_surface, theta)\n",
    "show(tstag, '\\\\theta_{s}')"
   ]
  },
  {
   "cell_type": "markdown",
   "metadata": {},
   "source": [
    "Let's perform a *sanity check*: we expect $\\theta_{s}\\big|_{\\Gamma = \\alpha = 0} = \\{0, \\pi\\}$."
   ]
  },
  {
   "cell_type": "code",
   "execution_count": 43,
   "metadata": {
    "collapsed": false
   },
   "outputs": [
    {
     "data": {
      "text/latex": [
       "$$\\theta_{s}\\big|_{\\Gamma = \\alpha = 0}=\\left [ 0, \\quad - \\pi\\right ]$$"
      ],
      "text/plain": [
       "<IPython.core.display.Math object>"
      ]
     },
     "execution_count": 43,
     "metadata": {},
     "output_type": "execute_result"
    }
   ],
   "source": [
    "hnbs = [(gam, 0), (alpha, 0)]  # Conditions for horizontal flow without backspin\n",
    "show(\n",
    "    [x.subs(hnbs) for x in tstag], \n",
    "    '\\\\theta_{s}\\\\big|_{\\\\Gamma = \\\\alpha = 0}'\n",
    ")"
   ]
  },
  {
   "cell_type": "markdown",
   "metadata": {},
   "source": [
    "Cool. Let's see how $\\Gamma$ affects $\\theta_s$ now. It's easier to non-dimensionalize $\\Gamma$ and write $\\theta_s$ as:\n",
    "$$\n",
    "\\theta_s = \\left\\{\\alpha - \\operatorname{asin}\\left(\\chi\\right), \\alpha + \\operatorname{asin}\\left(\\chi\\right) - \\pi\\right\\}\n",
    "$$"
   ]
  },
  {
   "cell_type": "markdown",
   "metadata": {},
   "source": [
    "Let's plot this!"
   ]
  },
  {
   "cell_type": "code",
   "execution_count": 44,
   "metadata": {
    "collapsed": false
   },
   "outputs": [
    {
     "name": "stderr",
     "output_type": "stream",
     "text": [
      "/home/selimb/miniconda/envs/science/lib/python2.7/site-packages/ipykernel/__main__.py:2: RuntimeWarning: invalid value encountered in arcsin\n",
      "  from ipykernel import kernelapp as app\n"
     ]
    }
   ],
   "source": [
    "CHI = np.linspace(0, 2, 201)\n",
    "TSTAG = [-np.arcsin(CHI), np.arcsin(CHI) - np.pi]"
   ]
  },
  {
   "cell_type": "markdown",
   "metadata": {},
   "source": [
    "What just happened? Well **numpy** is complaining because there is no real solution for $\\operatorname{asin}(\\chi), ~\\chi > 1$. Let's ignore this for now."
   ]
  },
  {
   "cell_type": "code",
   "execution_count": 45,
   "metadata": {
    "collapsed": false
   },
   "outputs": [
    {
     "data": {
      "image/png": "[encoded data removed]",
      "text/plain": [
       "<matplotlib.figure.Figure at 0x7f41d37aa6d0>"
      ]
     },
     "metadata": {},
     "output_type": "display_data"
    }
   ],
   "source": [
    "# matplotlib.rcParams.update(matplotlib.rc_params_from_file('matplotlibrc'))\n",
    "# print(matplotlib.rcParams)\n",
    "fig, ax = plt.subplots(figsize=(12, 8))\n",
    "ax.plot(CHI, TSTAG[0], 'r', label='$\\\\theta_{s,1}$')\n",
    "ax.plot(CHI, TSTAG[1], 'b', label='$\\\\theta_{s,2}$')\n",
    "ax.set_xlabel('$\\\\chi$')\n",
    "ax.set_ylabel('$\\\\theta_s - \\\\alpha$', rotation=0)\n",
    "ax.legend(fancybox=True, loc='best')\n",
    "# Beautiful y axis\n",
    "yticks = np.linspace(0, 1, 5)*-np.pi\n",
    "ax.set_yticks(yticks)\n",
    "ax.set_yticklabels(['0', '$-\\\\pi/4$', '$- \\\\pi/2$', '$- 3\\\\pi/4$', '$- \\\\pi$'])\n",
    "ax.set_title('Effect of vortex strength on placement of stagnation points on surface.')\n",
    "plt.show()"
   ]
  },
  {
   "cell_type": "markdown",
   "metadata": {},
   "source": [
    "This confirms what we saw in class: the stagnation points move symmetrically towards the \"bottom\" of the cylinder, at which point there is but one stagnation point.\n",
    "\n",
    "But, what happens when $\\chi > 1$? Well, we made an assumption earlier that the stagnation points would be on the cylinder! As we see here, that assumption breaks down for large enough $\\Gamma$. To find the expression for these stagnation points, we require some intuition. \n",
    "\n",
    "Let $r > a$, let's start by finding $\\theta_s = \\left\\{\\theta ~\\big| ~u_r = 0\\right\\} $"
   ]
  },
  {
   "cell_type": "code",
   "execution_count": 46,
   "metadata": {
    "collapsed": false
   },
   "outputs": [
    {
     "data": {
      "text/latex": [
       "$$\\theta_s=\\left [ \\alpha - \\frac{3 \\pi}{2}, \\quad \\alpha - \\frac{\\pi}{2}\\right ]$$"
      ],
      "text/plain": [
       "<IPython.core.display.Math object>"
      ]
     },
     "execution_count": 46,
     "metadata": {},
     "output_type": "execute_result"
    }
   ],
   "source": [
    "ts = sp.solve(ur, theta)\n",
    "show(ts, '\\\\theta_s')"
   ]
  },
  {
   "cell_type": "markdown",
   "metadata": {},
   "source": [
    "This is what we obtained in class -- without the $\\alpha$ and with positive angles."
   ]
  },
  {
   "cell_type": "markdown",
   "metadata": {},
   "source": [
    "Now let's find $r_s = \\left\\{r ~\\big| ~u_\\theta\\big|_{\\theta=\\theta_s} = 0\\right\\} $"
   ]
  },
  {
   "cell_type": "code",
   "execution_count": 47,
   "metadata": {
    "collapsed": false
   },
   "outputs": [
    {
     "data": {
      "text/latex": [
       "$$r_s=\\left [ \\left [ \\frac{1}{4 \\pi U} \\left(- \\Gamma + \\sqrt{\\Gamma^{2} - 16 \\pi^{2} U^{2} a^{2}}\\right), \\quad - \\frac{1}{4 \\pi U} \\left(\\Gamma + \\sqrt{\\Gamma^{2} - 16 \\pi^{2} U^{2} a^{2}}\\right)\\right ], \\quad \\left [ \\frac{1}{4 \\pi U} \\left(\\Gamma - \\sqrt{\\Gamma^{2} - 16 \\pi^{2} U^{2} a^{2}}\\right), \\quad \\frac{1}{4 \\pi U} \\left(\\Gamma + \\sqrt{\\Gamma^{2} - 16 \\pi^{2} U^{2} a^{2}}\\right)\\right ]\\right ]$$"
      ],
      "text/plain": [
       "<IPython.core.display.Math object>"
      ]
     },
     "execution_count": 47,
     "metadata": {},
     "output_type": "execute_result"
    }
   ],
   "source": [
    "rs = [sp.solve(ut.subs(theta, t), r, simplify=True) for t in ts]\n",
    "show(rs, 'r_s')"
   ]
  },
  {
   "cell_type": "markdown",
   "metadata": {},
   "source": [
    "Nasty. Alright now let's plug in $\\Gamma = 2\\cdot(4\\pi U a)$ and see which ones satisfy $\\dfrac{r_s}{a} > 1$."
   ]
  },
  {
   "cell_type": "code",
   "execution_count": 48,
   "metadata": {
    "collapsed": false
   },
   "outputs": [
    {
     "data": {
      "text/latex": [
       "$$r_s\\big|_{\\chi=2}=\\left [ a \\left(-2 + \\sqrt{3}\\right), \\quad - a \\left(\\sqrt{3} + 2\\right), \\quad a \\left(- \\sqrt{3} + 2\\right), \\quad a \\left(\\sqrt{3} + 2\\right)\\right ]$$"
      ],
      "text/plain": [
       "<IPython.core.display.Math object>"
      ]
     },
     "execution_count": 48,
     "metadata": {},
     "output_type": "execute_result"
    }
   ],
   "source": [
    "rs2 = [r.subs(gam, 2*(4*sp.pi*U*a)).simplify() \n",
    "       for rpair in rs for r in rpair]\n",
    "show(rs2, 'r_s\\\\big|_{\\chi=2}')"
   ]
  },
  {
   "cell_type": "code",
   "execution_count": 49,
   "metadata": {
    "collapsed": false
   },
   "outputs": [
    {
     "data": {
      "image/png": "[encoded data removed]",
      "text/latex": [
       "$$\\left [ \\mathrm{False}, \\quad \\mathrm{False}, \\quad \\mathrm{False}, \\quad \\mathrm{True}\\right ]$$"
      ],
      "text/plain": [
       "[False, False, False, True]"
      ]
     },
     "execution_count": 49,
     "metadata": {},
     "output_type": "execute_result"
    }
   ],
   "source": [
    "valid = [sp.Gt(r/a, 1) for r in rs2]\n",
    "valid"
   ]
  },
  {
   "cell_type": "markdown",
   "metadata": {},
   "source": [
    "So the only valid answer is the very last expression."
   ]
  },
  {
   "cell_type": "code",
   "execution_count": 50,
   "metadata": {
    "collapsed": false
   },
   "outputs": [
    {
     "data": {
      "text/latex": [
       "$$r_s=\\frac{1}{4 \\pi U} \\left(\\Gamma + \\sqrt{\\Gamma^{2} - 16 \\pi^{2} U^{2} a^{2}}\\right)$$"
      ],
      "text/plain": [
       "<IPython.core.display.Math object>"
      ]
     },
     "execution_count": 50,
     "metadata": {},
     "output_type": "execute_result"
    }
   ],
   "source": [
    "rsvalid = rs[1][1]\n",
    "show(rsvalid, 'r_s')"
   ]
  },
  {
   "cell_type": "markdown",
   "metadata": {},
   "source": [
    "Note that it does not depend on $\\alpha$, as that would be ridiculous. However, $\\theta_s$ *does* depend on $\\alpha$.\n",
    "\n",
    "Just for fun, let's see what that plot looks like. Again, we non-dimensionalize $\\Gamma$ with the following:\n",
    "$$\n",
    "\\chi = \\frac{\\Gamma}{4\\pi U a}\n",
    "$$\n",
    "and we don't really care about the actual value of $a$, so really we seek an expression\n",
    "$$\n",
    "R(\\chi) = \\frac{r_s}{a}\n",
    "$$"
   ]
  },
  {
   "cell_type": "code",
   "execution_count": 51,
   "metadata": {
    "collapsed": false
   },
   "outputs": [
    {
     "data": {
      "text/latex": [
       "$$R=\\chi + \\sqrt{\\chi^{2} - 1}$$"
      ],
      "text/plain": [
       "<IPython.core.display.Math object>"
      ]
     },
     "execution_count": 51,
     "metadata": {},
     "output_type": "execute_result"
    }
   ],
   "source": [
    "chi = sp.symbols('chi')\n",
    "chisub = [(gam, chi*4*sp.pi*U*a)]\n",
    "R = (rsvalid.subs(chisub)/a).simplify()\n",
    "show(R, 'R')"
   ]
  },
  {
   "cell_type": "markdown",
   "metadata": {},
   "source": [
    "Awesome expression, don't you think? Let's plot this just for the hell of it."
   ]
  },
  {
   "cell_type": "code",
   "execution_count": 52,
   "metadata": {
    "collapsed": false
   },
   "outputs": [
    {
     "data": {
      "image/png": "[encoded data removed]",
      "text/plain": [
       "<matplotlib.figure.Figure at 0x7f41d1402690>"
      ]
     },
     "metadata": {},
     "output_type": "display_data"
    }
   ],
   "source": [
    "fig, ax = plt.subplots(figsize=(12, 8))\n",
    "CHI = np.linspace(1, 10)\n",
    "Rvals = CHI + np.sqrt(CHI**2 -1)\n",
    "R0 = Rvals[0]\n",
    "ax.plot(CHI, Rvals)\n",
    "ax.set_xlabel('$\\\\chi$')\n",
    "ax.set_ylabel('$\\\\frac{r_s}{a}$', rotation=0)\n",
    "yticks = ax.get_yticks()\n",
    "yticks = np.append(yticks, Rvals[0])\n",
    "ax.set_yticks(yticks)\n",
    "ax.set_title('Effect of vortex strength on radial location of stagnation point')\n",
    "plt.show()"
   ]
  },
  {
   "cell_type": "markdown",
   "metadata": {},
   "source": [
    "## Pressure coefficient\n",
    "\n",
    "So we found the stagnation points. Cool. Now, let's look for the pressure coefficient $C_P$.\n",
    "\n",
    "We start by using Bernoulli's equation:\n",
    "$$\n",
    "P_\\infty + \\frac{1}{2}\\rho U^2 = \\left(P + \\frac{1}{2}\\rho \\vec{u}\\cdot \\vec{u}\\right)_{surface}\\\\\n",
    "\\Rightarrow P_{surface} = P_{t,\\infty} - \\left(\\frac{1}{2}\\rho \\vec{u}\\cdot \\vec{u}\\right)_{surface}\n",
    "$$\n",
    "where $P_{t,\\infty}$ is the *total* freestream pressure. Luckily, we already found $\\vec{u}_{surface}$:\n",
    "\\begin{align}\n",
    "\\vec{u}_{surface} &= \\left[u_r\\hat{e}_r + u_\\theta\\hat{e}_\\theta\\right]\\big|_{r = a}\\\\\n",
    " &= 0\\hat{e}_r + \\left(2U\\sin(\\alpha−\\theta) − \\frac{\\Gamma}{2\\pi a}\\right)\\hat{e}_\\theta\n",
    "\\end{align}\n",
    "Thus, \n",
    "\\begin{align}\n",
    "\\left(\\vec{u}\\cdot \\vec{u}\\right)_{surface} = \\left(u_\\theta\\big|_{r=a}\\right)^2\n",
    "\\end{align}"
   ]
  },
  {
   "cell_type": "code",
   "execution_count": 18,
   "metadata": {
    "collapsed": false
   },
   "outputs": [
    {
     "data": {
      "text/latex": [
       "$$\\left(\\vec{u}\\cdot \\vec{u}\\right)_{surface}=\\frac{\\Gamma^{2}}{4 \\pi^{2} a^{2}} - \\frac{2 \\Gamma U}{\\pi a} \\sin{\\left (\\alpha - \\theta \\right )} + 4 U^{2} \\sin^{2}{\\left (\\alpha - \\theta \\right )}$$"
      ],
      "text/plain": [
       "<IPython.core.display.Math object>"
      ]
     },
     "execution_count": 18,
     "metadata": {},
     "output_type": "execute_result"
    }
   ],
   "source": [
    "uusurf = ut_surface**2\n",
    "show(uusurf.expand(), r'\\left(\\vec{u}\\cdot \\vec{u}\\right)_{surface}')"
   ]
  },
  {
   "cell_type": "code",
   "execution_count": 19,
   "metadata": {
    "collapsed": false
   },
   "outputs": [
    {
     "data": {
      "text/latex": [
       "$$P=P_{{\\infty}} + \\frac{U^{2} \\rho}{2} - \\frac{\\rho}{2} \\left(- \\frac{\\Gamma}{2 \\pi a} + 2 U \\sin{\\left (\\alpha - \\theta \\right )}\\right)^{2}$$"
      ],
      "text/plain": [
       "<IPython.core.display.Math object>"
      ]
     },
     "execution_count": 19,
     "metadata": {},
     "output_type": "execute_result"
    }
   ],
   "source": [
    "p, rho, pinf = sp.symbols('P rho P_{\\infty}', real=True, positive=True)\n",
    "p = pinf + (rho/2)*U**2 - (rho/2)*uusurf\n",
    "show(p, 'P')"
   ]
  },
  {
   "cell_type": "markdown",
   "metadata": {},
   "source": [
    "Now, the pressure coefficient is defined as:\n",
    "$$\n",
    "C_P = \\frac{P - P_\\infty}{\\frac{1}{2}\\rho U^2}\n",
    "$$\n",
    "So in our case:"
   ]
  },
  {
   "cell_type": "code",
   "execution_count": 20,
   "metadata": {
    "collapsed": false
   },
   "outputs": [
    {
     "data": {
      "text/latex": [
       "$$C_p=1 - \\frac{1}{4 \\pi^{2} U^{2} a^{2}} \\left(\\Gamma - 4 \\pi U a \\sin{\\left (\\alpha - \\theta \\right )}\\right)^{2}$$"
      ],
      "text/plain": [
       "<IPython.core.display.Math object>"
      ]
     },
     "execution_count": 20,
     "metadata": {},
     "output_type": "execute_result"
    }
   ],
   "source": [
    "cp = 2*(p - pinf)/(rho*U**2)\n",
    "show(cp.simplify(), 'C_p')"
   ]
  },
  {
   "cell_type": "markdown",
   "metadata": {},
   "source": [
    "This is not as pretty as we'd like. Let's see what happens if we non-dimensionalize $\\Gamma$ with $\\chi$ again."
   ]
  },
  {
   "cell_type": "code",
   "execution_count": 21,
   "metadata": {
    "collapsed": false
   },
   "outputs": [
    {
     "data": {
      "text/latex": [
       "$$C_p=- 4 \\left(\\chi - \\sin{\\left (\\alpha - \\theta \\right )}\\right)^{2} + 1$$"
      ],
      "text/plain": [
       "<IPython.core.display.Math object>"
      ]
     },
     "execution_count": 21,
     "metadata": {},
     "output_type": "execute_result"
    }
   ],
   "source": [
    "cpchi = cp.subs(chisub).simplify()\n",
    "show(cpchi, 'C_p')"
   ]
  },
  {
   "cell_type": "markdown",
   "metadata": {},
   "source": [
    "Magnificient.\n",
    "\n",
    "Now onto $C_L$ and $C_D$. \n",
    "\n",
    "## Lift and Drag\n",
    "\n",
    "To figure out the lift and drag, we first need to find $F_x$ and $F_y$. We already have an expression for $P_{surface}$, so what is required is to integrate the pressure around the cylinder. More explicitly:\n",
    "\\begin{align}\n",
    "F_x &= -\\int_0^{2\\pi} P a \\cos(\\theta) \\text{d}\\theta\\\\\n",
    "F_y &= -\\int_0^{2\\pi} P a \\sin(\\theta) \\text{d}\\theta\n",
    "\\end{align}\n",
    "$P$ is quite a big expression. We could simplify it by hand, since we're pros of trig integrals and know which terms will drop out, but **sympy** gladly does the heavy lifting for us in this case."
   ]
  },
  {
   "cell_type": "code",
   "execution_count": 22,
   "metadata": {
    "collapsed": true
   },
   "outputs": [],
   "source": [
    "Fx = -sp.integrate(p*a*sp.cos(theta), (theta, 0, 2*sp.pi)).simplify()\n",
    "Fy = -sp.integrate(p*a*sp.sin(theta), (theta, 0, 2*sp.pi)).simplify()"
   ]
  },
  {
   "cell_type": "code",
   "execution_count": 23,
   "metadata": {
    "collapsed": false
   },
   "outputs": [
    {
     "data": {
      "text/latex": [
       "$$F_x=- \\Gamma U \\rho \\sin{\\left (\\alpha \\right )}$$"
      ],
      "text/plain": [
       "<IPython.core.display.Math object>"
      ]
     },
     "execution_count": 23,
     "metadata": {},
     "output_type": "execute_result"
    }
   ],
   "source": [
    "show(Fx, 'F_x')"
   ]
  },
  {
   "cell_type": "code",
   "execution_count": 24,
   "metadata": {
    "collapsed": false
   },
   "outputs": [
    {
     "data": {
      "text/latex": [
       "$$F_y=\\Gamma U \\rho \\cos{\\left (\\alpha \\right )}$$"
      ],
      "text/plain": [
       "<IPython.core.display.Math object>"
      ]
     },
     "execution_count": 24,
     "metadata": {},
     "output_type": "execute_result"
    }
   ],
   "source": [
    "show(Fy, 'F_y')"
   ]
  },
  {
   "cell_type": "markdown",
   "metadata": {},
   "source": [
    "This agrees with what we derived in class for $\\alpha = 0$. Thank god. \n",
    "\n",
    "Now, $C_L$ and $C_D$, the coefficients of lift and drag, are defined in two-dimensions as:\n",
    "\\begin{align}\n",
    "C_L = \\frac{L}{\\frac{1}{2}\\rho U^2 s}\\\\\n",
    "C_D = \\frac{D}{\\frac{1}{2}\\rho U^2 s}\n",
    "\\end{align}\n",
    "where $s$ is the reference area -- the area projected in the flow direction -- per unit span, $L$ is the lift force and $D$ is the drag force. For a cylinder, $s = 2a$. \n",
    "\n",
    "If we define $L$ as the force in y-direction and $D$ as the force in the x-direction, then we get the following, again using our trusty $\\chi$:"
   ]
  },
  {
   "cell_type": "code",
   "execution_count": 25,
   "metadata": {
    "collapsed": true
   },
   "outputs": [],
   "source": [
    "s = 2*a\n",
    "denom = (rho*U**2*s)/2\n",
    "Cl = (Fy/denom).subs(chisub).simplify()\n",
    "Cd = (Fx/denom).subs(chisub).simplify()"
   ]
  },
  {
   "cell_type": "code",
   "execution_count": 26,
   "metadata": {
    "collapsed": false
   },
   "outputs": [
    {
     "data": {
      "text/latex": [
       "$$C_L=4 \\pi \\chi \\cos{\\left (\\alpha \\right )}$$"
      ],
      "text/plain": [
       "<IPython.core.display.Math object>"
      ]
     },
     "execution_count": 26,
     "metadata": {},
     "output_type": "execute_result"
    }
   ],
   "source": [
    "show(Cl, 'C_L')"
   ]
  },
  {
   "cell_type": "code",
   "execution_count": 27,
   "metadata": {
    "collapsed": false
   },
   "outputs": [
    {
     "data": {
      "text/latex": [
       "$$C_D=- 4 \\pi \\chi \\sin{\\left (\\alpha \\right )}$$"
      ],
      "text/plain": [
       "<IPython.core.display.Math object>"
      ]
     },
     "execution_count": 27,
     "metadata": {},
     "output_type": "execute_result"
    }
   ],
   "source": [
    "show(Cd, 'C_D')"
   ]
  },
  {
   "cell_type": "markdown",
   "metadata": {},
   "source": [
    "Negative Drag? That seems wrong. Well no, as the angle of attack increases, this generates a force in the negative x-direction, i.e. we get thrust for free! Wouldn't that be nice. \n",
    "\n",
    "## Conclusion\n",
    "\n",
    "So there you have it. We've completely analyzed angled flow around cylinder with backspin. The next notebook will use all the tough math we've just been through to generate cool interactive plots. \n",
    "\n",
    "----"
   ]
  },
  {
   "cell_type": "markdown",
   "metadata": {},
   "source": [
    "## Cartesian Stuff\n",
    "\n",
    "This is only required when we're going to want to plot the streamlines. Skip this section.\n",
    "\n",
    "We know that $x = r\\cos(\\theta), y = r\\sin(\\theta)$. Thus, we can also say that:\n",
    "\\begin{align}\n",
    "\\dot{x} &= \\dot{r}\\cos(\\theta) - r\\dot{\\theta}\\sin(\\theta)\\\\\n",
    "\\dot{y} &= \\dot{r}\\sin(\\theta) + r\\dot{\\theta}\\cos(\\theta)\n",
    "\\end{align}\n",
    "Which means\n",
    "\\begin{align}\n",
    "u &= u_r\\cos(\\theta) - r u_\\theta \\sin(\\theta)\\\\\n",
    "v &= u_r\\sin(\\theta) + r u_\\theta \\cos(\\theta)\n",
    "\\end{align}"
   ]
  },
  {
   "cell_type": "code",
   "execution_count": 34,
   "metadata": {
    "collapsed": false
   },
   "outputs": [],
   "source": [
    "ones = [(U, 1), (a, 1)]\n",
    "sub = chisub + ones\n",
    "u = (ur*sp.cos(theta) - r*ut*sp.sin(theta)).subs(sub).simplify()\n",
    "v = (ur*sp.sin(theta) + r*ut*sp.cos(theta)).subs(sub).simplify()"
   ]
  },
  {
   "cell_type": "code",
   "execution_count": 35,
   "metadata": {
    "collapsed": false
   },
   "outputs": [
    {
     "name": "stdout",
     "output_type": "stream",
     "text": [
      "(r*(2*chi*r - (r**2 + 1)*sin(alpha - theta))*sin(theta) + (r**2 - 1)*cos(theta)*cos(alpha - theta))/r**2\n",
      "(-r*(2*chi*r - (r**2 + 1)*sin(alpha - theta))*cos(theta) + (r**2 - 1)*sin(theta)*cos(alpha - theta))/r**2\n"
     ]
    }
   ],
   "source": [
    "print(u)\n",
    "print(v)"
   ]
  },
  {
   "cell_type": "code",
   "execution_count": 53,
   "metadata": {
    "collapsed": false
   },
   "outputs": [
    {
     "data": {
      "text/plain": [
       "False"
      ]
     },
     "execution_count": 53,
     "metadata": {},
     "output_type": "execute_result"
    }
   ],
   "source": [
    "psi"
   ]
  },
  {
   "cell_type": "code",
   "execution_count": 58,
   "metadata": {
    "collapsed": false
   },
   "outputs": [
    {
     "data": {
      "image/png": "[encoded data removed]",
      "text/latex": [
       "$$\\left [ \\right ]$$"
      ],
      "text/plain": [
       "[]"
      ]
     },
     "execution_count": 58,
     "metadata": {},
     "output_type": "execute_result"
    }
   ],
   "source": [
    "sp.solve(sp.Eq(psi, 0), theta)"
   ]
  },
  {
   "cell_type": "code",
   "execution_count": 56,
   "metadata": {
    "collapsed": false
   },
   "outputs": [
    {
     "data": {
      "image/png": "[encoded data removed]",
      "text/latex": [
       "$$\\frac{\\Gamma}{2 \\pi} \\log{\\left (\\frac{r}{a} \\right )} - U \\left(- \\frac{a^{2}}{r} + r\\right) \\sin{\\left (\\alpha - \\theta \\right )}$$"
      ],
      "text/plain": [
       "     ⎛r⎞                          \n",
       "Γ⋅log⎜─⎟     ⎛   2    ⎞           \n",
       "     ⎝a⎠     ⎜  a     ⎟           \n",
       "──────── - U⋅⎜- ── + r⎟⋅sin(α - θ)\n",
       "  2⋅π        ⎝  r     ⎠           "
      ]
     },
     "execution_count": 56,
     "metadata": {},
     "output_type": "execute_result"
    }
   ],
   "source": [
    "psi"
   ]
  },
  {
   "cell_type": "code",
   "execution_count": null,
   "metadata": {
    "collapsed": true
   },
   "outputs": [],
   "source": []
  }
 ],
 "metadata": {
  "kernelspec": {
   "display_name": "Python 2",
   "language": "python",
   "name": "python2"
  },
  "language_info": {
   "codemirror_mode": {
    "name": "ipython",
    "version": 2
   },
   "file_extension": ".py",
   "mimetype": "text/x-python",
   "name": "python",
   "nbconvert_exporter": "python",
   "pygments_lexer": "ipython2",
   "version": "2.7.10"
  }
 },
 "nbformat": 4,
 "nbformat_minor": 0
}
