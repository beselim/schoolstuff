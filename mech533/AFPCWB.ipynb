{
 "cells": [
  {
   "cell_type": "code",
   "execution_count": 1,
   "metadata": {
    "collapsed": true
   },
   "outputs": [],
   "source": [
    "# Symbolic math package\n",
    "import sympy as sp\n",
    "sp.init_printing()\n",
    "# Custom convenience function\n",
    "from sympyutils import show\n",
    "# Matlab-like package\n",
    "import numpy as np\n",
    "# Plotting\n",
    "import matplotlib.pyplot as plt\n",
    "%matplotlib inline"
   ]
  },
  {
   "cell_type": "markdown",
   "metadata": {},
   "source": [
    "# Angled flow past cylinder with Backspin<sup>TM</sup>\n",
    "\n",
    "## Math\n",
    "\n",
    "This kind of flow is obtained by combining a vortex centered at the origin as well as angled flow past a cylinder.\n",
    "\n",
    "### Stream Function\n",
    "As shown in the handwritten notes, the stream function is given by:\n",
    "\\begin{align}\n",
    "\\Psi &= \\Psi_{CWAF} + \\Psi_{vortex} + C\\\\\n",
    " \\text{where} \\quad\\Psi_{CWAF} &= U\\big[r - \\frac{a^2}{r}\\big]\\sin(\\theta - \\alpha)\\\\\n",
    " \\Psi_{vortex} &= \\frac{\\Gamma}{2\\pi}\\log(r)\n",
    "\\end{align}\n",
    "notice that we added a constant $C$. We'll use this for convenience to make the value of the stream function around the cylinder to be equal to 0. In other words:\n",
    "\\begin{gather}\n",
    "\\text{Find}~C ~\\text{such that}~ \\Psi\\big|_{r=a} = 0\\\\\n",
    "\\Psi\\big|_{r=a} = \\frac{\\Gamma}{2\\pi}\\log(a) + C = 0 \\quad\\Rightarrow\\quad C = -\\frac{\\Gamma}{2\\pi}\\log{a}\n",
    "\\end{gather}\n",
    "We can then write our new stream function as:\n",
    "$$\n",
    "\\Psi = U\\left[r - \\frac{a^2}{r}\\right]\\sin(\\theta - \\alpha) + \\frac{\\Gamma}{2\\pi}\\log\\left(\\frac{r}{a}\\right)\n",
    "$$\n",
    "\n",
    "### Velocity\n",
    "\n",
    "The $r$ and $\\theta$ components of the velocity are found like so:\n",
    "\\begin{align}\n",
    "u_r &= \\frac{1}{r}\\frac{\\partial\\Psi}{\\partial\\theta}\\\\\n",
    "u_\\theta &= -\\frac{\\partial\\Psi}{\\partial r}\n",
    "\\end{align}\n",
    "\n",
    "We're going to use the **sympy** package from now on."
   ]
  },
  {
   "cell_type": "code",
   "execution_count": 2,
   "metadata": {
    "collapsed": false
   },
   "outputs": [
    {
     "data": {
      "text/latex": [
       "$$\\Psi=\\frac{\\Gamma}{2 \\pi} \\log{\\left (\\frac{r}{a} \\right )} - U \\left(- \\frac{a^{2}}{r} + r\\right) \\sin{\\left (\\alpha - \\theta \\right )}$$"
      ],
      "text/plain": [
       "<IPython.core.display.Math object>"
      ]
     },
     "execution_count": 2,
     "metadata": {},
     "output_type": "execute_result"
    }
   ],
   "source": [
    "U, r, a, theta, alpha, gam = sp.symbols('U r a theta alpha Gamma', real=True, positive=True)\n",
    "Scwaf = U*(r - a**2/r)*sp.sin(theta - alpha)\n",
    "Svortex = gam/(2*sp.pi)*sp.log(r/a)\n",
    "S = Scwaf + Svortex\n",
    "show(S, '\\Psi')"
   ]
  },
  {
   "cell_type": "markdown",
   "metadata": {},
   "source": [
    "Sometimes **sympy** does weird stuff, but the expression is the same as above. "
   ]
  },
  {
   "cell_type": "code",
   "execution_count": 3,
   "metadata": {
    "collapsed": false
   },
   "outputs": [
    {
     "data": {
      "text/latex": [
       "$$u_r=\\frac{U}{r} \\left(- \\frac{a^{2}}{r} + r\\right) \\cos{\\left (\\alpha - \\theta \\right )}$$"
      ],
      "text/plain": [
       "<IPython.core.display.Math object>"
      ]
     },
     "execution_count": 3,
     "metadata": {},
     "output_type": "execute_result"
    }
   ],
   "source": [
    "ur = (1/r)*sp.diff(S, theta)\n",
    "ut = -sp.diff(S, r)\n",
    "show(ur, 'u_r')"
   ]
  },
  {
   "cell_type": "code",
   "execution_count": 4,
   "metadata": {
    "collapsed": false
   },
   "outputs": [
    {
     "data": {
      "text/latex": [
       "$$u_{\\theta}=- \\frac{\\Gamma}{2 \\pi r} + U \\left(\\frac{a^{2}}{r^{2}} + 1\\right) \\sin{\\left (\\alpha - \\theta \\right )}$$"
      ],
      "text/plain": [
       "<IPython.core.display.Math object>"
      ]
     },
     "execution_count": 4,
     "metadata": {},
     "output_type": "execute_result"
    }
   ],
   "source": [
    "show(ut, 'u_{\\\\theta}')"
   ]
  },
  {
   "cell_type": "markdown",
   "metadata": {},
   "source": [
    "Let's also find the values of the velocity at the surface of the cylinder. This will be useful later. "
   ]
  },
  {
   "cell_type": "code",
   "execution_count": 5,
   "metadata": {
    "collapsed": false
   },
   "outputs": [
    {
     "data": {
      "text/latex": [
       "$$u_r\\big|_{r=a}=0$$"
      ],
      "text/plain": [
       "<IPython.core.display.Math object>"
      ]
     },
     "execution_count": 5,
     "metadata": {},
     "output_type": "execute_result"
    }
   ],
   "source": [
    "surface = [(r, a)]\n",
    "ur_surface = ur.subs(surface)\n",
    "show(ur_surface, 'u_r\\\\big|_{r=a}')"
   ]
  },
  {
   "cell_type": "code",
   "execution_count": 6,
   "metadata": {
    "collapsed": false
   },
   "outputs": [
    {
     "data": {
      "text/latex": [
       "$$u_\\theta\\big|_{r=a}=- \\frac{\\Gamma}{2 \\pi a} + 2 U \\sin{\\left (\\alpha - \\theta \\right )}$$"
      ],
      "text/plain": [
       "<IPython.core.display.Math object>"
      ]
     },
     "execution_count": 6,
     "metadata": {},
     "output_type": "execute_result"
    }
   ],
   "source": [
    "ut_surface = ut.subs(surface)\n",
    "show(ut_surface, 'u_\\\\theta\\\\big|_{r=a}')"
   ]
  },
  {
   "cell_type": "markdown",
   "metadata": {},
   "source": [
    "### Stagnation Points\n",
    "\n",
    "We now seek the stagnation points for this flow. We expect that, for low enough $\\Gamma$, the stagnation points will be located on the surface of the cylinder. This simplifies our task since, as shown above, $u_r$ is zero at the surface. Let's ask **sympy** to solve for the value of $\\theta$ at stagnation points."
   ]
  },
  {
   "cell_type": "code",
   "execution_count": 7,
   "metadata": {
    "collapsed": false
   },
   "outputs": [
    {
     "data": {
      "text/latex": [
       "$$\\theta_{s}=\\left [ \\alpha - \\operatorname{asin}{\\left (\\frac{\\Gamma}{4 \\pi U a} \\right )}, \\quad \\alpha + \\operatorname{asin}{\\left (\\frac{\\Gamma}{4 \\pi U a} \\right )} - \\pi\\right ]$$"
      ],
      "text/plain": [
       "<IPython.core.display.Math object>"
      ]
     },
     "execution_count": 7,
     "metadata": {},
     "output_type": "execute_result"
    }
   ],
   "source": [
    "tstag = sp.solve(ut_surface, theta)\n",
    "show(tstag, '\\\\theta_{s}')"
   ]
  },
  {
   "cell_type": "markdown",
   "metadata": {},
   "source": [
    "Let's perform a *sanity check*: we expect $\\theta_{s}\\big|_{\\Gamma = \\alpha = 0} = \\{0, \\pi\\}$."
   ]
  },
  {
   "cell_type": "code",
   "execution_count": 8,
   "metadata": {
    "collapsed": false
   },
   "outputs": [
    {
     "data": {
      "text/latex": [
       "$$\\theta_{s}\\big|_{\\Gamma = \\alpha = 0}=\\left [ 0, \\quad - \\pi\\right ]$$"
      ],
      "text/plain": [
       "<IPython.core.display.Math object>"
      ]
     },
     "execution_count": 8,
     "metadata": {},
     "output_type": "execute_result"
    }
   ],
   "source": [
    "hnbs = [(gam, 0), (alpha, 0)]  # Conditions for horizontal flow without backspin\n",
    "show(\n",
    "    [x.subs(hnbs) for x in tstag], \n",
    "    '\\\\theta_{s}\\\\big|_{\\\\Gamma = \\\\alpha = 0}'\n",
    ")"
   ]
  },
  {
   "cell_type": "markdown",
   "metadata": {},
   "source": [
    "Cool. Let's see how $\\Gamma$ affects $\\theta_s$ now. It's easier to non-dimensionalize $\\Gamma$ and write $\\theta_s$ as:\n",
    "$$\n",
    "\\theta_s = \\left\\{\\alpha - \\operatorname{asin}\\left(\\chi\\right), \\alpha + \\operatorname{asin}\\left(\\chi\\right) - \\pi\\right\\}\n",
    "$$"
   ]
  },
  {
   "cell_type": "markdown",
   "metadata": {},
   "source": [
    "Let's plot this!"
   ]
  },
  {
   "cell_type": "code",
   "execution_count": 31,
   "metadata": {
    "collapsed": false
   },
   "outputs": [
    {
     "name": "stderr",
     "output_type": "stream",
     "text": [
      "/home/selimb/miniconda/envs/science/lib/python2.7/site-packages/ipykernel/__main__.py:2: RuntimeWarning: invalid value encountered in arcsin\n",
      "  from ipykernel import kernelapp as app\n"
     ]
    }
   ],
   "source": [
    "CHI = np.linspace(0, 2, 201)\n",
    "TSTAG = [-np.arcsin(CHI), np.arcsin(CHI) - np.pi]"
   ]
  },
  {
   "cell_type": "markdown",
   "metadata": {},
   "source": [
    "What just happened? Well **numpy** is complaining because there is no real solution for $\\operatorname{asin}(\\chi), ~\\chi > 1$. Let's ignore this for now."
   ]
  },
  {
   "cell_type": "code",
   "execution_count": 32,
   "metadata": {
    "collapsed": false
   },
   "outputs": [
    {
     "data": {
      "image/png": "[encoded data removed]",
      "text/plain": [
       "<matplotlib.figure.Figure at 0x7f1674500c50>"
      ]
     },
     "metadata": {},
     "output_type": "display_data"
    }
   ],
   "source": [
    "fig, ax = plt.subplots(figsize=(12, 8))\n",
    "ax.plot(CHI, TSTAG[0], 'r', label='$\\\\theta_{s,1}$')\n",
    "ax.plot(CHI, TSTAG[1], 'b', label='$\\\\theta_{s,2}$')\n",
    "ax.set_xlabel('$\\\\chi$')\n",
    "ax.set_ylabel('$\\\\theta_s - \\\\alpha$')\n",
    "ax.legend(fancybox=True, loc='best')\n",
    "# Beautiful y axis\n",
    "yticks = np.linspace(0, 1, 5)*-np.pi\n",
    "ax.set_yticks(yticks)\n",
    "ax.set_yticklabels(['0', '$-\\\\pi/4$', '$- \\\\pi/2$', '$- 3\\\\pi/4$', '$- \\\\pi$'])\n",
    "ax.set_title('Effect of vortex strength on placement of stagnation points on surface.')\n",
    "plt.show()"
   ]
  },
  {
   "cell_type": "markdown",
   "metadata": {},
   "source": [
    "This confirms what we saw in class: the stagnation points move symmetrically towards the \"bottom\" of the cylinder, at which point there is but one stagnation point.\n",
    "\n",
    "But, what happens when $\\chi > 1$? Well, we made an assumption earlier that the stagnation points would be on the cylinder! As we see here, that assumption breaks down for large enough $\\Gamma$. To find the expression for these stagnation points, we require some intuition. \n",
    "\n",
    "Let $r > a$, let's start by finding $\\theta_s = \\left\\{\\theta ~\\big| ~u_r = 0\\right\\} $"
   ]
  },
  {
   "cell_type": "code",
   "execution_count": 11,
   "metadata": {
    "collapsed": false
   },
   "outputs": [
    {
     "data": {
      "text/latex": [
       "$$\\theta_s=\\left [ \\alpha - \\frac{3 \\pi}{2}, \\quad \\alpha - \\frac{\\pi}{2}\\right ]$$"
      ],
      "text/plain": [
       "<IPython.core.display.Math object>"
      ]
     },
     "execution_count": 11,
     "metadata": {},
     "output_type": "execute_result"
    }
   ],
   "source": [
    "ts = sp.solve(ur, theta)\n",
    "show(ts, '\\\\theta_s')"
   ]
  },
  {
   "cell_type": "markdown",
   "metadata": {},
   "source": [
    "This is what we obtained in class -- without the $\\alpha$ and with positive angles."
   ]
  },
  {
   "cell_type": "markdown",
   "metadata": {},
   "source": [
    "Now let's find $r_s = \\left\\{r ~\\big| ~u_\\theta\\big|_{\\theta=\\theta_s} = 0\\right\\} $"
   ]
  },
  {
   "cell_type": "code",
   "execution_count": 12,
   "metadata": {
    "collapsed": false
   },
   "outputs": [
    {
     "data": {
      "text/latex": [
       "$$r_s=\\left [ \\left [ \\frac{1}{4 \\pi U} \\left(- \\Gamma + \\sqrt{\\Gamma^{2} - 16 \\pi^{2} U^{2} a^{2}}\\right), \\quad - \\frac{1}{4 \\pi U} \\left(\\Gamma + \\sqrt{\\Gamma^{2} - 16 \\pi^{2} U^{2} a^{2}}\\right)\\right ], \\quad \\left [ \\frac{1}{4 \\pi U} \\left(\\Gamma - \\sqrt{\\Gamma^{2} - 16 \\pi^{2} U^{2} a^{2}}\\right), \\quad \\frac{1}{4 \\pi U} \\left(\\Gamma + \\sqrt{\\Gamma^{2} - 16 \\pi^{2} U^{2} a^{2}}\\right)\\right ]\\right ]$$"
      ],
      "text/plain": [
       "<IPython.core.display.Math object>"
      ]
     },
     "execution_count": 12,
     "metadata": {},
     "output_type": "execute_result"
    }
   ],
   "source": [
    "rs = [sp.solve(ut.subs(theta, t), r, simplify=True) for t in ts]\n",
    "show(rs, 'r_s')"
   ]
  },
  {
   "cell_type": "markdown",
   "metadata": {},
   "source": [
    "Nasty. Alright now let's plug in $\\Gamma = 2\\cdot(4\\pi U a)$ and see which ones satisfy $\\dfrac{r_s}{a} > 1$."
   ]
  },
  {
   "cell_type": "code",
   "execution_count": 13,
   "metadata": {
    "collapsed": false
   },
   "outputs": [
    {
     "data": {
      "text/latex": [
       "$$r_s\\big|_{\\chi=2}=\\left [ a \\left(-2 + \\sqrt{3}\\right), \\quad - a \\left(\\sqrt{3} + 2\\right), \\quad a \\left(- \\sqrt{3} + 2\\right), \\quad a \\left(\\sqrt{3} + 2\\right)\\right ]$$"
      ],
      "text/plain": [
       "<IPython.core.display.Math object>"
      ]
     },
     "execution_count": 13,
     "metadata": {},
     "output_type": "execute_result"
    }
   ],
   "source": [
    "rs2 = [r.subs(gam, 2*(4*sp.pi*U*a)).simplify() \n",
    "       for rpair in rs for r in rpair]\n",
    "show(rs2, 'r_s\\\\big|_{\\chi=2}')"
   ]
  },
  {
   "cell_type": "code",
   "execution_count": 14,
   "metadata": {
    "collapsed": false
   },
   "outputs": [
    {
     "data": {
      "image/png": "[encoded data removed]",
      "text/latex": [
       "$$\\left [ \\mathrm{False}, \\quad \\mathrm{False}, \\quad \\mathrm{False}, \\quad \\mathrm{True}\\right ]$$"
      ],
      "text/plain": [
       "[False, False, False, True]"
      ]
     },
     "execution_count": 14,
     "metadata": {},
     "output_type": "execute_result"
    }
   ],
   "source": [
    "valid = [sp.Gt(r/a, 1) for r in rs2]\n",
    "valid"
   ]
  },
  {
   "cell_type": "markdown",
   "metadata": {},
   "source": [
    "So the only valid answer is the very last expression."
   ]
  },
  {
   "cell_type": "code",
   "execution_count": 15,
   "metadata": {
    "collapsed": false
   },
   "outputs": [
    {
     "data": {
      "text/latex": [
       "$$r_s=\\frac{1}{4 \\pi U} \\left(\\Gamma + \\sqrt{\\Gamma^{2} - 16 \\pi^{2} U^{2} a^{2}}\\right)$$"
      ],
      "text/plain": [
       "<IPython.core.display.Math object>"
      ]
     },
     "execution_count": 15,
     "metadata": {},
     "output_type": "execute_result"
    }
   ],
   "source": [
    "rsvalid = rs[1][1]\n",
    "show(rsvalid, 'r_s')"
   ]
  },
  {
   "cell_type": "markdown",
   "metadata": {},
   "source": [
    "Note that it does not depend on $\\alpha$, as that would be ridiculous. However, $\\theta_s$ *does* depend on $\\alpha$.\n",
    "\n",
    "Just for fun, let's see what that plot looks like. Again, we non-dimensionalize $\\Gamma$ with the following:\n",
    "$$\n",
    "\\chi = \\frac{\\Gamma}{4\\pi U a}\n",
    "$$\n",
    "and we don't really care about the actual value of $a$, so really we seek an expression\n",
    "$$\n",
    "R(\\chi) = \\frac{r_s}{a}\n",
    "$$"
   ]
  },
  {
   "cell_type": "code",
   "execution_count": 20,
   "metadata": {
    "collapsed": false
   },
   "outputs": [
    {
     "data": {
      "text/latex": [
       "$$R=\\chi + \\sqrt{\\chi^{2} - 1}$$"
      ],
      "text/plain": [
       "<IPython.core.display.Math object>"
      ]
     },
     "execution_count": 20,
     "metadata": {},
     "output_type": "execute_result"
    }
   ],
   "source": [
    "chi = sp.symbols('chi')\n",
    "R = (rsvalid.subs(gam, chi*4*sp.pi*U*a)/a).simplify()\n",
    "show(R, 'R')"
   ]
  },
  {
   "cell_type": "markdown",
   "metadata": {},
   "source": [
    "Awesome expression, don't you think? Let's plot this just for the hell of it."
   ]
  },
  {
   "cell_type": "code",
   "execution_count": 29,
   "metadata": {
    "collapsed": false
   },
   "outputs": [
    {
     "data": {
      "image/png": "[encoded data removed]",
      "text/plain": [
       "<matplotlib.figure.Figure at 0x7f1674682610>"
      ]
     },
     "metadata": {},
     "output_type": "display_data"
    }
   ],
   "source": [
    "fig, ax = plt.subplots(figsize=(10, 6))\n",
    "CHI = np.linspace(1, 10)\n",
    "Rvals = CHI + np.sqrt(CHI**2 -1)\n",
    "R0 = Rvals[0]\n",
    "ax.plot(CHI, Rvals)\n",
    "ax.set_xlabel('$\\\\chi$')\n",
    "ax.set_ylabel('$\\\\frac{r_s}{a}$')\n",
    "yticks = ax.get_yticks()\n",
    "yticks = np.append(yticks, Rvals[0])\n",
    "ax.set_yticks(yticks)\n",
    "ax.set_title('Effect of vortex strength on radial location of stagnation point')\n",
    "plt.show()"
   ]
  }
 ],
 "metadata": {
  "kernelspec": {
   "display_name": "Python 2",
   "language": "python",
   "name": "python2"
  },
  "language_info": {
   "codemirror_mode": {
    "name": "ipython",
    "version": 2
   },
   "file_extension": ".py",
   "mimetype": "text/x-python",
   "name": "python",
   "nbconvert_exporter": "python",
   "pygments_lexer": "ipython2",
   "version": "2.7.10"
  }
 },
 "nbformat": 4,
 "nbformat_minor": 0
}
