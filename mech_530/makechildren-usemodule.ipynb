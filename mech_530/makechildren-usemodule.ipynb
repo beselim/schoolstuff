{
 "metadata": {
  "name": "",
  "signature": "sha256:6de087f63584cd3f80a4aff11e0384c030ffdb8d220964eba390e81fb4bb5b6c"
 },
 "nbformat": 3,
 "nbformat_minor": 0,
 "worksheets": [
  {
   "cells": [
    {
     "cell_type": "markdown",
     "metadata": {},
     "source": [
      "Code Testing\n",
      "------------"
     ]
    },
    {
     "cell_type": "code",
     "collapsed": false,
     "input": [
      "import random\n",
      "from composites.sim import Sim,ureg,Q_\n",
      "from composites.failure import FailureAnalysis\n",
      "from deap import base\n",
      "from deap import creator\n",
      "from deap import tools\n",
      "from deap import algorithms\n",
      "from genetic import makechildren"
     ],
     "language": "python",
     "metadata": {},
     "outputs": [],
     "prompt_number": 1
    },
    {
     "cell_type": "code",
     "collapsed": false,
     "input": [
      "creator.create(\"FitnessMax\", base.Fitness, weights = (1.0,))\n",
      "creator.create(\"Individual\",list,fitness=creator.FitnessMax)"
     ],
     "language": "python",
     "metadata": {},
     "outputs": [],
     "prompt_number": 2
    },
    {
     "cell_type": "code",
     "collapsed": false,
     "input": [
      "def new_angle(a,b,coeff):\n",
      "    return random.randint(a,b)*coeff"
     ],
     "language": "python",
     "metadata": {},
     "outputs": [],
     "prompt_number": 3
    },
    {
     "cell_type": "code",
     "collapsed": false,
     "input": [
      "def evaluate_layup(individual):\n",
      "    list_of_str = ['p{0:d}'.format(k) for k in individual]\n",
      "    layup = '/'.join(list_of_str)+'s'\n",
      "    sim_1 = Sim(layup=layup,\n",
      "                materialID=materialID)\n",
      "    sim_1.apply_N(N)\n",
      "    sim_1.solve()\n",
      "    fail = FailureAnalysis(sim_1)\n",
      "    the_mins = fail.find_min()\n",
      "    return float(min([R[0] for R in the_mins.values()])),"
     ],
     "language": "python",
     "metadata": {},
     "outputs": [],
     "prompt_number": 4
    },
    {
     "cell_type": "code",
     "collapsed": false,
     "input": [
      "toolbox = base.Toolbox()\n",
      "toolbox.register(\"ply\",new_angle,0,9,10)\n",
      "toolbox.register(\"individual\",tools.initRepeat,creator.Individual,toolbox.ply,n=4)\n",
      "toolbox.register(\"population\",tools.initRepeat,list, toolbox.individual,n=10)\n",
      "toolbox.register(\"evaluate\",evaluate_layup)\n",
      "# toolbox.register(\"evaluate\",evalOneMax)\n",
      "toolbox.register(\"mate\",makechildren.one_point_cross)\n",
      "toolbox.register(\"mutate\",tools.mutFlipBit,indpb = 0.1)\n",
      "toolbox.register(\"select\",tools.selNSGA2)"
     ],
     "language": "python",
     "metadata": {},
     "outputs": [],
     "prompt_number": 52
    },
    {
     "cell_type": "code",
     "collapsed": false,
     "input": [
      "materialID = 4; \n",
      "P = Q_(1.25,'MPa'); D = Q_(0.08,'m')\n",
      "N1 = P*D/4; N2 = P*D/2\n",
      "N = Q_([N1.magnitude,N2.magnitude,0],N1.units)"
     ],
     "language": "python",
     "metadata": {},
     "outputs": [],
     "prompt_number": 53
    },
    {
     "cell_type": "code",
     "collapsed": false,
     "input": [
      "population = toolbox.population()\n",
      "fits = toolbox.map(toolbox.evaluate,population)\n",
      "for fit,ind in zip(fits,population):\n",
      "    ind.fitness.values = fit"
     ],
     "language": "python",
     "metadata": {},
     "outputs": [],
     "prompt_number": 58
    },
    {
     "cell_type": "code",
     "collapsed": false,
     "input": [
      "max([ind.fitness.values for ind in population])"
     ],
     "language": "python",
     "metadata": {},
     "outputs": [
      {
       "metadata": {},
       "output_type": "pyout",
       "prompt_number": 65,
       "text": [
        "(4.2684716612285465,)"
       ]
      }
     ],
     "prompt_number": 65
    },
    {
     "cell_type": "code",
     "collapsed": false,
     "input": [
      "MEtwo(population,5,toolbox,1.0,0.01,0.6)"
     ],
     "language": "python",
     "metadata": {},
     "outputs": [
      {
       "output_type": "stream",
       "stream": "stdout",
       "text": [
        "(4.2684716612285465,)\n",
        "(4.931038292696516,)"
       ]
      },
      {
       "output_type": "stream",
       "stream": "stdout",
       "text": [
        "\n"
       ]
      },
      {
       "metadata": {},
       "output_type": "pyout",
       "prompt_number": 93,
       "text": [
        "[[50, 50, 50, 60],\n",
        " [50, 60, 60, 50],\n",
        " [50, 50, 70, 50],\n",
        " [20, 80, 60, 90],\n",
        " [60, 30, 60, 60],\n",
        " [70, 90, 60, 70],\n",
        " [40, 70, 20, 60],\n",
        " [50, 60, 60, 30],\n",
        " [90, 20, 20, 50],\n",
        " [60, 70, 70, 90]]"
       ]
      }
     ],
     "prompt_number": 93
    },
    {
     "cell_type": "code",
     "collapsed": false,
     "input": [
      "population"
     ],
     "language": "python",
     "metadata": {},
     "outputs": [
      {
       "metadata": {},
       "output_type": "pyout",
       "prompt_number": 9,
       "text": [
        "[[30, 20, 80, 60], [90, 70, 20, 80], [90, 40, 80, 90]]"
       ]
      }
     ],
     "prompt_number": 9
    },
    {
     "cell_type": "code",
     "collapsed": false,
     "input": [
      "children = makechildren.createChildren(sorted_parents,weights,3,toolbox,1.0,0.01,0.9)\n",
      "children"
     ],
     "language": "python",
     "metadata": {},
     "outputs": [
      {
       "metadata": {},
       "output_type": "pyout",
       "prompt_number": 49,
       "text": [
        "[[30, 80, 20, 90], [20, 90, 80, 60], [90, 20, 70, 80]]"
       ]
      }
     ],
     "prompt_number": 49
    },
    {
     "cell_type": "code",
     "collapsed": false,
     "input": [
      "from operator import attrgetter\n",
      "from itertools import izip\n",
      "import random\n",
      "\n",
      "from genetic.makechildren import rank_parents,createChildren"
     ],
     "language": "python",
     "metadata": {},
     "outputs": [],
     "prompt_number": 25
    },
    {
     "cell_type": "code",
     "collapsed": false,
     "input": [
      "def MEtwo(parents,nk,toolbox,cxpb,mutpb,swappb):\n",
      "    \"\"\"Multiple Elitist one selection. The new generation\n",
      "    will have as many parents as the input number of parents.\n",
      "    \n",
      "    the parent and child populations of size P are\n",
      "    combined into one population, forming 2P laminates. \n",
      "    Members of the combined population are then arranged from best to worst \n",
      "    according to their fitness values. The number of top laminates\n",
      "    from the combined population which will be carried over to the next \n",
      "    generation is designated N k.\n",
      "    \n",
      "    In ME 2 selection, laminates from the\n",
      "    portion of the child population not already in the new population \n",
      "    will be randomly chosen to fill the remainder of the new population. \n",
      "    This method will allow for the possibility of some of the poorer laminates, \n",
      "    which may contain important genetic information, from the child population to\n",
      "    migrate to the new population\n",
      "    \n",
      "    1. Make children\n",
      "    2. Rank children+parents\n",
      "    3. Place Nk best in new generation\n",
      "    4. Randomly select remaining new_gen parents from children\n",
      "        This means a children can't go in twice.\n",
      "    \"\"\"\n",
      "    \n",
      "    size = len(parents)\n",
      "    new_gen = [None]*size\n",
      "    sorted_parents,weights = rank_parents(parents)\n",
      "    print sorted_parents[0].fitness.values\n",
      "    children = createChildren(sorted_parents,weights,size,\n",
      "                              toolbox,cxpb,mutpb,swappb)\n",
      "    \n",
      "    fits = toolbox.map(toolbox.evaluate,children)\n",
      "    for fit,ind in zip(fits,children):\n",
      "        ind.fitness.values = fit\n",
      "    \n",
      "    sorted_children = sorted(children, key=attrgetter(\"fitness\"), reverse=True)\n",
      "    print sorted_children[0].fitness.values\n",
      "    for i in xrange(nk):\n",
      "        if sorted_children[0].fitness < sorted_parents[0].fitness:\n",
      "            new_gen[i] = sorted_parents.pop(0)\n",
      "        else:\n",
      "            new_gen[i] = sorted_children.pop(0)\n",
      "    \n",
      "    random.shuffle(sorted_children)\n",
      "    for i in xrange(nk,size):\n",
      "        new_gen[i] = sorted_children.pop()\n",
      "    \n",
      "    assert None not in new_gen\n",
      "    \n",
      "    return new_gen"
     ],
     "language": "python",
     "metadata": {},
     "outputs": [],
     "prompt_number": 85
    },
    {
     "cell_type": "code",
     "collapsed": false,
     "input": [
      "parents = [1,2,3,4,5]\n",
      "nk = 2\n",
      "new_gen = [None]*len(parents)\n",
      "new_gen[:nk] = parents[:nk]"
     ],
     "language": "python",
     "metadata": {},
     "outputs": [],
     "prompt_number": 28
    },
    {
     "cell_type": "code",
     "collapsed": false,
     "input": [
      "print children[0]\n",
      "print id(children[0])"
     ],
     "language": "python",
     "metadata": {},
     "outputs": [
      {
       "output_type": "stream",
       "stream": "stdout",
       "text": [
        "[80, 70, 90, 60]\n",
        "98536688\n"
       ]
      }
     ],
     "prompt_number": 41
    },
    {
     "cell_type": "code",
     "collapsed": false,
     "input": [
      "sorted_children = sorted(children, key=attrgetter(\"fitness\"), reverse=True)\n",
      "sorted_children"
     ],
     "language": "python",
     "metadata": {},
     "outputs": [
      {
       "metadata": {},
       "output_type": "pyout",
       "prompt_number": 45,
       "text": [
        "[[80, 70, 90, 60], [60, 40, 80, 90]]"
       ]
      }
     ],
     "prompt_number": 45
    },
    {
     "cell_type": "code",
     "collapsed": false,
     "input": [
      "sorted_children.pop(0)"
     ],
     "language": "python",
     "metadata": {},
     "outputs": [
      {
       "metadata": {},
       "output_type": "pyout",
       "prompt_number": 46,
       "text": [
        "[80, 70, 90, 60]"
       ]
      }
     ],
     "prompt_number": 46
    },
    {
     "cell_type": "code",
     "collapsed": false,
     "input": [
      "sorte"
     ],
     "language": "python",
     "metadata": {},
     "outputs": [
      {
       "metadata": {},
       "output_type": "pyout",
       "prompt_number": 47,
       "text": [
        "[[60, 40, 80, 90]]"
       ]
      }
     ],
     "prompt_number": 47
    }
   ],
   "metadata": {}
  }
 ]
}