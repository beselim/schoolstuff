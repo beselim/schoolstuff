{
 "metadata": {
  "name": "",
  "signature": "sha256:76dddea0bcf3c5711b9b1d9c6c0d5291020e2afcbc5eb088c489cc516ea8c7a3"
 },
 "nbformat": 3,
 "nbformat_minor": 0,
 "worksheets": [
  {
   "cells": [
    {
     "cell_type": "code",
     "collapsed": false,
     "input": [
      "%matplotlib inline\n",
      "from composites.sim import Sim,ureg,Q_\n",
      "from composites.failure import FailureAnalysis\n",
      "import matplotlib.pyplot as plt\n",
      "import numpy as np\n",
      "import composites.floatformat\n",
      "import pandas as pd"
     ],
     "language": "python",
     "metadata": {},
     "outputs": [],
     "prompt_number": 2
    },
    {
     "cell_type": "code",
     "collapsed": false,
     "input": [
      "materialID = 4; \n",
      "P = Q_(1.25,'MPa'); D = Q_(0.08,'m')\n",
      "N1 = P*D/4; N2 = P*D/2\n",
      "N = Q_([N1.magnitude,N2.magnitude,0],N1.units)"
     ],
     "language": "python",
     "metadata": {},
     "outputs": [],
     "prompt_number": 3
    },
    {
     "cell_type": "code",
     "collapsed": false,
     "input": [
      "thetas = np.arange(0,91,1,)\n",
      "min_R = np.ones_like(thetas,dtype=float)\n",
      "layup = \"p%is\"\n",
      "for i,theta in enumerate(thetas):\n",
      "    sim_1 = Sim(layup=layup%theta,materialID=materialID)\n",
      "    sim_1.apply_N(N)\n",
      "    sim_1.solve()\n",
      "    fail = FailureAnalysis(sim_1)\n",
      "    the_mins = fail.find_min()\n",
      "#     print the_mins\n",
      "    min_R[i] = min([R[0] for R in the_mins.values()])"
     ],
     "language": "python",
     "metadata": {},
     "outputs": [],
     "prompt_number": 4
    },
    {
     "cell_type": "code",
     "collapsed": false,
     "input": [
      "good_R = np.where(min_R > 1.0,min_R,np.nan)\n",
      "bad_R = np.where(min_R <= 1.0,min_R,np.nan)"
     ],
     "language": "python",
     "metadata": {},
     "outputs": [],
     "prompt_number": 5
    },
    {
     "cell_type": "code",
     "collapsed": false,
     "input": [
      "best_index = min_R.argmax()\n",
      "best_R = min_R[best_index]; best_theta = thetas[best_index]"
     ],
     "language": "python",
     "metadata": {},
     "outputs": [],
     "prompt_number": 6
    },
    {
     "cell_type": "markdown",
     "metadata": {},
     "source": [
      "Design #1\n",
      "========="
     ]
    },
    {
     "cell_type": "code",
     "collapsed": false,
     "input": [
      "plt.plot(thetas,good_R,'g-')\n",
      "plt.plot(thetas,bad_R,'r-')\n",
      "plt.plot(thetas,np.ones_like(thetas),'k--')\n",
      "plt.xlabel('Theta [degrees]'); plt.ylabel('Minimum safety factor')\n",
      "plt.title('Safety factor vs. theta')\n",
      "plt.show()"
     ],
     "language": "python",
     "metadata": {},
     "outputs": [
      {
       "metadata": {},
       "output_type": "display_data",
       "png": "[encoded data removed]",
       "text": [
        "<matplotlib.figure.Figure at 0xbf0b2d0>"
       ]
      }
     ],
     "prompt_number": 7
    },
    {
     "cell_type": "code",
     "collapsed": false,
     "input": [
      "print (\"Maximum R (%.2f) occurs for theta = %i degrees\" \n",
      "       % (best_R,best_theta))"
     ],
     "language": "python",
     "metadata": {},
     "outputs": [
      {
       "output_type": "stream",
       "stream": "stdout",
       "text": [
        "Maximum R (1.37) occurs for theta = 52 degrees\n"
       ]
      }
     ],
     "prompt_number": 8
    },
    {
     "cell_type": "markdown",
     "metadata": {},
     "source": [
      "Complete output\n",
      "---------------"
     ]
    },
    {
     "cell_type": "code",
     "collapsed": false,
     "input": [
      "sim = Sim(layup=layup%best_theta,materialID=materialID)"
     ],
     "language": "python",
     "metadata": {},
     "outputs": [],
     "prompt_number": 9
    },
    {
     "cell_type": "markdown",
     "metadata": {},
     "source": [
      "** Ply orientation list **"
     ]
    },
    {
     "cell_type": "code",
     "collapsed": false,
     "input": [
      "print sim.laminate.print_orientation()"
     ],
     "language": "python",
     "metadata": {},
     "outputs": [
      {
       "output_type": "stream",
       "stream": "stdout",
       "text": [
        "Orientation [degrees] : \n",
        "[52, -52, -52, 52]\n"
       ]
      }
     ],
     "prompt_number": 10
    },
    {
     "cell_type": "markdown",
     "metadata": {},
     "source": [
      "**Number of plies **"
     ]
    },
    {
     "cell_type": "code",
     "collapsed": false,
     "input": [
      "print sim.laminate.num_of_layers()"
     ],
     "language": "python",
     "metadata": {},
     "outputs": [
      {
       "output_type": "stream",
       "stream": "stdout",
       "text": [
        "4\n"
       ]
      }
     ],
     "prompt_number": 11
    },
    {
     "cell_type": "markdown",
     "metadata": {},
     "source": [
      "**Material properties **"
     ]
    },
    {
     "cell_type": "code",
     "collapsed": false,
     "input": [
      "params = sim.laminate.print_param()\n",
      "print params"
     ],
     "language": "python",
     "metadata": {},
     "outputs": [
      {
       "output_type": "stream",
       "stream": "stdout",
       "text": [
        "'          ID :            4  [-]'\n",
        "'fiber/matrix :  Kev49/Epoxy  [-]'\n",
        "'        name : Kevlar/Epoxy  [-]'\n",
        "'          ex :      76.0000  [GPA]'\n",
        "'          ey :       5.5000  [GPA]'\n",
        "'          es :       2.3000  [GPA]'\n",
        "'         nux :       0.3400  [-]'\n",
        "'          xt :    1400.0000  [MPA]'\n",
        "'          xc :     235.0000  [MPA]'\n",
        "'          yt :      12.0000  [MPA]'\n",
        "'          yc :      53.0000  [MPA]'\n",
        "'          sc :      34.0000  [MPA]'\n",
        "'          h0 :       0.1250  [mm]'\n",
        "'         rho :       1.4600  [g/cm3]'\n",
        "'         nuy :       0.0246  [-]'\n",
        "\n"
       ]
      }
     ],
     "prompt_number": 12
    },
    {
     "cell_type": "markdown",
     "metadata": {},
     "source": [
      "**Thickness**"
     ]
    },
    {
     "cell_type": "code",
     "collapsed": false,
     "input": [
      "print \"Total thickness : %7.6f [m]\" % sim.laminate.total_thickness\n",
      "print \"Ply thickness   : %7.6f [m]\" % sim.laminate.total_ply_thickness"
     ],
     "language": "python",
     "metadata": {},
     "outputs": [
      {
       "output_type": "stream",
       "stream": "stdout",
       "text": [
        "Total thickness : 0.000500 [m]\n",
        "Ply thickness   : 0.000500 [m]\n"
       ]
      }
     ],
     "prompt_number": 13
    },
    {
     "cell_type": "markdown",
     "metadata": {},
     "source": [
      "**On-axis Modulus and Compliance matrices -- [Q] and [S] **"
     ]
    },
    {
     "cell_type": "code",
     "collapsed": false,
     "input": [
      "print sim.laminate.print_array('QSon',1)"
     ],
     "language": "python",
     "metadata": {},
     "outputs": [
      {
       "output_type": "stream",
       "stream": "stdout",
       "text": [
        "S_on [1/GPa] : \n",
        "[[   0.0132   -0.0045    0.0000]\n",
        " [  -0.0045    0.1818    0.0000]\n",
        " [   0.0000    0.0000    0.4348]]\n",
        "U's for S [1/GPa]\n",
        "U1 :  0.1263\n",
        "U2 : -0.0843\n",
        "U3 : -0.0289\n",
        "U4 : -0.0333\n",
        "U5 :  0.3194\n",
        "\n",
        "Q_on [GPa] : \n",
        "[[  76.6412    1.8858    0.0000]\n",
        " [   1.8858    5.5464    0.0000]\n",
        " [   0.0000    0.0000    2.3000]]\n",
        "U's for Q [GPa]\n",
        "U1 : 32.4418\n",
        "U2 : 35.5474\n",
        "U3 :  8.6520\n",
        "U4 : 10.5378\n",
        "U5 : 10.9520\n",
        "\n",
        "\n",
        "\n"
       ]
      }
     ],
     "prompt_number": 14
    },
    {
     "cell_type": "markdown",
     "metadata": {},
     "source": [
      "**In-plane Modulus and Compliance -- [A] and [a]**"
     ]
    },
    {
     "cell_type": "code",
     "collapsed": false,
     "input": [
      "print sim.laminate.print_A()"
     ],
     "language": "python",
     "metadata": {},
     "outputs": [
      {
       "output_type": "stream",
       "stream": "stdout",
       "text": [
        "A [GN/m] : \n",
        "[[   0.0081    0.0091    0.0000]\n",
        " [   0.0091    0.0167    0.0000]\n",
        " [   0.0000    0.0000    0.0093]]\n",
        "a [m/GN] : \n",
        "[[ 316.9010 -172.4533   -0.0000]\n",
        " [-172.4533  153.7231    0.0000]\n",
        " [   0.0000    0.0000  107.5774]]\n"
       ]
      }
     ],
     "prompt_number": 15
    },
    {
     "cell_type": "markdown",
     "metadata": {},
     "source": [
      "**Flexural Modulus and Compliance -- [D] and [d]**"
     ]
    },
    {
     "cell_type": "code",
     "collapsed": false,
     "input": [
      "print sim.laminate.print_D()"
     ],
     "language": "python",
     "metadata": {},
     "outputs": [
      {
       "output_type": "stream",
       "stream": "stdout",
       "text": [
        "D [kNm] : \n",
        "[[   0.0002    0.0002    0.0001]\n",
        " [   0.0002    0.0003    0.0002]\n",
        " [   0.0001    0.0002    0.0002]]\n",
        "d [1/MNm] : \n",
        "[[15530371.6619 -7642652.2161 -1690461.2187]\n",
        " [-7642652.2161 8642673.4179 -3364279.7092]\n",
        " [-1690461.2187 -3364279.7092 8954671.2946]]\n"
       ]
      }
     ],
     "prompt_number": 16
    },
    {
     "cell_type": "markdown",
     "metadata": {},
     "source": [
      "**Loads**"
     ]
    },
    {
     "cell_type": "code",
     "collapsed": false,
     "input": [
      "sim.apply_N(N)\n",
      "sim.solve()"
     ],
     "language": "python",
     "metadata": {},
     "outputs": [],
     "prompt_number": 17
    },
    {
     "cell_type": "code",
     "collapsed": false,
     "input": [
      "print \"N [kN/m] : \"\n",
      "print N.to('KNperm').magnitude"
     ],
     "language": "python",
     "metadata": {},
     "outputs": [
      {
       "output_type": "stream",
       "stream": "stdout",
       "text": [
        "N [kN/m] : \n",
        "[  25.0000   50.0000    0.0000]\n"
       ]
      }
     ],
     "prompt_number": 20
    },
    {
     "cell_type": "code",
     "collapsed": false,
     "input": [
      "my_format = composites.floatformat.set_options_float('%.5f')\n",
      "eval(my_format)\n",
      "print \"e0 [-] : \"\n",
      "print sim.e0\n",
      "np.set_printoptions()\n",
      "###### No curvature because only a N is applied.\n",
      "# print \"k [-] : \"\n",
      "# print sim.k"
     ],
     "language": "python",
     "metadata": {},
     "outputs": [
      {
       "output_type": "stream",
       "stream": "stdout",
       "text": [
        "e0 [-] : \n",
        "[-0.00070 0.00337 0.00000]\n"
       ]
      }
     ],
     "prompt_number": 22
    },
    {
     "cell_type": "code",
     "collapsed": false,
     "input": [
      "import pandas as pd\n",
      "import os\n",
      "from composites.maketable import maketable,make_stress_table,make_safety_table"
     ],
     "language": "python",
     "metadata": {},
     "outputs": [],
     "prompt_number": 23
    },
    {
     "cell_type": "code",
     "collapsed": false,
     "input": [
      "pd.set_option('display.float_format',lambda x:'%.5f' % x)"
     ],
     "language": "python",
     "metadata": {},
     "outputs": [],
     "prompt_number": 24
    },
    {
     "cell_type": "markdown",
     "metadata": {},
     "source": [
      "See Appendix A for stresses/strains and safety factors."
     ]
    },
    {
     "cell_type": "code",
     "collapsed": false,
     "input": [
      "#Require pandas 0.14.1+\n",
      "df = sim.return_results()\n",
      "# df\n",
      "# df_latex = df.to_latex(escape = False,longtable = True, index = False)\n",
      "# make_stress_table(df_latex,'docs/ass6/design1/stresstable.tex')"
     ],
     "language": "python",
     "metadata": {},
     "outputs": [],
     "prompt_number": 29
    },
    {
     "cell_type": "code",
     "collapsed": false,
     "input": [
      "fail = FailureAnalysis(sim)"
     ],
     "language": "python",
     "metadata": {},
     "outputs": [],
     "prompt_number": 22
    },
    {
     "cell_type": "code",
     "collapsed": false,
     "input": [
      "R = fail.compute_all()"
     ],
     "language": "python",
     "metadata": {},
     "outputs": [],
     "prompt_number": 23
    },
    {
     "cell_type": "code",
     "collapsed": false,
     "input": [
      "R_data = fail.make_table()\n",
      "pd.set_option('display.float_format',lambda x:'%.2f' % x)\n",
      "# R_data\n",
      "# R_latex = R_data.to_latex(escape = False,longtable = True, index = False)\n",
      "# make_safety_table(R_latex,'docs/ass6/design1/safetytable.tex')"
     ],
     "language": "python",
     "metadata": {},
     "outputs": [],
     "prompt_number": 28
    }
   ],
   "metadata": {}
  }
 ]
}