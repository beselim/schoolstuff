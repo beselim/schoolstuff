{
 "metadata": {
  "name": "",
  "signature": "sha256:ec218c4d921242c3aa9c7e52136c9658fc4c3bf17db2a9631d6e0388388f1db7"
 },
 "nbformat": 3,
 "nbformat_minor": 0,
 "worksheets": [
  {
   "cells": [
    {
     "cell_type": "markdown",
     "metadata": {},
     "source": [
      "Design #3\n",
      "========="
     ]
    },
    {
     "cell_type": "code",
     "collapsed": false,
     "input": [
      "%matplotlib inline\n",
      "from composites.sim import Sim,ureg,Q_\n",
      "from composites.failure import FailureAnalysis\n",
      "import numpy as np\n",
      "import composites.floatformat\n",
      "from composites.laminate import Laminate\n",
      "import pandas as pd\n",
      "import matplotlib.pyplot as plt\n",
      "import os"
     ],
     "language": "python",
     "metadata": {},
     "outputs": [],
     "prompt_number": 1
    },
    {
     "cell_type": "code",
     "collapsed": false,
     "input": [
      "import random\n",
      "\n",
      "from operator import attrgetter\n",
      "from deap import base\n",
      "from deap import creator\n",
      "from deap import tools\n",
      "from deap import algorithms\n",
      "from genetic.algorithm import MEtwo\n",
      "from genetic import makechildren"
     ],
     "language": "python",
     "metadata": {},
     "outputs": [],
     "prompt_number": 2
    },
    {
     "cell_type": "code",
     "collapsed": false,
     "input": [
      "zc = 0.15/100.0\n",
      "w = Q_(3.0/100.0,'m')\n",
      "B = Q_(10.0/100.0,'m')\n",
      "M_1 = Q_([-1000,-100,-100],'N')\n",
      "N_1 = Q_([-22400,-3000,-2000],'Nperm')\n",
      "M_2 = Q_([-980,-98,-110],'N')\n",
      "N_2 = Q_([-20800,-2800,-2200],'Nperm')"
     ],
     "language": "python",
     "metadata": {},
     "outputs": [],
     "prompt_number": 3
    },
    {
     "cell_type": "code",
     "collapsed": false,
     "input": [
      "def evaluate_layup(individual,materialID):\n",
      "    list_of_str = ['{0:d}'.format(k) for k in individual]\n",
      "    layup = '/'.join(list_of_str)+'s'\n",
      "    laminate=Laminate(layup,materialID,zc)\n",
      "    sim_1 = Sim(laminate=laminate)\n",
      "    sim_1.apply_N(N_1)\n",
      "    sim_1.apply_M(M_1)\n",
      "    sim_1.solve()\n",
      "    fail = FailureAnalysis(sim_1)\n",
      "    the_mins = fail.find_min()\n",
      "    first_min = min([R[0] for R in the_mins.values()])\n",
      "    sim_1.apply_N(N_2)\n",
      "    sim_1.apply_M(M_2)\n",
      "    fail = FailureAnalysis(sim_1)\n",
      "    the_mins = fail.find_min()\n",
      "    second_min = min([R[0] for R in the_mins.values()])\n",
      "    return float(min((first_min,second_min))),"
     ],
     "language": "python",
     "metadata": {},
     "outputs": [],
     "prompt_number": 4
    },
    {
     "cell_type": "code",
     "collapsed": false,
     "input": [
      "creator.create(\"FitnessMax\", base.Fitness, weights = (1.0,))\n",
      "creator.create(\"Individual\",list,fitness=creator.FitnessMax)"
     ],
     "language": "python",
     "metadata": {},
     "outputs": [],
     "prompt_number": 5
    },
    {
     "cell_type": "code",
     "collapsed": false,
     "input": [
      "def new_angle(a,b,coeff):\n",
      "    return random.randint(a,b)*coeff"
     ],
     "language": "python",
     "metadata": {},
     "outputs": [],
     "prompt_number": 6
    },
    {
     "cell_type": "code",
     "collapsed": false,
     "input": [
      "ind = toolbox.individual()"
     ],
     "language": "python",
     "metadata": {},
     "outputs": [],
     "prompt_number": 41
    },
    {
     "cell_type": "code",
     "collapsed": false,
     "input": [
      "toolbox.evaluate(ind)"
     ],
     "language": "python",
     "metadata": {},
     "outputs": [
      {
       "metadata": {},
       "output_type": "pyout",
       "prompt_number": 46,
       "text": [
        "(0.05452478429074826,)"
       ]
      }
     ],
     "prompt_number": 46
    },
    {
     "cell_type": "code",
     "collapsed": false,
     "input": [
      "# materialID = 2\n",
      "# num_of_plies = 8\n",
      "# pop_size = 300\n",
      "# nk = 30\n",
      "# plateau_max = 20\n",
      "# add_random_max = 4\n",
      "# rand_ind = 200\n",
      "# gen_numbers = 100\n",
      "# run_number = 5\n",
      "# mutpb = 0.01"
     ],
     "language": "python",
     "metadata": {},
     "outputs": [],
     "prompt_number": 7
    },
    {
     "cell_type": "code",
     "collapsed": false,
     "input": [
      "##For testing\n",
      "materialID = 2\n",
      "num_of_plies = 7\n",
      "pop_size = 10\n",
      "nk = 1\n",
      "plateau_max = 5\n",
      "add_random_max = 2\n",
      "rand_ind = 5\n",
      "gen_numbers = 10\n",
      "run_number = 2"
     ],
     "language": "python",
     "metadata": {},
     "outputs": [],
     "prompt_number": 45
    },
    {
     "cell_type": "code",
     "collapsed": false,
     "input": [
      "toolbox = base.Toolbox()\n",
      "toolbox.register(\"ply\",new_angle,-9,9,10)\n",
      "toolbox.register(\"individual\",tools.initRepeat,creator.Individual,toolbox.ply,n=num_of_plies)\n",
      "toolbox.register(\"population\",tools.initRepeat,list, toolbox.individual,n=pop_size)\n",
      "toolbox.register(\"evaluate\",evaluate_layup,materialID=materialID)\n",
      "toolbox.register(\"mate\",makechildren.one_point_cross)"
     ],
     "language": "python",
     "metadata": {},
     "outputs": [],
     "prompt_number": 9
    },
    {
     "cell_type": "code",
     "collapsed": false,
     "input": [
      "def analyze(materialID,run_number,mutpb):\n",
      "    filename = \"material%i--%iplies--run%i.txt\" % (materialID,num_of_plies,run_number)\n",
      "    file_path = 'design3_results/'+filename\n",
      "    f = open(file_path,'a')\n",
      "    header = \"\"\"Material ID : %i\n",
      "Number of Plies : %i\n",
      "Population Size : %i\n",
      "Nk : %i\\n\\n\"\"\" % (materialID,num_of_plies,pop_size,nk)\n",
      "#     print header,\n",
      "    f.write(header)\n",
      "    try:\n",
      "        population = toolbox.population()\n",
      "        fits = toolbox.map(toolbox.evaluate,population)\n",
      "        for fit,ind in zip(fits,population):\n",
      "            ind.fitness.values = fit\n",
      "\n",
      "        sorted_pop = sorted(population, key=attrgetter(\"fitness\"), reverse=True)\n",
      "        last_fit = sorted_pop[0].fitness.values[0]\n",
      "        plateau_counter = 0\n",
      "        add_random_counter = 0\n",
      "        bumped_nk = False\n",
      "\n",
      "#         print len(population)\n",
      "#         print \"Writing to %s\" % file_path\n",
      "\n",
      "        for gen in range(gen_numbers):\n",
      "            population = MEtwo(population,nk,toolbox,1.0,mutpb,0.9)\n",
      "            sorted_pop = sorted(population, key=attrgetter(\"fitness\"), reverse=True)\n",
      "            new_fit = sorted_pop[0].fitness.values[0]\n",
      "            if new_fit - last_fit < 10**-5:\n",
      "                plateau_counter += 1\n",
      "            else:\n",
      "                plateau_counter = 0\n",
      "            last_fit = new_fit        \n",
      "#             results = \"Generation %i (%i) \\n%r \\n %r \\n\" % (gen, \n",
      "#                                                           plateau_counter,\n",
      "#                                                           sorted_pop[0],\n",
      "#                                                           sorted_pop[0].fitness.values\n",
      "#                                                           )\n",
      "#             print results,\n",
      "#             f.write(results)\n",
      "\n",
      "            if plateau_counter == int(plateau_max/2):\n",
      "                mutpb = 0.3\n",
      "#                 message = \"Increased Mutation probability to 0.3\"\n",
      "#                 print message,; f.write(message)\n",
      "\n",
      "            if plateau_counter == plateau_max:\n",
      "                if add_random_counter == add_random_max:\n",
      "#                     message = \"Couldn't find better :(\"\n",
      "#                     print message,; f.write(message)\n",
      "                    raise AssertionError\n",
      "\n",
      "                random_individuals = toolbox.population()[:rand_ind]\n",
      "                sorted_pop[-rand_ind:] = random_individuals\n",
      "                population = sorted_pop\n",
      "#                 message = \"Inserted %i random individuals\\n\" % rand_ind\n",
      "#                 print message,; f.write(message)\n",
      "                plateau_counter = 0\n",
      "                add_random_counter += 1\n",
      "\n",
      "    #                 \n",
      "    #             if bumped_nk:\n",
      "    #                 message = \"Could not get higher\"\n",
      "    #                 print message; f.write(message)\n",
      "    #                 raise AssertionError\n",
      "    #             else:\n",
      "    #                 random_individuals = toolbox.population()[:rand_ind]\n",
      "    #                 sorted_pop[-rand_ind:] = random_individuals\n",
      "    #                 population = sorted_pop\n",
      "    #                 message = \"Inserted %i random individuals\\n\" % rand_ind\n",
      "    #                 counter = 0\n",
      "    #                 print message,; f.write(message)\n",
      "    #                 nk = pop_size\n",
      "    #                 bumped_nk = True\n",
      "    #                 message = \"Bumping N_k to population size (%i)\" % pop_size\n",
      "    #                 print message; f.write(message)\n",
      "    except AssertionError:\n",
      "        pass\n",
      "    finally:\n",
      "        results = \"Generation %i (%i) \\n%r \\n %r \\n\" % (gen, \n",
      "                                              plateau_counter,\n",
      "                                              sorted_pop[0],\n",
      "                                              sorted_pop[0].fitness.values\n",
      "                                              )\n",
      "        print results,\n",
      "        f.write(results)\n",
      "        f.close()\n",
      "    print \"Done!\""
     ],
     "language": "python",
     "metadata": {},
     "outputs": [],
     "prompt_number": 13
    },
    {
     "cell_type": "code",
     "collapsed": false,
     "input": [
      "for material,run_num in zip([2,2,2,1,1,1],[2,3,4,6,7,8]):\n",
      "# for material,run_num in zip([4,4,4,5,5,5],[1,2,3,4,5,6]):\n",
      "    print \"Material : %i -- Run : %i\" % (material,run_num)\n",
      "    analyze(material,run_num,0.01)"
     ],
     "language": "python",
     "metadata": {},
     "outputs": [
      {
       "output_type": "stream",
       "stream": "stdout",
       "text": [
        "Material : 4 -- Run : 1\n",
        "Generation 9 (2) \n",
        "[10, 20, -20, -10, 20, 50, -20] \n",
        " (0.2862623864970022,) \n"
       ]
      },
      {
       "output_type": "stream",
       "stream": "stdout",
       "text": [
        "\n",
        "Done!\n",
        "Material : 4 -- Run : 2\n",
        "Generation 9 (0) \n",
        "[-10, 10, 20, -10, 20, 10, -10] \n",
        " (0.3479228808173158,) \n"
       ]
      },
      {
       "output_type": "stream",
       "stream": "stdout",
       "text": [
        "\n",
        "Done!\n",
        "Material : 4 -- Run : 3\n",
        "Generation 9 (4) \n",
        "[20, 10, -20, 0, 20, 20, 0] \n",
        " (0.3574847450439352,) \n"
       ]
      },
      {
       "output_type": "stream",
       "stream": "stdout",
       "text": [
        "\n",
        "Done!\n",
        "Material : 5 -- Run : 4\n",
        "Generation 9 (3) \n",
        "[20, 10, 10, -20, -20, 40, 10] \n",
        " (0.332918805496572,) \n"
       ]
      },
      {
       "output_type": "stream",
       "stream": "stdout",
       "text": [
        "\n",
        "Done!\n",
        "Material : 5 -- Run : 5\n",
        "Generation 9 (2) \n",
        "[0, 0, 20, -10, 20, 30, 0] \n",
        " (0.3384618694435365,) \n"
       ]
      },
      {
       "output_type": "stream",
       "stream": "stdout",
       "text": [
        "\n",
        "Done!\n",
        "Material : 5 -- Run : 6\n",
        "Generation 9 (1) \n",
        "[10, 10, 30, -10, 0, 80, 0] \n",
        " (0.3151710539865924,) \n"
       ]
      },
      {
       "output_type": "stream",
       "stream": "stdout",
       "text": [
        "\n",
        "Done!\n"
       ]
      }
     ],
     "prompt_number": 15
    },
    {
     "cell_type": "code",
     "collapsed": false,
     "input": [],
     "language": "python",
     "metadata": {},
     "outputs": []
    }
   ],
   "metadata": {}
  }
 ]
}