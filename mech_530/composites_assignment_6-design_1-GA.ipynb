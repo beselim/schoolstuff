{
 "metadata": {
  "name": "",
  "signature": "sha256:f83adc0d272a423e4826c7a954c1c2acb0f0a42936e20429a3c4b9acd36c0555"
 },
 "nbformat": 3,
 "nbformat_minor": 0,
 "worksheets": [
  {
   "cells": [
    {
     "cell_type": "markdown",
     "metadata": {},
     "source": [
      "Design #1\n",
      "========="
     ]
    },
    {
     "cell_type": "code",
     "collapsed": false,
     "input": [
      "%matplotlib inline\n",
      "from composites.sim import Sim,ureg,Q_\n",
      "from composites.failure import FailureAnalysis\n",
      "import matplotlib.pyplot as plt\n",
      "import numpy as np\n",
      "import composites.floatformat\n",
      "import pandas as pd"
     ],
     "language": "python",
     "metadata": {},
     "outputs": [],
     "prompt_number": 2
    },
    {
     "cell_type": "code",
     "collapsed": false,
     "input": [
      "materialID = 4; \n",
      "P = Q_(1.25,'MPa'); D = Q_(0.08,'m')\n",
      "N1 = P*D/4; N2 = P*D/2\n",
      "N = Q_([N1.magnitude,N2.magnitude,0],N1.units)"
     ],
     "language": "python",
     "metadata": {},
     "outputs": [],
     "prompt_number": 3
    },
    {
     "cell_type": "code",
     "collapsed": false,
     "input": [
      "def eval_layup(input_layup):\n",
      "    sim_1 = Sim(layup=input_layup,\n",
      "                materialID=materialID)\n",
      "    sim_1.apply_N(N)\n",
      "    sim_1.solve()\n",
      "    fail = FailureAnalysis(sim_1)\n",
      "    the_mins = fail.find_min()\n",
      "    ret = min([R[0] for R in the_mins.values()])\n",
      "    return ret"
     ],
     "language": "python",
     "metadata": {},
     "outputs": [],
     "prompt_number": 4
    },
    {
     "cell_type": "markdown",
     "metadata": {},
     "source": [
      "-----------\n",
      "\n",
      "Iterate over whole domain\n",
      "-------------------------"
     ]
    },
    {
     "cell_type": "code",
     "collapsed": false,
     "input": [
      "thetas = np.arange(0,91,1,)\n",
      "min_R = np.ones_like(thetas,dtype=float)\n",
      "layup_template = \"p{0:d}/p{0:d}/p{0:d}/p{0:d}s\"\n",
      "for i,theta in enumerate(thetas):\n",
      "    layup=layup_template.format(theta)\n",
      "    min_R[i] = eval_layup(layup)"
     ],
     "language": "python",
     "metadata": {},
     "outputs": [],
     "prompt_number": 5
    },
    {
     "cell_type": "code",
     "collapsed": false,
     "input": [
      "good_R = np.where(min_R > 1.0,min_R,np.nan)\n",
      "bad_R = np.where(min_R <= 1.0,min_R,np.nan)"
     ],
     "language": "python",
     "metadata": {},
     "outputs": [],
     "prompt_number": 6
    },
    {
     "cell_type": "code",
     "collapsed": false,
     "input": [
      "best_index = min_R.argmax()\n",
      "best_R = min_R[best_index]; best_theta = thetas[best_index]"
     ],
     "language": "python",
     "metadata": {},
     "outputs": [],
     "prompt_number": 7
    },
    {
     "cell_type": "code",
     "collapsed": false,
     "input": [
      "plt.plot(thetas,good_R,'g-')\n",
      "plt.plot(thetas,bad_R,'r-')\n",
      "plt.plot(thetas,np.ones_like(thetas),'k--')\n",
      "plt.xlabel('Theta [degrees]'); plt.ylabel('Minimum safety factor')\n",
      "plt.title('Safety factor vs. theta')\n",
      "plt.show()"
     ],
     "language": "python",
     "metadata": {},
     "outputs": [
      {
       "metadata": {},
       "output_type": "display_data",
       "png": "[encoded data removed]",
       "text": [
        "<matplotlib.figure.Figure at 0xbf13ef0>"
       ]
      }
     ],
     "prompt_number": 8
    },
    {
     "cell_type": "code",
     "collapsed": false,
     "input": [
      "print (\"Maximum R (%.2f) occurs for theta = %i degrees\" \n",
      "       % (best_R,best_theta))"
     ],
     "language": "python",
     "metadata": {},
     "outputs": [
      {
       "output_type": "stream",
       "stream": "stdout",
       "text": [
        "Maximum R (5.49) occurs for theta = 52 degrees\n"
       ]
      }
     ],
     "prompt_number": 9
    },
    {
     "cell_type": "markdown",
     "metadata": {},
     "source": [
      "-------------\n",
      "\n",
      "-------------\n",
      "\n",
      "Using DEAP\n",
      "--------------"
     ]
    },
    {
     "cell_type": "code",
     "collapsed": false,
     "input": [
      "import random\n",
      "\n",
      "from deap import base\n",
      "from deap import creator\n",
      "from deap import tools\n",
      "from deap import algorithms\n",
      "from genetic.algorithm import MEtwo\n",
      "from genetic import makechildren"
     ],
     "language": "python",
     "metadata": {},
     "outputs": [],
     "prompt_number": 10
    },
    {
     "cell_type": "code",
     "collapsed": false,
     "input": [
      "creator.create(\"FitnessMax\", base.Fitness, weights = (1.0,))\n",
      "creator.create(\"Individual\",list,fitness=creator.FitnessMax)"
     ],
     "language": "python",
     "metadata": {},
     "outputs": [],
     "prompt_number": 11
    },
    {
     "cell_type": "code",
     "collapsed": false,
     "input": [
      "def new_angle(a,b,coeff):\n",
      "    return random.randint(a,b)*coeff"
     ],
     "language": "python",
     "metadata": {},
     "outputs": [],
     "prompt_number": 12
    },
    {
     "cell_type": "code",
     "collapsed": false,
     "input": [
      "def evaluate_layup(individual):\n",
      "    list_of_str = ['p{0:d}'.format(k) for k in individual]\n",
      "    layup = '/'.join(list_of_str)+'s'\n",
      "    sim_1 = Sim(layup=layup,\n",
      "                materialID=materialID)\n",
      "    sim_1.apply_N(N)\n",
      "    sim_1.solve()\n",
      "    fail = FailureAnalysis(sim_1)\n",
      "    the_mins = fail.find_min()\n",
      "    return float(min([R[0] for R in the_mins.values()])),"
     ],
     "language": "python",
     "metadata": {},
     "outputs": [],
     "prompt_number": 13
    },
    {
     "cell_type": "code",
     "collapsed": false,
     "input": [
      "toolbox = base.Toolbox()\n",
      "toolbox.register(\"ply\",new_angle,0,9,10)\n",
      "toolbox.register(\"individual\",tools.initRepeat,creator.Individual,toolbox.ply,n=4)\n",
      "toolbox.register(\"population\",tools.initRepeat,list, toolbox.individual,n=100)\n",
      "toolbox.register(\"evaluate\",evaluate_layup)\n",
      "toolbox.register(\"mate\",makechildren.one_point_cross)"
     ],
     "language": "python",
     "metadata": {},
     "outputs": [],
     "prompt_number": 14
    },
    {
     "cell_type": "code",
     "collapsed": false,
     "input": [
      "population = toolbox.population()\n",
      "fits = toolbox.map(toolbox.evaluate,population)\n",
      "for fit,ind in zip(fits,population):\n",
      "    ind.fitness.values = fit\n",
      "\n",
      "for gen in range(50):\n",
      "#     offspring = algorithms.varOr(population,toolbox,lambda_=50,cxpb=0.9,mutpb=0.1)\n",
      "#     fits = toolbox.map(toolbox.evaluate, offspring)\n",
      "#     for fit, ind in zip(fits,offspring):\n",
      "#         ind.fitness.values = fit\n",
      "#     population = toolbox.select(offspring+population,k=50)\n",
      "    population = MEtwo(population,20,toolbox,1.0,0.01,0.9)"
     ],
     "language": "python",
     "metadata": {},
     "outputs": [
      {
       "output_type": "stream",
       "stream": "stdout",
       "text": [
        "(3.9959905933145055,)\n",
        "(3.9185485179025177,)"
       ]
      },
      {
       "output_type": "stream",
       "stream": "stdout",
       "text": [
        "\n",
        "(3.9959905933145055,)\n",
        "(3.946526899662765,)"
       ]
      },
      {
       "output_type": "stream",
       "stream": "stdout",
       "text": [
        "\n",
        "(3.9959905933145055,)\n",
        "(4.2846517369945785,)"
       ]
      },
      {
       "output_type": "stream",
       "stream": "stdout",
       "text": [
        "\n",
        "(4.2846517369945785,)\n",
        "(4.931038292696516,)"
       ]
      },
      {
       "output_type": "stream",
       "stream": "stdout",
       "text": [
        "\n",
        "(4.931038292696516,)\n",
        "(4.931038292696516,)"
       ]
      },
      {
       "output_type": "stream",
       "stream": "stdout",
       "text": [
        "\n",
        "(4.931038292696516,)\n",
        "(5.209687910409145,)"
       ]
      },
      {
       "output_type": "stream",
       "stream": "stdout",
       "text": [
        "\n",
        "(5.209687910409145,)\n",
        "(4.931038292696516,)"
       ]
      },
      {
       "output_type": "stream",
       "stream": "stdout",
       "text": [
        "\n",
        "(5.209687910409145,)\n",
        "(5.209687910409145,)"
       ]
      },
      {
       "output_type": "stream",
       "stream": "stdout",
       "text": [
        "\n",
        "(5.209687910409145,)\n",
        "(5.209687910409145,)"
       ]
      },
      {
       "output_type": "stream",
       "stream": "stdout",
       "text": [
        "\n",
        "(5.209687910409145,)\n",
        "(5.209687910409145,)"
       ]
      },
      {
       "output_type": "stream",
       "stream": "stdout",
       "text": [
        "\n",
        "(5.209687910409145,)\n",
        "(5.209687910409145,)"
       ]
      },
      {
       "output_type": "stream",
       "stream": "stdout",
       "text": [
        "\n",
        "(5.209687910409145,)\n",
        "(5.209687910409145,)"
       ]
      },
      {
       "output_type": "stream",
       "stream": "stdout",
       "text": [
        "\n",
        "(5.209687910409145,)\n",
        "(5.209687910409145,)"
       ]
      },
      {
       "output_type": "stream",
       "stream": "stdout",
       "text": [
        "\n",
        "(5.209687910409145,)\n",
        "(5.209687910409145,)"
       ]
      },
      {
       "output_type": "stream",
       "stream": "stdout",
       "text": [
        "\n",
        "(5.209687910409145,)\n",
        "(5.209687910409145,)"
       ]
      },
      {
       "output_type": "stream",
       "stream": "stdout",
       "text": [
        "\n",
        "(5.209687910409145,)\n",
        "(5.209687910409145,)"
       ]
      },
      {
       "output_type": "stream",
       "stream": "stdout",
       "text": [
        "\n",
        "(5.209687910409145,)\n",
        "(5.209687910409145,)"
       ]
      },
      {
       "output_type": "stream",
       "stream": "stdout",
       "text": [
        "\n",
        "(5.209687910409145,)\n",
        "(5.209687910409145,)"
       ]
      },
      {
       "output_type": "stream",
       "stream": "stdout",
       "text": [
        "\n",
        "(5.209687910409145,)\n",
        "(5.209687910409145,)"
       ]
      },
      {
       "output_type": "stream",
       "stream": "stdout",
       "text": [
        "\n",
        "(5.209687910409145,)\n",
        "(5.209687910409145,)"
       ]
      },
      {
       "output_type": "stream",
       "stream": "stdout",
       "text": [
        "\n",
        "(5.209687910409145,)\n",
        "(5.209687910409145,)"
       ]
      },
      {
       "output_type": "stream",
       "stream": "stdout",
       "text": [
        "\n",
        "(5.209687910409145,)\n",
        "(5.209687910409145,)"
       ]
      },
      {
       "output_type": "stream",
       "stream": "stdout",
       "text": [
        "\n",
        "(5.209687910409145,)\n",
        "(5.209687910409145,)"
       ]
      },
      {
       "output_type": "stream",
       "stream": "stdout",
       "text": [
        "\n",
        "(5.209687910409145,)\n",
        "(5.209687910409145,)"
       ]
      },
      {
       "output_type": "stream",
       "stream": "stdout",
       "text": [
        "\n",
        "(5.209687910409145,)\n",
        "(5.209687910409145,)"
       ]
      },
      {
       "output_type": "stream",
       "stream": "stdout",
       "text": [
        "\n",
        "(5.209687910409145,)\n",
        "(5.209687910409145,)"
       ]
      },
      {
       "output_type": "stream",
       "stream": "stdout",
       "text": [
        "\n",
        "(5.209687910409145,)\n",
        "(5.209687910409145,)"
       ]
      },
      {
       "output_type": "stream",
       "stream": "stdout",
       "text": [
        "\n",
        "(5.209687910409145,)\n",
        "(5.209687910409145,)"
       ]
      },
      {
       "output_type": "stream",
       "stream": "stdout",
       "text": [
        "\n",
        "(5.209687910409145,)\n",
        "(5.209687910409145,)"
       ]
      },
      {
       "output_type": "stream",
       "stream": "stdout",
       "text": [
        "\n",
        "(5.209687910409145,)\n",
        "(5.209687910409145,)"
       ]
      },
      {
       "output_type": "stream",
       "stream": "stdout",
       "text": [
        "\n",
        "(5.209687910409145,)\n",
        "(5.209687910409145,)"
       ]
      },
      {
       "output_type": "stream",
       "stream": "stdout",
       "text": [
        "\n",
        "(5.209687910409145,)\n",
        "(5.209687910409145,)"
       ]
      },
      {
       "output_type": "stream",
       "stream": "stdout",
       "text": [
        "\n",
        "(5.209687910409145,)\n",
        "(5.209687910409145,)"
       ]
      },
      {
       "output_type": "stream",
       "stream": "stdout",
       "text": [
        "\n",
        "(5.209687910409145,)\n",
        "(5.209687910409145,)"
       ]
      },
      {
       "output_type": "stream",
       "stream": "stdout",
       "text": [
        "\n",
        "(5.209687910409145,)\n",
        "(5.209687910409145,)"
       ]
      },
      {
       "output_type": "stream",
       "stream": "stdout",
       "text": [
        "\n",
        "(5.209687910409145,)\n",
        "(5.209687910409145,)"
       ]
      },
      {
       "output_type": "stream",
       "stream": "stdout",
       "text": [
        "\n",
        "(5.209687910409145,)\n",
        "(5.209687910409145,)"
       ]
      },
      {
       "output_type": "stream",
       "stream": "stdout",
       "text": [
        "\n",
        "(5.209687910409145,)\n",
        "(5.209687910409145,)"
       ]
      },
      {
       "output_type": "stream",
       "stream": "stdout",
       "text": [
        "\n",
        "(5.209687910409145,)\n",
        "(5.209687910409145,)"
       ]
      },
      {
       "output_type": "stream",
       "stream": "stdout",
       "text": [
        "\n",
        "(5.209687910409145,)\n",
        "(5.209687910409145,)"
       ]
      },
      {
       "output_type": "stream",
       "stream": "stdout",
       "text": [
        "\n",
        "(5.209687910409145,)\n",
        "(5.209687910409145,)"
       ]
      },
      {
       "output_type": "stream",
       "stream": "stdout",
       "text": [
        "\n",
        "(5.209687910409145,)\n",
        "(5.209687910409145,)"
       ]
      },
      {
       "output_type": "stream",
       "stream": "stdout",
       "text": [
        "\n",
        "(5.209687910409145,)\n",
        "(5.209687910409145,)"
       ]
      },
      {
       "output_type": "stream",
       "stream": "stdout",
       "text": [
        "\n",
        "(5.209687910409145,)\n",
        "(5.209687910409145,)"
       ]
      },
      {
       "output_type": "stream",
       "stream": "stdout",
       "text": [
        "\n",
        "(5.209687910409145,)\n",
        "(5.209687910409145,)"
       ]
      },
      {
       "output_type": "stream",
       "stream": "stdout",
       "text": [
        "\n",
        "(5.209687910409145,)\n",
        "(5.209687910409145,)"
       ]
      },
      {
       "output_type": "stream",
       "stream": "stdout",
       "text": [
        "\n",
        "(5.209687910409145,)\n",
        "(5.209687910409145,)"
       ]
      },
      {
       "output_type": "stream",
       "stream": "stdout",
       "text": [
        "\n",
        "(5.209687910409145,)\n",
        "(5.209687910409145,)"
       ]
      },
      {
       "output_type": "stream",
       "stream": "stdout",
       "text": [
        "\n",
        "(5.209687910409145,)\n",
        "(5.209687910409145,)"
       ]
      },
      {
       "output_type": "stream",
       "stream": "stdout",
       "text": [
        "\n",
        "(5.209687910409145,)\n",
        "(5.209687910409145,)"
       ]
      },
      {
       "output_type": "stream",
       "stream": "stdout",
       "text": [
        "\n"
       ]
      }
     ],
     "prompt_number": 15
    }
   ],
   "metadata": {}
  }
 ]
}