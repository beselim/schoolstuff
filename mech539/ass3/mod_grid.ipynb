{
 "cells": [
  {
   "cell_type": "code",
   "execution_count": 11,
   "metadata": {
    "collapsed": true
   },
   "outputs": [],
   "source": [
    "import numpy as np\n",
    "import matplotlib.pyplot as plt\n",
    "%matplotlib inline"
   ]
  },
  {
   "cell_type": "code",
   "execution_count": 27,
   "metadata": {
    "collapsed": false
   },
   "outputs": [
    {
     "data": {
      "text/plain": [
       "'[ -4.65782460e-02   4.83819830e+00   8.53878659e+00   1.13422626e+01\\n   1.34661080e+01   1.50750818e+01   1.62940014e+01   1.72174253e+01\\n   1.79169889e+01   1.84469613e+01   1.88484555e+01   1.91526178e+01\\n   1.93830438e+01   1.95576089e+01   1.96898552e+01   1.97900419e+01\\n   1.98659408e+01   1.99234400e+01   1.99670000e+01   2.00000000e+01\\n   2.00250000e+01   2.00500000e+01   2.00750000e+01   2.01000000e+01\\n   2.01250000e+01   2.01500000e+01   2.01750000e+01   2.02000000e+01\\n   2.02250000e+01   2.02500000e+01   2.02750000e+01   2.03000000e+01\\n   2.03250000e+01   2.03500000e+01   2.03750000e+01   2.04000000e+01\\n   2.04250000e+01   2.04500000e+01   2.04750000e+01   2.05000000e+01\\n   2.05250000e+01   2.05500000e+01   2.05750000e+01   2.06000000e+01\\n   2.06250000e+01   2.06500000e+01   2.06750000e+01   2.07000000e+01\\n   2.07250000e+01   2.07500000e+01   2.07750000e+01   2.08000000e+01\\n   2.08250000e+01   2.08500000e+01   2.08750000e+01   2.09000000e+01\\n   2.09250000e+01   2.09500000e+01   2.09750000e+01   2.10000000e+01\\n   2.10330000e+01   2.10765600e+01   2.11340592e+01   2.12099581e+01\\n   2.13101448e+01   2.14423911e+01   2.16169562e+01   2.18473822e+01\\n   2.21515445e+01   2.25530387e+01   2.30830111e+01   2.37825747e+01\\n   2.47059986e+01   2.59249182e+01   2.75338920e+01   2.96577374e+01\\n   3.24612134e+01   3.61618017e+01   4.10465782e+01   4.74944833e+01]'"
      ]
     },
     "execution_count": 27,
     "metadata": {},
     "output_type": "execute_result"
    }
   ],
   "source": [
    "str(x)"
   ]
  },
  {
   "cell_type": "code",
   "execution_count": 28,
   "metadata": {
    "collapsed": true
   },
   "outputs": [],
   "source": [
    "def line_to_arr(line):\n",
    "    return np.array(line.strip().split(),dtype=float) \n",
    "\n",
    "def read_grid(filename):\n",
    "    with open(filename) as f:\n",
    "        f.readline()\n",
    "        x = line_to_arr(f.readline())\n",
    "        y = line_to_arr(f.readline())\n",
    "    return x, y\n",
    "\n",
    "def write_grid(filename, x, y):\n",
    "    def mk_line(sep, arr):\n",
    "        return sep.join(['%s'%a for a in arr])\n",
    "    nx = str(len(x))\n",
    "    ny = str(len(y))\n",
    "    sep = '   '\n",
    "    lines = []\n",
    "    lines.append(sep.join([nx, ny]))\n",
    "    lines.append(mk_line(sep, x))\n",
    "    lines.append(mk_line(sep, y))\n",
    "    with open(filename, 'w') as f:\n",
    "        f.write('\\n'.join(lines))"
   ]
  },
  {
   "cell_type": "code",
   "execution_count": 30,
   "metadata": {
    "collapsed": true
   },
   "outputs": [],
   "source": [
    "def double_grid(x, y):\n",
    "    nx = len(x)\n",
    "    ny = len(y)\n",
    "    x2 = np.zeros(2*nx-1)\n",
    "    y2 = np.zeros(2*ny-1)\n",
    "    x2[::2] = x\n",
    "    y2[::2] = y\n",
    "    x2[1::2] = 0.5*(x[:-1] + x[1:])\n",
    "    y2[1::2] = 0.5*(y[:-1] + y[1:])\n",
    "    return x2, y2"
   ]
  },
  {
   "cell_type": "code",
   "execution_count": 29,
   "metadata": {
    "collapsed": true
   },
   "outputs": [],
   "source": [
    "x, y = read_grid('grid_coarse')"
   ]
  },
  {
   "cell_type": "code",
   "execution_count": 31,
   "metadata": {
    "collapsed": false
   },
   "outputs": [],
   "source": [
    "xmed, ymed = double_grid(x, y)\n",
    "write_grid('grid_medium', xmed, ymed)"
   ]
  },
  {
   "cell_type": "code",
   "execution_count": 32,
   "metadata": {
    "collapsed": true
   },
   "outputs": [],
   "source": [
    "xf, yf = double_grid(xmed, ymed)\n",
    "write_grid('grid_fine', xf, yf)"
   ]
  },
  {
   "cell_type": "code",
   "execution_count": 38,
   "metadata": {
    "collapsed": false
   },
   "outputs": [
    {
     "data": {
      "text/plain": [
       "(20.5, 20.6)"
      ]
     },
     "execution_count": 38,
     "metadata": {},
     "output_type": "execute_result"
    },
    {
     "data": {
      "image/png": "[encoded data removed]",
      "text/plain": [
       "<matplotlib.figure.Figure at 0x7f8213c34ed0>"
      ]
     },
     "metadata": {},
     "output_type": "display_data"
    }
   ],
   "source": [
    "plt.figure(figsize=(12, 12))\n",
    "plt.plot(x, np.ones_like(x), 's')\n",
    "plt.plot(xmed, np.ones_like(x2), 'o')\n",
    "plt.plot(xf, np.ones_like(xf), '.')\n",
    "plt.xlim(20.5, 20.6)"
   ]
  },
  {
   "cell_type": "code",
   "execution_count": null,
   "metadata": {
    "collapsed": true
   },
   "outputs": [],
   "source": []
  },
  {
   "cell_type": "code",
   "execution_count": null,
   "metadata": {
    "collapsed": true
   },
   "outputs": [],
   "source": []
  }
 ],
 "metadata": {
  "kernelspec": {
   "display_name": "Python 2",
   "language": "python",
   "name": "python2"
  },
  "language_info": {
   "codemirror_mode": {
    "name": "ipython",
    "version": 2
   },
   "file_extension": ".py",
   "mimetype": "text/x-python",
   "name": "python",
   "nbconvert_exporter": "python",
   "pygments_lexer": "ipython2",
   "version": "2.7.10"
  }
 },
 "nbformat": 4,
 "nbformat_minor": 0
}
