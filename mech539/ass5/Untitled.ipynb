{
 "cells": [
  {
   "cell_type": "code",
   "execution_count": 85,
   "metadata": {
    "collapsed": true
   },
   "outputs": [],
   "source": [
    "import numpy as np\n",
    "import matplotlib.pyplot as plt\n",
    "%matplotlib notebook"
   ]
  },
  {
   "cell_type": "code",
   "execution_count": 2,
   "metadata": {
    "collapsed": false
   },
   "outputs": [
    {
     "name": "stdout",
     "output_type": "stream",
     "text": [
      "close all\r\n",
      "clear all\r\n",
      "\r\n",
      "load NACA0012_flowfieldv2.dat\r\n",
      "\r\n",
      "imax = 513;\r\n",
      "jmax = 257;\r\n",
      "TE_start = 65; % Trailing Edge Lower Point\r\n",
      "TE_end = 449; % Trailing Edge Upper Point\r\n",
      "LE = 257; % Leading Edge Point\r\n",
      "gamma = 1.4;\r\n",
      "mach = 0.1;\r\n",
      "p0 = 1.; % Freestream static pressure\r\n",
      "alpha = 8; % Angle of Attack\r\n",
      "Re = 3e6; % Reynolds number\r\n",
      "\r\n",
      "\r\n",
      "\r\n",
      "k = 1;\r\n",
      "for j=1:jmax\r\n",
      "    for i=1:imax\r\n",
      "        x(i,j) = NACA0012_flowfieldv2(k,1);\r\n",
      "        y(i,j) = NACA0012_flowfieldv2(k,2);\r\n",
      "        k = k +1;\r\n",
      "    end\r\n",
      "end\r\n",
      "\r\n",
      "\r\n",
      "\r\n",
      "% Plot the Airfoil Surface\r\n",
      "figure(1)\r\n",
      "hold on\r\n",
      "plot(x(TE_start:TE_end,1),...\r\n",
      "    y(TE_start:TE_end,1),'k*-')\r\n",
      "plot(x(1:imax,1),...\r\n",
      "    y(1:imax,1),'g.')\r\n",
      "axis equal\r\n",
      "axis([-.1 1.1 -.2 .2])\r\n",
      "\r\n",
      "% \r\n",
      "% %Plot the Computational Domain.\r\n",
      "% figure(2)\r\n",
      "% axis equal\r\n",
      "% hold on\r\n",
      "% for j=1:jmax\r\n",
      "%     plot(x(1:imax,j),y(1:imax,j),'k-')  \r\n",
      "% end\r\n",
      "% for i=1:imax\r\n",
      "%     plot(x(i,1:jmax),y(i,1:jmax),'k-')\r\n",
      "% end\r\n",
      "\r\n",
      "\r\n",
      "%Plot the Computational Domain.\r\n",
      "figure(3)\r\n",
      "axis equal\r\n",
      "hold on\r\n",
      "for j=1:1\r\n",
      "    plot(x(1:imax,j),y(1:imax,j),'k-')  \r\n",
      "end\r\n",
      "%for i=1:imax\r\n",
      "%    plot(x(i,1:jmax),y(i,1:jmax),'k-')\r\n",
      "%end\r\n",
      "axis([-.1 1.1 -.2 .2])\r\n",
      "\r\n",
      "\r\n",
      "Nvariables = 7;\r\n",
      "% Transfer all other flow properties and evaluate Pressure\r\n",
      "k = 1;\r\n",
      "for j=1:jmax\r\n",
      "    for i=1:imax\r\n",
      "        for n=1:Nvariables\r\n",
      "            w(i,j,n) = NACA0012_flowfieldv2(k,2+n);\r\n",
      "        end\r\n",
      "        k = k +1;\r\n",
      "    end\r\n",
      "end\r\n",
      "\r\n",
      "\r\n",
      "% ***********************************%\r\n",
      "% Evaluate Pressure and Velocity\r\n",
      "% ***********************************%\r\n",
      "for j=1:jmax\r\n",
      "    for i=1:imax\r\n",
      "        pressure(i,j) = (gamma -1)*(w(i,j,4) ...\r\n",
      "            -.5*(w(i,j,2)^2  +w(i,j,3)^2)/w(i,j,1));\r\n",
      "        velocity(i,j) = sqrt((w(i,j,2)/w(i,j,1))^2 ...\r\n",
      "                            +(w(i,j,3)/w(i,j,1))^2);\r\n",
      "    end \r\n",
      "end\r\n",
      "\r\n",
      "\r\n",
      "\r\n",
      "\r\n",
      "\r\n",
      "\r\n",
      "\r\n",
      "\r\n",
      "\r\n",
      "\r\n",
      "\r\n"
     ]
    }
   ],
   "source": [
    "!cat flowanalysis.m"
   ]
  },
  {
   "cell_type": "code",
   "execution_count": 5,
   "metadata": {
    "collapsed": true
   },
   "outputs": [],
   "source": [
    "imax = 513\n",
    "jmax = 257\n",
    "TE_start = 65 - 1  # Trailing Edge Lower Point\n",
    "TE_end = 449 - 1    # Trailing Edge Upper Point\n",
    "LE = 257 - 1       # Leading Edge Point\n",
    "gamma = 1.4\n",
    "mach = 0.1\n",
    "p0 = 1.0  # Freestream static pressure\n",
    "alpha = 8.0  # Angle of Attack\n",
    "Re = 3e6  # Reynolds number"
   ]
  },
  {
   "cell_type": "code",
   "execution_count": 6,
   "metadata": {
    "collapsed": false
   },
   "outputs": [],
   "source": [
    "variables = ['X', 'Y', 'RHO', 'RHO-U', 'RHO-V', 'RHO-E', 'MU', 'WHAT', 'D2WALL']\n",
    "variables = ['\"%s\"'%v for v in variables]\n",
    "with open('tecdata.dat', 'w') as f:\n",
    "    f.write(' TITLE = \"PROJECT 5\"\\n')\n",
    "    f.write(' FILETYPE = FULL\\n')\n",
    "    f.write(' VARIABLES = %s\\n' % ' '.join(variables))\n",
    "    f.write(' ZONE\\n')\n",
    "    f.write(' I = %i, J = %i, F=POINT\\n' % (imax, jmax))\n",
    "    f.write(open('NACA0012_flowfieldv2.dat').read())"
   ]
  },
  {
   "cell_type": "code",
   "execution_count": 7,
   "metadata": {
    "collapsed": false
   },
   "outputs": [],
   "source": [
    "dat = np.genfromtxt('NACA0012_flowfieldv2.dat', unpack=True)"
   ]
  },
  {
   "cell_type": "code",
   "execution_count": 8,
   "metadata": {
    "collapsed": true
   },
   "outputs": [],
   "source": [
    "def unpack(cols):\n",
    "    r = []\n",
    "    for col in cols:\n",
    "        r.append(col.reshape((jmax, imax)).T)\n",
    "    return r"
   ]
  },
  {
   "cell_type": "code",
   "execution_count": 126,
   "metadata": {
    "collapsed": false
   },
   "outputs": [],
   "source": [
    "x, y = unpack(dat[0:2,:])\n",
    "w = np.empty((4, imax, jmax))\n",
    "w[:] = unpack(dat[2:6])\n",
    "rlv, rev, d2wall = unpack(dat[6:])\n",
    "u = w[1]/w[0]\n",
    "v = w[2]/w[0]\n",
    "UV = np.array([u, v])\n",
    "pressure = (gamma - 1)*( w[3] - 0.5*(w[1]**2 + w[2]**2)/w[0] )\n",
    "U = np.sqrt(u**2 + v**2)"
   ]
  },
  {
   "cell_type": "code",
   "execution_count": 61,
   "metadata": {
    "collapsed": false
   },
   "outputs": [],
   "source": [
    "airfoil = np.s_[TE_start:TE_end+1]\n",
    "_w = lambda s: np.index_exp[s,0]\n",
    "wall = _w(airfoil)\n",
    "lower = _w(np.s_[TE_start:LE+1])\n",
    "upper = _w(np.s_[LE:TE_end+1])"
   ]
  },
  {
   "cell_type": "code",
   "execution_count": 120,
   "metadata": {
    "collapsed": false
   },
   "outputs": [],
   "source": [
    "# Compute surface values\n",
    "num_airfoil_nodes = TE_end - TE_start + 1\n",
    "normals = np.empty((num_airfoil_nodes - 1, 2))\n",
    "areas = np.empty(num_airfoil_nodes - 1)\n",
    "xc = np.empty_like(areas)\n",
    "yc = np.empty_like(areas)\n",
    "x_wall = x[wall]\n",
    "y_wall = y[wall]\n",
    "assert num_airfoil_nodes == len(x_wall)\n",
    "for i in range(num_airfoil_nodes - 1):\n",
    "    xc[i] = 0.5*(x_wall[i+1] + x_wall[i])\n",
    "    yc[i] = 0.5*(y_wall[i+1] + y_wall[i])\n",
    "    dx = x_wall[i+1] - x_wall[i]\n",
    "    dy = y_wall[i+1] - y_wall[i]\n",
    "    l = np.sqrt(dy**2 + dx**2)\n",
    "    normals[i] = np.array([-dy, dx])/l\n",
    "    areas[i] = l  # Assume span = 1"
   ]
  },
  {
   "cell_type": "code",
   "execution_count": 130,
   "metadata": {
    "collapsed": false
   },
   "outputs": [],
   "source": [
    "# Compute nodal stress tensor on wall\n",
    "# gradUV = np.empty((num_airfoil_nodes, 2, 2))\n",
    "gradUV = np.empty((2, 2))\n",
    "tau_na = np.empty((num_airfoil_nodes, 2))  # tau_n and tau_a\n",
    "for n in range(1, num_airfoil_nodes - 1):\n",
    "    gn = wall2global[n]\n",
    "    dxdi = 0.5*(x[gn+1,0] - x[gn-1,0])\n",
    "    dxdj = x[gn,1] - x[gn,0]\n",
    "    dydi = 0.5*(y[gn+1,0] - y[gn-1,0])\n",
    "    dydj = y[gn,1] - y[gn,0]\n",
    "    J = dxdi*dydj - dxdj*dydi\n",
    "    didx = J*dydj\n",
    "    djdx = -J*dydi\n",
    "    didy = -J*dxdj\n",
    "    djdy = J*dxdi\n",
    "    for k in range(2):\n",
    "        dUVdi = 0.5*(UV[k,gn+1,0] - UV[k,gn-1,0])\n",
    "        dUVdj = UV[k,gn,1] - UV[k,gn,0]\n",
    "        gradUV[k,0] = dUVdi*didx + dUVdj*djdx\n",
    "        gradUV[k,1] = dUVdi*didy + dUVdj*djdy\n",
    "    \n",
    "    mu = rlv[gn,0]\n",
    "    term = (-2.0/3.0)*mu*(gradUV[0,0] + gradUV[1,1])\n",
    "    tauxx = 2*mu*gradUV[0,0] + term\n",
    "    tauyy = 2*mu*gradUV[1,1] + term\n",
    "    tauxy = mu*(gradUV[0,1] + gradUV[1,0])\n",
    "    nx, ny = 0.5*(normals[n-1] + normals[n])\n",
    "    tau_na[n,0] = nx*tauxy + ny*tauyy\n",
    "    tau_na[n,1] = nx*tauxx + ny*tauxy"
   ]
  },
  {
   "cell_type": "code",
   "execution_count": 63,
   "metadata": {
    "collapsed": true
   },
   "outputs": [],
   "source": [
    "# Compute tau wall\n",
    "def project(a, b):\n",
    "    '''Project vector a onto b.\n",
    "    \n",
    "    b is of unit length.'''\n",
    "    return a.dot(b)*b\n",
    "\n"
   ]
  },
  {
   "cell_type": "code",
   "execution_count": 100,
   "metadata": {
    "collapsed": false
   },
   "outputs": [],
   "source": [
    "# def draw_vector(ax, x, y, vec, scf=0.001, width=1e-5, **kwargs):\n",
    "#     mag = np.linalg.norm(vec)\n",
    "#     if mag == 0:\n",
    "#         return\n",
    "#     unit_vec = vec/mag\n",
    "#     ax.arrow(x, y, scf*vec[0], scf*vec[1], width=width, **kwargs)\n",
    "\n",
    "def draw_vector(ax, x, y, vec, scf=0.001, *args, **kwargs):\n",
    "    p0 = np.array([x, y])\n",
    "    p1 = np.array([x, y]) + scf*vec\n",
    "    ax.plot([p0[0], p1[0]], [p0[1], p1[1]], *args, **kwargs)"
   ]
  },
  {
   "cell_type": "code",
   "execution_count": null,
   "metadata": {
    "collapsed": true
   },
   "outputs": [],
   "source": []
  },
  {
   "cell_type": "code",
   "execution_count": 119,
   "metadata": {
    "collapsed": false
   },
   "outputs": [],
   "source": [
    "# wall2global = np.arange(airfoil.start, airfoil.stop + 1, 1)\n",
    "# tauw = np.zeros_like(x_wall)\n",
    "# cf = np.zeros_like(tauw)\n",
    "# # Loop over nodes excluding the first and last (at TE singularity)\n",
    "# for n in range(1, num_airfoil_nodes - 1):\n",
    "#     gn = wall2global[n]\n",
    "#     normal = 0.5*(normals[n-1] + normals[n])\n",
    "#     uw = np.array([u[gn, 0], v[gn, 0]])\n",
    "#     uwt = uw - project(uw, normal)\n",
    "#     up1 = np.array([u[gn, 1], v[gn, 1]])\n",
    "#     up1t = up1 - project(up1, normal)\n",
    "# #     draw_vector(ax, x_wall[n], y_wall[n], up1, 0.1, 'b-o')\n",
    "# #     draw_vector(ax, x_wall[n], y_wall[n], up1t, 0.1, 'r-o')\n",
    "# #     diff = (up1t - up1)/up1\n",
    "#     dn = np.sqrt((x[gn,1] - x[gn,0])**2 + (y[gn,1] - y[gn,0])**2)\n",
    "#     dudn = (np.linalg.norm(up1t) - np.linalg.norm(uwt))/dn\n",
    "#     tauw[n] = rlv[gn]*dudn\n",
    "#     cf[n] = tauw[n]/(0.5*)"
   ]
  },
  {
   "cell_type": "code",
   "execution_count": 80,
   "metadata": {
    "collapsed": false
   },
   "outputs": [
    {
     "data": {
      "image/png": "[encoded data removed]",
      "text/plain": [
       "<matplotlib.figure.Figure at 0x7fa06727f050>"
      ]
     },
     "metadata": {},
     "output_type": "display_data"
    }
   ],
   "source": [
    "fig, ax = plt.subplots(figsize=(15, 15))\n",
    "ax.plot(x[lower], y[lower], 'r-o')\n",
    "ax.plot(x[upper], y[upper], 'b-o')\n",
    "ax.plot(xp1, yp1, 'k-o')\n",
    "# ax.set_xlim(-0.01, 0.01)\n",
    "# ax.set_xlim(0.99, 1.01)\n",
    "# ax.set_ylim(-0.01, 0.01)\n",
    "for i in range(len(xc)):\n",
    "    ax.arrow(xc[i], yc[i], 0.001*normals[i,0], 0.001*normals[i,1], width=1e-5)\n",
    "\n",
    "ax.grid()"
   ]
  }
 ],
 "metadata": {
  "kernelspec": {
   "display_name": "Python 2",
   "language": "python",
   "name": "python2"
  },
  "language_info": {
   "codemirror_mode": {
    "name": "ipython",
    "version": 2
   },
   "file_extension": ".py",
   "mimetype": "text/x-python",
   "name": "python",
   "nbconvert_exporter": "python",
   "pygments_lexer": "ipython2",
   "version": "2.7.10"
  }
 },
 "nbformat": 4,
 "nbformat_minor": 0
}
