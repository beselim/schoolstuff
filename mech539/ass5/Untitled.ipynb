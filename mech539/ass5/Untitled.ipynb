{
 "cells": [
  {
   "cell_type": "code",
   "execution_count": 90,
   "metadata": {
    "collapsed": true
   },
   "outputs": [],
   "source": [
    "import numpy as np\n",
    "from numpy import sin, cos\n",
    "import matplotlib.pyplot as plt\n",
    "import os\n",
    "%matplotlib inline"
   ]
  },
  {
   "cell_type": "code",
   "execution_count": 67,
   "metadata": {
    "collapsed": true
   },
   "outputs": [],
   "source": [
    "execfile('../../matplotlibrc.py')"
   ]
  },
  {
   "cell_type": "code",
   "execution_count": 94,
   "metadata": {
    "collapsed": false
   },
   "outputs": [],
   "source": [
    "imax = 513\n",
    "jmax = 257\n",
    "TE_start = 65 - 1  # Trailing Edge Lower Point\n",
    "TE_end = 449 - 1    # Trailing Edge Upper Point\n",
    "LE = 257 - 1       # Leading Edge Point\n",
    "gamma = 1.4\n",
    "mach = 0.1\n",
    "p0 = 1.0  # Freestream static pressure\n",
    "alpha = np.deg2rad(8.0)  # Angle of Attack\n",
    "Re = 3e6  # Reynolds number\n",
    "\n",
    "SCF = 1.0/(0.5*gamma*p0*mach**2)"
   ]
  },
  {
   "cell_type": "code",
   "execution_count": 75,
   "metadata": {
    "collapsed": false
   },
   "outputs": [],
   "source": [
    "variables = ['X', 'Y', 'RHO', 'RHO-U', 'RHO-V', 'RHO-E', 'MU', 'REV', 'D2WALL']\n",
    "variables = ['\"%s\"'%v for v in variables]\n",
    "with open('tecdata.dat', 'w') as f:\n",
    "    f.write(' TITLE = \"PROJECT 5\"\\n')\n",
    "    f.write(' FILETYPE = FULL\\n')\n",
    "    f.write(' VARIABLES = %s\\n' % ' '.join(variables))\n",
    "    f.write(' ZONE\\n')\n",
    "    f.write(' I = %i, J = %i, F=POINT\\n' % (imax, jmax))\n",
    "    f.write(open('NACA0012_flowfieldv2.dat').read())"
   ]
  },
  {
   "cell_type": "code",
   "execution_count": 76,
   "metadata": {
    "collapsed": false
   },
   "outputs": [],
   "source": [
    "dat = np.genfromtxt('NACA0012_flowfieldv2.dat', unpack=True)"
   ]
  },
  {
   "cell_type": "code",
   "execution_count": 77,
   "metadata": {
    "collapsed": true
   },
   "outputs": [],
   "source": [
    "def unpack(cols):\n",
    "    r = []\n",
    "    for col in cols:\n",
    "        r.append(col.reshape((jmax, imax)).T)\n",
    "    return r"
   ]
  },
  {
   "cell_type": "code",
   "execution_count": 78,
   "metadata": {
    "collapsed": true
   },
   "outputs": [],
   "source": [
    "x, y = unpack(dat[0:2,:])\n",
    "w = np.empty((4, imax, jmax))\n",
    "w[:] = unpack(dat[2:6])\n",
    "rlv, rev, d2wall = unpack(dat[6:])\n",
    "dwall = np.sqrt(d2wall)\n",
    "u = w[1]/w[0]\n",
    "v = w[2]/w[0]\n",
    "UV = np.array([u, v])\n",
    "pressure = (gamma - 1)*( w[3] - 0.5*(w[1]**2 + w[2]**2)/w[0] )\n",
    "U = np.sqrt(u**2 + v**2)"
   ]
  },
  {
   "cell_type": "code",
   "execution_count": 79,
   "metadata": {
    "collapsed": false
   },
   "outputs": [],
   "source": [
    "wall = np.index_exp[TE_start:TE_end+1,0]\n",
    "lower = _w(np.s_[TE_start:LE+1])\n",
    "upper = _w(np.s_[LE:TE_end+1])"
   ]
  },
  {
   "cell_type": "markdown",
   "metadata": {},
   "source": [
    "## Compute surface values"
   ]
  },
  {
   "cell_type": "code",
   "execution_count": 95,
   "metadata": {
    "collapsed": false
   },
   "outputs": [],
   "source": [
    "num_airfoil_nodes = TE_end - TE_start + 1\n",
    "normals = np.empty((num_airfoil_nodes - 1, 2))\n",
    "tangents = np.empty_like(normals)\n",
    "areas = np.empty(num_airfoil_nodes - 1)\n",
    "thetas = np.empty_like(areas)\n",
    "xc = np.empty_like(areas)\n",
    "yc = np.empty_like(areas)\n",
    "cp = np.empty_like(areas)\n",
    "x_wall = x[wall]\n",
    "y_wall = y[wall]\n",
    "p_wall = pressure[wall]\n",
    "assert num_airfoil_nodes == len(x_wall)\n",
    "for i in range(num_airfoil_nodes - 1):\n",
    "    xc[i] = 0.5*(x_wall[i+1] + x_wall[i])\n",
    "    yc[i] = 0.5*(y_wall[i+1] + y_wall[i])\n",
    "    pc = 0.5*(p_wall[i+1] + p_wall[i])\n",
    "    cp[i] = (pc/p0 - 1)*SCF\n",
    "    dx = x_wall[i+1] - x_wall[i]\n",
    "    dy = y_wall[i+1] - y_wall[i]\n",
    "    l = np.sqrt(dy**2 + dx**2)\n",
    "    tangents[i] = np.array([dx, dy])/l\n",
    "    thetas[i] = np.arctan2(dy,dx)\n",
    "    normals[i] = np.array([-dy, dx])/l\n",
    "    areas[i] = l  # Assume span = 1"
   ]
  },
  {
   "cell_type": "code",
   "execution_count": 81,
   "metadata": {
    "collapsed": false
   },
   "outputs": [],
   "source": [
    "# Compute nodal stress tensor on wall\n",
    "# gradUV = np.empty((num_airfoil_nodes, 2, 2))\n",
    "wall2global = np.arange(airfoil.start, airfoil.stop + 1, 1)\n",
    "gradUV = np.empty((2, 2))\n",
    "tau_na = np.empty((num_airfoil_nodes, 2))  # tau_n and tau_a\n",
    "for n in range(1, num_airfoil_nodes - 1):\n",
    "    gn = wall2global[n]\n",
    "    dxdi = 0.5*(x[gn+1,0] - x[gn-1,0])\n",
    "    dxdj = x[gn,1] - x[gn,0]\n",
    "    dydi = 0.5*(y[gn+1,0] - y[gn-1,0])\n",
    "    dydj = y[gn,1] - y[gn,0]\n",
    "    J = 1/(dxdi*dydj - dxdj*dydi)\n",
    "    didx = J*dydj\n",
    "    djdx = -J*dydi\n",
    "    didy = -J*dxdj\n",
    "    djdy = J*dxdi\n",
    "    for k in range(2):\n",
    "        dUVdi = 0.5*(UV[k,gn+1,0] - UV[k,gn-1,0])\n",
    "        dUVdj = UV[k,gn,1] - UV[k,gn,0]\n",
    "        gradUV[k,0] = dUVdi*didx + dUVdj*djdx\n",
    "        gradUV[k,1] = dUVdi*didy + dUVdj*djdy\n",
    "    \n",
    "    \n",
    "    mu = rlv[gn,0]\n",
    "    term = (-2.0/3.0)*mu*(gradUV[0,0] + gradUV[1,1])\n",
    "    tauxx = 2*mu*gradUV[0,0] + term\n",
    "    tauyy = 2*mu*gradUV[1,1] + term\n",
    "    tauxy = mu*(gradUV[0,1] + gradUV[1,0])\n",
    "#     print gradUV, tauxx, tauyy, tauxy\n",
    "    nx, ny = 0.5*(normals[n-1] + normals[n])\n",
    "    \n",
    "    tau_na[n,0] = nx*tauxy + ny*tauyy\n",
    "    tau_na[n,1] = nx*tauxx + ny*tauxy\n",
    "    \n",
    "tau_nc = np.empty(num_airfoil_nodes - 1)  # Tau_n at cell center\n",
    "tau_ac = np.empty_like(tau_nc)            # Tau_a at cell center\n",
    "for n in range(1, num_airfoil_nodes - 1):\n",
    "    tau_nc[n], tau_ac[n] = 0.5*(tau_na[n+1,:] + tau_na[n,:])\n",
    "tau_nc[0], tau_ac[0] = tau_na[1]\n",
    "tau_nc[-1], tau_ac[-1] = tau_na[-2]"
   ]
  },
  {
   "cell_type": "code",
   "execution_count": 96,
   "metadata": {
    "collapsed": false
   },
   "outputs": [],
   "source": [
    "tau_wc = np.empty_like(tau_nc)\n",
    "cf = np.empty_like(tau_nc)\n",
    "for e in range(len(tau_nc)):\n",
    "#     tau_wc[e] = np.array([tau_ac[e], tau_nc[e]]).dot(tangents[e])\n",
    "    t = thetas[e]\n",
    "    tau_wc[e] = tau_ac[e]*np.cos(t) + tau_nc[e]*np.sin(t)\n",
    "    cf[e] = tau_wc[e]*SCF"
   ]
  },
  {
   "cell_type": "code",
   "execution_count": 97,
   "metadata": {
    "collapsed": true
   },
   "outputs": [],
   "source": [
    "upper = np.index_exp[LE - TE_start:]\n",
    "lower = np.index_exp[:LE - TE_start]"
   ]
  },
  {
   "cell_type": "code",
   "execution_count": 98,
   "metadata": {
    "collapsed": true
   },
   "outputs": [],
   "source": [
    "def savefig(fig, name):\n",
    "    filepath = os.path.join('tex', 'figs', name)\n",
    "    fig.savefig(filepath)"
   ]
  },
  {
   "cell_type": "markdown",
   "metadata": {},
   "source": [
    "# Question 1"
   ]
  },
  {
   "cell_type": "code",
   "execution_count": 99,
   "metadata": {
    "collapsed": false
   },
   "outputs": [
    {
     "data": {
      "image/png": "[encoded data removed]",
      "text/plain": [
       "<matplotlib.figure.Figure at 0x7ff0ff9a80d0>"
      ]
     },
     "metadata": {},
     "output_type": "display_data"
    }
   ],
   "source": [
    "fig, ax = plt.subplots(figsize=(12, 10))\n",
    "\n",
    "ax.plot(xc[upper], cp[upper], 'b', label='Upper')\n",
    "ax.plot(xc[lower], cp[lower], 'r', label='Lower')\n",
    "ax.invert_yaxis()\n",
    "ax.legend()\n",
    "ax.set_ylabel('Pressure coefficient')\n",
    "ax.set_xlabel('x')\n",
    "ax.set_xlim(-0.03, 1.03)\n",
    "ax.set_yticks([0.0], minor=True)\n",
    "ax.grid(True, which='minor', axis='y')\n",
    "savefig(fig, 'cp.pdf')\n",
    "plt.show()"
   ]
  },
  {
   "cell_type": "markdown",
   "metadata": {},
   "source": [
    "## Question 2"
   ]
  },
  {
   "cell_type": "code",
   "execution_count": 100,
   "metadata": {
    "collapsed": false
   },
   "outputs": [
    {
     "data": {
      "image/png": "[encoded data removed]",
      "text/plain": [
       "<matplotlib.figure.Figure at 0x7ff0ffc97410>"
      ]
     },
     "metadata": {},
     "output_type": "display_data"
    }
   ],
   "source": [
    "fig, ax = plt.subplots(figsize=(12, 10))\n",
    "\n",
    "ax.plot(xc[upper], cf[upper], 'b', label='Upper')\n",
    "ax.plot(xc[lower], cf[lower], 'r', label='Lower')\n",
    "ax.legend()\n",
    "ax.set_ylabel('Skin friction coefficient')\n",
    "ax.set_xlabel('x')\n",
    "ax.set_xlim(-0.03, 1.03)\n",
    "ax.set_yticks([0.0], minor=True)\n",
    "ax.grid(True, which='minor', axis='y')\n",
    "savefig(fig, 'cf.pdf')\n",
    "plt.show()"
   ]
  },
  {
   "cell_type": "markdown",
   "metadata": {},
   "source": [
    "## Question 3"
   ]
  },
  {
   "cell_type": "code",
   "execution_count": 102,
   "metadata": {
    "collapsed": false
   },
   "outputs": [],
   "source": [
    "cnp = np.sum(-cp*normals[:,1]*areas)\n",
    "cap = np.sum(-cp*normals[:,0]*areas)\n",
    "cdp = cn*sin(alpha) + ca*cos(alpha)\n",
    "clp = cn*cos(alpha) - ca*sin(alpha)\n",
    "\n",
    "cnv = np.sum(tau_nc*areas)*SCF\n",
    "cav = np.sum(tau_ac*areas)*SCF\n",
    "cdv = cnv*sin(alpha) + cav*cos(alpha)\n",
    "clv = cnv*cos(alpha) - cav*sin(alpha)\n",
    "\n",
    "cd = cdp + cdv\n",
    "cl = clp + clv"
   ]
  },
  {
   "cell_type": "code",
   "execution_count": 125,
   "metadata": {
    "collapsed": false
   },
   "outputs": [
    {
     "name": "stdout",
     "output_type": "stream",
     "text": [
      "\n",
      "\\begin{tabular}{@{} l ccc c ccc}\n",
      "\\toprule\n",
      " & \\multicolumn{3}{c}{Lift} & \\phantom{a} & \\multicolumn{3}{c}{Drag}\\\\\n",
      "\\cmidrule{2-4}\\cmidrule{6-8}\n",
      "Source & Pressure & Viscous & Total && Pressure & Viscous & Total\\\\\n",
      "\\midrule\n",
      "MECH 539 & 0.8091 & -0.0001 & 0.8089 && 0.0048 & 0.0049 & 0.0098\\\\\n",
      "Ladson & - & - & 0.8386 && - & - & 0.0079\\\\\n",
      "\\bottomrule\n",
      "\\end{tabular}\n",
      "\n"
     ]
    }
   ],
   "source": [
    "table_fmt = r'''\n",
    "\\begin{tabular}{@{} l ccc c ccc}\n",
    "\\toprule\n",
    " & \\multicolumn{3}{c}{Lift} & \\phantom{a} & \\multicolumn{3}{c}{Drag}\\\\\n",
    "\\cmidrule{2-4}\\cmidrule{6-8}\n",
    "Source & Pressure & Viscous & Total && Pressure & Viscous & Total\\\\\n",
    "\\midrule\n",
    "MECH 539 & %(lift)s && %(drag)s\\\\\n",
    "Ladson & - & - & 0.8386 && - & - & 0.0079\\\\\n",
    "\\bottomrule\n",
    "\\end{tabular}\n",
    "'''\n",
    "fmt = '%.4f'\n",
    "lift = ' & '.join([fmt % v for v in [clp, clv, cl]])\n",
    "drag = ' & '.join([fmt % v for v in [cdp, cdv, cd]])\n",
    "table = table_fmt % dict(lift=lift, drag=drag)\n",
    "print(table)\n",
    "open('tex/tableq3.tex', 'w').write(table)"
   ]
  },
  {
   "cell_type": "code",
   "execution_count": 121,
   "metadata": {
    "collapsed": false
   },
   "outputs": [
    {
     "data": {
      "text/plain": [
       "0.007928571428571429"
      ]
     },
     "execution_count": 121,
     "metadata": {},
     "output_type": "execute_result"
    }
   ],
   "source": [
    "q = (8 - 6.05)/(8.15 - 6.05)\n",
    "0.0070 + q*(0.0080 - 0.0070)"
   ]
  },
  {
   "cell_type": "code",
   "execution_count": null,
   "metadata": {
    "collapsed": true
   },
   "outputs": [],
   "source": []
  }
 ],
 "metadata": {
  "kernelspec": {
   "display_name": "Python 2",
   "language": "python",
   "name": "python2"
  },
  "language_info": {
   "codemirror_mode": {
    "name": "ipython",
    "version": 2
   },
   "file_extension": ".py",
   "mimetype": "text/x-python",
   "name": "python",
   "nbconvert_exporter": "python",
   "pygments_lexer": "ipython2",
   "version": "2.7.11"
  }
 },
 "nbformat": 4,
 "nbformat_minor": 0
}
