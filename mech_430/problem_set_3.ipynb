{
 "metadata": {
  "name": "",
  "signature": "sha256:c7b95a8879669ca52a404e446df969830dd8b4ff13fdca2826dbffb744c886ae"
 },
 "nbformat": 3,
 "nbformat_minor": 0,
 "worksheets": [
  {
   "cells": [
    {
     "cell_type": "markdown",
     "metadata": {},
     "source": [
      "IPython Notebook\n",
      "================\n",
      "\n",
      "If you're viewing this document as PDF, the input code will be hidden. If you desire to view it, you can do so at :bit.ly/selimb_PS3_MECH430\n",
      "\n",
      "Question 1\n",
      "=========="
     ]
    },
    {
     "cell_type": "code",
     "collapsed": false,
     "input": [
      "import sympy as sp\n",
      "sp.init_printing()\n",
      "from IPython.display import Math\n",
      "import matplotlib"
     ],
     "language": "python",
     "metadata": {},
     "outputs": [],
     "prompt_number": 2
    },
    {
     "cell_type": "code",
     "collapsed": false,
     "input": [
      "A,P0,T0,gamma,R,M = sp.symbols('A P_0 T_0 gamma R M',real=True,positive=True)"
     ],
     "language": "python",
     "metadata": {},
     "outputs": [],
     "prompt_number": 3
    },
    {
     "cell_type": "code",
     "collapsed": false,
     "input": [
      "mdot = A*P0/sp.sqrt(T0)*sp.sqrt(gamma/R)*M/(1+(gamma-1)/2*M**2)**((gamma + 1)/(2*(gamma-1)))\n",
      "Math(\"\\dot{m}(M) = \" + sp.latex(mdot))"
     ],
     "language": "python",
     "metadata": {},
     "outputs": [
      {
       "latex": [
        "$$\\dot{m}(M) = \\frac{A M P_{0} \\sqrt{\\gamma}}{\\sqrt{R} \\sqrt{T_{0}}} \\left(M^{2} \\left(\\frac{\\gamma}{2} - \\frac{1}{2}\\right) + 1\\right)^{- \\frac{\\gamma + 1}{2 \\gamma - 2}}$$"
       ],
       "metadata": {},
       "output_type": "pyout",
       "prompt_number": 4,
       "text": [
        "<IPython.core.display.Math at 0x7bc78b0>"
       ]
      }
     ],
     "prompt_number": 4
    },
    {
     "cell_type": "markdown",
     "metadata": {},
     "source": [
      "-----------\n",
      "\n",
      "To obtain the mach number corresponding to the *maximum* flow rate, we must solve the following equation for M :\n",
      "\\begin{equation}\n",
      "\\frac{\\text{d}\\left(\\dot{m}(M)\\right)}{\\text{d}M} = 0\n",
      "\\end{equation}\n"
     ]
    },
    {
     "cell_type": "code",
     "collapsed": false,
     "input": [
      "dmdot_dm = sp.diff(mdot,M)\n",
      "Math(\"\\\\frac{\\\\text{d}\\\\left(\\\\dot{m}(M)\\\\right)}{\\\\text{d}M} = \"+ sp.latex(dmdot_dm))"
     ],
     "language": "python",
     "metadata": {},
     "outputs": [
      {
       "latex": [
        "$$\\frac{\\text{d}\\left(\\dot{m}(M)\\right)}{\\text{d}M} = - \\frac{2 A M^{2} P_{0} \\sqrt{\\gamma} \\left(\\frac{\\gamma}{2} - \\frac{1}{2}\\right) \\left(\\gamma + 1\\right) \\left(M^{2} \\left(\\frac{\\gamma}{2} - \\frac{1}{2}\\right) + 1\\right)^{- \\frac{\\gamma + 1}{2 \\gamma - 2}}}{\\sqrt{R} \\sqrt{T_{0}} \\left(2 \\gamma - 2\\right) \\left(M^{2} \\left(\\frac{\\gamma}{2} - \\frac{1}{2}\\right) + 1\\right)} + \\frac{A P_{0} \\sqrt{\\gamma}}{\\sqrt{R} \\sqrt{T_{0}}} \\left(M^{2} \\left(\\frac{\\gamma}{2} - \\frac{1}{2}\\right) + 1\\right)^{- \\frac{\\gamma + 1}{2 \\gamma - 2}}$$"
       ],
       "metadata": {},
       "output_type": "pyout",
       "prompt_number": 5,
       "text": [
        "<IPython.core.display.Math at 0x6016bf0>"
       ]
      }
     ],
     "prompt_number": 5
    },
    {
     "cell_type": "markdown",
     "metadata": {},
     "source": [
      "----------------\n",
      "\n",
      "Solving for $M$:"
     ]
    },
    {
     "cell_type": "code",
     "collapsed": false,
     "input": [
      "Mmax = sp.solve(dmdot_dm,M)[0]\n",
      "print \"a)\"\n",
      "Math(\"M = \" + sp.latex(Mmax))"
     ],
     "language": "python",
     "metadata": {},
     "outputs": [
      {
       "output_type": "stream",
       "stream": "stdout",
       "text": [
        "a)\n"
       ]
      },
      {
       "latex": [
        "$$M = 1$$"
       ],
       "metadata": {},
       "output_type": "pyout",
       "prompt_number": 6,
       "text": [
        "<IPython.core.display.Math at 0x7cfad10>"
       ]
      }
     ],
     "prompt_number": 6
    },
    {
     "cell_type": "markdown",
     "metadata": {},
     "source": [
      "------------"
     ]
    },
    {
     "cell_type": "code",
     "collapsed": false,
     "input": [
      "print \"b)\"\n",
      "Math(\"\\dot{m}(1) = \" + sp.latex(sp.simplify(mdot.subs(M,1))))"
     ],
     "language": "python",
     "metadata": {},
     "outputs": [
      {
       "output_type": "stream",
       "stream": "stdout",
       "text": [
        "b)\n"
       ]
      },
      {
       "latex": [
        "$$\\dot{m}(1) = \\frac{A P_{0} \\sqrt{\\gamma}}{\\sqrt{R} \\sqrt{T_{0}}} \\left(\\frac{\\gamma}{2} + \\frac{1}{2}\\right)^{- \\frac{\\gamma + 1}{2 \\gamma - 2}}$$"
       ],
       "metadata": {},
       "output_type": "pyout",
       "prompt_number": 7,
       "text": [
        "<IPython.core.display.Math at 0x7c858d0>"
       ]
      }
     ],
     "prompt_number": 7
    },
    {
     "cell_type": "markdown",
     "metadata": {},
     "source": [
      "-----\n",
      "\n",
      "Question 2\n",
      "=========="
     ]
    },
    {
     "cell_type": "code",
     "collapsed": false,
     "input": [
      "import sys\n",
      "sys.path.append('tools')\n",
      "import difftotal"
     ],
     "language": "python",
     "metadata": {},
     "outputs": [],
     "prompt_number": 8
    },
    {
     "cell_type": "markdown",
     "metadata": {},
     "source": [
      "Assuming a *calorically perfect gas*, we derived:"
     ]
    },
    {
     "cell_type": "code",
     "collapsed": false,
     "input": [
      "T, t, dT, dM, P, dP = sp.symbols('T t dT dM P dP')\n",
      "T0_eq = T*(1 + (gamma-1)/2*M**2)\n",
      "Math(\"T_0 = \" + sp.latex(T0_eq))"
     ],
     "language": "python",
     "metadata": {},
     "outputs": [
      {
       "latex": [
        "$$T_0 = T \\left(M^{2} \\left(\\frac{\\gamma}{2} - \\frac{1}{2}\\right) + 1\\right)$$"
       ],
       "metadata": {},
       "output_type": "pyout",
       "prompt_number": 9,
       "text": [
        "<IPython.core.display.Math at 0x7c77b30>"
       ]
      }
     ],
     "prompt_number": 9
    },
    {
     "cell_type": "markdown",
     "metadata": {},
     "source": [
      "If the process is assumed to be adiabatic, $\\text{d}T_0 = 0$. Taking the total derivative of the above equation yields:"
     ]
    },
    {
     "cell_type": "code",
     "collapsed": false,
     "input": [
      "diffT0 = difftotal.difftotal(T0_eq, t,\n",
      "                       {T:dT, M:dM})\n",
      "Math(\"\\\\text{d}T_0 = 0 = \" + sp.latex(sp.simplify(diffT0)))"
     ],
     "language": "python",
     "metadata": {},
     "outputs": [
      {
       "latex": [
        "$$\\text{d}T_0 = 0 = M T dM \\left(\\gamma - 1\\right) + \\frac{dT}{2} \\left(M^{2} \\left(\\gamma - 1\\right) + 2\\right)$$"
       ],
       "metadata": {},
       "output_type": "pyout",
       "prompt_number": 10,
       "text": [
        "<IPython.core.display.Math at 0x205f330>"
       ]
      }
     ],
     "prompt_number": 10
    },
    {
     "cell_type": "markdown",
     "metadata": {},
     "source": [
      "Simplify and solve for $\\frac{\\text{d}T}{T}$:"
     ]
    },
    {
     "cell_type": "code",
     "collapsed": false,
     "input": [
      "dt_tM = sp.solve(diffT0,dT)[0]/T\n",
      "\n",
      "Math(r\"\\frac{\\text{d}T}{T} = \" + sp.latex(sp.simplify(dt_tM)) + \"~~~~(1)\")"
     ],
     "language": "python",
     "metadata": {},
     "outputs": [
      {
       "latex": [
        "$$\\frac{\\text{d}T}{T} = - \\frac{2 M dM \\left(\\gamma - 1\\right)}{M^{2} \\gamma - M^{2} + 2}~~~~(1)$$"
       ],
       "metadata": {},
       "output_type": "pyout",
       "prompt_number": 11,
       "text": [
        "<IPython.core.display.Math at 0x7c6f4f0>"
       ]
      }
     ],
     "prompt_number": 11
    },
    {
     "cell_type": "markdown",
     "metadata": {},
     "source": [
      "We also derived in class the relationship between pressure change and temperature change for an isentropic process."
     ]
    },
    {
     "cell_type": "code",
     "collapsed": false,
     "input": [
      "Math(r\"\\frac{\\text{d}T}{T} = \\frac{\\gamma - 1}{\\gamma}\\frac{\\text{d}P}{P} ~~~~(2)\")"
     ],
     "language": "python",
     "metadata": {},
     "outputs": [
      {
       "latex": [
        "$$\\frac{\\text{d}T}{T} = \\frac{\\gamma - 1}{\\gamma}\\frac{\\text{d}P}{P} ~~~~(2)$$"
       ],
       "metadata": {},
       "output_type": "pyout",
       "prompt_number": 12,
       "text": [
        "<IPython.core.display.Math at 0x7c920f0>"
       ]
      }
     ],
     "prompt_number": 12
    },
    {
     "cell_type": "markdown",
     "metadata": {},
     "source": [
      "Equate $(1)$ and $(2)$ and obtain the following relationship between mach number change and pressure change:"
     ]
    },
    {
     "cell_type": "code",
     "collapsed": false,
     "input": [
      "dt_tP = (gamma-1)/(gamma)*(dP/P)\n",
      "M_P_eq = sp.Eq(dt_tM,dt_tP)\n",
      "Math(sp.latex(M_P_eq)+\"~~~~~~(*)\")"
     ],
     "language": "python",
     "metadata": {},
     "outputs": [
      {
       "latex": [
        "$$\\frac{2 M dM \\left(- \\gamma + 1\\right)}{M^{2} \\gamma - M^{2} + 2} = \\frac{dP \\left(\\gamma - 1\\right)}{P \\gamma}~~~~~~(*)$$"
       ],
       "metadata": {},
       "output_type": "pyout",
       "prompt_number": 13,
       "text": [
        "<IPython.core.display.Math at 0x5b95910>"
       ]
      }
     ],
     "prompt_number": 13
    },
    {
     "cell_type": "markdown",
     "metadata": {},
     "source": [
      "From Eq. (4.34) in [1], we can write a differential equation for the pressure as a function of the area.\n",
      "\n",
      "We can then substitute $dP$ in $(*)$."
     ]
    },
    {
     "cell_type": "code",
     "collapsed": false,
     "input": [
      "rho, V, dA = sp.symbols('rho V dA')\n",
      "dP_eq = (rho*V**2*dA)/(A*(1-M**2))\n",
      "M_A_eq = M_P_eq.subs(dP,dP_eq)\n",
      "Math(\"\\\\text{d}P = \" + sp.latex(dP_eq) + \"~~\\\\Rightarrow ~~\" + sp.latex(M_A_eq))"
     ],
     "language": "python",
     "metadata": {},
     "outputs": [
      {
       "latex": [
        "$$\\text{d}P = \\frac{V^{2} dA \\rho}{A \\left(- M^{2} + 1\\right)}~~\\Rightarrow ~~\\frac{2 M dM \\left(- \\gamma + 1\\right)}{M^{2} \\gamma - M^{2} + 2} = \\frac{V^{2} dA \\rho \\left(\\gamma - 1\\right)}{A P \\gamma \\left(- M^{2} + 1\\right)}$$"
       ],
       "metadata": {},
       "output_type": "pyout",
       "prompt_number": 14,
       "text": [
        "<IPython.core.display.Math at 0x6016ef0>"
       ]
      }
     ],
     "prompt_number": 14
    },
    {
     "cell_type": "code",
     "collapsed": false,
     "input": [
      "dA_A_temp = sp.solve(M_A_eq,dA)[0]/A\n",
      "Math(\"\\\\Rightarrow ~ \\\\frac{\\\\text{d}A}{A} = \" + sp.latex(sp.simplify(dA_A_temp)))"
     ],
     "language": "python",
     "metadata": {},
     "outputs": [
      {
       "latex": [
        "$$\\Rightarrow ~ \\frac{\\text{d}A}{A} = \\frac{2 M P dM \\gamma \\left(M^{2} - 1\\right)}{V^{2} \\rho \\left(M^{2} \\gamma - M^{2} + 2\\right)}$$"
       ],
       "metadata": {},
       "output_type": "pyout",
       "prompt_number": 15,
       "text": [
        "<IPython.core.display.Math at 0x7ce8170>"
       ]
      }
     ],
     "prompt_number": 15
    },
    {
     "cell_type": "markdown",
     "metadata": {},
     "source": [
      "Finally, from ideal gas law we can easily prove that $\\rho V^2 = \\gamma \\cdot M^2 \\cdot P$. \n",
      "\n",
      "This allows us to simplify further and obtain a differential equation relating change in area to change in mach number."
     ]
    },
    {
     "cell_type": "code",
     "collapsed": false,
     "input": [
      "dA_A = dA_A_temp.subs(rho*V**2,gamma*M**2*P);\n",
      "# dA_A\n",
      "#We don't print dA_A because sympy doesn't format the equation in a \n",
      "#nice and concise way. They are equivalent, however.\n",
      "Math(r\"\\frac{\\text{d}A}{A} = f(M)\\frac{\\text{d}M}{M}\")"
     ],
     "language": "python",
     "metadata": {},
     "outputs": [
      {
       "latex": [
        "$$\\frac{\\text{d}A}{A} = f(M)\\frac{\\text{d}M}{M}$$"
       ],
       "metadata": {},
       "output_type": "pyout",
       "prompt_number": 16,
       "text": [
        "<IPython.core.display.Math at 0x7cfa750>"
       ]
      }
     ],
     "prompt_number": 16
    },
    {
     "cell_type": "code",
     "collapsed": false,
     "input": [
      "Math(r\"~~~\\text{where},~~ f(M) = \\dfrac{M^2 - 1}{(1+\\frac{\\gamma-1}{2}M^2)}\")"
     ],
     "language": "python",
     "metadata": {},
     "outputs": [
      {
       "latex": [
        "$$~~~\\text{where},~~ f(M) = \\dfrac{M^2 - 1}{(1+\\frac{\\gamma-1}{2}M^2)}$$"
       ],
       "metadata": {},
       "output_type": "pyout",
       "prompt_number": 17,
       "text": [
        "<IPython.core.display.Math at 0x6010a30>"
       ]
      }
     ],
     "prompt_number": 17
    },
    {
     "cell_type": "code",
     "collapsed": false,
     "input": [
      "# sp.simplify(sp.integrate(dA_A/dM,M))\n",
      "Astar = sp.symbols('Astar')\n",
      "LHS = sp.exp(sp.integrate(1/A,(A,Astar,A)))\n",
      "RHS = sp.exp(sp.integrate(dA_A/dM,(M,1,M)))\n",
      "Math(r\"\\frac{A}{A_{star}} = \" + sp.latex(sp.simplify(sp.expand(RHS))) + \" = X(M)\")"
     ],
     "language": "python",
     "metadata": {},
     "outputs": [
      {
       "latex": [
        "$$\\frac{A}{A_{star}} = \\frac{1}{M} e^{\\frac{1}{2 \\gamma - 2} \\left(- \\gamma \\log{\\left (\\frac{\\gamma + 1}{\\gamma - 1} \\right )} + \\gamma \\log{\\left (\\frac{M^{2} \\left(\\gamma - 1\\right) + 2}{\\gamma - 1} \\right )} - \\log{\\left (\\frac{\\gamma + 1}{\\gamma - 1} \\right )} + \\log{\\left (\\frac{M^{2} \\left(\\gamma - 1\\right) + 2}{\\gamma - 1} \\right )}\\right)} = X(M)$$"
       ],
       "metadata": {},
       "output_type": "pyout",
       "prompt_number": 18,
       "text": [
        "<IPython.core.display.Math at 0x7c8f0b0>"
       ]
      }
     ],
     "prompt_number": 18
    },
    {
     "cell_type": "markdown",
     "metadata": {},
     "source": [
      "While this does not look like the required equation, we will prove that they are equal by checking values for two particular $M$ and $\\gamma = 1.4$. We will also plot both functions. \n",
      "\n",
      "The relation given in the question was:"
     ]
    },
    {
     "cell_type": "code",
     "collapsed": false,
     "input": [
      "a = 2/(gamma+1); b = 1 + (gamma-1)/2*M**2; powr = (gamma+1)/(2*(gamma-1));\n",
      "RHS_desired = 1/M*(a*b)**powr\n",
      "Math(r\"\\frac{A}{A_{star}} = \" + sp.latex(RHS_desired) + \" = Y(M)\")"
     ],
     "language": "python",
     "metadata": {},
     "outputs": [
      {
       "latex": [
        "$$\\frac{A}{A_{star}} = \\frac{1}{M} \\left(\\frac{1}{\\gamma + 1} \\left(2 M^{2} \\left(\\frac{\\gamma}{2} - \\frac{1}{2}\\right) + 2\\right)\\right)^{\\frac{\\gamma + 1}{2 \\gamma - 2}} = Y(M)$$"
       ],
       "metadata": {},
       "output_type": "pyout",
       "prompt_number": 19,
       "text": [
        "<IPython.core.display.Math at 0x7cfadf0>"
       ]
      }
     ],
     "prompt_number": 19
    },
    {
     "cell_type": "code",
     "collapsed": false,
     "input": [
      "Math(r\"X(2) = \" + sp.latex(RHS.subs({gamma:1.4,M:2}).evalf()) +  \",~ X(1) = \" + sp.latex(RHS.subs({gamma:1.4,M:1}).evalf()))"
     ],
     "language": "python",
     "metadata": {},
     "outputs": [
      {
       "latex": [
        "$$X(2) = 1.6875,~ X(1) = 1.0$$"
       ],
       "metadata": {},
       "output_type": "pyout",
       "prompt_number": 20,
       "text": [
        "<IPython.core.display.Math at 0x7e88ab0>"
       ]
      }
     ],
     "prompt_number": 20
    },
    {
     "cell_type": "code",
     "collapsed": false,
     "input": [
      "%matplotlib inline"
     ],
     "language": "python",
     "metadata": {},
     "outputs": [],
     "prompt_number": 21
    },
    {
     "cell_type": "code",
     "collapsed": false,
     "input": [
      "Math(r\"Y(2) = \" + sp.latex(RHS_desired.subs({gamma:1.4,M:2}))  +  \",~ Y(1) = \" + sp.latex(RHS_desired.subs({gamma:1.4,M:1}).evalf()))"
     ],
     "language": "python",
     "metadata": {},
     "outputs": [
      {
       "latex": [
        "$$Y(2) = 1.6875,~ Y(1) = 1.0$$"
       ],
       "metadata": {},
       "output_type": "pyout",
       "prompt_number": 22,
       "text": [
        "<IPython.core.display.Math at 0x853fd90>"
       ]
      }
     ],
     "prompt_number": 22
    },
    {
     "cell_type": "code",
     "collapsed": false,
     "input": [
      "rhs_desired_plot = sp.plotting.plot(RHS_desired.subs(gamma,1.4),\n",
      "                                    (M,0.5,2),\n",
      "                                    axis_center = (0.5,1),\n",
      "                                    title='Y(m)',\n",
      "                                    ylabel='A/A_star',\n",
      "                                    line_color = 1000)"
     ],
     "language": "python",
     "metadata": {},
     "outputs": [
      {
       "metadata": {},
       "output_type": "display_data",
       "png": "[encoded data removed]",
       "text": [
        "<matplotlib.figure.Figure at 0x8543650>"
       ]
      }
     ],
     "prompt_number": 23
    },
    {
     "cell_type": "code",
     "collapsed": false,
     "input": [
      "rhs_plot = sp.plotting.plot(RHS.subs(gamma,1.4),(M,0.5,2),\n",
      "                            axis_center = (0.5,1),\n",
      "                            title='X(m)',\n",
      "                            ylabel='A/A_star')"
     ],
     "language": "python",
     "metadata": {},
     "outputs": [
      {
       "metadata": {},
       "output_type": "display_data",
       "png": "[encoded data removed]",
       "text": [
        "<matplotlib.figure.Figure at 0x86a5db0>"
       ]
      }
     ],
     "prompt_number": 24
    },
    {
     "cell_type": "markdown",
     "metadata": {},
     "source": [
      "Safe to say they are they same!\n",
      "\n",
      "-------------"
     ]
    },
    {
     "cell_type": "markdown",
     "metadata": {},
     "source": [
      "References\n",
      "----------\n",
      "\n",
      "[1] : http://www.potto.org/gasDynamics/node80.php"
     ]
    },
    {
     "cell_type": "markdown",
     "metadata": {},
     "source": [
      "Question 3\n",
      "=========="
     ]
    },
    {
     "cell_type": "code",
     "collapsed": false,
     "input": [
      "T0,P0,P,A,Pamb,gamma,M,V = sp.symbols('T_0 P_0 P A P_amb gamma M V',real = True,positive = True)\n",
      "P0_eq_temp = sp.Eq(P0/P,(1+(gamma-1)/2*M**2)**(gamma/(gamma-1)))\n",
      "Math(sp.latex(P0_eq_temp) + r\"~~~~~\\text{where}~~ \\gamma = 1.667\")"
     ],
     "language": "python",
     "metadata": {},
     "outputs": [
      {
       "latex": [
        "$$\\frac{P_{0}}{P} = \\left(M^{2} \\left(\\frac{\\gamma}{2} - \\frac{1}{2}\\right) + 1\\right)^{\\frac{\\gamma}{\\gamma - 1}}~~~~~\\text{where}~~ \\gamma = 1.667$$"
       ],
       "metadata": {},
       "output_type": "pyout",
       "prompt_number": 60,
       "text": [
        "<IPython.core.display.Math at 0x86b6670>"
       ]
      }
     ],
     "prompt_number": 60
    },
    {
     "cell_type": "markdown",
     "metadata": {},
     "source": [
      "The only unknown is $M$."
     ]
    },
    {
     "cell_type": "code",
     "collapsed": false,
     "input": [
      "Pamb = 1*1013*1000\n",
      "vals = {T0 : 500, P0 : 2*1013*1000, A : 25.0/100/100, P : Pamb, gamma : 1.667}\n",
      "P0_eq = P0_eq_temp.args[0]-P0_eq_temp.args[1]\n",
      "P0_eq.subs(vals)"
     ],
     "language": "python",
     "metadata": {},
     "outputs": [
      {
       "latex": [
        "$$- \\left(0.3335 M^{2} + 1\\right)^{2.49925037481259} + 2$$"
       ],
       "metadata": {},
       "output_type": "pyout",
       "png": "[encoded data removed]",
       "prompt_number": 52,
       "text": [
        "                 2.49925037481259    \n",
        "  \u239b        2    \u239e                    \n",
        "- \u239d0.3335\u22c5M  + 1\u23a0                 + 2"
       ]
      }
     ],
     "prompt_number": 52
    },
    {
     "cell_type": "code",
     "collapsed": false,
     "input": [
      "M_a = float(sp.nsolve(P0_eq.subs(vals),2))"
     ],
     "language": "python",
     "metadata": {},
     "outputs": [],
     "prompt_number": 27
    },
    {
     "cell_type": "code",
     "collapsed": false,
     "input": [
      "Math(\"M = \" + sp.latex(M_a))"
     ],
     "language": "python",
     "metadata": {},
     "outputs": [
      {
       "latex": [
        "$$M = 0.978965655189$$"
       ],
       "metadata": {},
       "output_type": "pyout",
       "prompt_number": 28,
       "text": [
        "<IPython.core.display.Math at 0x8624130>"
       ]
      }
     ],
     "prompt_number": 28
    },
    {
     "cell_type": "code",
     "collapsed": false,
     "input": [
      "T0_eq_temp = sp.Eq(T0/T,(1+(gamma-1)/2*M**2))\n",
      "Math(sp.latex(T0_eq_temp) + \"~~~~~\")"
     ],
     "language": "python",
     "metadata": {},
     "outputs": [
      {
       "latex": [
        "$$\\frac{T_{0}}{T} = M^{2} \\left(\\frac{\\gamma}{2} - \\frac{1}{2}\\right) + 1~~~~~$$"
       ],
       "metadata": {},
       "output_type": "pyout",
       "prompt_number": 77,
       "text": [
        "<IPython.core.display.Math at 0x3832b50>"
       ]
      }
     ],
     "prompt_number": 77
    },
    {
     "cell_type": "markdown",
     "metadata": {},
     "source": [
      "Solve for T"
     ]
    },
    {
     "cell_type": "code",
     "collapsed": false,
     "input": [
      "T0_eq = T0/T - (1+(gamma-1)/2*M**2)\n",
      "T0_eq = T0_eq.subs(vals).subs(M,M_a)"
     ],
     "language": "python",
     "metadata": {},
     "outputs": [],
     "prompt_number": 30
    },
    {
     "cell_type": "code",
     "collapsed": false,
     "input": [
      "T_a = sp.solve(T0_eq,T)[0]\n",
      "Math(\"T = \" + sp.latex(T_a) + '[K]')"
     ],
     "language": "python",
     "metadata": {},
     "outputs": [
      {
       "latex": [
        "$$T = 378.897630800344[K]$$"
       ],
       "metadata": {},
       "output_type": "pyout",
       "prompt_number": 74,
       "text": [
        "<IPython.core.display.Math at 0x86dc4d0>"
       ]
      }
     ],
     "prompt_number": 74
    },
    {
     "cell_type": "code",
     "collapsed": false,
     "input": [
      "Rhe = 2.08*1000; R = sp.symbols('R') \n",
      "V_eq = M*sp.sqrt(gamma*R*T)\n",
      "V_a = V_eq.subs({M:M_a, gamma:1.667,R:Rhe, T:T_a})\n",
      "print 'a)'\n",
      "Math(\"V = M\\cdot c = M\\cdot \\sqrt{\\gamma R T} = \" + sp.latex(V_a)+'[m/s]')"
     ],
     "language": "python",
     "metadata": {},
     "outputs": [
      {
       "output_type": "stream",
       "stream": "stdout",
       "text": [
        "a)\n"
       ]
      },
      {
       "latex": [
        "$$V = M\\cdot c = M\\cdot \\sqrt{\\gamma R T} = 1122.09045495887[m/s]$$"
       ],
       "metadata": {},
       "output_type": "pyout",
       "prompt_number": 75,
       "text": [
        "<IPython.core.display.Math at 0x7d09650>"
       ]
      }
     ],
     "prompt_number": 75
    },
    {
     "cell_type": "code",
     "collapsed": false,
     "input": [
      "m_dot_a = V_a*0.0025*1013000/(378.9*2080)\n",
      "# m_dot\n",
      "print 'b)'\n",
      "Math(r\"\\dot{m} = \\rho\\cdot V\\cdot A = V\\cdot A \\cdot \\frac{P}{R\\cdot T} = \" + sp.latex(m_dot_a) + '[kg/s]')"
     ],
     "language": "python",
     "metadata": {},
     "outputs": [
      {
       "output_type": "stream",
       "stream": "stdout",
       "text": [
        "b)\n"
       ]
      },
      {
       "latex": [
        "$$\\dot{m} = \\rho\\cdot V\\cdot A = V\\cdot A \\cdot \\frac{P}{R\\cdot T} = 3.60569827281319[kg/s]$$"
       ],
       "metadata": {},
       "output_type": "pyout",
       "prompt_number": 76,
       "text": [
        "<IPython.core.display.Math at 0x8614150>"
       ]
      }
     ],
     "prompt_number": 76
    },
    {
     "cell_type": "markdown",
     "metadata": {},
     "source": [
      "-----------------\n",
      "\n",
      "Maximum mass flow rate is achieved at $M = 1$. The area is fixed. \n",
      "\n",
      "Thus, we must find the ambient pressure which would allow sonic flow at the nozzle outlet. "
     ]
    },
    {
     "cell_type": "code",
     "collapsed": false,
     "input": [
      "P0_eq_temp\n",
      "P_c = sp.solve(P0_eq.subs({M:1,P0:2*1013*1000,gamma:1.667}),P)[0]\n",
      "Math(sp.latex(P0_eq_temp)+'~~\\\\Rightarrow~~P = '+ str(P_c/(1013*1000))+'[atm]')"
     ],
     "language": "python",
     "metadata": {},
     "outputs": [
      {
       "latex": [
        "$$\\frac{P_{0}}{P} = \\left(M^{2} \\left(\\frac{\\gamma}{2} - \\frac{1}{2}\\right) + 1\\right)^{\\frac{\\gamma}{\\gamma - 1}}~~\\Rightarrow~~P = 0.974184338881403[atm]$$"
       ],
       "metadata": {},
       "output_type": "pyout",
       "prompt_number": 91,
       "text": [
        "<IPython.core.display.Math at 0x86cbe10>"
       ]
      }
     ],
     "prompt_number": 91
    },
    {
     "cell_type": "code",
     "collapsed": false,
     "input": [
      "T_P_rel = sp.Eq(T0/T, (P0/P)**((gamma-1)/gamma))\n",
      "# T_P_expr = T_P_rel.args[0]-T_P_rel.args[1]\n",
      "# sp.nsolve(T_P_expr.subs({T0:500,P0:2,P:P_c,gamma:1.667}),1)\n",
      "# sp.solve(T_P_expr,T)[0].subs({T0:500,P0:2,P:P_c,gamma:1.667}).evalf()\n",
      "Math(sp.latex(T_P_rel)+'~~\\\\Rightarrow~~T = '+ str(374.9247407)+'[K]')"
     ],
     "language": "python",
     "metadata": {},
     "outputs": [
      {
       "latex": [
        "$$\\frac{T_{0}}{T} = \\left(\\frac{P_{0}}{P}\\right)^{\\frac{1}{\\gamma} \\left(\\gamma - 1\\right)}~~\\Rightarrow~~T = 374.9247407[K]$$"
       ],
       "metadata": {},
       "output_type": "pyout",
       "prompt_number": 105,
       "text": [
        "<IPython.core.display.Math at 0x7d09230>"
       ]
      }
     ],
     "prompt_number": 105
    },
    {
     "cell_type": "code",
     "collapsed": false,
     "input": [
      "V_c = V_eq.subs({M:1, gamma:1.667,R:Rhe, T:374.9247407})\n",
      "print 'c)'\n",
      "Math(\"V = M\\cdot \\sqrt{\\gamma R T} = \" + sp.latex(V_c)+'[m/s]')"
     ],
     "language": "python",
     "metadata": {},
     "outputs": [
      {
       "output_type": "stream",
       "stream": "stdout",
       "text": [
        "c)\n"
       ]
      },
      {
       "latex": [
        "$$V = M\\cdot \\sqrt{\\gamma R T} = 1140.17500802006[m/s]$$"
       ],
       "metadata": {},
       "output_type": "pyout",
       "prompt_number": 109,
       "text": [
        "<IPython.core.display.Math at 0x86c2cb0>"
       ]
      }
     ],
     "prompt_number": 109
    },
    {
     "cell_type": "code",
     "collapsed": false,
     "input": [
      "m_dot_c = V_c*0.0025*P_c/(374.9247*2080)\n",
      "# m_dot\n",
      "print 'c)'\n",
      "Math(r\"\\dot{m} = V\\cdot A \\cdot \\frac{P}{R\\cdot T} = \" + sp.latex(m_dot_c) + '[kg/s]')"
     ],
     "language": "python",
     "metadata": {},
     "outputs": [
      {
       "output_type": "stream",
       "stream": "stdout",
       "text": [
        "c)\n"
       ]
      },
      {
       "latex": [
        "$$\\dot{m} = V\\cdot A \\cdot \\frac{P}{R\\cdot T} = 3.60707130206581[kg/s]$$"
       ],
       "metadata": {},
       "output_type": "pyout",
       "prompt_number": 114,
       "text": [
        "<IPython.core.display.Math at 0x87fc6f0>"
       ]
      }
     ],
     "prompt_number": 114
    }
   ],
   "metadata": {}
  }
 ]
}