{
 "metadata": {
  "name": "",
  "signature": "sha256:77919464d39d660f4944a022754624c706dc2aa2a54bf0ff97fb02aeb55e6f78"
 },
 "nbformat": 3,
 "nbformat_minor": 0,
 "worksheets": [
  {
   "cells": [
    {
     "cell_type": "code",
     "collapsed": false,
     "input": [
      "#Imports\n",
      "%matplotlib inline\n",
      "from math import sqrt\n",
      "import numpy as np\n",
      "import pandas as pd\n",
      "import matplotlib.pyplot as plt"
     ],
     "language": "python",
     "metadata": {},
     "outputs": [],
     "prompt_number": 20
    },
    {
     "cell_type": "markdown",
     "metadata": {},
     "source": [
      "Question 5\n",
      "----------"
     ]
    },
    {
     "cell_type": "code",
     "collapsed": false,
     "input": [
      "#Constants\n",
      "g = float(1.4); v_p = float(2000); R = float(287);"
     ],
     "language": "python",
     "metadata": {},
     "outputs": [],
     "prompt_number": 21
    },
    {
     "cell_type": "code",
     "collapsed": false,
     "input": [
      "def compute_quiescent(vp,tx,px):\n",
      "    cx = sqrt(R*g*tx)\n",
      "    ms = 1.0/2.0*(((g+1)*(1.0/2.0))*vp/cx+sqrt((((g+1)*(1.0/2.0))*vp/cx)**2+4))\n",
      "    ty = tx * ((2*g*ms**2-g+1)*(2+(g-1)*ms**2) /\n",
      "               ((g+1)**2*ms**2)\n",
      "               )\n",
      "    py = px * (2.0*g*ms**2-g+1)/(g+1)\n",
      "    return [ms,ty,py]"
     ],
     "language": "python",
     "metadata": {},
     "outputs": [],
     "prompt_number": 22
    },
    {
     "cell_type": "markdown",
     "metadata": {},
     "source": [
      "We want to compute results for 10 reflections.\n",
      "\n",
      "11 set of results."
     ]
    },
    {
     "cell_type": "code",
     "collapsed": false,
     "input": [
      "arr = np.zeros((11,3))"
     ],
     "language": "python",
     "metadata": {},
     "outputs": [],
     "prompt_number": 23
    },
    {
     "cell_type": "code",
     "collapsed": false,
     "input": [
      "#Initial conditions\n",
      "Tx = 300; Px = 1"
     ],
     "language": "python",
     "metadata": {},
     "outputs": [],
     "prompt_number": 24
    },
    {
     "cell_type": "code",
     "collapsed": false,
     "input": [
      "for i in range(11):\n",
      "    results = compute_quiescent(v_p,Tx,Px)\n",
      "    arr[i]=results\n",
      "    Tx = results[1]\n",
      "    Px = results[2]"
     ],
     "language": "python",
     "metadata": {},
     "outputs": [],
     "prompt_number": 25
    },
    {
     "cell_type": "code",
     "collapsed": false,
     "input": [
      "df = pd.DataFrame(np.round(arr,2),columns=['Shock Mach Number','T_y','P_y'])\n",
      "print \"The index corresponds to the number of deflections\"\n",
      "df"
     ],
     "language": "python",
     "metadata": {},
     "outputs": [
      {
       "output_type": "stream",
       "stream": "stdout",
       "text": [
        "The index corresponds to the number of deflections\n"
       ]
      },
      {
       "html": [
        "<div style=\"max-height:1000px;max-width:1500px;overflow:auto;\">\n",
        "<table border=\"1\" class=\"dataframe\">\n",
        "  <thead>\n",
        "    <tr style=\"text-align: right;\">\n",
        "      <th></th>\n",
        "      <th>Shock mach Number</th>\n",
        "      <th>T_y</th>\n",
        "      <th>P_y</th>\n",
        "    </tr>\n",
        "  </thead>\n",
        "  <tbody>\n",
        "    <tr>\n",
        "      <th>0 </th>\n",
        "      <td> 7.05</td>\n",
        "      <td>  3185.45</td>\n",
        "      <td>     57.89</td>\n",
        "    </tr>\n",
        "    <tr>\n",
        "      <th>1 </th>\n",
        "      <td> 2.52</td>\n",
        "      <td>  6867.31</td>\n",
        "      <td>    418.74</td>\n",
        "    </tr>\n",
        "    <tr>\n",
        "      <th>2 </th>\n",
        "      <td> 1.96</td>\n",
        "      <td> 11345.59</td>\n",
        "      <td>   1799.39</td>\n",
        "    </tr>\n",
        "    <tr>\n",
        "      <th>3 </th>\n",
        "      <td> 1.71</td>\n",
        "      <td> 16620.28</td>\n",
        "      <td>   5832.57</td>\n",
        "    </tr>\n",
        "    <tr>\n",
        "      <th>4 </th>\n",
        "      <td> 1.57</td>\n",
        "      <td> 22691.40</td>\n",
        "      <td>  15734.96</td>\n",
        "    </tr>\n",
        "    <tr>\n",
        "      <th>5 </th>\n",
        "      <td> 1.47</td>\n",
        "      <td> 29558.92</td>\n",
        "      <td>  37234.84</td>\n",
        "    </tr>\n",
        "    <tr>\n",
        "      <th>6 </th>\n",
        "      <td> 1.41</td>\n",
        "      <td> 37222.87</td>\n",
        "      <td>  79802.58</td>\n",
        "    </tr>\n",
        "    <tr>\n",
        "      <th>7 </th>\n",
        "      <td> 1.36</td>\n",
        "      <td> 45683.23</td>\n",
        "      <td> 158226.69</td>\n",
        "    </tr>\n",
        "    <tr>\n",
        "      <th>8 </th>\n",
        "      <td> 1.32</td>\n",
        "      <td> 54940.00</td>\n",
        "      <td> 294577.97</td>\n",
        "    </tr>\n",
        "    <tr>\n",
        "      <th>9 </th>\n",
        "      <td> 1.29</td>\n",
        "      <td> 64993.20</td>\n",
        "      <td> 520604.16</td>\n",
        "    </tr>\n",
        "    <tr>\n",
        "      <th>10</th>\n",
        "      <td> 1.26</td>\n",
        "      <td> 75842.80</td>\n",
        "      <td> 880597.74</td>\n",
        "    </tr>\n",
        "  </tbody>\n",
        "</table>\n",
        "</div>"
       ],
       "metadata": {},
       "output_type": "pyout",
       "prompt_number": 26,
       "text": [
        "    Shock mach Number       T_y        P_y\n",
        "0                7.05   3185.45      57.89\n",
        "1                2.52   6867.31     418.74\n",
        "2                1.96  11345.59    1799.39\n",
        "3                1.71  16620.28    5832.57\n",
        "4                1.57  22691.40   15734.96\n",
        "5                1.47  29558.92   37234.84\n",
        "6                1.41  37222.87   79802.58\n",
        "7                1.36  45683.23  158226.69\n",
        "8                1.32  54940.00  294577.97\n",
        "9                1.29  64993.20  520604.16\n",
        "10               1.26  75842.80  880597.74"
       ]
      }
     ],
     "prompt_number": 26
    }
   ],
   "metadata": {}
  }
 ]
}