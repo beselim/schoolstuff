{
 "cells": [
  {
   "cell_type": "markdown",
   "metadata": {},
   "source": [
    "# MATH 578 - Homework 2"
   ]
  },
  {
   "cell_type": "code",
   "execution_count": 45,
   "metadata": {
    "collapsed": true
   },
   "outputs": [],
   "source": [
    "# Required imports\n",
    "import numpy as np\n",
    "import matplotlib.pyplot as plt\n",
    "import pandas as pd\n",
    "import seaborn\n",
    "import sympy as sp\n",
    "sp.init_printing()\n",
    "%matplotlib inline\n",
    "\n",
    "from plotutils import *"
   ]
  },
  {
   "cell_type": "code",
   "execution_count": 57,
   "metadata": {
    "collapsed": true
   },
   "outputs": [],
   "source": [
    "def newton_iter(x, f, fp):\n",
    "    \"\"\"\n",
    "    A single Newton method iteration.\n",
    "    \"\"\"\n",
    "    return x - f(x)/fp(x)\n",
    "\n",
    "def solve(x0, f, fp, tol=1e-8, iter_max = 100):\n",
    "    \"\"\"\n",
    "    Find root using Newton's method.\n",
    "    \n",
    "    Parameters\n",
    "    ----------\n",
    "    x0 : float\n",
    "        Initial guess for the root.\n",
    "    f, fp : func\n",
    "        Function and its derivative.\n",
    "    tol : float, optional\n",
    "        Tolerance.\n",
    "    iter_max : int, optional\n",
    "        Maximum number of iterations\n",
    "        \n",
    "    Returns\n",
    "    -------\n",
    "    all_x : list\n",
    "        Progression of x. x[-1] should be the value of the root \n",
    "        with a given tolerance -- hopefully.\n",
    "    all_err : list\n",
    "        Progression of the absolute error. Should go to 0.\n",
    "    \"\"\"\n",
    "    err = 1\n",
    "    all_x = []\n",
    "    all_err = []\n",
    "    x = x0\n",
    "    all_x.append(x0)\n",
    "    all_err.append(f(x0))\n",
    "    for i in range(iter_max):\n",
    "        x1 = newton_iter(x, f, fp)\n",
    "        err = abs(f(x1))\n",
    "        all_err.append(err)\n",
    "        all_x.append(x1)\n",
    "        x = x1\n",
    "        if err < tol:\n",
    "            break\n",
    "    else:\n",
    "        print('Maximum number of iterations reached.')\n",
    "    return all_x, all_err"
   ]
  },
  {
   "cell_type": "markdown",
   "metadata": {},
   "source": [
    "## Question 1.\n",
    "\n",
    "\\begin{align}\n",
    "f(x) &= \\cos(x) - x\\\\\n",
    "f\\prime(x) &= -\\sin(x) - 1\n",
    "\\end{align}"
   ]
  },
  {
   "cell_type": "code",
   "execution_count": 58,
   "metadata": {
    "collapsed": true
   },
   "outputs": [],
   "source": [
    "f = lambda x: np.cos(x) - x\n",
    "fp = lambda x: -np.sin(x) - 1\n",
    "x0 = -1"
   ]
  },
  {
   "cell_type": "markdown",
   "metadata": {},
   "source": [
    "Let's visualize that function."
   ]
  },
  {
   "cell_type": "code",
   "execution_count": 59,
   "metadata": {
    "collapsed": false
   },
   "outputs": [
    {
     "data": {
      "image/png": "[encoded data removed]",
      "text/plain": [
       "<matplotlib.figure.Figure at 0x7fa03ff2bf10>"
      ]
     },
     "metadata": {},
     "output_type": "display_data"
    }
   ],
   "source": [
    "fig, ax = plt.subplots(figsize=(10, 6))\n",
    "x = np.linspace(-10, 10, 1000)\n",
    "plot_init(ax, x, f, x0)\n",
    "pi_plot(ax, -1, 1)\n",
    "plt.show()"
   ]
  },
  {
   "cell_type": "markdown",
   "metadata": {},
   "source": [
    "This is obviously not an optimal starting point -- we're close to being on a saddle point. Were we directly on the saddle point, the root-finding algorithm would have to divide by 0 and we would not be able to proceed without picking another starting point."
   ]
  },
  {
   "cell_type": "markdown",
   "metadata": {},
   "source": [
    "### $x_0$ = -1"
   ]
  },
  {
   "cell_type": "code",
   "execution_count": 60,
   "metadata": {
    "collapsed": false
   },
   "outputs": [
    {
     "data": {
      "text/html": [
       "<div>\n",
       "<table border=\"1\" class=\"dataframe\">\n",
       "  <thead>\n",
       "    <tr style=\"text-align: right;\">\n",
       "      <th></th>\n",
       "      <th>$x_i$</th>\n",
       "      <th>$|f(x_i)|$</th>\n",
       "    </tr>\n",
       "  </thead>\n",
       "  <tbody>\n",
       "    <tr>\n",
       "      <th>0</th>\n",
       "      <td>-1.000000</td>\n",
       "      <td>1.540302e+00</td>\n",
       "    </tr>\n",
       "    <tr>\n",
       "      <th>1</th>\n",
       "      <td>8.716217</td>\n",
       "      <td>9.475516e+00</td>\n",
       "    </tr>\n",
       "    <tr>\n",
       "      <th>2</th>\n",
       "      <td>2.976061</td>\n",
       "      <td>3.962391e+00</td>\n",
       "    </tr>\n",
       "    <tr>\n",
       "      <th>3</th>\n",
       "      <td>-0.425785</td>\n",
       "      <td>1.336500e+00</td>\n",
       "    </tr>\n",
       "    <tr>\n",
       "      <th>4</th>\n",
       "      <td>1.851184</td>\n",
       "      <td>2.127912e+00</td>\n",
       "    </tr>\n",
       "    <tr>\n",
       "      <th>5</th>\n",
       "      <td>0.766040</td>\n",
       "      <td>4.537746e-02</td>\n",
       "    </tr>\n",
       "    <tr>\n",
       "      <th>6</th>\n",
       "      <td>0.739241</td>\n",
       "      <td>2.609825e-04</td>\n",
       "    </tr>\n",
       "    <tr>\n",
       "      <th>7</th>\n",
       "      <td>0.739085</td>\n",
       "      <td>8.984142e-09</td>\n",
       "    </tr>\n",
       "  </tbody>\n",
       "</table>\n",
       "</div>"
      ],
      "text/plain": [
       "      $x_i$    $|f(x_i)|$\n",
       "0 -1.000000  1.540302e+00\n",
       "1  8.716217  9.475516e+00\n",
       "2  2.976061  3.962391e+00\n",
       "3 -0.425785  1.336500e+00\n",
       "4  1.851184  2.127912e+00\n",
       "5  0.766040  4.537746e-02\n",
       "6  0.739241  2.609825e-04\n",
       "7  0.739085  8.984142e-09"
      ]
     },
     "execution_count": 60,
     "metadata": {},
     "output_type": "execute_result"
    }
   ],
   "source": [
    "x0 = -1\n",
    "all_x, all_err = solve(x0, f, fp)\n",
    "pd.DataFrame(np.array([all_x, all_err]).T, columns=['$x_i$', '$|f(x_i)|$'])"
   ]
  },
  {
   "cell_type": "markdown",
   "metadata": {},
   "source": [
    "### Picture\n",
    "\n",
    "Only with first 4 iterations."
   ]
  },
  {
   "cell_type": "code",
   "execution_count": 61,
   "metadata": {
    "collapsed": false
   },
   "outputs": [
    {
     "data": {
      "image/png": "[encoded data removed]",
      "text/plain": [
       "<matplotlib.figure.Figure at 0x7fa03f92c6d0>"
      ]
     },
     "metadata": {},
     "output_type": "display_data"
    }
   ],
   "source": [
    "fig, ax = plt.subplots(figsize=(12, 6))\n",
    "plot_init(ax, x, f, x0, legend=False)\n",
    "showoff(ax, all_x[:5], f, fp)\n",
    "ax.set_title('$x_0 = -1$', fontsize=20)\n",
    "plt.show()"
   ]
  },
  {
   "cell_type": "markdown",
   "metadata": {},
   "source": [
    "### $x_0$ = $\\pi/4$"
   ]
  },
  {
   "cell_type": "code",
   "execution_count": 62,
   "metadata": {
    "collapsed": false
   },
   "outputs": [
    {
     "data": {
      "text/html": [
       "<div>\n",
       "<table border=\"1\" class=\"dataframe\">\n",
       "  <thead>\n",
       "    <tr style=\"text-align: right;\">\n",
       "      <th></th>\n",
       "      <th>$x_i$</th>\n",
       "      <th>$|f(x_i)|$</th>\n",
       "    </tr>\n",
       "  </thead>\n",
       "  <tbody>\n",
       "    <tr>\n",
       "      <th>0</th>\n",
       "      <td>0.785398</td>\n",
       "      <td>-7.829138e-02</td>\n",
       "    </tr>\n",
       "    <tr>\n",
       "      <th>1</th>\n",
       "      <td>0.739536</td>\n",
       "      <td>7.548747e-04</td>\n",
       "    </tr>\n",
       "    <tr>\n",
       "      <th>2</th>\n",
       "      <td>0.739085</td>\n",
       "      <td>7.512987e-08</td>\n",
       "    </tr>\n",
       "    <tr>\n",
       "      <th>3</th>\n",
       "      <td>0.739085</td>\n",
       "      <td>7.771561e-16</td>\n",
       "    </tr>\n",
       "  </tbody>\n",
       "</table>\n",
       "</div>"
      ],
      "text/plain": [
       "      $x_i$    $|f(x_i)|$\n",
       "0  0.785398 -7.829138e-02\n",
       "1  0.739536  7.548747e-04\n",
       "2  0.739085  7.512987e-08\n",
       "3  0.739085  7.771561e-16"
      ]
     },
     "execution_count": 62,
     "metadata": {},
     "output_type": "execute_result"
    }
   ],
   "source": [
    "x0 = np.pi/4\n",
    "all_x, all_err = solve(x0, f, fp)\n",
    "pd.DataFrame(np.array([all_x, all_err]).T, columns=['$x_i$', '$|f(x_i)|$'])"
   ]
  },
  {
   "cell_type": "markdown",
   "metadata": {},
   "source": [
    "We get to machine precision after 4 iterations with this new initial guess. \n",
    "\n",
    "We won't be plotting the derivatives for this one for obvious reasons."
   ]
  },
  {
   "cell_type": "markdown",
   "metadata": {},
   "source": [
    "## Question 2.\n",
    "\n",
    "### a)\n",
    "\\begin{align}\n",
    "f_1(x, y) &= 3x^2 - y^2 &= 0\\\\\n",
    "f_2(x, y) &= 3xy^2 - x^3 - 1 &= 0\n",
    "\\end{align}\n",
    "\n",
    "\n",
    "$$\n",
    "J = \\left(\\begin{array}{ccc}\n",
    "6x & -2y \\\\\n",
    "-3x^2 + 3y^2 & 6xy \\end{array}\\right)\n",
    "$$"
   ]
  },
  {
   "cell_type": "code",
   "execution_count": 65,
   "metadata": {
    "collapsed": true
   },
   "outputs": [],
   "source": [
    "def f(x, y):\n",
    "    f1 = 3*x**2 - y**2\n",
    "    f2 = 3*x*y**2 - x**3 - 1\n",
    "    return np.array([f1, f2])"
   ]
  },
  {
   "cell_type": "code",
   "execution_count": 66,
   "metadata": {
    "collapsed": true
   },
   "outputs": [],
   "source": [
    "def J(x, y):\n",
    "    return np.array([\n",
    "        [6*x              , -2*y ],\n",
    "        [-3*x**2 + 3*y**2 , 6*x*y],\n",
    "    ])"
   ]
  },
  {
   "cell_type": "code",
   "execution_count": 50,
   "metadata": {
    "collapsed": false
   },
   "outputs": [
    {
     "ename": "IndentationError",
     "evalue": "expected an indented block (<ipython-input-50-9aa94114bec0>, line 2)",
     "output_type": "error",
     "traceback": [
      "\u001b[1;36m  File \u001b[1;32m\"<ipython-input-50-9aa94114bec0>\"\u001b[1;36m, line \u001b[1;32m2\u001b[0m\n\u001b[1;33m    \u001b[0m\n\u001b[1;37m    ^\u001b[0m\n\u001b[1;31mIndentationError\u001b[0m\u001b[1;31m:\u001b[0m expected an indented block\n"
     ]
    }
   ],
   "source": [
    "def newton_iter_2d(x, f, A):\n",
    "    "
   ]
  },
  {
   "cell_type": "code",
   "execution_count": null,
   "metadata": {
    "collapsed": true
   },
   "outputs": [],
   "source": []
  },
  {
   "cell_type": "code",
   "execution_count": null,
   "metadata": {
    "collapsed": true
   },
   "outputs": [],
   "source": []
  }
 ],
 "metadata": {
  "kernelspec": {
   "display_name": "Python 2",
   "language": "python",
   "name": "python2"
  },
  "language_info": {
   "codemirror_mode": {
    "name": "ipython",
    "version": 2
   },
   "file_extension": ".py",
   "mimetype": "text/x-python",
   "name": "python",
   "nbconvert_exporter": "python",
   "pygments_lexer": "ipython2",
   "version": "2.7.10"
  }
 },
 "nbformat": 4,
 "nbformat_minor": 0
}
