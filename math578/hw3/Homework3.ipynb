{
 "cells": [
  {
   "cell_type": "markdown",
   "metadata": {},
   "source": [
    "# Homework 3"
   ]
  },
  {
   "cell_type": "code",
   "execution_count": 1,
   "metadata": {
    "collapsed": true
   },
   "outputs": [],
   "source": [
    "import numpy as np"
   ]
  },
  {
   "cell_type": "markdown",
   "metadata": {},
   "source": [
    "---\n",
    "\n",
    "## 6."
   ]
  },
  {
   "cell_type": "code",
   "execution_count": 43,
   "metadata": {
    "collapsed": false
   },
   "outputs": [],
   "source": [
    "data = np.array([(0, 3), (1, 5), (2, -1), (3, 2)], dtype=np.float32)\n",
    "\n",
    "def p(degree, x):\n",
    "    n = degree + 1\n",
    "    xd, yd = data[:n].T\n",
    "    c = yd.copy()\n",
    "    for i in range(1, n + 1):\n",
    "        for j in range(n - 1, i - 1, -1):\n",
    "            c[j] = (c[j] - c[j-1])/(xd[j] - xd[j-i])\n",
    "    r = c[0]\n",
    "    for j in range(1, n):\n",
    "        r += c[j]*np.prod(x - xd[:j])\n",
    "    return r"
   ]
  },
  {
   "cell_type": "code",
   "execution_count": 44,
   "metadata": {
    "collapsed": false
   },
   "outputs": [
    {
     "name": "stdout",
     "output_type": "stream",
     "text": [
      "Degree 1: p(0.05) = 3.100000\n",
      "Degree 2: p(0.05) = 3.290000\n",
      "Degree 3: p(0.05) = 3.552438\n"
     ]
    }
   ],
   "source": [
    "for degree in (1, 2, 3):\n",
    "    r = p(degree, 0.05)\n",
    "    print('Degree %i: p(%.2f) = %.6f' % (degree, 0.05, r))"
   ]
  },
  {
   "cell_type": "markdown",
   "metadata": {},
   "source": [
    "----\n",
    "\n",
    "## 7.\n",
    "\n",
    "$$\n",
    "\\int_{0.5}^{1}x^4 dx = \\frac{x^5}{5}\\big|_{0.5}^1 = \\frac{1 - 0.5^{5}}{5} \\approx 0.19375\n",
    "$$"
   ]
  },
  {
   "cell_type": "code",
   "execution_count": 54,
   "metadata": {
    "collapsed": true
   },
   "outputs": [],
   "source": [
    "def trapz(f, a, b):\n",
    "    return 0.5*(f(b) + f(a))*(b - a)"
   ]
  },
  {
   "cell_type": "code",
   "execution_count": 55,
   "metadata": {
    "collapsed": false
   },
   "outputs": [
    {
     "name": "stdout",
     "output_type": "stream",
     "text": [
      "Result: 0.26562\n",
      "Relative Error: 37.09677%\n"
     ]
    }
   ],
   "source": [
    "exact = 0.19375\n",
    "a = 0.5\n",
    "b = 1.0\n",
    "f = lambda x: x**4\n",
    "r = trapz(f, a, b)\n",
    "relerr = 100*abs(r - exact)/exact\n",
    "print('Result: %.5f' % r)\n",
    "print('Relative Error: %.5f%%' % relerr)"
   ]
  },
  {
   "cell_type": "markdown",
   "metadata": {},
   "source": [
    "## 8.\n",
    "\n",
    "$$\n",
    "\\int_1^2 x \\ln x ~dx \\approx 0.636294\n",
    "$$"
   ]
  },
  {
   "cell_type": "code",
   "execution_count": 62,
   "metadata": {
    "collapsed": false
   },
   "outputs": [
    {
     "data": {
      "text/plain": [
       "[1.0, 1.3333333333333333, 1.6666666666666665, 2.0]"
      ]
     },
     "execution_count": 62,
     "metadata": {},
     "output_type": "execute_result"
    }
   ],
   "source": [
    "exact = 0.636294\n",
    "n = 3\n",
    "a = 1.0\n",
    "b = 2.0\n",
    "h = (b - a)/n\n",
    "points = [i*h + a for i in range(n + 1)]\n",
    "points"
   ]
  },
  {
   "cell_type": "code",
   "execution_count": 64,
   "metadata": {
    "collapsed": false
   },
   "outputs": [],
   "source": [
    "f = lambda x: np.log(x)*x\n",
    "r = 0\n",
    "for i in range(n):\n",
    "    r += trapz(f, points[i], points[i + 1])"
   ]
  },
  {
   "cell_type": "code",
   "execution_count": 65,
   "metadata": {
    "collapsed": false
   },
   "outputs": [
    {
     "name": "stdout",
     "output_type": "stream",
     "text": [
      "Result: 0.64270\n",
      "Relative Error: 1.00673%\n"
     ]
    }
   ],
   "source": [
    "relerr = 100*abs(r - exact)/exact\n",
    "print('Result: %.5f' % r)\n",
    "print('Relative Error: %.5f%%' % relerr)"
   ]
  },
  {
   "cell_type": "markdown",
   "metadata": {},
   "source": [
    "## 9."
   ]
  },
  {
   "cell_type": "code",
   "execution_count": 66,
   "metadata": {
    "collapsed": true
   },
   "outputs": [],
   "source": [
    "A = np.array([\n",
    "    [-4, 14, 0],\n",
    "    [-5, 13, 0],\n",
    "    [-1, 0, 0],\n",
    "])\n",
    "x0 = np.ones(3)\n",
    "exact = np.array([6, 3, 1])"
   ]
  },
  {
   "cell_type": "code",
   "execution_count": null,
   "metadata": {
    "collapsed": true
   },
   "outputs": [],
   "source": []
  }
 ],
 "metadata": {
  "kernelspec": {
   "display_name": "Python 2",
   "language": "python",
   "name": "python2"
  },
  "language_info": {
   "codemirror_mode": {
    "name": "ipython",
    "version": 2
   },
   "file_extension": ".py",
   "mimetype": "text/x-python",
   "name": "python",
   "nbconvert_exporter": "python",
   "pygments_lexer": "ipython2",
   "version": "2.7.10"
  }
 },
 "nbformat": 4,
 "nbformat_minor": 0
}
