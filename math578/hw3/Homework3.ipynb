{
 "cells": [
  {
   "cell_type": "markdown",
   "metadata": {},
   "source": [
    "# Homework 3"
   ]
  },
  {
   "cell_type": "code",
   "execution_count": 1,
   "metadata": {
    "collapsed": true
   },
   "outputs": [],
   "source": [
    "import numpy as np\n",
    "from numpy.linalg import norm\n",
    "from scipy.linalg import solve, eig"
   ]
  },
  {
   "cell_type": "markdown",
   "metadata": {},
   "source": [
    "---\n",
    "\n",
    "## 6."
   ]
  },
  {
   "cell_type": "code",
   "execution_count": 2,
   "metadata": {
    "collapsed": false
   },
   "outputs": [],
   "source": [
    "data = np.array([(0, 3), (1, 5), (2, -1), (3, 2)], dtype=np.float32)\n",
    "\n",
    "def p(degree, x):\n",
    "    n = degree + 1\n",
    "    xd, yd = data[:n].T\n",
    "    c = yd.copy()\n",
    "    for i in range(1, n + 1):\n",
    "        for j in range(n - 1, i - 1, -1):\n",
    "            c[j] = (c[j] - c[j-1])/(xd[j] - xd[j-i])\n",
    "    r = c[0]\n",
    "    for j in range(1, n):\n",
    "        r += c[j]*np.prod(x - xd[:j])\n",
    "    return r"
   ]
  },
  {
   "cell_type": "code",
   "execution_count": 3,
   "metadata": {
    "collapsed": false
   },
   "outputs": [
    {
     "name": "stdout",
     "output_type": "stream",
     "text": [
      "Degree 1: p(0.05) = 3.100000\n",
      "Degree 2: p(0.05) = 3.290000\n",
      "Degree 3: p(0.05) = 3.552438\n"
     ]
    }
   ],
   "source": [
    "for degree in (1, 2, 3):\n",
    "    r = p(degree, 0.05)\n",
    "    print('Degree %i: p(%.2f) = %.6f' % (degree, 0.05, r))"
   ]
  },
  {
   "cell_type": "markdown",
   "metadata": {},
   "source": [
    "----\n",
    "\n",
    "## 7.\n",
    "\n",
    "$$\n",
    "\\int_{0.5}^{1}x^4 dx = \\frac{x^5}{5}\\big|_{0.5}^1 = \\frac{1 - 0.5^{5}}{5} \\approx 0.19375\n",
    "$$"
   ]
  },
  {
   "cell_type": "code",
   "execution_count": 4,
   "metadata": {
    "collapsed": true
   },
   "outputs": [],
   "source": [
    "def trapz(f, a, b):\n",
    "    return 0.5*(f(b) + f(a))*(b - a)"
   ]
  },
  {
   "cell_type": "code",
   "execution_count": 5,
   "metadata": {
    "collapsed": false
   },
   "outputs": [
    {
     "name": "stdout",
     "output_type": "stream",
     "text": [
      "Result: 0.26562\n",
      "Relative Error: 37.09677%\n"
     ]
    }
   ],
   "source": [
    "exact = 0.19375\n",
    "a = 0.5\n",
    "b = 1.0\n",
    "f = lambda x: x**4\n",
    "r = trapz(f, a, b)\n",
    "relerr = 100*abs(r - exact)/exact\n",
    "print('Result: %.5f' % r)\n",
    "print('Relative Error: %.5f%%' % relerr)"
   ]
  },
  {
   "cell_type": "markdown",
   "metadata": {},
   "source": [
    "## 8.\n",
    "\n",
    "$$\n",
    "\\int_1^2 x \\ln x ~dx \\approx 0.636294\n",
    "$$"
   ]
  },
  {
   "cell_type": "code",
   "execution_count": 6,
   "metadata": {
    "collapsed": false
   },
   "outputs": [
    {
     "data": {
      "text/plain": [
       "[1.0, 1.3333333333333333, 1.6666666666666665, 2.0]"
      ]
     },
     "execution_count": 6,
     "metadata": {},
     "output_type": "execute_result"
    }
   ],
   "source": [
    "exact = 0.636294\n",
    "n = 3\n",
    "a = 1.0\n",
    "b = 2.0\n",
    "h = (b - a)/n\n",
    "points = [i*h + a for i in range(n + 1)]\n",
    "points"
   ]
  },
  {
   "cell_type": "code",
   "execution_count": 7,
   "metadata": {
    "collapsed": false
   },
   "outputs": [],
   "source": [
    "f = lambda x: np.log(x)*x\n",
    "r = 0\n",
    "for i in range(n):\n",
    "    r += trapz(f, points[i], points[i + 1])"
   ]
  },
  {
   "cell_type": "code",
   "execution_count": 8,
   "metadata": {
    "collapsed": false
   },
   "outputs": [
    {
     "name": "stdout",
     "output_type": "stream",
     "text": [
      "Result: 0.64270\n",
      "Relative Error: 1.00673%\n"
     ]
    }
   ],
   "source": [
    "relerr = 100*abs(r - exact)/exact\n",
    "print('Result: %.5f' % r)\n",
    "print('Relative Error: %.5f%%' % relerr)"
   ]
  },
  {
   "cell_type": "markdown",
   "metadata": {},
   "source": [
    "## 9."
   ]
  },
  {
   "cell_type": "code",
   "execution_count": 9,
   "metadata": {
    "collapsed": true
   },
   "outputs": [],
   "source": [
    "A = np.array([\n",
    "    [-4, 14, 0],\n",
    "    [-5, 13, 0],\n",
    "    [-1, 0, 0],\n",
    "], dtype=np.float32)\n",
    "x0 = np.ones(3, dtype=np.float32)\n",
    "tol = 1e-16"
   ]
  },
  {
   "cell_type": "code",
   "execution_count": 10,
   "metadata": {
    "collapsed": false
   },
   "outputs": [
    {
     "name": "stdout",
     "output_type": "stream",
     "text": [
      "Eigenvalue : Eigenvector pairs\n",
      "0j : [ 0.  0.  1.]\n",
      "(3+0j) : [ 0.85714287  0.42857143 -0.28571424]\n",
      "(6+0j) : [ 0.80635154  0.57596534 -0.13439195]\n"
     ]
    }
   ],
   "source": [
    "eigvals, eigvecs = eig(A)\n",
    "s = np.argsort(eigvals)\n",
    "eigvals, eigvecs = eigvals[s], eigvecs[:, s]\n",
    "print('Eigenvalue : Eigenvector pairs')\n",
    "print('\\n'.join(\n",
    "    ['%s : %s' % (eigvals[i], eigvecs[:, i])\n",
    "     for i in range(len(eigvals))]\n",
    "))"
   ]
  },
  {
   "cell_type": "code",
   "execution_count": 11,
   "metadata": {
    "collapsed": true
   },
   "outputs": [],
   "source": [
    "def pwrmethod(x):\n",
    "    y = A.dot(x)\n",
    "    return y/norm(y)\n",
    "\n",
    "def rayleigh(x):\n",
    "    xs = np.conj(x)\n",
    "    return (xs.dot(A).dot(x))/(xs.dot(x))"
   ]
  },
  {
   "cell_type": "code",
   "execution_count": 12,
   "metadata": {
    "collapsed": false
   },
   "outputs": [],
   "source": [
    "def q9(x0):\n",
    "    x = x0\n",
    "    lam = np.nan\n",
    "    for i in range(100):\n",
    "        xn = pwrmethod(x)\n",
    "        lamn = rayleigh(xn)\n",
    "        if abs(lamn - lam) < tol:\n",
    "            break\n",
    "        x, lam = xn, lamn\n",
    "    else:\n",
    "        print('Maximum number of iterations reached.')\n",
    "    return x, lamn, i"
   ]
  },
  {
   "cell_type": "code",
   "execution_count": 13,
   "metadata": {
    "collapsed": false
   },
   "outputs": [
    {
     "name": "stdout",
     "output_type": "stream",
     "text": [
      "x = [ 0.80635148  0.57596534 -0.1343919 ]\n"
     ]
    },
    {
     "ename": "NameError",
     "evalue": "name 'lamn' is not defined",
     "output_type": "error",
     "traceback": [
      "\u001b[1;31m---------------------------------------------------------------------------\u001b[0m",
      "\u001b[1;31mNameError\u001b[0m                                 Traceback (most recent call last)",
      "\u001b[1;32m<ipython-input-13-eb6521420384>\u001b[0m in \u001b[0;36m<module>\u001b[1;34m()\u001b[0m\n\u001b[0;32m      1\u001b[0m \u001b[0mx\u001b[0m\u001b[1;33m,\u001b[0m \u001b[0mlam\u001b[0m\u001b[1;33m,\u001b[0m \u001b[0miters\u001b[0m \u001b[1;33m=\u001b[0m \u001b[0mq9\u001b[0m\u001b[1;33m(\u001b[0m\u001b[0mx0\u001b[0m\u001b[1;33m)\u001b[0m\u001b[1;33m\u001b[0m\u001b[0m\n\u001b[0;32m      2\u001b[0m \u001b[1;32mprint\u001b[0m\u001b[1;33m(\u001b[0m\u001b[1;34m'x = %s'\u001b[0m \u001b[1;33m%\u001b[0m \u001b[0mx\u001b[0m\u001b[1;33m)\u001b[0m\u001b[1;33m\u001b[0m\u001b[0m\n\u001b[1;32m----> 3\u001b[1;33m \u001b[1;32mprint\u001b[0m\u001b[1;33m(\u001b[0m\u001b[1;34m'lambda = %.16f'\u001b[0m \u001b[1;33m%\u001b[0m \u001b[0mlamn\u001b[0m\u001b[1;33m)\u001b[0m\u001b[1;33m\u001b[0m\u001b[0m\n\u001b[0m\u001b[0;32m      4\u001b[0m \u001b[1;32mprint\u001b[0m\u001b[1;33m(\u001b[0m\u001b[1;34m'number of iterations : %i'\u001b[0m \u001b[1;33m%\u001b[0m \u001b[0miters\u001b[0m\u001b[1;33m)\u001b[0m\u001b[1;33m\u001b[0m\u001b[0m\n",
      "\u001b[1;31mNameError\u001b[0m: name 'lamn' is not defined"
     ]
    }
   ],
   "source": [
    "x, lam, iters = q9(x0)\n",
    "print('x = %s' % x)\n",
    "print('lambda = %.16f' % lamn)\n",
    "print('number of iterations : %i' % iters)"
   ]
  },
  {
   "cell_type": "markdown",
   "metadata": {},
   "source": [
    "## 10."
   ]
  },
  {
   "cell_type": "code",
   "execution_count": 14,
   "metadata": {
    "collapsed": true
   },
   "outputs": [],
   "source": [
    "def q10(x0):\n",
    "    x = x0\n",
    "    lam = np.nan\n",
    "    for i in range(100):\n",
    "        x1 = pwrmethod(x)\n",
    "        x2 = pwrmethod(x1)\n",
    "        # Aitken's method\n",
    "        delta = x1 - x\n",
    "        delta2 = x - 2*x1 + x2 + tol  # Don't want to divide by zero.\n",
    "        aitken = x - delta**2/delta2\n",
    "        lamn = rayleigh(x)\n",
    "        if abs(lamn - lam) < tol:\n",
    "            break\n",
    "        x, lam = aitken, lamn\n",
    "    else:\n",
    "        print('Maximum number of iterations reached.')\n",
    "    return x, lamn, i"
   ]
  },
  {
   "cell_type": "code",
   "execution_count": 15,
   "metadata": {
    "collapsed": false
   },
   "outputs": [
    {
     "name": "stdout",
     "output_type": "stream",
     "text": [
      "x = [ 0.80635148  0.57596534 -0.13439192]\n",
      "lambda = 6.0000000000000000\n",
      "number of iterations : 6\n"
     ]
    }
   ],
   "source": [
    "x, lam, iters = q10(x0)\n",
    "print('x = %s' % x)\n",
    "print('lambda = %.16f' % lam)\n",
    "print('number of iterations : %i' % iters)"
   ]
  },
  {
   "cell_type": "code",
   "execution_count": 16,
   "metadata": {
    "collapsed": false
   },
   "outputs": [
    {
     "name": "stdout",
     "output_type": "stream",
     "text": [
      "1000 loops, best of 3: 355 µs per loop\n"
     ]
    }
   ],
   "source": [
    "t9 = %timeit -o q9(x0)"
   ]
  },
  {
   "cell_type": "code",
   "execution_count": 17,
   "metadata": {
    "collapsed": false
   },
   "outputs": [
    {
     "name": "stdout",
     "output_type": "stream",
     "text": [
      "1000 loops, best of 3: 237 µs per loop\n"
     ]
    }
   ],
   "source": [
    "t10 = %timeit -o q10(x0)"
   ]
  },
  {
   "cell_type": "code",
   "execution_count": 18,
   "metadata": {
    "collapsed": false
   },
   "outputs": [
    {
     "name": "stdout",
     "output_type": "stream",
     "text": [
      "Aitken's delta squared method makes the computation take\n",
      "66.8% of the time.\n"
     ]
    }
   ],
   "source": [
    "ratio = 100*(t10.best/t9.best)\n",
    "print(\"Aitken's delta squared method makes the computation take\\n\"\n",
    "      \"%.1f%% of the time.\" % ratio)"
   ]
  },
  {
   "cell_type": "markdown",
   "metadata": {},
   "source": [
    "## 11."
   ]
  },
  {
   "cell_type": "code",
   "execution_count": 19,
   "metadata": {
    "collapsed": true
   },
   "outputs": [],
   "source": [
    "I = np.eye(len(A))\n",
    "def invpwrmethod(x, mu):\n",
    "    y = solve(A - mu*I, x)\n",
    "    return y/norm(y)"
   ]
  },
  {
   "cell_type": "code",
   "execution_count": 20,
   "metadata": {
    "collapsed": true
   },
   "outputs": [],
   "source": [
    "def q11(x0, mu):\n",
    "    x = x0\n",
    "    lam = np.nan\n",
    "    for i in range(100):\n",
    "        xn = invpwrmethod(x, mu)\n",
    "        lamn = rayleigh(xn)\n",
    "        if abs(lamn - lam) < tol:\n",
    "            break\n",
    "        x, lam = xn, lamn\n",
    "    else:\n",
    "        print('Maximum number of iterations reached.')\n",
    "    return x, lamn, i"
   ]
  },
  {
   "cell_type": "code",
   "execution_count": 21,
   "metadata": {
    "collapsed": false
   },
   "outputs": [
    {
     "name": "stdout",
     "output_type": "stream",
     "text": [
      "x = [-0.85714286 -0.42857143  0.28571429]\n",
      "lambda = 2.9999999999999960\n",
      "number of iterations : 26\n"
     ]
    }
   ],
   "source": [
    "x, lam, iters = q11(x0, 3.5)\n",
    "print('x = %s' % x)\n",
    "print('lambda = %.16f' % lam)\n",
    "print('number of iterations : %i' % iters)"
   ]
  }
 ],
 "metadata": {
  "kernelspec": {
   "display_name": "Python 2",
   "language": "python",
   "name": "python2"
  },
  "language_info": {
   "codemirror_mode": {
    "name": "ipython",
    "version": 2
   },
   "file_extension": ".py",
   "mimetype": "text/x-python",
   "name": "python",
   "nbconvert_exporter": "python",
   "pygments_lexer": "ipython2",
   "version": "2.7.10"
  }
 },
 "nbformat": 4,
 "nbformat_minor": 0
}
