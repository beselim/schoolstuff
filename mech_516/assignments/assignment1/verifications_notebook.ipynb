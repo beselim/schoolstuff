{
 "metadata": {
  "name": "",
  "signature": "sha256:5000e606e63969cf0aa3640743a2d09597e092de6498f202a323524779e96d22"
 },
 "nbformat": 3,
 "nbformat_minor": 0,
 "worksheets": [
  {
   "cells": [
    {
     "cell_type": "markdown",
     "metadata": {},
     "source": [
      "# Problem 1\n",
      "\n",
      "## Notation\n",
      "\n",
      "Vectors: $\\mathbf{U}$\n",
      "\n",
      "Matrices: $\\mathbf{\\bar{A}}$\n",
      "\n",
      "## (1)\n",
      "We will merely check that each step was done correctly\n",
      "by substituting and verifying that the expressions are \n",
      "equivalent"
     ]
    },
    {
     "cell_type": "code",
     "collapsed": false,
     "input": [
      "#Necessary imports\n",
      "import numpy as np\n",
      "import sympy as sp"
     ],
     "language": "python",
     "metadata": {},
     "outputs": [],
     "prompt_number": 1
    },
    {
     "cell_type": "code",
     "collapsed": false,
     "input": [
      "sp.init_printing()"
     ],
     "language": "python",
     "metadata": {},
     "outputs": [],
     "prompt_number": 3
    },
    {
     "cell_type": "code",
     "collapsed": false,
     "input": [
      "def compare(a, b):\n",
      "    \"\"\"Compares two vectors.\n",
      "    \n",
      "    Returns vector full of zeros if a and b are equal\n",
      "    \"\"\"\n",
      "    diff = sp.Matrix(a - b)\n",
      "    diff.simplify()\n",
      "    return diff"
     ],
     "language": "python",
     "metadata": {},
     "outputs": [],
     "prompt_number": 3
    },
    {
     "cell_type": "code",
     "collapsed": false,
     "input": [
      "rho, u, p, E, e, gamma = sp.symbols('rho,u,p,E,e,gamma') "
     ],
     "language": "python",
     "metadata": {},
     "outputs": [],
     "prompt_number": 7
    },
    {
     "cell_type": "code",
     "collapsed": false,
     "input": [
      "u1 = rho                      ; f1 = rho*u                             ; w1 = rho\n",
      "u2 = rho*u                    ; f2 = rho*u**2 + p                      ; w2 = u\n",
      "u3 = p/(gamma -1) + rho*u**2/2; f3 = (p/(gamma - 1) + rho*u**2/2 + p)*u; w3 = p"
     ],
     "language": "python",
     "metadata": {},
     "outputs": [],
     "prompt_number": 5
    },
    {
     "cell_type": "code",
     "collapsed": false,
     "input": [
      "U = np.array([u1, u2, u3])\n",
      "F = np.array([f1, f2, f3])\n",
      "W = np.array([w1, w2, w3])"
     ],
     "language": "python",
     "metadata": {},
     "outputs": [],
     "prompt_number": 5
    },
    {
     "cell_type": "markdown",
     "metadata": {},
     "source": [
      "Check $\\mathbf{U}(\\mathbf{W}) - \\mathbf{U} = \\mathbf{0}$"
     ]
    },
    {
     "cell_type": "code",
     "collapsed": false,
     "input": [
      "U_W = np.array([w1, \n",
      "                w1*w2,\n",
      "                w3/(gamma - 1) + w1*w2**2/2])"
     ],
     "language": "python",
     "metadata": {},
     "outputs": [],
     "prompt_number": 6
    },
    {
     "cell_type": "code",
     "collapsed": false,
     "input": [
      "compare(U_W, U)"
     ],
     "language": "python",
     "metadata": {},
     "outputs": [
      {
       "latex": [
        "$$\\left[\\begin{matrix}0\\\\0\\\\0\\end{matrix}\\right]$$"
       ],
       "metadata": {},
       "output_type": "pyout",
       "png": "[encoded data removed]",
       "prompt_number": 52,
       "text": [
        "\u23a10\u23a4\n",
        "\u23a2 \u23a5\n",
        "\u23a20\u23a5\n",
        "\u23a2 \u23a5\n",
        "\u23a30\u23a6"
       ]
      }
     ],
     "prompt_number": 52
    },
    {
     "cell_type": "markdown",
     "metadata": {},
     "source": [
      "### Correct!\n",
      "\n",
      "-----\n",
      "\n",
      "Check $\\mathbf{W}(\\mathbf{U}) - \\mathbf{W} = \\mathbf{0}$"
     ]
    },
    {
     "cell_type": "code",
     "collapsed": false,
     "input": [
      "W_U = np.array([u1, \n",
      "                u2/u1, \n",
      "                (u3 - u2**2/(2*u1))*(gamma - 1)])"
     ],
     "language": "python",
     "metadata": {},
     "outputs": [],
     "prompt_number": 8
    },
    {
     "cell_type": "code",
     "collapsed": false,
     "input": [
      "compare(W_U, W)"
     ],
     "language": "python",
     "metadata": {},
     "outputs": [
      {
       "latex": [
        "$$\\left[\\begin{matrix}0\\\\0\\\\0\\end{matrix}\\right]$$"
       ],
       "metadata": {},
       "output_type": "pyout",
       "png": "[encoded data removed]",
       "prompt_number": 54,
       "text": [
        "\u23a10\u23a4\n",
        "\u23a2 \u23a5\n",
        "\u23a20\u23a5\n",
        "\u23a2 \u23a5\n",
        "\u23a30\u23a6"
       ]
      }
     ],
     "prompt_number": 54
    },
    {
     "cell_type": "markdown",
     "metadata": {},
     "source": [
      "### Correct!\n",
      "\n",
      "-----\n",
      "\n",
      "Check $\\mathbf{F}(\\mathbf{W}) - \\mathbf{F} = \\mathbf{0}$"
     ]
    },
    {
     "cell_type": "code",
     "collapsed": false,
     "input": [
      "tet = w3/(gamma - 1) + w1*w2**2/2\n",
      "F_W = np.array([w1*w2, \n",
      "                w1*w2**2 + w3, \n",
      "                (tet + w3)*w2])"
     ],
     "language": "python",
     "metadata": {},
     "outputs": [],
     "prompt_number": 10
    },
    {
     "cell_type": "code",
     "collapsed": false,
     "input": [
      "compare(F_W, F)"
     ],
     "language": "python",
     "metadata": {},
     "outputs": [
      {
       "latex": [
        "$$\\left[\\begin{matrix}0\\\\0\\\\0\\end{matrix}\\right]$$"
       ],
       "metadata": {},
       "output_type": "pyout",
       "png": "[encoded data removed]",
       "prompt_number": 55,
       "text": [
        "\u23a10\u23a4\n",
        "\u23a2 \u23a5\n",
        "\u23a20\u23a5\n",
        "\u23a2 \u23a5\n",
        "\u23a30\u23a6"
       ]
      }
     ],
     "prompt_number": 55
    },
    {
     "cell_type": "markdown",
     "metadata": {},
     "source": [
      "### Correct!\n",
      "\n",
      "-----\n",
      "\n",
      "Check $\\mathbf{F}(\\mathbf{U}) - \\mathbf{F} = \\mathbf{0}$"
     ]
    },
    {
     "cell_type": "code",
     "collapsed": false,
     "input": [
      "F_U = np.array([u2, \n",
      "                 u3*(gamma - 1) + u2**2*(3 - gamma)/(2*u1),\n",
      "                 gamma*u2*u3/u1 + u2**3/(2*u1**2)*(1 - gamma)])"
     ],
     "language": "python",
     "metadata": {},
     "outputs": [],
     "prompt_number": 12
    },
    {
     "cell_type": "code",
     "collapsed": false,
     "input": [
      "compare(F_U, F)"
     ],
     "language": "python",
     "metadata": {},
     "outputs": [
      {
       "latex": [
        "$$\\left[\\begin{matrix}0\\\\0\\\\0\\end{matrix}\\right]$$"
       ],
       "metadata": {},
       "output_type": "pyout",
       "png": "[encoded data removed]",
       "prompt_number": 56,
       "text": [
        "\u23a10\u23a4\n",
        "\u23a2 \u23a5\n",
        "\u23a20\u23a5\n",
        "\u23a2 \u23a5\n",
        "\u23a30\u23a6"
       ]
      }
     ],
     "prompt_number": 56
    },
    {
     "cell_type": "markdown",
     "metadata": {},
     "source": [
      "### Correct!\n",
      "\n",
      "-----\n",
      "\n",
      "## (2)"
     ]
    },
    {
     "cell_type": "markdown",
     "metadata": {},
     "source": [
      "Seek $\\mathbf{\\bar{A}} = \\dfrac{\\text{d}\\mathbf{F}}{\\text{d}\\mathbf{U}}$"
     ]
    },
    {
     "cell_type": "code",
     "collapsed": false,
     "input": [
      "_u1, _u2, _u3 = sp.symbols('u1,u2,u3')\n",
      "_U = sp.Matrix([_u1, _u2, _u3])\n",
      "_F = sp.Matrix([_u2,\n",
      "               _u3*(gamma - 1) + _u2**2*(3 - gamma)/(2*_u1),\n",
      "               gamma*_u2*_u3/_u1 + _u2**3/(2*_u1**2)*(1 - gamma)])"
     ],
     "language": "python",
     "metadata": {},
     "outputs": [],
     "prompt_number": 16
    },
    {
     "cell_type": "code",
     "collapsed": false,
     "input": [
      "A = _F.jacobian(_U)\n",
      "A"
     ],
     "language": "python",
     "metadata": {},
     "outputs": [
      {
       "latex": [
        "$$\\left[\\begin{matrix}0 & 1 & 0\\\\- \\frac{u_{2}^{2}}{2 u_{1}^{2}} \\left(- \\gamma + 3\\right) & \\frac{u_{2}}{u_{1}} \\left(- \\gamma + 3\\right) & \\gamma - 1\\\\- \\frac{\\gamma u_{2}}{u_{1}^{2}} u_{3} - \\frac{u_{2}^{3}}{u_{1}^{3}} \\left(- \\gamma + 1\\right) & \\frac{\\gamma u_{3}}{u_{1}} + \\frac{3 u_{2}^{2}}{2 u_{1}^{2}} \\left(- \\gamma + 1\\right) & \\frac{\\gamma u_{2}}{u_{1}}\\end{matrix}\\right]$$"
       ],
       "metadata": {},
       "output_type": "pyout",
       "png": "[encoded data removed]",
       "prompt_number": 17,
       "text": [
        "\u23a1           0                        1              0  \u23a4\n",
        "\u23a2                                                      \u23a5\n",
        "\u23a2        2                                             \u23a5\n",
        "\u23a2     -u\u2082 \u22c5(-\u03b3 + 3)             u\u2082\u22c5(-\u03b3 + 3)            \u23a5\n",
        "\u23a2     \u2500\u2500\u2500\u2500\u2500\u2500\u2500\u2500\u2500\u2500\u2500\u2500\u2500\u2500            \u2500\u2500\u2500\u2500\u2500\u2500\u2500\u2500\u2500\u2500\u2500       \u03b3 - 1\u23a5\n",
        "\u23a2             2                      u\u2081                \u23a5\n",
        "\u23a2         2\u22c5u\u2081                                         \u23a5\n",
        "\u23a2                                                      \u23a5\n",
        "\u23a2              3                      2                \u23a5\n",
        "\u23a2  \u03b3\u22c5u\u2082\u22c5u\u2083   u\u2082 \u22c5(-\u03b3 + 1)  \u03b3\u22c5u\u2083   3\u22c5u\u2082 \u22c5(-\u03b3 + 1)  \u03b3\u22c5u\u2082 \u23a5\n",
        "\u23a2- \u2500\u2500\u2500\u2500\u2500\u2500\u2500 - \u2500\u2500\u2500\u2500\u2500\u2500\u2500\u2500\u2500\u2500\u2500\u2500  \u2500\u2500\u2500\u2500 + \u2500\u2500\u2500\u2500\u2500\u2500\u2500\u2500\u2500\u2500\u2500\u2500\u2500\u2500  \u2500\u2500\u2500\u2500 \u23a5\n",
        "\u23a2      2           3        u\u2081            2        u\u2081  \u23a5\n",
        "\u23a3    u\u2081          u\u2081                   2\u22c5u\u2081             \u23a6"
       ]
      }
     ],
     "prompt_number": 17
    },
    {
     "cell_type": "markdown",
     "metadata": {},
     "source": [
      "## (3)\n",
      "\n",
      "Compute $\\mathbf{\\bar{A}}\\cdot\\mathbf{U}$"
     ]
    },
    {
     "cell_type": "code",
     "collapsed": false,
     "input": [
      "AdotU = sp.Matrix(A.dot(_U))\n",
      "AdotU"
     ],
     "language": "python",
     "metadata": {},
     "outputs": [
      {
       "latex": [
        "$$\\left[\\begin{matrix}u_{2}\\\\u_{3} \\left(\\gamma - 1\\right) + \\frac{u_{2}^{2}}{2 u_{1}} \\left(- \\gamma + 3\\right)\\\\\\frac{\\gamma u_{2}}{u_{1}} u_{3} + u_{1} \\left(- \\frac{\\gamma u_{2}}{u_{1}^{2}} u_{3} - \\frac{u_{2}^{3}}{u_{1}^{3}} \\left(- \\gamma + 1\\right)\\right) + u_{2} \\left(\\frac{\\gamma u_{3}}{u_{1}} + \\frac{3 u_{2}^{2}}{2 u_{1}^{2}} \\left(- \\gamma + 1\\right)\\right)\\end{matrix}\\right]$$"
       ],
       "metadata": {},
       "output_type": "pyout",
       "png": "[encoded data removed]",
       "prompt_number": 34,
       "text": [
        "\u23a1                                 u\u2082                                 \u23a4\n",
        "\u23a2                                                                    \u23a5\n",
        "\u23a2                                    2                               \u23a5\n",
        "\u23a2                                  u\u2082 \u22c5(-\u03b3 + 3)                      \u23a5\n",
        "\u23a2                     u\u2083\u22c5(\u03b3 - 1) + \u2500\u2500\u2500\u2500\u2500\u2500\u2500\u2500\u2500\u2500\u2500\u2500                      \u23a5\n",
        "\u23a2                                      2\u22c5u\u2081                          \u23a5\n",
        "\u23a2                                                                    \u23a5\n",
        "\u23a2             \u239b              3         \u239e      \u239b           2         \u239e\u23a5\n",
        "\u23a2\u03b3\u22c5u\u2082\u22c5u\u2083      \u239c  \u03b3\u22c5u\u2082\u22c5u\u2083   u\u2082 \u22c5(-\u03b3 + 1)\u239f      \u239c\u03b3\u22c5u\u2083   3\u22c5u\u2082 \u22c5(-\u03b3 + 1)\u239f\u23a5\n",
        "\u23a2\u2500\u2500\u2500\u2500\u2500\u2500\u2500 + u\u2081\u22c5\u239c- \u2500\u2500\u2500\u2500\u2500\u2500\u2500 - \u2500\u2500\u2500\u2500\u2500\u2500\u2500\u2500\u2500\u2500\u2500\u2500\u239f + u\u2082\u22c5\u239c\u2500\u2500\u2500\u2500 + \u2500\u2500\u2500\u2500\u2500\u2500\u2500\u2500\u2500\u2500\u2500\u2500\u2500\u2500\u239f\u23a5\n",
        "\u23a2   u\u2081        \u239c      2           3     \u239f      \u239c u\u2081            2     \u239f\u23a5\n",
        "\u23a3             \u239d    u\u2081          u\u2081      \u23a0      \u239d           2\u22c5u\u2081      \u23a0\u23a6"
       ]
      }
     ],
     "prompt_number": 34
    },
    {
     "cell_type": "markdown",
     "metadata": {},
     "source": [
      "Verify $\\mathbf{\\bar{A}}\\cdot\\mathbf{U} = \\mathbf{F}$\n",
      "\n",
      "This is $\\mathbf{\\bar{A}}\\cdot\\mathbf{U}$ in terms of $\\mathbf{W}$"
     ]
    },
    {
     "cell_type": "code",
     "collapsed": false,
     "input": [
      "u_to_primitive = [(_u1,rho), (_u2, rho*u), (_u3, p/(gamma -1) + rho*u**2/2)]\n",
      "should_be_F = AdotU.subs(u_to_primitive)\n",
      "should_be_F"
     ],
     "language": "python",
     "metadata": {},
     "outputs": [
      {
       "latex": [
        "$$\\left[\\begin{matrix}\\rho u\\\\\\frac{\\rho u^{2}}{2} \\left(- \\gamma + 3\\right) + \\left(\\gamma - 1\\right) \\left(\\frac{p}{\\gamma - 1} + \\frac{\\rho u^{2}}{2}\\right)\\\\\\gamma u \\left(\\frac{p}{\\gamma - 1} + \\frac{\\rho u^{2}}{2}\\right) + \\rho u \\left(\\frac{\\gamma}{\\rho} \\left(\\frac{p}{\\gamma - 1} + \\frac{\\rho u^{2}}{2}\\right) + \\frac{3 u^{2}}{2} \\left(- \\gamma + 1\\right)\\right) + \\rho \\left(- \\frac{\\gamma u}{\\rho} \\left(\\frac{p}{\\gamma - 1} + \\frac{\\rho u^{2}}{2}\\right) - u^{3} \\left(- \\gamma + 1\\right)\\right)\\end{matrix}\\right]$$"
       ],
       "metadata": {},
       "output_type": "pyout",
       "png": "[encoded data removed]",
       "prompt_number": 38,
       "text": [
        "\u23a1                                                \u03c1\u22c5u                          \n",
        "\u23a2                                                                             \n",
        "\u23a2                                  2                    \u239b           2\u239e        \n",
        "\u23a2                               \u03c1\u22c5u \u22c5(-\u03b3 + 3)           \u239c  p     \u03c1\u22c5u \u239f        \n",
        "\u23a2                               \u2500\u2500\u2500\u2500\u2500\u2500\u2500\u2500\u2500\u2500\u2500\u2500\u2500 + (\u03b3 - 1)\u22c5\u239c\u2500\u2500\u2500\u2500\u2500 + \u2500\u2500\u2500\u2500\u239f        \n",
        "\u23a2                                     2                 \u239d\u03b3 - 1    2  \u23a0        \n",
        "\u23a2                                                                             \n",
        "\u23a2                         \u239b  \u239b           2\u239e                \u239e     \u239b      \u239b     \n",
        "\u23a2                         \u239c  \u239c  p     \u03c1\u22c5u \u239f                \u239f     \u239c      \u239c  p  \n",
        "\u23a2    \u239b           2\u239e       \u239c\u03b3\u22c5\u239c\u2500\u2500\u2500\u2500\u2500 + \u2500\u2500\u2500\u2500\u239f      2         \u239f     \u239c  \u03b3\u22c5u\u22c5\u239c\u2500\u2500\u2500\u2500\u2500\n",
        "\u23a2    \u239c  p     \u03c1\u22c5u \u239f       \u239c  \u239d\u03b3 - 1    2  \u23a0   3\u22c5u \u22c5(-\u03b3 + 1)\u239f     \u239c      \u239d\u03b3 - 1\n",
        "\u23a2\u03b3\u22c5u\u22c5\u239c\u2500\u2500\u2500\u2500\u2500 + \u2500\u2500\u2500\u2500\u239f + \u03c1\u22c5u\u22c5\u239c\u2500\u2500\u2500\u2500\u2500\u2500\u2500\u2500\u2500\u2500\u2500\u2500\u2500\u2500\u2500\u2500 + \u2500\u2500\u2500\u2500\u2500\u2500\u2500\u2500\u2500\u2500\u2500\u2500\u2500\u239f + \u03c1\u22c5\u239c- \u2500\u2500\u2500\u2500\u2500\u2500\u2500\u2500\u2500\u2500\n",
        "\u23a3    \u239d\u03b3 - 1    2  \u23a0       \u239d       \u03c1                 2      \u23a0     \u239d          \u03c1 \n",
        "\n",
        "                       \u23a4\n",
        "                       \u23a5\n",
        "                       \u23a5\n",
        "                       \u23a5\n",
        "                       \u23a5\n",
        "                       \u23a5\n",
        "                       \u23a5\n",
        "      2\u239e              \u239e\u23a5\n",
        "   \u03c1\u22c5u \u239f              \u239f\u23a5\n",
        " + \u2500\u2500\u2500\u2500\u239f              \u239f\u23a5\n",
        "    2  \u23a0    3         \u239f\u23a5\n",
        "\u2500\u2500\u2500\u2500\u2500\u2500\u2500\u2500 - u \u22c5(-\u03b3 + 1)\u239f\u23a5\n",
        "                      \u23a0\u23a6"
       ]
      }
     ],
     "prompt_number": 38
    },
    {
     "cell_type": "code",
     "collapsed": false,
     "input": [
      "compare(should_be_F, F)"
     ],
     "language": "python",
     "metadata": {},
     "outputs": [
      {
       "latex": [
        "$$\\left[\\begin{matrix}0\\\\0\\\\0\\end{matrix}\\right]$$"
       ],
       "metadata": {},
       "output_type": "pyout",
       "png": "[encoded data removed]",
       "prompt_number": 57,
       "text": [
        "\u23a10\u23a4\n",
        "\u23a2 \u23a5\n",
        "\u23a20\u23a5\n",
        "\u23a2 \u23a5\n",
        "\u23a30\u23a6"
       ]
      }
     ],
     "prompt_number": 57
    },
    {
     "cell_type": "markdown",
     "metadata": {},
     "source": [
      "## (4)\n",
      "\n",
      "Solve eigenvalue problem:\n",
      "\n",
      "$\\Big|\\lambda\\mathbf{\\bar{I}} - \\mathbf{\\bar{A}}\\Big| = \\mathbf{0}$"
     ]
    },
    {
     "cell_type": "code",
     "collapsed": false,
     "input": [
      "eigen_A = sp.Matrix(A.eigenvals().keys()).subs(u_to_primitive)\n",
      "eigen_A.simplify()\n",
      "eigen_A"
     ],
     "language": "python",
     "metadata": {},
     "outputs": [
      {
       "latex": [
        "$$\\left[\\begin{matrix}u - \\frac{1}{\\rho^{2}} \\sqrt{\\gamma p \\rho^{3}}\\\\u\\\\u + \\frac{1}{\\rho^{2}} \\sqrt{\\gamma p \\rho^{3}}\\end{matrix}\\right]$$"
       ],
       "metadata": {},
       "output_type": "pyout",
       "png": "[encoded data removed]",
       "prompt_number": 58,
       "text": [
        "\u23a1       ________\u23a4\n",
        "\u23a2      \u2571      3 \u23a5\n",
        "\u23a2    \u2572\u2571  \u03b3\u22c5p\u22c5\u03c1  \u23a5\n",
        "\u23a2u - \u2500\u2500\u2500\u2500\u2500\u2500\u2500\u2500\u2500\u2500\u2500\u23a5\n",
        "\u23a2          2    \u23a5\n",
        "\u23a2         \u03c1     \u23a5\n",
        "\u23a2               \u23a5\n",
        "\u23a2       u       \u23a5\n",
        "\u23a2               \u23a5\n",
        "\u23a2       ________\u23a5\n",
        "\u23a2      \u2571      3 \u23a5\n",
        "\u23a2    \u2572\u2571  \u03b3\u22c5p\u22c5\u03c1  \u23a5\n",
        "\u23a2u + \u2500\u2500\u2500\u2500\u2500\u2500\u2500\u2500\u2500\u2500\u2500\u23a5\n",
        "\u23a2          2    \u23a5\n",
        "\u23a3         \u03c1     \u23a6"
       ]
      }
     ],
     "prompt_number": 58
    },
    {
     "cell_type": "markdown",
     "metadata": {},
     "source": [
      "# Problem 10\n",
      "## e)"
     ]
    },
    {
     "cell_type": "code",
     "collapsed": false,
     "input": [
      "%reset"
     ],
     "language": "python",
     "metadata": {},
     "outputs": [
      {
       "name": "stdout",
       "output_type": "stream",
       "stream": "stdout",
       "text": [
        "Once deleted, variables cannot be recovered. Proceed (y/[n])? y\n"
       ]
      }
     ],
     "prompt_number": 91
    },
    {
     "cell_type": "code",
     "collapsed": false,
     "input": [
      "#Necessary imports\n",
      "import numpy as np\n",
      "import sympy as sp\n",
      "%matplotlib inline\n",
      "import matplotlib.pyplot as plt"
     ],
     "language": "python",
     "metadata": {},
     "outputs": [],
     "prompt_number": 92
    },
    {
     "cell_type": "code",
     "collapsed": false,
     "input": [
      "state4 = dict(x = -1.04, P = 567, rho = 6.58, v = 0)\n",
      "state3 = dict(x = -0.25, P = 213, rho = 3.27, v = 219)\n",
      "state2 = dict(x = 0.66,  P = 213, rho = 1.96, v = 219)\n",
      "state1 = dict(x = 1.46,  P = 100, rho = 1.17, v = 0)"
     ],
     "language": "python",
     "metadata": {},
     "outputs": [],
     "prompt_number": 93
    },
    {
     "cell_type": "code",
     "collapsed": false,
     "input": [
      "x = np.arange(-2, 2, 0.01)\n",
      "P = np.zeros_like(x)\n",
      "rho = np.zeros_like(x)\n",
      "v = np.zeros_like(x)"
     ],
     "language": "python",
     "metadata": {},
     "outputs": [],
     "prompt_number": 94
    },
    {
     "cell_type": "code",
     "collapsed": false,
     "input": [
      "def populate(the_range, state):\n",
      "    P[the_range] = state['P']\n",
      "    rho[the_range] = state['rho']\n",
      "    v[the_range] = state['v']"
     ],
     "language": "python",
     "metadata": {},
     "outputs": [],
     "prompt_number": 95
    },
    {
     "cell_type": "code",
     "collapsed": false,
     "input": [
      "range4 = np.logical_and(x >= -2, x < state4['x']).nonzero()\n",
      "populate(range4, state4)"
     ],
     "language": "python",
     "metadata": {},
     "outputs": [],
     "prompt_number": 96
    },
    {
     "cell_type": "code",
     "collapsed": false,
     "input": [
      "range3 = np.logical_and(x >= state3['x'], x < state2['x']).nonzero()\n",
      "populate(range3, state3)\n",
      "range2 = np.logical_and(x >= state2['x'], x < state1['x']).nonzero()\n",
      "populate(range2, state2)\n",
      "range1 = np.logical_and(x >= state1['x'], x < 3).nonzero()\n",
      "populate(range1, state1)"
     ],
     "language": "python",
     "metadata": {},
     "outputs": [],
     "prompt_number": 97
    },
    {
     "cell_type": "code",
     "collapsed": false,
     "input": [
      "# rangefan = np.logical_and(x >= state4['x'], x < state3['x']).nonzero()\n",
      "# bgn = rangefan[0] - 1; end = rangefan[-1] + 1; \n",
      "bgn_fan = range4[0][-1]\n",
      "end_fan = range3[0][0]\n",
      "len_fan = end_fan - bgn_fan\n",
      "P[bgn_fan:end_fan] = np.linspace(P[bgn_fan], P[end_fan], num = len_fan)\n",
      "rho[bgn_fan:end_fan] = np.linspace(rho[bgn_fan], rho[end_fan], num = len_fan)\n",
      "v[bgn_fan:end_fan] = np.linspace(v[bgn_fan], v[end_fan], num = len_fan)"
     ],
     "language": "python",
     "metadata": {},
     "outputs": [],
     "prompt_number": 98
    },
    {
     "cell_type": "code",
     "collapsed": false,
     "input": [
      "# Two subplots, the axes array is 1-d\n",
      "f, axarr = plt.subplots(3, sharex=True, figsize = (15,12))\n",
      "axarr[0].plot(x, P)\n",
      "axarr[0].set_ylabel('Pressure (kPa)')\n",
      "axarr[1].plot(x, rho)\n",
      "axarr[1].set_ylabel('Density (kg/m3)')\n",
      "axarr[2].plot(x, v)\n",
      "axarr[2].set_ylabel('Velocity (m/s)')\n",
      "axarr[2].set_xlabel('x (m)')\n",
      "axarr[0].set_title('Problem 10 e)')\n",
      "for ax in axarr:\n",
      "    for state in [state1, state2, state3, state4]:\n",
      "        ax.axvline(x = state['x'], ymin = -1.2, ymax = 1, linestyle='--', color='k')\n",
      "plt.show()"
     ],
     "language": "python",
     "metadata": {},
     "outputs": [
      {
       "metadata": {},
       "output_type": "display_data",
       "png": "[encoded data removed]",
       "text": [
        "<matplotlib.figure.Figure at 0x8841450>"
       ]
      }
     ],
     "prompt_number": 110
    },
    {
     "cell_type": "markdown",
     "metadata": {},
     "source": [
      "## f)\n",
      "\n",
      "\\begin{equation}\n",
      "P = \\begin{cases}\n",
      "P_4 & t < 0.003\\\\\n",
      "P_4\\left[ \\dfrac{2}{\\gamma + 1} + \\dfrac{\\gamma -1}{\\gamma + 1}\\dfrac{1}{C_4}\\left(A + \\dfrac{B}{t}\\right)\\right]^{\\dfrac{2\\gamma}{\\gamma -1}} & 0.003 < t < 0.012 \\\\ \\\\ \n",
      "P_3 & t > 0.012\n",
      "\\end{cases}\n",
      "\\end{equation}"
     ]
    },
    {
     "cell_type": "code",
     "collapsed": false,
     "input": [
      "%reset"
     ],
     "language": "python",
     "metadata": {},
     "outputs": [
      {
       "name": "stdout",
       "output_type": "stream",
       "stream": "stdout",
       "text": [
        "Once deleted, variables cannot be recovered. Proceed (y/[n])? y\n"
       ]
      }
     ],
     "prompt_number": 25
    },
    {
     "cell_type": "code",
     "collapsed": false,
     "input": [
      "#Necessary imports\n",
      "import numpy as np\n",
      "import sympy as sp\n",
      "%matplotlib inline\n",
      "import matplotlib.pyplot as plt\n",
      "sp.init_printing()"
     ],
     "language": "python",
     "metadata": {},
     "outputs": [],
     "prompt_number": 103
    },
    {
     "cell_type": "code",
     "collapsed": false,
     "input": [
      "P4 = 567\n",
      "P3 = 213\n",
      "gamma = 1.4\n",
      "C4 = 347\n",
      "A = -15.4\n",
      "B = 1.087"
     ],
     "language": "python",
     "metadata": {},
     "outputs": [],
     "prompt_number": 104
    },
    {
     "cell_type": "code",
     "collapsed": false,
     "input": [
      "def left_facing_fan(t):\n",
      "    right = (gamma - 1)/(gamma + 1)/C4*(A + B/t)\n",
      "    left = 2/(gamma + 1)\n",
      "    pwr = (2*gamma)/(gamma - 1)\n",
      "    return P4*(left + right)**pwr"
     ],
     "language": "python",
     "metadata": {},
     "outputs": [],
     "prompt_number": 105
    },
    {
     "cell_type": "code",
     "collapsed": false,
     "input": [
      "t = np.arange(0, 0.02, 0.001)"
     ],
     "language": "python",
     "metadata": {},
     "outputs": [],
     "prompt_number": 106
    },
    {
     "cell_type": "code",
     "collapsed": false,
     "input": [
      "condlist = [t < 0.003, np.logical_and(t >= 0.003, t < 0.012), t >= 0.012]\n",
      "funclist = [lambda x:P4, left_facing_fan, lambda x:P3]\n",
      "p = np.piecewise(t, condlist, funclist)"
     ],
     "language": "python",
     "metadata": {},
     "outputs": [],
     "prompt_number": 107
    },
    {
     "cell_type": "code",
     "collapsed": false,
     "input": [
      "fig, ax = plt.subplots(figsize = (8, 6))\n",
      "\n",
      "ax.plot(t, p)\n",
      "ax.set_xlabel('Time (s)')\n",
      "ax.set_ylabel('Pressure (kPa)')\n",
      "ax.set_title('Problem 10 f)')\n",
      "plt.show()"
     ],
     "language": "python",
     "metadata": {},
     "outputs": [
      {
       "metadata": {},
       "output_type": "display_data",
       "png": "[encoded data removed]",
       "text": [
        "<matplotlib.figure.Figure at 0x90a4090>"
       ]
      }
     ],
     "prompt_number": 109
    },
    {
     "cell_type": "code",
     "collapsed": false,
     "input": [],
     "language": "python",
     "metadata": {},
     "outputs": []
    }
   ],
   "metadata": {}
  }
 ]
}