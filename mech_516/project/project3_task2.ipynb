{
 "metadata": {
  "name": "",
  "signature": "sha256:3d27bb26dcbd12a04a439183daa6ef27fac7e8465de5a4f7353b3fb6501076d4"
 },
 "nbformat": 3,
 "nbformat_minor": 0,
 "worksheets": [
  {
   "cells": [
    {
     "cell_type": "markdown",
     "metadata": {},
     "source": [
      "# Mini-project 3\n",
      "\n",
      "## Task 2"
     ]
    },
    {
     "cell_type": "code",
     "collapsed": false,
     "input": [
      "# Imports\n",
      "import numpy as np\n",
      "import matplotlib.pyplot as plt\n",
      "import os\n",
      "import pdb\n",
      "from euler import schemes\n",
      "from matplotlib import animation\n",
      "from linear.plot_utils import format_axes, latexify\n",
      "# %matplotlib inline"
     ],
     "language": "python",
     "metadata": {},
     "outputs": [],
     "prompt_number": 1
    },
    {
     "cell_type": "code",
     "collapsed": false,
     "input": [
      "from matplotlib.lines import Line2D"
     ],
     "language": "python",
     "metadata": {},
     "outputs": [],
     "prompt_number": 2
    },
    {
     "cell_type": "markdown",
     "metadata": {},
     "source": [
      "### Necessary functions and classes"
     ]
    },
    {
     "cell_type": "code",
     "collapsed": false,
     "input": [
      "class SubplotAnimation(animation.TimedAnimation):\n",
      "    def __init__(self, W, x, time):\n",
      "#         fig = plt.figure(figsize=(20, 12))\n",
      "#         ax1 = fig.add_subplot(1, 2, 1)\n",
      "#         ax2 = fig.add_subplot(1, 2, 2)\n",
      "        fig, (ax1, ax2) = plt.subplots(ncols=2, figsize=(12, 5))\n",
      "        \n",
      "        self.rho = W[:, 0, :]\n",
      "        self.p = W[:, 2, :]\n",
      "        self.x = x\n",
      "        self.time = time\n",
      "        \n",
      "        ax1.set_title('Density', size=20)\n",
      "        ax1.set_ylabel(r'$\\rho$', size=17)\n",
      "        ax2.set_title('Pressure', size=20)\n",
      "        ax2.set_ylabel('$P$', size=17)\n",
      "        \n",
      "        lw = 10\n",
      "#         self.line1 = Line2D([], [], color='b', linestyle='None', marker='.')\n",
      "        self.line1 = Line2D([], [], color='b', linewidth=lw)\n",
      "        self.line1h = Line2D([], [], color='r', linewidth=lw)\n",
      "        ax1.add_line(self.line1)\n",
      "        ax1.add_line(self.line1h)\n",
      "        ax1.set_xlim(x[0], x[-1])\n",
      "        ax1.set_ylim(0, 100)\n",
      "#         ax1.set_aspect('equal', 'datalim')\n",
      "        \n",
      "#         self.line2 = Line2D([], [], color='b', linestyle='None', marker='.')\n",
      "        self.line2 = Line2D([], [], color='b', linewidth=lw)\n",
      "        self.line2h = Line2D([], [], color='r', linewidth=lw)\n",
      "        ax2.add_line(self.line2)\n",
      "        ax2.add_line(self.line2h)\n",
      "        ax2.set_xlim(x[0], x[-1])\n",
      "#         ax2.set_ylim(self.p.min(), self.p.max())\n",
      "        ax2.set_ylim(0, 1000)\n",
      "    \n",
      "        self.time1 = ax1.text(0.5, 0.9, '', ha='center', transform=ax1.transAxes)\n",
      "        self.time2 = ax2.text(0.5, 0.9, '', ha='center', transform=ax2.transAxes)\n",
      "        \n",
      "        \n",
      "#         ax2.set_aspect('equal', 'datalim')        \n",
      "        animation.TimedAnimation.__init__(self, fig, interval=50, blit=True)\n",
      "        \n",
      "    def _draw_frame(self, framedata):\n",
      "#         print(framedata)\n",
      "        i = framedata\n",
      "\n",
      "        self.line1.set_data(self.x, self.rho[:, i])\n",
      "        self.line2.set_data(self.x, self.p[:, i])\n",
      "        \n",
      "        self.time1.set_text('Time = %.3f' % self.time[i])\n",
      "        self.time2.set_text('Time = %.3f' % self.time[i])\n",
      "        \n",
      "        self._drawn_artists = [self.line1, self.line1h,\n",
      "                               self.line2, self.line2h,\n",
      "                               self.time1, self.time2]\n",
      "    \n",
      "    def new_frame_seq(self):\n",
      "        return iter(range(self.rho.shape[1]))\n",
      "    \n",
      "    def _init_draw(self):\n",
      "        lines = [self.line1, self.line1h,\n",
      "                 self.line2, self.line2h]\n",
      "        for l in lines:\n",
      "            l.set_data([], [])\n",
      "        self.time1.set_text('')\n",
      "        self.time2.set_text('')"
     ],
     "language": "python",
     "metadata": {},
     "outputs": [],
     "prompt_number": 3
    },
    {
     "cell_type": "code",
     "collapsed": false,
     "input": [
      "# latexify()\n",
      "make_path = lambda x: os.path.abspath(os.path.join('project3_tex', 'figs', x + '.pdf'))"
     ],
     "language": "python",
     "metadata": {},
     "outputs": [],
     "prompt_number": 4
    },
    {
     "cell_type": "code",
     "collapsed": false,
     "input": [
      "def set_ghost_BC(W, ghost):\n",
      "    gh_2 = ghost//2  # ghost/2 ghost cells on either side\n",
      "#     assert len(W) == ghost + N\n",
      "    # Left BC\n",
      "    W[:gh_2] = W[ghost - 1:gh_2 - 1:-1]\n",
      "    W[:gh_2, 1] = -W[:gh_2, 1]\n",
      "    W[-gh_2:] = W[-gh_2 - 1:-ghost - 1:-1]\n",
      "    W[-gh_2:, 1] = -W[-gh_2:, 1]"
     ],
     "language": "python",
     "metadata": {},
     "outputs": [],
     "prompt_number": 5
    },
    {
     "cell_type": "code",
     "collapsed": false,
     "input": [
      "def max_eigenvalue(W):\n",
      "    c = np.sqrt(gamma*W[:, 2]/W[:, 0])\n",
      "    u = W[:, 1]\n",
      "    # Calculate maximum of each eigenvalue\n",
      "    y1max = np.max(np.abs(u - c))\n",
      "    y2max = np.max(np.abs(u))\n",
      "    y3max = np.max(np.abs(u + c))\n",
      "    ymax = max((y1max, y2max, y3max))\n",
      "    return ymax"
     ],
     "language": "python",
     "metadata": {},
     "outputs": [],
     "prompt_number": 6
    },
    {
     "cell_type": "code",
     "collapsed": false,
     "input": [
      "def solve(limiter, W0, dx):\n",
      "    CFL = 0.7\n",
      "    t = i = 0\n",
      "    W_ALL = np.zeros((len(W0), 3, 100000))\n",
      "    W_ALL[:, :, 0] = W0\n",
      "    W_new = W0.copy()\n",
      "    times = [t, ]\n",
      "    while t < t_end:\n",
      "        if t == 25:\n",
      "            break\n",
      "        ymax = max_eigenvalue(W_new)\n",
      "        dt = dx*CFL/ymax\n",
      "        if t + dt > t_end:\n",
      "            dt = t_end - t\n",
      "            CFL = ymax*dt/dx\n",
      "#             print(\"Last CFL: %.2f\" % CFL)\n",
      "        rho, u, p = W_new.T\n",
      "        rho, u, p = schemes.MUSCL(rho, u, p, dt, dx, limiter=limiter)\n",
      "        W_new = np.vstack((rho, u, p)).T\n",
      "        set_ghost_BC(W_new, ghost)\n",
      "        # Update\n",
      "        i = i+1\n",
      "        t += dt\n",
      "        times.append(t)\n",
      "        W_ALL[:, :, i] = W_new\n",
      "#         pdb.set_trace()\n",
      "    W_ALL = W_ALL[:, :, :i+1]\n",
      "    return W_ALL, times"
     ],
     "language": "python",
     "metadata": {},
     "outputs": [],
     "prompt_number": 7
    },
    {
     "cell_type": "markdown",
     "metadata": {},
     "source": [
      "### Initial Conditions"
     ]
    },
    {
     "cell_type": "code",
     "collapsed": false,
     "input": [
      "# Grid\n",
      "xmin = 0.001\n",
      "xmax = 1.501\n",
      "Nleft = 15\n",
      "N = 51\n",
      "x = np.linspace(xmin, xmax, N)\n",
      "dx = x[1] - x[0]\n",
      "CFL = 0.8"
     ],
     "language": "python",
     "metadata": {},
     "outputs": [],
     "prompt_number": 8
    },
    {
     "cell_type": "code",
     "collapsed": false,
     "input": [
      "# Initial States\n",
      "W_r0 = [1, 0, 1]\n",
      "W_l0 = [100, 0, 1000]\n",
      "gamma = 1.4\n",
      "t_end  = 0.6"
     ],
     "language": "python",
     "metadata": {},
     "outputs": [],
     "prompt_number": 9
    },
    {
     "cell_type": "code",
     "collapsed": false,
     "input": [
      "# Generating arrays\n",
      "W = np.empty((len(x), 3))\n",
      "W[:Nleft] = W_l0\n",
      "W[Nleft:] = W_r0"
     ],
     "language": "python",
     "metadata": {},
     "outputs": [],
     "prompt_number": 10
    },
    {
     "cell_type": "code",
     "collapsed": false,
     "input": [
      "# Set ghost cells\n",
      "ghost = 6\n",
      "gh_2 = ghost//2\n",
      "W_new = np.zeros((N+ghost, 3))\n",
      "W_new[gh_2:-gh_2] = W\n",
      "set_ghost_BC(W_new, ghost)"
     ],
     "language": "python",
     "metadata": {},
     "outputs": [],
     "prompt_number": 11
    },
    {
     "cell_type": "markdown",
     "metadata": {},
     "source": [
      "### Solve"
     ]
    },
    {
     "cell_type": "code",
     "collapsed": false,
     "input": [
      "W_ALL, times = solve('VanLeer', W_new, dx)\n",
      "W_filter = W_ALL[gh_2:-gh_2, :, :]"
     ],
     "language": "python",
     "metadata": {},
     "outputs": [],
     "prompt_number": 12
    },
    {
     "cell_type": "code",
     "collapsed": false,
     "input": [
      "x_idx = (x > 1.3).argmax()\n",
      "x_idx"
     ],
     "language": "python",
     "metadata": {},
     "outputs": [
      {
       "metadata": {},
       "output_type": "pyout",
       "prompt_number": 13,
       "text": [
        "44"
       ]
      }
     ],
     "prompt_number": 13
    },
    {
     "cell_type": "code",
     "collapsed": false,
     "input": [
      "p_at_x = W_filter[x_idx, 2, :]\n",
      "p_at_x.shape"
     ],
     "language": "python",
     "metadata": {},
     "outputs": [
      {
       "metadata": {},
       "output_type": "pyout",
       "prompt_number": 14,
       "text": [
        "(221,)"
       ]
      }
     ],
     "prompt_number": 14
    },
    {
     "cell_type": "code",
     "collapsed": false,
     "input": [
      "p_at_x.max()"
     ],
     "language": "python",
     "metadata": {},
     "outputs": [
      {
       "metadata": {},
       "output_type": "pyout",
       "prompt_number": 15,
       "text": [
        "787.89581676877538"
       ]
      }
     ],
     "prompt_number": 15
    },
    {
     "cell_type": "code",
     "collapsed": false,
     "input": [
      "ani = SubplotAnimation(W_filter, x, times)\n",
      "# ani.save('task2_vanleer.mp4')\n",
      "plt.show()"
     ],
     "language": "python",
     "metadata": {},
     "outputs": []
    },
    {
     "cell_type": "code",
     "collapsed": false,
     "input": [
      "%matplotlib inline"
     ],
     "language": "python",
     "metadata": {},
     "outputs": [],
     "prompt_number": 16
    },
    {
     "cell_type": "code",
     "collapsed": false,
     "input": [
      "def get_peak(the_x, N):\n",
      "    # Grid\n",
      "    xmin = 0.001\n",
      "    xmax = 1.501\n",
      "    Nleft = 15\n",
      "    x = np.linspace(xmin, xmax, N)\n",
      "    dx = x[1] - x[0]\n",
      "    CFL = 0.8\n",
      "    # Generating arrays\n",
      "    W = np.empty((len(x), 3))\n",
      "    W[:Nleft] = W_l0\n",
      "    W[Nleft:] = W_r0\n",
      "    ghost = 6\n",
      "    gh_2 = ghost//2\n",
      "    W_new = np.zeros((N+ghost, 3))\n",
      "    W_new[gh_2:-gh_2] = W\n",
      "    set_ghost_BC(W_new, ghost)\n",
      "    W_ALL, times = solve('VanLeer', W_new, dx, )\n",
      "    W_filter = W_ALL[gh_2:-gh_2, :, :]\n",
      "    x_idx = (x >= the_x).argmax()\n",
      "    p_at_x = W_filter[x_idx, 2, :]\n",
      "    \n",
      "    return p_at_x.max()"
     ],
     "language": "python",
     "metadata": {},
     "outputs": [],
     "prompt_number": 17
    },
    {
     "cell_type": "code",
     "collapsed": false,
     "input": [
      "peaks = []\n",
      "step = 50\n",
      "N_all = np.arange(51, 1001+step, step)\n",
      "for i, N in enumerate(N_all):\n",
      "    peak = get_peak(1.35, N)\n",
      "    if i==0:\n",
      "        peaks.append(peak)\n",
      "        continue\n",
      "    avg = (peak + peaks[-1])/2\n",
      "    diff = abs(peak - peaks[-1])/avg\n",
      "    print(diff)\n",
      "    peaks.append(peak)\n",
      "    if diff <= 0.01:\n",
      "        print(i)\n",
      "        break\n",
      "    "
     ],
     "language": "python",
     "metadata": {},
     "outputs": [
      {
       "output_type": "stream",
       "stream": "stdout",
       "text": [
        "0.189949709972\n",
        "0.251473911317"
       ]
      },
      {
       "output_type": "stream",
       "stream": "stdout",
       "text": [
        "\n",
        "0.235312305663"
       ]
      },
      {
       "output_type": "stream",
       "stream": "stdout",
       "text": [
        "\n",
        "0.153765879283"
       ]
      },
      {
       "output_type": "stream",
       "stream": "stdout",
       "text": [
        "\n",
        "0.201792452214"
       ]
      },
      {
       "output_type": "stream",
       "stream": "stdout",
       "text": [
        "\n",
        "0.173090341632"
       ]
      },
      {
       "output_type": "stream",
       "stream": "stdout",
       "text": [
        "\n",
        "0.0684006265955"
       ]
      },
      {
       "output_type": "stream",
       "stream": "stdout",
       "text": [
        "\n",
        "0.0457619328508"
       ]
      },
      {
       "output_type": "stream",
       "stream": "stdout",
       "text": [
        "\n",
        "0.0368632948956"
       ]
      },
      {
       "output_type": "stream",
       "stream": "stdout",
       "text": [
        "\n",
        "0.0460789619565"
       ]
      },
      {
       "output_type": "stream",
       "stream": "stdout",
       "text": [
        "\n",
        "0.126440795404"
       ]
      },
      {
       "output_type": "stream",
       "stream": "stdout",
       "text": [
        "\n",
        "0.126108403903"
       ]
      },
      {
       "output_type": "stream",
       "stream": "stdout",
       "text": [
        "\n",
        "0.120590729183"
       ]
      },
      {
       "output_type": "stream",
       "stream": "stdout",
       "text": [
        "\n",
        "0.115523852302"
       ]
      },
      {
       "output_type": "stream",
       "stream": "stdout",
       "text": [
        "\n",
        "0.0684716826615"
       ]
      },
      {
       "output_type": "stream",
       "stream": "stdout",
       "text": [
        "\n",
        "0.0529447179225"
       ]
      },
      {
       "output_type": "stream",
       "stream": "stdout",
       "text": [
        "\n",
        "0.0506266134685"
       ]
      },
      {
       "output_type": "stream",
       "stream": "stdout",
       "text": [
        "\n",
        "0.0491984083806"
       ]
      },
      {
       "output_type": "stream",
       "stream": "stdout",
       "text": [
        "\n",
        "0.0478160212413"
       ]
      },
      {
       "output_type": "stream",
       "stream": "stdout",
       "text": [
        "\n"
       ]
      }
     ],
     "prompt_number": 19
    },
    {
     "cell_type": "code",
     "collapsed": false,
     "input": [
      "fig, ax = plt.subplots()\n",
      "ax.set_xlabel('Number of nodes', size=17)\n",
      "ax.set_ylabel('Maximum Pressure Peak', size=17)\n",
      "ax.plot(N_all, peaks, 'b-')\n",
      "plt.tight_layout()\n",
      "plt.show()\n",
      "fig.savefig('project3_tex/figs/task2_peaks.pdf')"
     ],
     "language": "python",
     "metadata": {},
     "outputs": [
      {
       "metadata": {},
       "output_type": "display_data",
       "png": "[encoded data removed]",
       "text": [
        "<matplotlib.figure.Figure at 0x1141ee10>"
       ]
      }
     ],
     "prompt_number": 21
    },
    {
     "cell_type": "code",
     "collapsed": false,
     "input": [
      "peaks[-1]"
     ],
     "language": "python",
     "metadata": {},
     "outputs": [
      {
       "metadata": {},
       "output_type": "pyout",
       "prompt_number": 22,
       "text": [
        "91.504161129753413"
       ]
      }
     ],
     "prompt_number": 22
    }
   ],
   "metadata": {}
  }
 ]
}