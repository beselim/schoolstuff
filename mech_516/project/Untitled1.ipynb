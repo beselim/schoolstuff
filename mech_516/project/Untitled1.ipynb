{
 "metadata": {
  "name": "",
  "signature": "sha256:f2d1dbb2e7798ef811c57b7eaf588eba6e24bb0f8b631c053706843b788f13c7"
 },
 "nbformat": 3,
 "nbformat_minor": 0,
 "worksheets": [
  {
   "cells": [
    {
     "cell_type": "code",
     "collapsed": false,
     "input": [
      "import numpy as np\n",
      "import matplotlib.pyplot as plt\n",
      "%matplotlib inline"
     ],
     "language": "python",
     "metadata": {},
     "outputs": [],
     "prompt_number": 2
    },
    {
     "cell_type": "code",
     "collapsed": false,
     "input": [
      "def laxfriedrichs(u, a, dt, dx):\n",
      "    un = np.zeros_like(u)   \n",
      "    for i in range(1, len(x)-1):\n",
      "        first = dt/dx*a*(u[i+1] - u[i-1])\n",
      "        second = u[i+1] - 2*u[i] + u[i-1]\n",
      "        un[i] = u[i] - first/2.0 + second/2.0\n",
      "    un[0] = u[0]\n",
      "    un[-1] = u[-1]\n",
      "    return un"
     ],
     "language": "python",
     "metadata": {},
     "outputs": [],
     "prompt_number": 32
    },
    {
     "cell_type": "code",
     "collapsed": false,
     "input": [
      "a = 2\n",
      "dt = 0.01\n",
      "courant = 0.8\n",
      "dx = dt*a/courant\n",
      "t = np.arange(0, 100+dt, dt)\n",
      "x = np.arange(-20, 400, dx)"
     ],
     "language": "python",
     "metadata": {},
     "outputs": [],
     "prompt_number": 44
    },
    {
     "cell_type": "code",
     "collapsed": false,
     "input": [
      "u = np.ones(len(x))*0.5\n",
      "x_begin = np.logical_and(x<=20, x>=0)\n",
      "u[x_begin] = 0.5 + 0.075*x[x_begin]"
     ],
     "language": "python",
     "metadata": {},
     "outputs": [],
     "prompt_number": 45
    },
    {
     "cell_type": "code",
     "collapsed": false,
     "input": [
      "un = np.zeros((len(t), len(x)))\n",
      "un[0] = u"
     ],
     "language": "python",
     "metadata": {},
     "outputs": [],
     "prompt_number": 46
    },
    {
     "cell_type": "code",
     "collapsed": false,
     "input": [
      "for n in range(0, len(t)-1):\n",
      "    un[n+1] = laxfriedrichs(un[n], a, dt, dx)"
     ],
     "language": "python",
     "metadata": {},
     "outputs": [],
     "prompt_number": 47
    },
    {
     "cell_type": "code",
     "collapsed": false,
     "input": [
      "plt.plot(x, un[0])"
     ],
     "language": "python",
     "metadata": {},
     "outputs": [
      {
       "metadata": {},
       "output_type": "pyout",
       "prompt_number": 49,
       "text": [
        "[<matplotlib.lines.Line2D at 0x8d37978>]"
       ]
      },
      {
       "metadata": {},
       "output_type": "display_data",
       "png": "[encoded data removed]",
       "text": [
        "<matplotlib.figure.Figure at 0x8a47d68>"
       ]
      }
     ],
     "prompt_number": 49
    },
    {
     "cell_type": "code",
     "collapsed": false,
     "input": [],
     "language": "python",
     "metadata": {},
     "outputs": []
    }
   ],
   "metadata": {}
  }
 ]
}