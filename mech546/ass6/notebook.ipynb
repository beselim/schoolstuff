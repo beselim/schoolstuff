{
 "cells": [
  {
   "cell_type": "markdown",
   "metadata": {},
   "source": [
    "# Question 2\n",
    "\n",
    "## Weak Form\n",
    "\n",
    "The weak form of the Euler-Bernoulli beam element is given by:\n",
    "\\begin{align*}\n",
    "0 = &\\int_{x_e}^{x_{e+1}} \\left(\n",
    "    EI \\frac{d^2 v}{dx^2}\\frac{d^2 w}{dx^2} + c_f v w - v q \n",
    "\\right) dx\\\\\n",
    "&- v(x_e)Q_1^e - \\left(-\\frac{dv}{dx}\\right)\\big|_{x_e}Q_2^e\n",
    "- v(x_{e+1})Q_3^e - \\left(-\\frac{dv}{dx}\\right)\\big|_{x_{e+1}}Q_4^e\n",
    "\\end{align*}\n",
    "\n",
    "### a)\n",
    "\n",
    "We consider a three-node element with two degrees of freedom ($w, \\theta$) where $\\theta = -dw/dx$. It is assumed that the interior \n",
    "node is equidistant from the outer nodes, i.e. :\n",
    "$$\n",
    "x_{interior} = x_{e+1/2} = \\frac{x_e + x_{e+1}}{2}\n",
    "$$\n",
    "\n",
    "The approximation $w_h^e(x)$ of $w(x)$ over our element should\n",
    "satisfy the following interpolation properties:\n",
    "\\begin{align*}\n",
    "&w_h^e(x_e) = \\Delta_1^e = w_1^e, \\quad \n",
    "    &&\\Delta_2^e = \\theta_h^e(x_e) = \\theta_1^e\\\\\n",
    "&w_h^e(x_{e+1/2}) = \\Delta_3^e = w_2^e, \\quad \n",
    "    &&\\Delta_4^e = \\theta_h^e(x_{e+1/2}) = \\theta_2^e\\\\\n",
    "&w_h^e(x_{e+1}) = \\Delta_5^e = w_3^e, \\quad \n",
    "    &&\\Delta_6^e = \\theta_h^e(x_{e+1}) = \\theta_3^e\n",
    "\\end{align*}\n",
    "To satisfy all conditions, we need a six-parameter polynomial:\n",
    "$$\n",
    "w(x) \\approx w_h^e(x) = c_1^e + c_2^e x + c_3^e x^2 + c_4^e x^3\n",
    "    + c_5^e x^4 + c_6^e x^5\n",
    "$$\n",
    "The next step involves expressing $c_i^e$ in terms of $\\Delta_j^e$ -- this is where we begin to use sympy. "
   ]
  },
  {
   "cell_type": "code",
   "execution_count": 1,
   "metadata": {
    "collapsed": false
   },
   "outputs": [],
   "source": [
    "import sympy as sp\n",
    "from sympy.matrices.expressions.matmul import MatMul\n",
    "import numpy as np\n",
    "sp.init_printing(num_columns=140)\n",
    "\n",
    "from sympyutils import show, show_list, show_add"
   ]
  },
  {
   "cell_type": "code",
   "execution_count": 2,
   "metadata": {
    "collapsed": false
   },
   "outputs": [
    {
     "data": {
      "image/png": "[encoded data removed]",
      "text/latex": [
       "$$\\left ( x_{e}, \\quad x_{{e+1/2}}, \\quad x_{{e+1}}\\right )$$"
      ],
      "text/plain": [
       "(xₑ, x_{e+1/2}, x_{e+1})"
      ]
     },
     "execution_count": 2,
     "metadata": {},
     "output_type": "execute_result"
    }
   ],
   "source": [
    "all_c = sp.symbols('c1:7', real=True)\n",
    "# all_c = sp.symbols('c1:5', real=True)\n",
    "num_c = len(all_c)\n",
    "x = sp.symbols('x', real=True)\n",
    "h = sp.symbols('h_e', real=True)\n",
    "all_xe = sp.symbols('x_e x_{e+1/2} x_{e+1}', real=True)\n",
    "# all_xe = sp.symbols('x_e x_{e+1}')\n",
    "all_xe"
   ]
  },
  {
   "cell_type": "code",
   "execution_count": 3,
   "metadata": {
    "collapsed": false
   },
   "outputs": [
    {
     "data": {
      "text/latex": [
       "$$w_h^e(x)=c_{1} + c_{2} x + c_{3} x^{2} + c_{4} x^{3} + c_{5} x^{4} + c_{6} x^{5}$$"
      ],
      "text/plain": [
       "<IPython.core.display.Math object>"
      ]
     },
     "execution_count": 3,
     "metadata": {},
     "output_type": "execute_result"
    }
   ],
   "source": [
    "w = sum( [all_c[i]*x**i for i in range(num_c)] )\n",
    "show(w, 'w_h^e(x)')"
   ]
  },
  {
   "cell_type": "code",
   "execution_count": 4,
   "metadata": {
    "collapsed": false
   },
   "outputs": [
    {
     "data": {
      "text/latex": [
       "$$\\theta_h^e(x)=- c_{2} - 2 c_{3} x - 3 c_{4} x^{2} - 4 c_{5} x^{3} - 5 c_{6} x^{4}$$"
      ],
      "text/plain": [
       "<IPython.core.display.Math object>"
      ]
     },
     "execution_count": 4,
     "metadata": {},
     "output_type": "execute_result"
    }
   ],
   "source": [
    "t = -sp.diff(w, x)\n",
    "show(t, r'\\theta_h^e(x)')"
   ]
  },
  {
   "cell_type": "code",
   "execution_count": 5,
   "metadata": {
    "collapsed": false
   },
   "outputs": [
    {
     "data": {
      "image/png": "[encoded data removed]",
      "text/latex": [
       "$$\\left ( \\Delta_{1}, \\quad \\Delta_{2}, \\quad \\Delta_{3}, \\quad \\Delta_{4}, \\quad \\Delta_{5}, \\quad \\Delta_{6}\\right )$$"
      ],
      "text/plain": [
       "(Δ₁, Δ₂, Δ₃, Δ₄, Δ₅, Δ₆)"
      ]
     },
     "execution_count": 5,
     "metadata": {},
     "output_type": "execute_result"
    }
   ],
   "source": [
    "all_d = sp.symbols('Delta_1:7')\n",
    "# all_d = sp.symbols('Delta_1:5')\n",
    "all_d"
   ]
  },
  {
   "cell_type": "code",
   "execution_count": 6,
   "metadata": {
    "collapsed": false
   },
   "outputs": [
    {
     "data": {
      "text/latex": [
       "$$\\begin{aligned}\n",
       "\\Delta_{1}&=c_{1} + c_{2} x_{e} + c_{3} x_{e}^{2} + c_{4} x_{e}^{3} + c_{5} x_{e}^{4} + c_{6} x_{e}^{5}\\\\\\Delta_{2}&=- c_{2} - 2 c_{3} x_{e} - 3 c_{4} x_{e}^{2} - 4 c_{5} x_{e}^{3} - 5 c_{6} x_{e}^{4}\\\\\\Delta_{3}&=c_{1} + c_{2} x_{{e+1/2}} + c_{3} x_{{e+1/2}}^{2} + c_{4} x_{{e+1/2}}^{3} + c_{5} x_{{e+1/2}}^{4} + c_{6} x_{{e+1/2}}^{5}\\\\\\Delta_{4}&=- c_{2} - 2 c_{3} x_{{e+1/2}} - 3 c_{4} x_{{e+1/2}}^{2} - 4 c_{5} x_{{e+1/2}}^{3} - 5 c_{6} x_{{e+1/2}}^{4}\\\\\\Delta_{5}&=c_{1} + c_{2} x_{{e+1}} + c_{3} x_{{e+1}}^{2} + c_{4} x_{{e+1}}^{3} + c_{5} x_{{e+1}}^{4} + c_{6} x_{{e+1}}^{5}\\\\\\Delta_{6}&=- c_{2} - 2 c_{3} x_{{e+1}} - 3 c_{4} x_{{e+1}}^{2} - 4 c_{5} x_{{e+1}}^{3} - 5 c_{6} x_{{e+1}}^{4}\n",
       "\\end{aligned}$$"
      ],
      "text/plain": [
       "<IPython.core.display.Math object>"
      ]
     },
     "execution_count": 6,
     "metadata": {},
     "output_type": "execute_result"
    }
   ],
   "source": [
    "d_eqs = []\n",
    "for i, xe in enumerate(all_xe):\n",
    "    d1 = w.subs(x, xe)\n",
    "    d_eqs.append(d1)\n",
    "    d2 = t.subs(x, xe)\n",
    "    d_eqs.append(d2)\n",
    "d_names = [sp.latex(d) for d in all_d]\n",
    "show_list(d_eqs, d_names)"
   ]
  },
  {
   "cell_type": "code",
   "execution_count": 7,
   "metadata": {
    "collapsed": true
   },
   "outputs": [],
   "source": [
    "def pop_A(i, j):\n",
    "    di = d_eqs[i]\n",
    "    return di.coeff(all_c[j])"
   ]
  },
  {
   "cell_type": "code",
   "execution_count": 8,
   "metadata": {
    "collapsed": false
   },
   "outputs": [
    {
     "data": {
      "text/latex": [
       "$$A=\\left[\\begin{matrix}1 & 0 & 0 & 0 & 0 & 0\\\\0 & -1 & 0 & 0 & 0 & 0\\\\1 & \\frac{h_{e}}{2} & \\frac{h_{e}^{2}}{4} & \\frac{h_{e}^{3}}{8} & \\frac{h_{e}^{4}}{16} & \\frac{h_{e}^{5}}{32}\\\\0 & -1 & - h_{e} & - \\frac{3 h_{e}^{2}}{4} & - \\frac{h_{e}^{3}}{2} & - \\frac{5 h_{e}^{4}}{16}\\\\1 & h_{e} & h_{e}^{2} & h_{e}^{3} & h_{e}^{4} & h_{e}^{5}\\\\0 & -1 & - 2 h_{e} & - 3 h_{e}^{2} & - 4 h_{e}^{3} & - 5 h_{e}^{4}\\end{matrix}\\right]$$"
      ],
      "text/plain": [
       "<IPython.core.display.Math object>"
      ]
     },
     "execution_count": 8,
     "metadata": {},
     "output_type": "execute_result"
    }
   ],
   "source": [
    "A = sp.Matrix(num_c, num_c, pop_A)\n",
    "A = A.subs(all_xe[1], all_xe[0] + h/2).subs(all_xe[2], all_xe[0] + h)\n",
    "# A = A.subs(all_xe[1], all_xe[0] + h)\n",
    "# Switch to local coordinates\n",
    "A = A.subs(all_xe[0], 0)\n",
    "\n",
    "show(A, 'A')"
   ]
  },
  {
   "cell_type": "code",
   "execution_count": 9,
   "metadata": {
    "collapsed": false
   },
   "outputs": [
    {
     "data": {
      "text/latex": [
       "$$D=\\left[\\begin{matrix}\\Delta_{1}\\\\\\Delta_{2}\\\\\\Delta_{3}\\\\\\Delta_{4}\\\\\\Delta_{5}\\\\\\Delta_{6}\\end{matrix}\\right]$$"
      ],
      "text/plain": [
       "<IPython.core.display.Math object>"
      ]
     },
     "execution_count": 9,
     "metadata": {},
     "output_type": "execute_result"
    }
   ],
   "source": [
    "D = sp.Matrix(all_d)\n",
    "show(D, 'D')"
   ]
  },
  {
   "cell_type": "code",
   "execution_count": 10,
   "metadata": {
    "collapsed": false
   },
   "outputs": [],
   "source": [
    "C = A.inv().dot(D)"
   ]
  },
  {
   "cell_type": "code",
   "execution_count": 11,
   "metadata": {
    "collapsed": true
   },
   "outputs": [],
   "source": [
    "xbar = sp.symbols(r'\\bar{x}')"
   ]
  },
  {
   "cell_type": "code",
   "execution_count": 12,
   "metadata": {
    "collapsed": false
   },
   "outputs": [],
   "source": [
    "ww = w.subs( [(all_c[i], C[i]) for i in range(num_c)] ).subs(x, xbar)\n",
    "ww = ww.simplify().expand()"
   ]
  },
  {
   "cell_type": "code",
   "execution_count": 13,
   "metadata": {
    "collapsed": false
   },
   "outputs": [],
   "source": [
    "# Some magic to extract the terms\n",
    "all_phi = []\n",
    "for d in all_d:\n",
    "    coeff = ww.coeff(d).simplify().expand()\n",
    "    all_phi.append(coeff)\n",
    "all_d2phi = [sp.diff(phi, xbar, 2).simplify().expand() for phi in all_phi]"
   ]
  },
  {
   "cell_type": "code",
   "execution_count": 14,
   "metadata": {
    "collapsed": false
   },
   "outputs": [],
   "source": [
    "num_phi = len(all_phi)\n",
    "phi_names = [r'\\phi_%1i' % (i+1) for i in range(num_phi)]\n",
    "d2phi_names = [r'\\frac{d^2\\phi_%i}{dx^2}' % (i+1) for i in range(num_phi)]"
   ]
  },
  {
   "cell_type": "code",
   "execution_count": 15,
   "metadata": {
    "collapsed": false
   },
   "outputs": [
    {
     "data": {
      "text/latex": [
       "$$\\begin{aligned}\n",
       "\\phi_1&=\\frac{24 \\bar{x}^{5}}{h_{e}^{5}} - \\frac{68 \\bar{x}^{4}}{h_{e}^{4}} + \\frac{66 \\bar{x}^{3}}{h_{e}^{3}} - \\frac{23 \\bar{x}^{2}}{h_{e}^{2}} + 1\\\\\\phi_2&=- \\frac{4 \\bar{x}^{5}}{h_{e}^{4}} + \\frac{12 \\bar{x}^{4}}{h_{e}^{3}} - \\frac{13 \\bar{x}^{3}}{h_{e}^{2}} + \\frac{6 \\bar{x}^{2}}{h_{e}} - \\bar{x}\\\\\\phi_3&=\\frac{16 \\bar{x}^{4}}{h_{e}^{4}} - \\frac{32 \\bar{x}^{3}}{h_{e}^{3}} + \\frac{16 \\bar{x}^{2}}{h_{e}^{2}}\\\\\\phi_4&=- \\frac{16 \\bar{x}^{5}}{h_{e}^{4}} + \\frac{40 \\bar{x}^{4}}{h_{e}^{3}} - \\frac{32 \\bar{x}^{3}}{h_{e}^{2}} + \\frac{8 \\bar{x}^{2}}{h_{e}}\\\\\\phi_5&=- \\frac{24 \\bar{x}^{5}}{h_{e}^{5}} + \\frac{52 \\bar{x}^{4}}{h_{e}^{4}} - \\frac{34 \\bar{x}^{3}}{h_{e}^{3}} + \\frac{7 \\bar{x}^{2}}{h_{e}^{2}}\\\\\\phi_6&=- \\frac{4 \\bar{x}^{5}}{h_{e}^{4}} + \\frac{8 \\bar{x}^{4}}{h_{e}^{3}} - \\frac{5 \\bar{x}^{3}}{h_{e}^{2}} + \\frac{\\bar{x}^{2}}{h_{e}}\n",
       "\\end{aligned}$$"
      ],
      "text/plain": [
       "<IPython.core.display.Math object>"
      ]
     },
     "execution_count": 15,
     "metadata": {},
     "output_type": "execute_result"
    }
   ],
   "source": [
    "show_list(all_phi, phi_names)"
   ]
  },
  {
   "cell_type": "code",
   "execution_count": 16,
   "metadata": {
    "collapsed": false
   },
   "outputs": [
    {
     "data": {
      "text/latex": [
       "$$\\begin{aligned}\n",
       "\\frac{d^2\\phi_1}{dx^2}&=\\frac{480 \\bar{x}^{3}}{h_{e}^{5}} - \\frac{816 \\bar{x}^{2}}{h_{e}^{4}} + \\frac{396 \\bar{x}}{h_{e}^{3}} - \\frac{46}{h_{e}^{2}}\\\\\\frac{d^2\\phi_2}{dx^2}&=- \\frac{80 \\bar{x}^{3}}{h_{e}^{4}} + \\frac{144 \\bar{x}^{2}}{h_{e}^{3}} - \\frac{78 \\bar{x}}{h_{e}^{2}} + \\frac{12}{h_{e}}\\\\\\frac{d^2\\phi_3}{dx^2}&=\\frac{192 \\bar{x}^{2}}{h_{e}^{4}} - \\frac{192 \\bar{x}}{h_{e}^{3}} + \\frac{32}{h_{e}^{2}}\\\\\\frac{d^2\\phi_4}{dx^2}&=- \\frac{320 \\bar{x}^{3}}{h_{e}^{4}} + \\frac{480 \\bar{x}^{2}}{h_{e}^{3}} - \\frac{192 \\bar{x}}{h_{e}^{2}} + \\frac{16}{h_{e}}\\\\\\frac{d^2\\phi_5}{dx^2}&=- \\frac{480 \\bar{x}^{3}}{h_{e}^{5}} + \\frac{624 \\bar{x}^{2}}{h_{e}^{4}} - \\frac{204 \\bar{x}}{h_{e}^{3}} + \\frac{14}{h_{e}^{2}}\\\\\\frac{d^2\\phi_6}{dx^2}&=- \\frac{80 \\bar{x}^{3}}{h_{e}^{4}} + \\frac{96 \\bar{x}^{2}}{h_{e}^{3}} - \\frac{30 \\bar{x}}{h_{e}^{2}} + \\frac{2}{h_{e}}\n",
       "\\end{aligned}$$"
      ],
      "text/plain": [
       "<IPython.core.display.Math object>"
      ]
     },
     "execution_count": 16,
     "metadata": {},
     "output_type": "execute_result"
    }
   ],
   "source": [
    "show_list(all_d2phi, d2phi_names)"
   ]
  },
  {
   "cell_type": "markdown",
   "metadata": {},
   "source": [
    "*Q.E.D.*"
   ]
  },
  {
   "cell_type": "markdown",
   "metadata": {},
   "source": [
    "---\n",
    "\n",
    "### b)\n",
    "\n",
    "The cells of the element stiffness $[K^e]$ are given by:\n",
    "$$\n",
    "K^e_{ij} = \\int_{0}^{h_e} \\left( \n",
    "    EI \\frac{d^2\\phi_i^e}{d\\bar{x}^2}\\frac{d^2\\phi_j^e}{d\\bar{x}^2}\n",
    "    + c_f\\phi_i^e\\phi_j^e\n",
    "\\right) d\\bar{x}\n",
    "$$\n",
    "and those of the force vector $\\{F^e\\}$ by:\n",
    "$$\n",
    "F_i^e = \\int_{0}^{h_e} \\phi_i^e q d\\bar{x} + Q_i^e\n",
    "$$\n",
    "where it is assumed in this case that $q, c_f, E, I$ are constants, i.e. not \n",
    "functions of $x$."
   ]
  },
  {
   "cell_type": "code",
   "execution_count": 17,
   "metadata": {
    "collapsed": false
   },
   "outputs": [],
   "source": [
    "EI, q, cf = sp.symbols('EI q c_f')\n",
    "def pop_K1(i, j):\n",
    "    k1 = EI*sp.integrate(all_d2phi[i]*all_d2phi[j], (xbar, 0, h)).simplify()\n",
    "    return k1\n",
    "def pop_K2(i, j):\n",
    "    k2 = cf*sp.integrate(all_phi[i]*all_phi[j], (xbar, 0, h)).simplify()\n",
    "    return k2\n",
    "\n",
    "def pop_F(i, j):\n",
    "    return q*sp.integrate(all_phi[i], (xbar, 0, h)).simplify()"
   ]
  },
  {
   "cell_type": "code",
   "execution_count": 18,
   "metadata": {
    "collapsed": false
   },
   "outputs": [],
   "source": [
    "K1 = sp.Matrix(num_phi, num_phi, pop_K1)\n",
    "K2 = sp.Matrix(num_phi, num_phi, pop_K2)\n",
    "F = sp.Matrix(num_phi, 1, pop_F)"
   ]
  },
  {
   "cell_type": "code",
   "execution_count": 19,
   "metadata": {
    "collapsed": false
   },
   "outputs": [],
   "source": [
    "# Take common factor out (obtained by inspection)\n",
    "prediv1 = EI/(35*h**3)\n",
    "K1 = MatMul(prediv1, K1/prediv1)\n",
    "prediv2 = cf*h/(13860)\n",
    "K2 = MatMul(prediv2, K2/prediv2)\n",
    "predivF = h*q/60\n",
    "F = MatMul(predivF, F/predivF)"
   ]
  },
  {
   "cell_type": "code",
   "execution_count": 20,
   "metadata": {
    "collapsed": false
   },
   "outputs": [
    {
     "data": {
      "text/latex": [
       "$$\\begin{aligned}\n",
       "K^e=&\\frac{EI}{35 h_{e}^{3}} \\left[\\begin{matrix}5092 & - 1138 h_{e} & -3584 & - 1920 h_{e} & -1508 & - 242 h_{e}\\\\- 1138 h_{e} & 332 h_{e}^{2} & 896 h_{e} & 320 h_{e}^{2} & 242 h_{e} & 38 h_{e}^{2}\\\\-3584 & 896 h_{e} & 7168 & 0 & -3584 & - 896 h_{e}\\\\- 1920 h_{e} & 320 h_{e}^{2} & 0 & 1280 h_{e}^{2} & 1920 h_{e} & 320 h_{e}^{2}\\\\-1508 & 242 h_{e} & -3584 & 1920 h_{e} & 5092 & 1138 h_{e}\\\\- 242 h_{e} & 38 h_{e}^{2} & - 896 h_{e} & 320 h_{e}^{2} & 1138 h_{e} & 332 h_{e}^{2}\\end{matrix}\\right]\\\\ &+ \\frac{c_{f} h_{e}}{13860} \\left[\\begin{matrix}2092 & - 114 h_{e} & 880 & 160 h_{e} & 262 & 29 h_{e}\\\\- 114 h_{e} & 8 h_{e}^{2} & - 88 h_{e} & - 12 h_{e}^{2} & - 29 h_{e} & - 3 h_{e}^{2}\\\\880 & - 88 h_{e} & 5632 & 0 & 880 & 88 h_{e}\\\\160 h_{e} & - 12 h_{e}^{2} & 0 & 128 h_{e}^{2} & - 160 h_{e} & - 12 h_{e}^{2}\\\\262 & - 29 h_{e} & 880 & - 160 h_{e} & 2092 & 114 h_{e}\\\\29 h_{e} & - 3 h_{e}^{2} & 88 h_{e} & - 12 h_{e}^{2} & 114 h_{e} & 8 h_{e}^{2}\\end{matrix}\\right]\n",
       "\\end{aligned}$$"
      ],
      "text/plain": [
       "<IPython.core.display.Math object>"
      ]
     },
     "execution_count": 20,
     "metadata": {},
     "output_type": "execute_result"
    }
   ],
   "source": [
    "show_add([K1, K2], 'K^e')"
   ]
  },
  {
   "cell_type": "code",
   "execution_count": 21,
   "metadata": {
    "collapsed": false
   },
   "outputs": [
    {
     "data": {
      "text/latex": [
       "$$F^e=\\frac{h_{e} q}{60} \\left[\\begin{matrix}14\\\\- h_{e}\\\\32\\\\0\\\\14\\\\h_{e}\\end{matrix}\\right]$$"
      ],
      "text/plain": [
       "<IPython.core.display.Math object>"
      ]
     },
     "execution_count": 21,
     "metadata": {},
     "output_type": "execute_result"
    }
   ],
   "source": [
    "show(F, 'F^e')"
   ]
  }
 ],
 "metadata": {
  "kernelspec": {
   "display_name": "Python 2",
   "language": "python",
   "name": "python2"
  },
  "language_info": {
   "codemirror_mode": {
    "name": "ipython",
    "version": 2
   },
   "file_extension": ".py",
   "mimetype": "text/x-python",
   "name": "python",
   "nbconvert_exporter": "python",
   "pygments_lexer": "ipython2",
   "version": "2.7.11"
  }
 },
 "nbformat": 4,
 "nbformat_minor": 0
}
