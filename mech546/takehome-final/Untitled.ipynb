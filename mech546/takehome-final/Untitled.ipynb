{
 "cells": [
  {
   "cell_type": "code",
   "execution_count": 1,
   "metadata": {
    "collapsed": true
   },
   "outputs": [],
   "source": [
    "import sympy as sp\n",
    "import numpy as np\n",
    "sp.init_printing()\n",
    "\n",
    "from sympyutils import *"
   ]
  },
  {
   "cell_type": "code",
   "execution_count": 2,
   "metadata": {
    "collapsed": false
   },
   "outputs": [],
   "source": [
    "omega, E, I, rho, a, A, h = sp.symbols('omega E I rho a A h', real=True, positive=True)"
   ]
  },
  {
   "cell_type": "code",
   "execution_count": 3,
   "metadata": {
    "collapsed": false
   },
   "outputs": [],
   "source": [
    "Kc = 2*E*I/(h**3) * sp.Matrix([[12, 0], [0, 4*h**2]])\n",
    "Mc = sp.Matrix([[rho*A*h, 0], [0, rho*A*h**3/210 + rho*I*h/5]])"
   ]
  },
  {
   "cell_type": "markdown",
   "metadata": {},
   "source": [
    "## 2 Elements"
   ]
  },
  {
   "cell_type": "code",
   "execution_count": 4,
   "metadata": {
    "collapsed": false
   },
   "outputs": [
    {
     "data": {
      "image/png": "[encoded data removed]",
      "text/latex": [
       "$$\\left[\\begin{matrix}- \\frac{A a}{2} \\omega^{2} \\rho + \\frac{192 E}{a^{3}} I & 0\\\\0 & \\frac{16 E}{a} I - \\omega^{2} \\left(\\frac{A \\rho}{1680} a^{3} + \\frac{I a}{10} \\rho\\right)\\end{matrix}\\right]$$"
      ],
      "text/plain": [
       "⎡       2                                          ⎤\n",
       "⎢  A⋅a⋅ω ⋅ρ   192⋅E⋅I                              ⎥\n",
       "⎢- ──────── + ───────               0              ⎥\n",
       "⎢     2           3                                ⎥\n",
       "⎢                a                                 ⎥\n",
       "⎢                                                  ⎥\n",
       "⎢                                  ⎛   3          ⎞⎥\n",
       "⎢                      16⋅E⋅I    2 ⎜A⋅a ⋅ρ   I⋅a⋅ρ⎟⎥\n",
       "⎢         0            ────── - ω ⋅⎜────── + ─────⎟⎥\n",
       "⎣                        a         ⎝ 1680      10 ⎠⎦"
      ]
     },
     "execution_count": 4,
     "metadata": {},
     "output_type": "execute_result"
    }
   ],
   "source": [
    "Amat = (Kc - omega**2*Mc).subs(h, a/2)\n",
    "Amat"
   ]
  },
  {
   "cell_type": "code",
   "execution_count": 5,
   "metadata": {
    "collapsed": false
   },
   "outputs": [
    {
     "data": {
      "image/png": "[encoded data removed]",
      "text/latex": [
       "$$\\frac{A^{2} a^{4}}{3360} \\omega^{4} \\rho^{2} - \\frac{284 A}{35} E I \\omega^{2} \\rho + \\frac{A I}{20} a^{2} \\omega^{4} \\rho^{2} + \\frac{3072 E^{2}}{a^{4}} I^{2} - \\frac{96 E I^{2} \\rho}{5 a^{2}} \\omega^{2}$$"
      ],
      "text/plain": [
       " 2  4  4  2              2          2  4  2         2  2         2  2  \n",
       "A ⋅a ⋅ω ⋅ρ    284⋅A⋅E⋅I⋅ω ⋅ρ   A⋅I⋅a ⋅ω ⋅ρ    3072⋅E ⋅I    96⋅E⋅I ⋅ω ⋅ρ\n",
       "─────────── - ────────────── + ──────────── + ────────── - ────────────\n",
       "    3360            35              20             4              2    \n",
       "                                                  a            5⋅a     "
      ]
     },
     "execution_count": 5,
     "metadata": {},
     "output_type": "execute_result"
    }
   ],
   "source": [
    "det = Amat.det()\n",
    "det"
   ]
  },
  {
   "cell_type": "code",
   "execution_count": 6,
   "metadata": {
    "collapsed": false
   },
   "outputs": [
    {
     "name": "stdout",
     "output_type": "stream",
     "text": [
      "Automatic pdb calling has been turned ON\n"
     ]
    }
   ],
   "source": [
    "%pdb"
   ]
  },
  {
   "cell_type": "code",
   "execution_count": 7,
   "metadata": {
    "collapsed": false
   },
   "outputs": [
    {
     "data": {
      "text/latex": [
       "$$\\begin{aligned}\n",
       "\\omega_1&=\\frac{16 \\sqrt{105} \\sqrt{E} \\sqrt{I}}{a \\sqrt{\\rho} \\sqrt{A a^{2} + 168 I}}\\\\\\omega_2&=\\frac{8 \\sqrt{6} \\sqrt{E} \\sqrt{I}}{\\sqrt{A} a^{2} \\sqrt{\\rho}}\n",
       "\\end{aligned}$$"
      ],
      "text/plain": [
       "<IPython.core.display.Math object>"
      ]
     },
     "execution_count": 7,
     "metadata": {},
     "output_type": "execute_result"
    }
   ],
   "source": [
    "w2 = sp.solve(det, omega)\n",
    "show_list(w2, '\\\\omega')"
   ]
  },
  {
   "cell_type": "markdown",
   "metadata": {},
   "source": [
    "# 3 Elements"
   ]
  },
  {
   "cell_type": "code",
   "execution_count": 8,
   "metadata": {
    "collapsed": true
   },
   "outputs": [],
   "source": [
    "Kcorner = np.array(2*E*I/(h**3) * sp.Matrix([[-6, -3*h], [3*h, h**2]]))\n",
    "D = np.array(Kc - omega**2*Mc)"
   ]
  },
  {
   "cell_type": "code",
   "execution_count": 9,
   "metadata": {
    "collapsed": false
   },
   "outputs": [
    {
     "data": {
      "image/png": "[encoded data removed]",
      "text/latex": [
       "$$\\left[\\begin{matrix}- \\frac{A a}{3} \\omega^{2} \\rho + \\frac{648 E}{a^{3}} I & 0 & - \\frac{324 E}{a^{3}} I & - \\frac{54 E}{a^{2}} I\\\\0 & \\frac{24 E}{a} I - \\omega^{2} \\left(\\frac{A \\rho}{5670} a^{3} + \\frac{I a}{15} \\rho\\right) & \\frac{54 E}{a^{2}} I & \\frac{6 E}{a} I\\\\- \\frac{324 E}{a^{3}} I & - \\frac{54 E}{a^{2}} I & - \\frac{A a}{3} \\omega^{2} \\rho + \\frac{648 E}{a^{3}} I & 0\\\\\\frac{54 E}{a^{2}} I & \\frac{6 E}{a} I & 0 & \\frac{24 E}{a} I - \\omega^{2} \\left(\\frac{A \\rho}{5670} a^{3} + \\frac{I a}{15} \\rho\\right)\\end{matrix}\\right]$$"
      ],
      "text/plain": [
       "⎡       2                                                                     \n",
       "⎢  A⋅a⋅ω ⋅ρ   648⋅E⋅I                                     -324⋅E⋅I            \n",
       "⎢- ──────── + ───────               0                     ─────────           \n",
       "⎢     3           3                                            3              \n",
       "⎢                a                                            a               \n",
       "⎢                                                                             \n",
       "⎢                                  ⎛   3          ⎞                           \n",
       "⎢                      24⋅E⋅I    2 ⎜A⋅a ⋅ρ   I⋅a⋅ρ⎟         54⋅E⋅I            \n",
       "⎢         0            ────── - ω ⋅⎜────── + ─────⎟         ──────            \n",
       "⎢                        a         ⎝ 5670      15 ⎠            2              \n",
       "⎢                                                             a               \n",
       "⎢                                                                             \n",
       "⎢                                                           2                 \n",
       "⎢     -324⋅E⋅I                   -54⋅E⋅I               A⋅a⋅ω ⋅ρ   648⋅E⋅I     \n",
       "⎢     ─────────                  ────────            - ──────── + ───────     \n",
       "⎢          3                         2                    3           3       \n",
       "⎢         a                         a                                a        \n",
       "⎢                                                                             \n",
       "⎢                                                                             \n",
       "⎢       54⋅E⋅I                    6⋅E⋅I                                    24⋅\n",
       "⎢       ──────                    ─────                       0            ───\n",
       "⎢          2                        a                                        a\n",
       "⎣         a                                                                   \n",
       "\n",
       "                         ⎤\n",
       "       -54⋅E⋅I           ⎥\n",
       "       ────────          ⎥\n",
       "           2             ⎥\n",
       "          a              ⎥\n",
       "                         ⎥\n",
       "                         ⎥\n",
       "        6⋅E⋅I            ⎥\n",
       "        ─────            ⎥\n",
       "          a              ⎥\n",
       "                         ⎥\n",
       "                         ⎥\n",
       "                         ⎥\n",
       "                         ⎥\n",
       "          0              ⎥\n",
       "                         ⎥\n",
       "                         ⎥\n",
       "                         ⎥\n",
       "         ⎛   3          ⎞⎥\n",
       "E⋅I    2 ⎜A⋅a ⋅ρ   I⋅a⋅ρ⎟⎥\n",
       "─── - ω ⋅⎜────── + ─────⎟⎥\n",
       "         ⎝ 5670      15 ⎠⎥\n",
       "                         ⎦"
      ]
     },
     "execution_count": 9,
     "metadata": {},
     "output_type": "execute_result"
    }
   ],
   "source": [
    "Amat = np.zeros((4, 4), dtype=object)\n",
    "Amat[np.ix_([0,1], [0,1])] = Amat[np.ix_([2,3], [2,3])] = D\n",
    "Amat[np.ix_([0,1], [2,3])] = Amat[np.ix_([2,3], [0,1])] = Kcorner\n",
    "Amat = sp.Matrix(Amat).subs(h, a/3)\n",
    "Amat"
   ]
  },
  {
   "cell_type": "code",
   "execution_count": 10,
   "metadata": {
    "collapsed": false
   },
   "outputs": [],
   "source": [
    "det = Amat.det()\n",
    "# Too long to show"
   ]
  },
  {
   "cell_type": "code",
   "execution_count": 11,
   "metadata": {
    "collapsed": false
   },
   "outputs": [
    {
     "data": {
      "text/latex": [
       "$$\\begin{aligned}\n",
       "\\omega_1&=- \\frac{9 \\sqrt{6} \\sqrt{E} \\sqrt{I}}{\\sqrt{A} a^{2} \\sqrt{\\rho} \\sqrt{A a^{2} + 378 I}} \\sqrt{108 A a^{2} + 1134 I - \\sqrt{6} \\sqrt{1699 A^{2} a^{4} - 51786 A I a^{2} + 214326 I^{2}}}\\\\\\omega_2&=\\frac{9 \\sqrt{6} \\sqrt{E} \\sqrt{I}}{\\sqrt{A} a^{2} \\sqrt{\\rho} \\sqrt{A a^{2} + 378 I}} \\sqrt{108 A a^{2} + 1134 I - \\sqrt{6} \\sqrt{1699 A^{2} a^{4} - 51786 A I a^{2} + 214326 I^{2}}}\\\\\\omega_3&=- \\frac{9 \\sqrt{6} \\sqrt{E} \\sqrt{I}}{\\sqrt{A} a^{2} \\sqrt{\\rho} \\sqrt{A a^{2} + 378 I}} \\sqrt{108 A a^{2} + 1134 I + \\sqrt{6} \\sqrt{1699 A^{2} a^{4} - 51786 A I a^{2} + 214326 I^{2}}}\\\\\\omega_4&=\\frac{9 \\sqrt{6} \\sqrt{E} \\sqrt{I}}{\\sqrt{A} a^{2} \\sqrt{\\rho} \\sqrt{A a^{2} + 378 I}} \\sqrt{108 A a^{2} + 1134 I + \\sqrt{6} \\sqrt{1699 A^{2} a^{4} - 51786 A I a^{2} + 214326 I^{2}}}\\\\\\omega_5&=- \\frac{9 \\sqrt{6} \\sqrt{E} \\sqrt{I}}{\\sqrt{A} a^{2} \\sqrt{\\rho} \\sqrt{A a^{2} + 378 I}} \\sqrt{176 A a^{2} + 378 I - \\sqrt{6} \\sqrt{5011 A^{2} a^{4} - 35154 A I a^{2} + 23814 I^{2}}}\\\\\\omega_6&=\\frac{9 \\sqrt{6} \\sqrt{E} \\sqrt{I}}{\\sqrt{A} a^{2} \\sqrt{\\rho} \\sqrt{A a^{2} + 378 I}} \\sqrt{176 A a^{2} + 378 I - \\sqrt{6} \\sqrt{5011 A^{2} a^{4} - 35154 A I a^{2} + 23814 I^{2}}}\\\\\\omega_7&=- \\frac{9 \\sqrt{6} \\sqrt{E} \\sqrt{I}}{\\sqrt{A} a^{2} \\sqrt{\\rho} \\sqrt{A a^{2} + 378 I}} \\sqrt{176 A a^{2} + 378 I + \\sqrt{6} \\sqrt{5011 A^{2} a^{4} - 35154 A I a^{2} + 23814 I^{2}}}\\\\\\omega_8&=\\frac{9 \\sqrt{6} \\sqrt{E} \\sqrt{I}}{\\sqrt{A} a^{2} \\sqrt{\\rho} \\sqrt{A a^{2} + 378 I}} \\sqrt{176 A a^{2} + 378 I + \\sqrt{6} \\sqrt{5011 A^{2} a^{4} - 35154 A I a^{2} + 23814 I^{2}}}\n",
       "\\end{aligned}$$"
      ],
      "text/plain": [
       "<IPython.core.display.Math object>"
      ]
     },
     "execution_count": 11,
     "metadata": {},
     "output_type": "execute_result"
    }
   ],
   "source": [
    "w3 = sp.solve(det, omega)\n",
    "show_list(w3, '\\\\omega')"
   ]
  },
  {
   "cell_type": "markdown",
   "metadata": {},
   "source": [
    "# Comparison\n",
    "\n",
    "## 2 elements"
   ]
  },
  {
   "cell_type": "code",
   "execution_count": 12,
   "metadata": {
    "collapsed": false
   },
   "outputs": [],
   "source": [
    "ex = sp.sqrt(192*E*I/a**3 / (rho*a*A))\n",
    "subs = [(E, 1), (I, 1), (rho, 1), (a, 1), (A, 1)]\n",
    "ex = ex.subs(subs)"
   ]
  },
  {
   "cell_type": "code",
   "execution_count": 16,
   "metadata": {
    "collapsed": false
   },
   "outputs": [
    {
     "name": "stdout",
     "output_type": "stream",
     "text": [
      "0.9102\n",
      "1.414\n"
     ]
    }
   ],
   "source": [
    "for w in w2:\n",
    "    print (w.subs(subs)/ex).evalf(n=4)"
   ]
  },
  {
   "cell_type": "markdown",
   "metadata": {},
   "source": [
    "## 3 elements"
   ]
  },
  {
   "cell_type": "code",
   "execution_count": 17,
   "metadata": {
    "collapsed": false
   },
   "outputs": [
    {
     "name": "stdout",
     "output_type": "stream",
     "text": [
      "-1.290\n",
      "1.290\n",
      "-3.863\n",
      "3.863\n",
      "-1.952 + 0.3333*I\n",
      "1.952 - 0.3333*I\n",
      "-1.952 - 0.3333*I\n",
      "1.952 + 0.3333*I\n"
     ]
    }
   ],
   "source": [
    "for w in w3:\n",
    "    print (w.subs(subs)/ex).evalf(n=4)"
   ]
  },
  {
   "cell_type": "code",
   "execution_count": null,
   "metadata": {
    "collapsed": true
   },
   "outputs": [],
   "source": []
  }
 ],
 "metadata": {
  "kernelspec": {
   "display_name": "Python 2",
   "language": "python",
   "name": "python2"
  },
  "language_info": {
   "codemirror_mode": {
    "name": "ipython",
    "version": 2
   },
   "file_extension": ".py",
   "mimetype": "text/x-python",
   "name": "python",
   "nbconvert_exporter": "python",
   "pygments_lexer": "ipython2",
   "version": "2.7.11"
  }
 },
 "nbformat": 4,
 "nbformat_minor": 0
}
