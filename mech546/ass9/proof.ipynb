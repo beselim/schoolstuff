{
 "cells": [
  {
   "cell_type": "markdown",
   "metadata": {},
   "source": [
    "# Problem 1\n",
    "\n",
    "The following must be shown:\n",
    "\\begin{equation*}\n",
    "\\Omega_i = \\alpha_i^e + \\beta_i^e \\hat{x}^e + \\gamma_i^e \\hat{y}^e = \\frac{2}{3}A_e \\quad \\forall ~ i\n",
    "\\end{equation*}\n",
    "where\n",
    "\\begin{equation*}\n",
    "\\hat{x}^e = \\sum_{i=1}^3 x_i^e, \\quad\n",
    "\\hat{y}^e = \\sum_{i=1}^3 y_i^e\n",
    "\\end{equation*}\n",
    "\n",
    "We will show this to be **false** using the data from \n",
    "Problem 3. "
   ]
  },
  {
   "cell_type": "code",
   "execution_count": 1,
   "metadata": {
    "collapsed": true
   },
   "outputs": [],
   "source": [
    "import sympy as sp\n",
    "sp.init_printing()"
   ]
  },
  {
   "cell_type": "code",
   "execution_count": 12,
   "metadata": {
    "collapsed": false
   },
   "outputs": [],
   "source": [
    "x = [1.0, 4.0, 2.5]\n",
    "y = [1.0, 1.5, 4.0]"
   ]
  },
  {
   "cell_type": "code",
   "execution_count": 14,
   "metadata": {
    "collapsed": true
   },
   "outputs": [],
   "source": [
    "def get_jk(i):\n",
    "    if i == 0:\n",
    "        return 1, 2\n",
    "    if i == 1:\n",
    "        return 2, 0\n",
    "    if i == 2:\n",
    "        return 0, 1\n",
    "    \n",
    "def alpha(i):\n",
    "    j, k = get_jk(i)\n",
    "    return x[j]*y[k] - x[k]*y[j]\n",
    "\n",
    "def beta(i):\n",
    "    j, k = get_jk(i)\n",
    "    return y[j] - y[k]\n",
    "\n",
    "def gamma(i):\n",
    "    j, k = get_jk(i)\n",
    "    return -(x[j] - x[k])"
   ]
  },
  {
   "cell_type": "markdown",
   "metadata": {},
   "source": [
    "Let's first make sure that we get the right values for $\\alpha, \\beta, \\gamma$."
   ]
  },
  {
   "cell_type": "code",
   "execution_count": 15,
   "metadata": {
    "collapsed": false
   },
   "outputs": [
    {
     "name": "stdout",
     "output_type": "stream",
     "text": [
      "[12.25, -1.5, -2.5]\n",
      "[-2.5, 3.0, -0.5]\n",
      "[-1.5, -1.5, 3.0]\n"
     ]
    }
   ],
   "source": [
    "print([alpha(i) for i in range(3)])\n",
    "print([beta(i) for i in range(3)])\n",
    "print([gamma(i) for i in range(3)])"
   ]
  },
  {
   "cell_type": "markdown",
   "metadata": {},
   "source": [
    "These are correct. \n",
    "\n",
    "Let's check the first part of the problem"
   ]
  },
  {
   "cell_type": "code",
   "execution_count": 23,
   "metadata": {
    "collapsed": false
   },
   "outputs": [
    {
     "name": "stdout",
     "output_type": "stream",
     "text": [
      "sum alpha = 8.25 = 2Ae\n",
      "sum beta = 0.00\n",
      "sum gamma = 0.00\n"
     ]
    }
   ],
   "source": [
    "print('sum alpha = %.2f = 2Ae' % sum([alpha(i) for i in range(3)]))\n",
    "print('sum beta = %.2f' % sum([beta(i) for i in range(3)]))\n",
    "print('sum gamma = %.2f' % sum([gamma(i) for i in range(3)]))"
   ]
  },
  {
   "cell_type": "markdown",
   "metadata": {},
   "source": [
    "Those are all correct. \n",
    "\n",
    "Now, let's also make sure that:\n",
    "\\begin{equation*}\n",
    "\\sum_{i=1}^3 \\Omega_i = 2 A_e\n",
    "\\end{equation*}"
   ]
  },
  {
   "cell_type": "code",
   "execution_count": 19,
   "metadata": {
    "collapsed": true
   },
   "outputs": [],
   "source": [
    "def Omega(i):\n",
    "    return alpha(i) + beta(i)*sum(x) + gamma(i)*sum(y)"
   ]
  },
  {
   "cell_type": "code",
   "execution_count": 24,
   "metadata": {
    "collapsed": false
   },
   "outputs": [
    {
     "name": "stdout",
     "output_type": "stream",
     "text": [
      "sum omega = 8.25\n"
     ]
    }
   ],
   "source": [
    "print('sum omega = %.2f' % sum([Omega(i) for i in range(3)]))"
   ]
  },
  {
   "cell_type": "markdown",
   "metadata": {
    "collapsed": true
   },
   "source": [
    "So this is fine. Now we will see that not all the $\\Omega_i$ are equal in this case, making the \"theorem\" false. "
   ]
  },
  {
   "cell_type": "code",
   "execution_count": 21,
   "metadata": {
    "collapsed": false
   },
   "outputs": [
    {
     "name": "stdout",
     "output_type": "stream",
     "text": [
      "Omega(0) = -16.25\n",
      "Omega(1) = 11.25\n",
      "Omega(2) = 13.25\n"
     ]
    }
   ],
   "source": [
    "for i in range(3):\n",
    "    print('Omega(%d) = %.2f' % (i, Omega(i)))"
   ]
  }
 ],
 "metadata": {
  "kernelspec": {
   "display_name": "Python 2",
   "language": "python",
   "name": "python2"
  },
  "language_info": {
   "codemirror_mode": {
    "name": "ipython",
    "version": 2
   },
   "file_extension": ".py",
   "mimetype": "text/x-python",
   "name": "python",
   "nbconvert_exporter": "python",
   "pygments_lexer": "ipython2",
   "version": "2.7.11"
  }
 },
 "nbformat": 4,
 "nbformat_minor": 0
}
