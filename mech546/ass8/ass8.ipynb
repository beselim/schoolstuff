{
 "cells": [
  {
   "cell_type": "code",
   "execution_count": 1,
   "metadata": {
    "collapsed": true
   },
   "outputs": [],
   "source": [
    "import sympy as sp\n",
    "from sympy.matrices.expressions.matmul import MatMul\n",
    "from IPython.display import Math\n",
    "sp.init_printing()"
   ]
  },
  {
   "cell_type": "markdown",
   "metadata": {},
   "source": [
    "# Problem 1\n",
    "The differential equation is given as:\n",
    "\\begin{gather*}\n",
    "    -EA \\frac{\\partial^2 u}{\\partial x^2} + \\rho A \\frac{\\partial^2 u}{\\partial t^2} = 0 \\quad \\text{for}~ 0 < x < L\\\\\n",
    "    u(0) = 0, \\quad \\left( EA \\frac{\\text{d}u}{\\text{d}x} + ku\\right)\\bigg|_{x=L} = 0\n",
    "\\end{gather*}\n",
    "It should be noted that this is a **hyperbolic** equation. Thus, we assume a solution of the form:\n",
    "\\begin{equation*}\n",
    "    u(x,t) = U(x)e^{-i\\omega t}, \\quad \\lambda = \\omega^2\n",
    "\\end{equation*}\n",
    "\n",
    "This leads to the following weak form for an element:\n",
    "\\begin{equation*}\n",
    "    0 = \\int_{x_a}^{x_b} \\left(\n",
    "        EA \\frac{\\text{d}w}{\\text{d}x}\\frac{\\text{d}U}{\\text{d}x} - \\omega^2 \\rho A w U\\right) \n",
    "    \\text{d}x - Q_1^e w(x_a) - Q_n^e w (x_b)\n",
    "\\end{equation*}\n",
    "\n",
    "## a)\n",
    "\n",
    "The element equations for a linear element are given by:"
   ]
  },
  {
   "cell_type": "code",
   "execution_count": 2,
   "metadata": {
    "collapsed": false
   },
   "outputs": [
    {
     "data": {
      "text/latex": [
       "$$\\left( \\frac{A E}{h} \\left[\\begin{matrix}1 & -1\\\\-1 & 1\\end{matrix}\\right] - \\frac{A h}{6} \\omega^{2} \\rho \\left[\\begin{matrix}2 & 1\\\\1 & 2\\end{matrix}\\right] \\right) \\left[\\begin{matrix}u^{e}_{1}\\\\u^{e}_{2}\\end{matrix}\\right] = \\left[\\begin{matrix}Q^{e}_{1}\\\\Q^{e}_{2}\\end{matrix}\\right]$$"
      ],
      "text/plain": [
       "<IPython.core.display.Math object>"
      ]
     },
     "execution_count": 2,
     "metadata": {},
     "output_type": "execute_result"
    }
   ],
   "source": [
    "k, h, E, A, rho = sp.symbols('k h E A rho', real=True, positive=True)\n",
    "w = sp.symbols('omega', real=True, positive=True)\n",
    "u1, u2 = sp.symbols('u_1^e u_2^e')\n",
    "q1, q2 = sp.symbols('Q_1^e Q_2^e')\n",
    "K1 = MatMul(E*A/h, sp.Matrix([[1, -1], [-1, 1]]))\n",
    "K2 = MatMul(w**2*rho*A*h/6, sp.Matrix([[2, 1], [1, 2]]))\n",
    "u = sp.Matrix([[u1], [u2]])\n",
    "q = sp.Matrix([[q1], [q2]])\n",
    "\n",
    "Math(r'\\left( ' + sp.latex(K1) + ' - ' + sp.latex(K2) + r' \\right) ' + sp.latex(u) + ' = ' + sp.latex(q))"
   ]
  },
  {
   "cell_type": "markdown",
   "metadata": {},
   "source": [
    "which, if using two elements of equal length, leads to the following assembled equations:"
   ]
  },
  {
   "cell_type": "code",
   "execution_count": 3,
   "metadata": {
    "collapsed": false
   },
   "outputs": [
    {
     "data": {
      "text/latex": [
       "$$\\left( \\frac{A E}{h} \\left[\\begin{matrix}1 & -1 & 0\\\\-1 & 2 & -1\\\\0 & -1 & 1\\end{matrix}\\right] - \\frac{A h}{6} \\omega^{2} \\rho \\left[\\begin{matrix}2 & 1 & 0\\\\1 & 4 & 1\\\\0 & 1 & 2\\end{matrix}\\right] \\right) \\left[\\begin{matrix}u_{1}^e\\\\u_{2}^e\\\\u_{3}^e\\end{matrix}\\right] = \\left[\\begin{matrix}Q^{1}_{1}\\\\Q^{2}_{1} + Q^{1}_{2}\\\\Q^{2}_{2}\\end{matrix}\\right]$$"
      ],
      "text/plain": [
       "<IPython.core.display.Math object>"
      ]
     },
     "execution_count": 3,
     "metadata": {},
     "output_type": "execute_result"
    }
   ],
   "source": [
    "K1 = MatMul(E*A/h, sp.Matrix([[1, -1, 0], [-1, 2, -1], [0, -1, 1]]))\n",
    "K2 = MatMul(w**2*rho*A*h/6, sp.Matrix([[2, 1, 0], [1, 4, 1], [0, 1, 2]]))\n",
    "u1, u2, u3 = sp.symbols('u_{1:4}^e')\n",
    "q11, q21, q12, q22 = sp.symbols('Q_1^1 Q_2^1 Q_1^2 Q_2^2')\n",
    "U = sp.Matrix([[u1], [u2], [u3]])\n",
    "Q = sp.Matrix([[q11], [q21 + q12], [q22]])\n",
    "\n",
    "Math(r'\\left( ' + sp.latex(K1) + ' - ' + sp.latex(K2) + r' \\right) ' + sp.latex(U) + ' = ' + sp.latex(Q))"
   ]
  },
  {
   "cell_type": "markdown",
   "metadata": {},
   "source": [
    "where $h = L/2$. Next, we need to include boundary conditions. These are given as:\n",
    "\\begin{align*}\n",
    "    U_1 &= 0\\\\\n",
    "    Q_2^2 &= -kU_3\\\\\n",
    "    Q_2^1 + Q_1^2 &= 0\n",
    "\\end{align*}\n",
    "which leads to the following condensed system of equations, after taking $Q_2^2$ to the left-hand side since it is dependent on $U_3$:"
   ]
  },
  {
   "cell_type": "code",
   "execution_count": 4,
   "metadata": {
    "collapsed": false
   },
   "outputs": [
    {
     "data": {
      "text/latex": [
       "$$\\left( \\left[\\begin{matrix}\\frac{2 A}{h} E & - \\frac{A E}{h}\\\\- \\frac{A E}{h} & \\frac{A E}{h} + \\frac{h k}{A E}\\end{matrix}\\right] - \\left[\\begin{matrix}\\frac{2 A}{3} h \\omega^{2} \\rho & \\frac{A h}{6} \\omega^{2} \\rho\\\\\\frac{A h}{6} \\omega^{2} \\rho & \\frac{A h}{3} \\omega^{2} \\rho\\end{matrix}\\right] \\right) \\left[\\begin{matrix}u_{2}^e\\\\u_{3}^e\\end{matrix}\\right] = \\left[\\begin{matrix}0\\\\0\\end{matrix}\\right]$$"
      ],
      "text/plain": [
       "<IPython.core.display.Math object>"
      ]
     },
     "execution_count": 4,
     "metadata": {},
     "output_type": "execute_result"
    }
   ],
   "source": [
    "K1c = sp.Matrix(K1)[1:, 1:]\n",
    "K1c[-1,-1] += k*h/(E*A)\n",
    "K2c = sp.Matrix(K2)[1:,1:]\n",
    "Uc = U[1:,:]\n",
    "Qc = sp.Matrix([[0], [0]])\n",
    "Math(r'\\left( ' + sp.latex(K1c) + ' - ' + sp.latex(K2c) + r' \\right) ' + sp.latex(Uc) + ' = ' + sp.latex(Qc))"
   ]
  },
  {
   "cell_type": "markdown",
   "metadata": {},
   "source": [
    "Setting the determinant of the stiffness matrix to zero yields:"
   ]
  },
  {
   "cell_type": "code",
   "execution_count": 5,
   "metadata": {
    "collapsed": false
   },
   "outputs": [
    {
     "data": {
      "text/latex": [
       "$$\\frac{A^{2} E^{2}}{h^{2}} - \\frac{5 E}{3} A^{2} \\omega^{2} \\rho + \\frac{7 A^{2}}{36} h^{2} \\omega^{4} \\rho^{2} + 2 k - \\frac{2 h^{2} k \\rho}{3 E} \\omega^{2} = 0$$"
      ],
      "text/plain": [
       "<IPython.core.display.Math object>"
      ]
     },
     "execution_count": 5,
     "metadata": {},
     "output_type": "execute_result"
    }
   ],
   "source": [
    "Kc = K1c - K2c\n",
    "d = Kc.det().simplify()\n",
    "Math(sp.latex(d) + ' = 0') "
   ]
  },
  {
   "cell_type": "markdown",
   "metadata": {},
   "source": [
    "Solving for $\\omega$ gives the natural frequencies of the bar (we keep only the positive ones)"
   ]
  },
  {
   "cell_type": "code",
   "execution_count": 6,
   "metadata": {
    "collapsed": false
   },
   "outputs": [
    {
     "data": {
      "text/latex": [
       "$$\\omega_1 = \\frac{1}{7 A \\sqrt{E} h \\sqrt{\\rho}} \\sqrt{210 A^{2} E^{2} + 84 h^{2} k - 42 \\sqrt{2} \\sqrt{9 A^{4} E^{4} + 3 A^{2} E^{2} h^{2} k + 2 h^{4} k^{2}}}$$"
      ],
      "text/plain": [
       "<IPython.core.display.Math object>"
      ]
     },
     "execution_count": 6,
     "metadata": {},
     "output_type": "execute_result"
    }
   ],
   "source": [
    "ws = sp.solve(d, w)[1:]\n",
    "ws = [i.simplify() for i in ws]\n",
    "t = r'\\omega_1 = ' + sp.latex(ws[0])\n",
    "Math(t)"
   ]
  },
  {
   "cell_type": "code",
   "execution_count": 7,
   "metadata": {
    "collapsed": false
   },
   "outputs": [
    {
     "data": {
      "text/latex": [
       "$$\\omega_2 = \\frac{1}{7 A \\sqrt{E} h \\sqrt{\\rho}} \\sqrt{210 A^{2} E^{2} + 84 h^{2} k + 42 \\sqrt{2} \\sqrt{9 A^{4} E^{4} + 3 A^{2} E^{2} h^{2} k + 2 h^{4} k^{2}}}$$"
      ],
      "text/plain": [
       "<IPython.core.display.Math object>"
      ]
     },
     "execution_count": 7,
     "metadata": {},
     "output_type": "execute_result"
    }
   ],
   "source": [
    "t = r'\\omega_2 = ' + sp.latex(ws[1])\n",
    "Math(t)"
   ]
  },
  {
   "cell_type": "markdown",
   "metadata": {},
   "source": [
    "## b)\n",
    "\n",
    "We proceed similarly to the above, but with a single quadratic element. Thus, writing out the element equation for a single element leads directly to the assembled equations. "
   ]
  },
  {
   "cell_type": "code",
   "execution_count": 8,
   "metadata": {
    "collapsed": false
   },
   "outputs": [
    {
     "data": {
      "text/latex": [
       "$$\\left( \\frac{A E}{3 h} \\left[\\begin{matrix}7 & -8 & 1\\\\8 & 16 & -8\\\\1 & -8 & 7\\end{matrix}\\right] - \\frac{A h}{30} \\omega^{2} \\rho \\left[\\begin{matrix}4 & 2 & -1\\\\2 & 16 & 2\\\\-1 & 2 & 4\\end{matrix}\\right] \\right) \\left[\\begin{matrix}U_{1}\\\\U_{2}\\\\U_{3}\\end{matrix}\\right] = \\left[\\begin{matrix}Q^{1}_{1}\\\\Q^{1}_{2}\\\\Q^{1}_{3}\\end{matrix}\\right]$$"
      ],
      "text/plain": [
       "<IPython.core.display.Math object>"
      ]
     },
     "execution_count": 8,
     "metadata": {},
     "output_type": "execute_result"
    }
   ],
   "source": [
    "K1 = MatMul(E*A/(3*h), sp.Matrix([[7, -8, 1], [--8, 16, -8], [1, -8, 7]]))\n",
    "K2 = MatMul(w**2*rho*A*h/30, sp.Matrix([[4, 2, -1], [2, 16, 2], [-1, 2, 4]]))\n",
    "u1, u2, u3 = sp.symbols('U_{1:4}')\n",
    "q11, q12, q22 = sp.symbols('Q_1^1 Q_2^1 Q_3^1')\n",
    "U = sp.Matrix([[u1], [u2], [u3]])\n",
    "Q = sp.Matrix([[q11], [q12], [q22]])\n",
    "\n",
    "Math(r'\\left( ' + sp.latex(K1) + ' - ' + sp.latex(K2) + r' \\right) ' + sp.latex(U) + ' = ' + sp.latex(Q))"
   ]
  },
  {
   "cell_type": "markdown",
   "metadata": {},
   "source": [
    "Applying boundary conditions gives the condensed equations:"
   ]
  },
  {
   "cell_type": "code",
   "execution_count": 9,
   "metadata": {
    "collapsed": false
   },
   "outputs": [
    {
     "data": {
      "text/latex": [
       "$$\\left( \\left[\\begin{matrix}\\frac{16 A E}{3 h} & - \\frac{8 A E}{3 h}\\\\- \\frac{8 A E}{3 h} & \\frac{7 A E}{3 h} + \\frac{h k}{A E}\\end{matrix}\\right] - \\left[\\begin{matrix}\\frac{8 A}{15} h \\omega^{2} \\rho & \\frac{A h}{15} \\omega^{2} \\rho\\\\\\frac{A h}{15} \\omega^{2} \\rho & \\frac{2 A}{15} h \\omega^{2} \\rho\\end{matrix}\\right] \\right) \\left[\\begin{matrix}U_{2}\\\\U_{3}\\end{matrix}\\right] = \\left[\\begin{matrix}0\\\\0\\end{matrix}\\right]$$"
      ],
      "text/plain": [
       "<IPython.core.display.Math object>"
      ]
     },
     "execution_count": 9,
     "metadata": {},
     "output_type": "execute_result"
    }
   ],
   "source": [
    "K1c = sp.Matrix(K1)[1:, 1:]\n",
    "K1c[-1,-1] += k*h/(E*A)\n",
    "K2c = sp.Matrix(K2)[1:,1:]\n",
    "Uc = U[1:,:]\n",
    "Qc = sp.Matrix([[0], [0]])\n",
    "Math(r'\\left( ' + sp.latex(K1c) + ' - ' + sp.latex(K2c) + r' \\right) ' + sp.latex(Uc) + ' = ' + sp.latex(Qc))"
   ]
  },
  {
   "cell_type": "markdown",
   "metadata": {},
   "source": [
    "Setting the determinant to zero:"
   ]
  },
  {
   "cell_type": "code",
   "execution_count": 10,
   "metadata": {
    "collapsed": false
   },
   "outputs": [
    {
     "data": {
      "text/latex": [
       "$$\\frac{1}{45 E h^{2}} \\left(240 A^{2} E^{3} + E h^{2} \\left(- 104 A^{2} E \\omega^{2} \\rho + 3 A^{2} h^{2} \\omega^{4} \\rho^{2} + 240 k\\right) - 24 h^{4} k \\omega^{2} \\rho\\right) = 0$$"
      ],
      "text/plain": [
       "<IPython.core.display.Math object>"
      ]
     },
     "execution_count": 10,
     "metadata": {},
     "output_type": "execute_result"
    }
   ],
   "source": [
    "Kc = K1c - K2c\n",
    "d = Kc.det().simplify()\n",
    "Math(sp.latex(d) + ' = 0') "
   ]
  },
  {
   "cell_type": "markdown",
   "metadata": {},
   "source": [
    "Solving for $\\omega$:"
   ]
  },
  {
   "cell_type": "code",
   "execution_count": 11,
   "metadata": {
    "collapsed": false
   },
   "outputs": [
    {
     "data": {
      "text/latex": [
       "$$\\omega_1 = \\frac{2}{3 A \\sqrt{E} h \\sqrt{\\rho}} \\sqrt{39 A^{2} E^{2} + 9 h^{2} k - 3 \\sqrt{124 A^{4} E^{4} + 33 A^{2} E^{2} h^{2} k + 9 h^{4} k^{2}}}$$"
      ],
      "text/plain": [
       "<IPython.core.display.Math object>"
      ]
     },
     "execution_count": 11,
     "metadata": {},
     "output_type": "execute_result"
    }
   ],
   "source": [
    "ws = sp.solve(d, w)[1:]\n",
    "ws = [i.simplify() for i in ws]\n",
    "t = r'\\omega_1 = ' + sp.latex(ws[0])\n",
    "Math(t)"
   ]
  },
  {
   "cell_type": "code",
   "execution_count": 12,
   "metadata": {
    "collapsed": false
   },
   "outputs": [
    {
     "data": {
      "text/latex": [
       "$$\\omega_2 = \\frac{2}{3 A \\sqrt{E} h \\sqrt{\\rho}} \\sqrt{39 A^{2} E^{2} + 9 h^{2} k + 3 \\sqrt{124 A^{4} E^{4} + 33 A^{2} E^{2} h^{2} k + 9 h^{4} k^{2}}}$$"
      ],
      "text/plain": [
       "<IPython.core.display.Math object>"
      ]
     },
     "execution_count": 12,
     "metadata": {},
     "output_type": "execute_result"
    }
   ],
   "source": [
    "t = r'\\omega_2 = ' + sp.latex(ws[1])\n",
    "Math(t)"
   ]
  },
  {
   "cell_type": "markdown",
   "metadata": {},
   "source": [
    "# Problem 2"
   ]
  },
  {
   "cell_type": "markdown",
   "metadata": {},
   "source": [
    "Similarly to Problem 1, let's write the finite element equation for an eigenvalue problem of a uniform bar. In this case, we use a single linear element, so writing out the equation for a single element leads to the full set of equations. "
   ]
  },
  {
   "cell_type": "code",
   "execution_count": 13,
   "metadata": {
    "collapsed": false
   },
   "outputs": [
    {
     "data": {
      "text/latex": [
       "$$\\left( \\frac{A E}{h} \\left[\\begin{matrix}1 & -1\\\\-1 & 1\\end{matrix}\\right] - \\frac{A h}{6} \\omega^{2} \\rho \\left[\\begin{matrix}2 & 1\\\\1 & 2\\end{matrix}\\right] \\right) \\left[\\begin{matrix}u^{e}_{1}\\\\u^{e}_{2}\\end{matrix}\\right] = \\left[\\begin{matrix}Q_{1}\\\\Q_{2}\\end{matrix}\\right]$$"
      ],
      "text/plain": [
       "<IPython.core.display.Math object>"
      ]
     },
     "execution_count": 13,
     "metadata": {},
     "output_type": "execute_result"
    }
   ],
   "source": [
    "k, h, E, A, rho = sp.symbols('k h E A rho', real=True, positive=True)\n",
    "w = sp.symbols('omega', real=True, positive=True)\n",
    "u1, u2 = sp.symbols('U_1 U_2')\n",
    "q1, q2 = sp.symbols('Q_1 Q_2')\n",
    "K1 = MatMul(E*A/h, sp.Matrix([[1, -1], [-1, 1]]))\n",
    "K2 = MatMul(w**2*rho*A*h/6, sp.Matrix([[2, 1], [1, 2]]))\n",
    "U = sp.Matrix([[u1], [u2]])\n",
    "q = sp.Matrix([[q1], [q2]])\n",
    "\n",
    "Math(r'\\left( ' + sp.latex(K1) + ' - ' + sp.latex(K2) + r' \\right) ' + sp.latex(u) + ' = ' + sp.latex(q))"
   ]
  },
  {
   "cell_type": "markdown",
   "metadata": {},
   "source": [
    "We're also given the following boundary conditions:\n",
    "\\begin{align*}\n",
    "    U_1 &= 0\\\\\n",
    "    Q_2 &= 0\n",
    "\\end{align*}\n",
    "\n",
    "## a)"
   ]
  },
  {
   "cell_type": "markdown",
   "metadata": {},
   "source": [
    "Applying boundary conditions to the above system leads to a single equation:"
   ]
  },
  {
   "cell_type": "code",
   "execution_count": 14,
   "metadata": {
    "collapsed": false
   },
   "outputs": [
    {
     "data": {
      "text/latex": [
       "$$\\left( \\left[\\begin{matrix}\\frac{A E}{h}\\end{matrix}\\right] - \\left[\\begin{matrix}\\frac{A h}{3} \\omega^{2} \\rho\\end{matrix}\\right] \\right) \\left[\\begin{matrix}U_{2}\\end{matrix}\\right] = \\left[\\begin{matrix}0\\end{matrix}\\right]$$"
      ],
      "text/plain": [
       "<IPython.core.display.Math object>"
      ]
     },
     "execution_count": 14,
     "metadata": {},
     "output_type": "execute_result"
    }
   ],
   "source": [
    "K1c = sp.Matrix(K1)[1:, 1:]\n",
    "K2c = sp.Matrix(K2)[1:,1:]\n",
    "Uc = U[1:,:]\n",
    "Qc = sp.Matrix([[0]])\n",
    "Math(r'\\left( ' + sp.latex(K1c) + ' - ' + sp.latex(K2c) + r' \\right) ' + sp.latex(Uc) + ' = ' + sp.latex(Qc))"
   ]
  },
  {
   "cell_type": "markdown",
   "metadata": {},
   "source": [
    "We find the eigenvalue by setting the coefficient of $U_2$ to zero:"
   ]
  },
  {
   "cell_type": "code",
   "execution_count": 15,
   "metadata": {
    "collapsed": false
   },
   "outputs": [
    {
     "data": {
      "text/latex": [
       "$$\\frac{A E}{h} + \\frac{A h}{3} \\omega^{2} \\rho = 0$$"
      ],
      "text/plain": [
       "<IPython.core.display.Math object>"
      ]
     },
     "execution_count": 15,
     "metadata": {},
     "output_type": "execute_result"
    }
   ],
   "source": [
    "eq = (K1c + K2c)[0].as_expr()\n",
    "Math(sp.latex(eq) + ' = 0')"
   ]
  },
  {
   "cell_type": "markdown",
   "metadata": {},
   "source": [
    "Solving for $\\omega^2$:\n",
    "\n",
    "\\begin{equation*}\n",
    "    \\omega^2 = \\frac{3E}{\\rho h^2}\n",
    "\\end{equation*}\n",
    "\n",
    "plugging this into the given expression for $\\Delta t_{cr}$ with $\\alpha - \\gamma = 1/2$ gives:\n",
    "\\begin{equation*}\n",
    "    \\Delta t_{cr,a} = h\\sqrt{\\frac{4\\rho}{3 E}}\n",
    "\\end{equation*}\n",
    "\n",
    "## b)\n",
    "\n",
    "We use the same assembled equations, but diagonalize the mass matrix:"
   ]
  },
  {
   "cell_type": "code",
   "execution_count": 16,
   "metadata": {
    "collapsed": false
   },
   "outputs": [
    {
     "data": {
      "text/latex": [
       "$$\\left( \\frac{A E}{h} \\left[\\begin{matrix}1 & -1\\\\-1 & 1\\end{matrix}\\right] - \\frac{A h}{6} \\omega^{2} \\rho \\left[\\begin{matrix}3 & 0\\\\0 & 3\\end{matrix}\\right] \\right) \\left[\\begin{matrix}u^{e}_{1}\\\\u^{e}_{2}\\end{matrix}\\right] = \\left[\\begin{matrix}Q_{1}\\\\Q_{2}\\end{matrix}\\right]$$"
      ],
      "text/plain": [
       "<IPython.core.display.Math object>"
      ]
     },
     "execution_count": 16,
     "metadata": {},
     "output_type": "execute_result"
    }
   ],
   "source": [
    "K2 = MatMul(w**2*rho*A*h/6, sp.Matrix([[3, 0], [0, 3]]))\n",
    "\n",
    "Math(r'\\left( ' + sp.latex(K1) + ' - ' + sp.latex(K2) + r' \\right) ' + sp.latex(u) + ' = ' + sp.latex(q))"
   ]
  },
  {
   "cell_type": "markdown",
   "metadata": {},
   "source": [
    "And proceed similarly to **a)**. Start by applying BCs:"
   ]
  },
  {
   "cell_type": "code",
   "execution_count": 17,
   "metadata": {
    "collapsed": false
   },
   "outputs": [
    {
     "data": {
      "text/latex": [
       "$$\\left( \\left[\\begin{matrix}\\frac{A E}{h}\\end{matrix}\\right] - \\left[\\begin{matrix}\\frac{A h}{2} \\omega^{2} \\rho\\end{matrix}\\right] \\right) \\left[\\begin{matrix}U_{2}\\end{matrix}\\right] = \\left[\\begin{matrix}0\\end{matrix}\\right]$$"
      ],
      "text/plain": [
       "<IPython.core.display.Math object>"
      ]
     },
     "execution_count": 17,
     "metadata": {},
     "output_type": "execute_result"
    }
   ],
   "source": [
    "K1c = sp.Matrix(K1)[1:, 1:]\n",
    "K2c = sp.Matrix(K2)[1:,1:]\n",
    "Uc = U[1:,:]\n",
    "Qc = sp.Matrix([[0]])\n",
    "Math(r'\\left( ' + sp.latex(K1c) + ' - ' + sp.latex(K2c) + r' \\right) ' + sp.latex(Uc) + ' = ' + sp.latex(Qc))"
   ]
  },
  {
   "cell_type": "markdown",
   "metadata": {},
   "source": [
    "Setting coefficient to zero:"
   ]
  },
  {
   "cell_type": "code",
   "execution_count": 18,
   "metadata": {
    "collapsed": false
   },
   "outputs": [
    {
     "data": {
      "text/latex": [
       "$$\\frac{A E}{h} + \\frac{A h}{2} \\omega^{2} \\rho = 0$$"
      ],
      "text/plain": [
       "<IPython.core.display.Math object>"
      ]
     },
     "execution_count": 18,
     "metadata": {},
     "output_type": "execute_result"
    }
   ],
   "source": [
    "eq = (K1c + K2c)[0].as_expr()\n",
    "Math(sp.latex(eq) + ' = 0')"
   ]
  },
  {
   "cell_type": "markdown",
   "metadata": {},
   "source": [
    "which gives:\n",
    "\\begin{equation*}\n",
    "    \\omega^2 = \\frac{2E}{\\rho h^2}\n",
    "\\end{equation*}\n",
    "and plugging into $\\Delta_{cr}$:\n",
    "\\begin{equation*}\n",
    "    \\Delta t_{cr,b} = h\\sqrt{\\frac{4\\rho}{2E}}\n",
    "\\end{equation*}"
   ]
  },
  {
   "cell_type": "markdown",
   "metadata": {},
   "source": [
    "## c)\n",
    "\n",
    "We would like $\\Delta t_{cr}$ to be as large as possible, since using large time steps is less costly in terms of \n",
    "CPU time.\n",
    "\n",
    "The ratio of critical times between part **a)** and **b)** is:\n",
    "\\begin{equation*}\n",
    "    \\frac{\\Delta t_{cr,b}}{\\Delta t_{cr,a}} = \\frac{1/\\sqrt{2}}{1/\\sqrt{3}} \\approx 1.225\n",
    "\\end{equation*}\n",
    "Thus, using the lumped matrix requires us to use a time step 1.225 as high. "
   ]
  }
 ],
 "metadata": {
  "kernelspec": {
   "display_name": "Python 2",
   "language": "python",
   "name": "python2"
  },
  "language_info": {
   "codemirror_mode": {
    "name": "ipython",
    "version": 2
   },
   "file_extension": ".py",
   "mimetype": "text/x-python",
   "name": "python",
   "nbconvert_exporter": "python",
   "pygments_lexer": "ipython2",
   "version": "2.7.11"
  }
 },
 "nbformat": 4,
 "nbformat_minor": 0
}
