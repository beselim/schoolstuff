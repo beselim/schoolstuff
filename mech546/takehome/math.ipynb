{
 "cells": [
  {
   "cell_type": "markdown",
   "metadata": {},
   "source": [
    "# Take-Home Exam Math Derivations"
   ]
  },
  {
   "cell_type": "code",
   "execution_count": 102,
   "metadata": {
    "collapsed": false
   },
   "outputs": [
    {
     "name": "stdout",
     "output_type": "stream",
     "text": [
      "Starting MATLAB on ZMQ socket ipc:///tmp/pymatbridge-914e633b-4e17-4ec5-b45b-44b5a9022904\n",
      "Send 'exit' command to kill the server\n",
      "......MATLAB started and connected!\n"
     ]
    },
    {
     "name": "stderr",
     "output_type": "stream",
     "text": [
      "/home/selimb/miniconda2/envs/science/lib/python2.7/site-packages/IPython/nbformat.py:13: ShimWarning: The `IPython.nbformat` package has been deprecated. You should import from nbformat instead.\n",
      "  \"You should import from nbformat instead.\", ShimWarning)\n"
     ]
    }
   ],
   "source": [
    "%load_ext pymatbridge\n",
    "import sympy as sp\n",
    "sp.init_printing()\n",
    "\n",
    "from sympyutils import *"
   ]
  },
  {
   "cell_type": "markdown",
   "metadata": {},
   "source": [
    "## Question 1"
   ]
  },
  {
   "cell_type": "code",
   "execution_count": 2,
   "metadata": {
    "collapsed": false
   },
   "outputs": [
    {
     "data": {
      "image/png": "[encoded data removed]",
      "text/latex": [
       "$$\\left ( x_{1}, \\quad x_{2}, \\quad x_{3}, \\quad x_{4}\\right )$$"
      ],
      "text/plain": [
       "(x₁, x₂, x₃, x₄)"
      ]
     },
     "execution_count": 2,
     "metadata": {},
     "output_type": "execute_result"
    }
   ],
   "source": [
    "all_c = sp.symbols('c1:5', real=True)\n",
    "num_c = len(all_c)\n",
    "x = sp.symbols('x', real=True)\n",
    "h = sp.symbols('h_e', real=True)\n",
    "all_xe = sp.symbols('x1:5', real=True)\n",
    "# all_xe = sp.symbols('x_e x_{e+1}')\n",
    "all_xe"
   ]
  },
  {
   "cell_type": "code",
   "execution_count": 3,
   "metadata": {
    "collapsed": false
   },
   "outputs": [
    {
     "data": {
      "text/latex": [
       "$$u_h^e(x)=c_{1} + c_{2} x + c_{3} x^{2} + c_{4} x^{3}$$"
      ],
      "text/plain": [
       "<IPython.core.display.Math object>"
      ]
     },
     "execution_count": 3,
     "metadata": {},
     "output_type": "execute_result"
    }
   ],
   "source": [
    "u = sum( [all_c[i]*x**i for i in range(num_c)] )\n",
    "show(u, 'u_h^e(x)')"
   ]
  },
  {
   "cell_type": "code",
   "execution_count": 4,
   "metadata": {
    "collapsed": false
   },
   "outputs": [
    {
     "data": {
      "image/png": "[encoded data removed]",
      "text/latex": [
       "$$\\left ( u_{1}, \\quad u_{2}, \\quad u_{3}, \\quad u_{4}\\right )$$"
      ],
      "text/plain": [
       "(u₁, u₂, u₃, u₄)"
      ]
     },
     "execution_count": 4,
     "metadata": {},
     "output_type": "execute_result"
    }
   ],
   "source": [
    "all_d = sp.symbols('u_1:5')\n",
    "# all_d = sp.symbols('Delta_1:5')\n",
    "all_d"
   ]
  },
  {
   "cell_type": "code",
   "execution_count": 5,
   "metadata": {
    "collapsed": false
   },
   "outputs": [
    {
     "data": {
      "text/latex": [
       "$$\\begin{aligned}\n",
       "u_{1}&=c_{1} + c_{2} x_{1} + c_{3} x_{1}^{2} + c_{4} x_{1}^{3}\\\\u_{2}&=c_{1} + c_{2} x_{2} + c_{3} x_{2}^{2} + c_{4} x_{2}^{3}\\\\u_{3}&=c_{1} + c_{2} x_{3} + c_{3} x_{3}^{2} + c_{4} x_{3}^{3}\\\\u_{4}&=c_{1} + c_{2} x_{4} + c_{3} x_{4}^{2} + c_{4} x_{4}^{3}\n",
       "\\end{aligned}$$"
      ],
      "text/plain": [
       "<IPython.core.display.Math object>"
      ]
     },
     "execution_count": 5,
     "metadata": {},
     "output_type": "execute_result"
    }
   ],
   "source": [
    "d_eqs = []\n",
    "for i, xe in enumerate(all_xe):\n",
    "    d1 = u.subs(x, xe)\n",
    "    d_eqs.append(d1)\n",
    "d_names = [sp.latex(d) for d in all_d]\n",
    "show_list(d_eqs, d_names)"
   ]
  },
  {
   "cell_type": "code",
   "execution_count": 6,
   "metadata": {
    "collapsed": true
   },
   "outputs": [],
   "source": [
    "def pop_A(i, j):\n",
    "    di = d_eqs[i]\n",
    "    return di.coeff(all_c[j])"
   ]
  },
  {
   "cell_type": "code",
   "execution_count": 7,
   "metadata": {
    "collapsed": false
   },
   "outputs": [
    {
     "data": {
      "text/latex": [
       "$$A=\\left[\\begin{matrix}1 & 0 & 0 & 0\\\\1 & \\frac{h_{e}}{3} & \\frac{h_{e}^{2}}{9} & \\frac{h_{e}^{3}}{27}\\\\1 & \\frac{2 h_{e}}{3} & \\frac{4 h_{e}^{2}}{9} & \\frac{8 h_{e}^{3}}{27}\\\\1 & h_{e} & h_{e}^{2} & h_{e}^{3}\\end{matrix}\\right]$$"
      ],
      "text/plain": [
       "<IPython.core.display.Math object>"
      ]
     },
     "execution_count": 7,
     "metadata": {},
     "output_type": "execute_result"
    }
   ],
   "source": [
    "A = sp.Matrix(num_c, num_c, pop_A)\n",
    "sub_x = [0, h/3, 2*h/3, h]\n",
    "A = A.subs(zip(all_xe, sub_x))\n",
    "show(A, 'A')"
   ]
  },
  {
   "cell_type": "code",
   "execution_count": 8,
   "metadata": {
    "collapsed": false
   },
   "outputs": [
    {
     "data": {
      "text/latex": [
       "$$D=\\left[\\begin{matrix}u_{1}\\\\u_{2}\\\\u_{3}\\\\u_{4}\\end{matrix}\\right]$$"
      ],
      "text/plain": [
       "<IPython.core.display.Math object>"
      ]
     },
     "execution_count": 8,
     "metadata": {},
     "output_type": "execute_result"
    }
   ],
   "source": [
    "D = sp.Matrix(all_d)\n",
    "show(D, 'D')"
   ]
  },
  {
   "cell_type": "code",
   "execution_count": 9,
   "metadata": {
    "collapsed": true
   },
   "outputs": [],
   "source": [
    "C = A.inv().dot(D)\n",
    "C = sp.Matrix(C)"
   ]
  },
  {
   "cell_type": "code",
   "execution_count": 10,
   "metadata": {
    "collapsed": false
   },
   "outputs": [
    {
     "data": {
      "text/latex": [
       "$$C = A^{-1}D=\\left[\\begin{matrix}u_{1}\\\\- \\frac{11 u_{1}}{2 h_{e}} + \\frac{9 u_{2}}{h_{e}} - \\frac{9 u_{3}}{2 h_{e}} + \\frac{u_{4}}{h_{e}}\\\\\\frac{9 u_{1}}{h_{e}^{2}} - \\frac{45 u_{2}}{2 h_{e}^{2}} + \\frac{18 u_{3}}{h_{e}^{2}} - \\frac{9 u_{4}}{2 h_{e}^{2}}\\\\- \\frac{9 u_{1}}{2 h_{e}^{3}} + \\frac{27 u_{2}}{2 h_{e}^{3}} - \\frac{27 u_{3}}{2 h_{e}^{3}} + \\frac{9 u_{4}}{2 h_{e}^{3}}\\end{matrix}\\right]$$"
      ],
      "text/plain": [
       "<IPython.core.display.Math object>"
      ]
     },
     "execution_count": 10,
     "metadata": {},
     "output_type": "execute_result"
    }
   ],
   "source": [
    "show(C, 'C = A^{-1}D')"
   ]
  },
  {
   "cell_type": "code",
   "execution_count": 11,
   "metadata": {
    "collapsed": true
   },
   "outputs": [],
   "source": [
    "xbar = sp.symbols(r'\\bar{x}')"
   ]
  },
  {
   "cell_type": "code",
   "execution_count": 12,
   "metadata": {
    "collapsed": false
   },
   "outputs": [],
   "source": [
    "uu = u.subs( [(all_c[i], C[i]) for i in range(num_c)] ).subs(x, xbar)\n",
    "uu = uu.simplify().expand()"
   ]
  },
  {
   "cell_type": "code",
   "execution_count": 13,
   "metadata": {
    "collapsed": false
   },
   "outputs": [],
   "source": [
    "# Some magic to extract the terms\n",
    "all_phi = []\n",
    "for d in all_d:\n",
    "    coeff = uu.coeff(d).simplify()\n",
    "    all_phi.append(coeff)\n",
    "num_phi = len(all_phi)\n",
    "phi_names = [r'\\psi_%1i' % (i+1) for i in range(num_phi)]"
   ]
  },
  {
   "cell_type": "code",
   "execution_count": 14,
   "metadata": {
    "collapsed": false
   },
   "outputs": [
    {
     "data": {
      "text/latex": [
       "$$\\begin{aligned}\n",
       "\\psi_1&=- \\frac{9 \\bar{x}^{3}}{2 h_{e}^{3}} + \\frac{9 \\bar{x}^{2}}{h_{e}^{2}} - \\frac{11 \\bar{x}}{2 h_{e}} + 1\\\\\\psi_2&=\\frac{9 \\bar{x}}{2 h_{e}^{3}} \\left(3 \\bar{x}^{2} - 5 \\bar{x} h_{e} + 2 h_{e}^{2}\\right)\\\\\\psi_3&=\\frac{9 \\bar{x}}{2 h_{e}^{3}} \\left(- 3 \\bar{x}^{2} + 4 \\bar{x} h_{e} - h_{e}^{2}\\right)\\\\\\psi_4&=\\frac{\\bar{x}}{2 h_{e}^{3}} \\left(9 \\bar{x}^{2} - 9 \\bar{x} h_{e} + 2 h_{e}^{2}\\right)\n",
       "\\end{aligned}$$"
      ],
      "text/plain": [
       "<IPython.core.display.Math object>"
      ]
     },
     "execution_count": 14,
     "metadata": {},
     "output_type": "execute_result"
    }
   ],
   "source": [
    "show_list(all_phi, phi_names)"
   ]
  },
  {
   "cell_type": "code",
   "execution_count": 15,
   "metadata": {
    "collapsed": false
   },
   "outputs": [
    {
     "data": {
      "text/latex": [
       "$$f(\\bar{x})=\\frac{f_{0}}{h_{e}} \\left(\\bar{x} + x_{a}\\right)$$"
      ],
      "text/plain": [
       "<IPython.core.display.Math object>"
      ]
     },
     "execution_count": 15,
     "metadata": {},
     "output_type": "execute_result"
    }
   ],
   "source": [
    "f0, xa = sp.symbols('f_0 x_a')\n",
    "f = f0*(xbar + xa)/h\n",
    "show(f, r'f(\\bar{x})')"
   ]
  },
  {
   "cell_type": "code",
   "execution_count": 16,
   "metadata": {
    "collapsed": false
   },
   "outputs": [],
   "source": [
    "phi2 = all_phi[1]"
   ]
  },
  {
   "cell_type": "code",
   "execution_count": 17,
   "metadata": {
    "collapsed": false
   },
   "outputs": [
    {
     "data": {
      "text/latex": [
       "$$\\int_0^h f \\phi_2 d\\bar{x}=\\frac{3 f_{0}}{40} h_{e} + \\frac{3 f_{0}}{8} x_{a}$$"
      ],
      "text/plain": [
       "<IPython.core.display.Math object>"
      ]
     },
     "execution_count": 17,
     "metadata": {},
     "output_type": "execute_result"
    }
   ],
   "source": [
    "I = sp.integrate(f*phi2, (xbar, 0, h))\n",
    "show(I, r'\\int_0^h f \\phi_2 d\\bar{x}')"
   ]
  },
  {
   "cell_type": "code",
   "execution_count": 18,
   "metadata": {
    "collapsed": false
   },
   "outputs": [
    {
     "data": {
      "image/png": "[encoded data removed]",
      "text/latex": [
       "$$\\frac{3 f_{0}}{40} h_{e}$$"
      ],
      "text/plain": [
       "3⋅f₀⋅hₑ\n",
       "───────\n",
       "   40  "
      ]
     },
     "execution_count": 18,
     "metadata": {},
     "output_type": "execute_result"
    }
   ],
   "source": [
    "I.subs(xa, 0)"
   ]
  },
  {
   "cell_type": "markdown",
   "metadata": {
    "collapsed": true
   },
   "source": [
    "## Question 3"
   ]
  },
  {
   "cell_type": "code",
   "execution_count": 79,
   "metadata": {
    "collapsed": false
   },
   "outputs": [],
   "source": [
    "x, alpha, h, xa = sp.symbols(r'\\bar{x} alpha h x_a', real=True, positive=True)\n",
    "a, c = sp.symbols('a c', real=True)\n",
    "f = -(x + xa)**2  # in local coordinates"
   ]
  },
  {
   "cell_type": "code",
   "execution_count": 80,
   "metadata": {
    "collapsed": true
   },
   "outputs": [],
   "source": [
    "# The above is good\n",
    "# Now we construct K\n",
    "def integ(integrand):\n",
    "    return sp.integrate(integrand, (x, 0, h)).simplify().simplify()\n",
    "\n",
    "def pop_K1(i,j):\n",
    "    integrand = a*sp.diff(phis[i],x)*sp.diff(phis[j],x)\n",
    "    return integ(integrand)\n",
    "\n",
    "def pop_K2(i,j):\n",
    "    integrand = c*phis[i]*phis[j]\n",
    "    return integ(integrand)\n",
    "\n",
    "def pop_F(i,j):\n",
    "    integrand = phis[i]*f\n",
    "    return integ(integrand)"
   ]
  },
  {
   "cell_type": "markdown",
   "metadata": {},
   "source": [
    "### Linear"
   ]
  },
  {
   "cell_type": "code",
   "execution_count": 81,
   "metadata": {
    "collapsed": true
   },
   "outputs": [],
   "source": [
    "phis = [1 - x/h, x/h]"
   ]
  },
  {
   "cell_type": "code",
   "execution_count": 82,
   "metadata": {
    "collapsed": false
   },
   "outputs": [
    {
     "data": {
      "text/latex": [
       "$$F=\\left[\\begin{matrix}- \\frac{h}{12} \\left(h^{2} + 4 h x_{a} + 6 x_{a}^{2}\\right)\\\\- \\frac{h}{12} \\left(3 h^{2} + 8 h x_{a} + 6 x_{a}^{2}\\right)\\end{matrix}\\right]$$"
      ],
      "text/plain": [
       "<IPython.core.display.Math object>"
      ]
     },
     "execution_count": 82,
     "metadata": {},
     "output_type": "execute_result"
    }
   ],
   "source": [
    "N = 2\n",
    "F = sp.Matrix(N, 1, pop_F)\n",
    "show(F, 'F')"
   ]
  },
  {
   "cell_type": "markdown",
   "metadata": {},
   "source": [
    "### Quadratic"
   ]
  },
  {
   "cell_type": "code",
   "execution_count": 83,
   "metadata": {
    "collapsed": false
   },
   "outputs": [
    {
     "name": "stdout",
     "output_type": "stream",
     "text": [
      "[1, 0, 0]\n",
      "[0, 1, 0]\n",
      "[0, 0, 1]\n"
     ]
    }
   ],
   "source": [
    "phis = [\n",
    "    (1 - x/h)*(1 - (1/alpha)*x/h),\n",
    "    x/(alpha*(1-alpha)*h)*(1 - x/h),\n",
    "    -(alpha/(1-alpha)*x/h)*(1 - (1/alpha)*x/h)\n",
    "]\n",
    "# Validate\n",
    "pos = [0, alpha*h, h]\n",
    "for phi in phis:\n",
    "    print([phi.subs(x, p).simplify() for p in pos])"
   ]
  },
  {
   "cell_type": "markdown",
   "metadata": {},
   "source": [
    "The above is good. \n",
    "\n",
    "Now, we find K and F"
   ]
  },
  {
   "cell_type": "code",
   "execution_count": 84,
   "metadata": {
    "collapsed": false
   },
   "outputs": [],
   "source": [
    "N = 3\n",
    "K1 = sp.Matrix(N, N, pop_K1)\n",
    "K2 = sp.Matrix(N, N, pop_K2)\n",
    "F = sp.Matrix(N, 1, pop_F)"
   ]
  },
  {
   "cell_type": "code",
   "execution_count": 85,
   "metadata": {
    "collapsed": false
   },
   "outputs": [
    {
     "data": {
      "text/latex": [
       "$$\\begin{aligned}\n",
       "K^e=&\\left[\\begin{matrix}\\frac{a}{h} + \\frac{a}{3 \\alpha^{2} h} & \\frac{a}{3 \\alpha^{2} h \\left(\\alpha - 1\\right)} & - \\frac{a \\left(3 \\alpha^{2} - 3 \\alpha + 1\\right)}{3 \\alpha h \\left(\\alpha - 1\\right)}\\\\\\frac{a}{3 \\alpha^{2} h \\left(\\alpha - 1\\right)} & \\frac{a}{3 \\alpha^{2} h \\left(\\alpha^{2} - 2 \\alpha + 1\\right)} & - \\frac{a}{3 \\alpha h \\left(\\alpha^{2} - 2 \\alpha + 1\\right)}\\\\- \\frac{a \\left(3 \\alpha^{2} - 3 \\alpha + 1\\right)}{3 \\alpha h \\left(\\alpha - 1\\right)} & - \\frac{a}{3 \\alpha h \\left(\\alpha^{2} - 2 \\alpha + 1\\right)} & \\frac{a \\left(3 \\alpha^{2} - 6 \\alpha + 4\\right)}{3 h \\left(\\alpha^{2} - 2 \\alpha + 1\\right)}\\end{matrix}\\right]\\\\ &+ \\left[\\begin{matrix}\\frac{c h}{30 \\alpha^{2}} \\left(10 \\alpha^{2} - 5 \\alpha + 1\\right) & - \\frac{c h \\left(5 \\alpha - 2\\right)}{60 \\alpha^{2} \\left(\\alpha - 1\\right)} & \\frac{c h \\left(10 \\alpha^{2} - 10 \\alpha + 3\\right)}{60 \\alpha \\left(\\alpha - 1\\right)}\\\\- \\frac{c h \\left(5 \\alpha - 2\\right)}{60 \\alpha^{2} \\left(\\alpha - 1\\right)} & \\frac{c h}{30 \\alpha^{2} \\left(\\alpha^{2} - 2 \\alpha + 1\\right)} & - \\frac{c h \\left(5 \\alpha - 3\\right)}{60 \\alpha \\left(\\alpha^{2} - 2 \\alpha + 1\\right)}\\\\\\frac{c h \\left(10 \\alpha^{2} - 10 \\alpha + 3\\right)}{60 \\alpha \\left(\\alpha - 1\\right)} & - \\frac{c h \\left(5 \\alpha - 3\\right)}{60 \\alpha \\left(\\alpha^{2} - 2 \\alpha + 1\\right)} & \\frac{c h \\left(10 \\alpha^{2} - 15 \\alpha + 6\\right)}{30 \\alpha^{2} - 60 \\alpha + 30}\\end{matrix}\\right]\n",
       "\\end{aligned}$$"
      ],
      "text/plain": [
       "<IPython.core.display.Math object>"
      ]
     },
     "execution_count": 85,
     "metadata": {},
     "output_type": "execute_result"
    }
   ],
   "source": [
    "show_add([K1, K2], 'K^e')"
   ]
  },
  {
   "cell_type": "markdown",
   "metadata": {},
   "source": [
    "Well this isn't pretty. Just to make sure it's correct, let's plug in $\\alpha = 1/2$ and compare with\n",
    "the result derived in Reddy. "
   ]
  },
  {
   "cell_type": "code",
   "execution_count": 86,
   "metadata": {
    "collapsed": false
   },
   "outputs": [
    {
     "data": {
      "text/latex": [
       "$$\\begin{aligned}\n",
       "K^e\\big|_{\\alpha=0.5}=&\\left[\\begin{matrix}\\frac{7 a}{3 h} & - \\frac{8 a}{3 h} & \\frac{a}{3 h}\\\\- \\frac{8 a}{3 h} & \\frac{16 a}{3 h} & - \\frac{8 a}{3 h}\\\\\\frac{a}{3 h} & - \\frac{8 a}{3 h} & \\frac{7 a}{3 h}\\end{matrix}\\right]\\\\ &+ \\left[\\begin{matrix}\\frac{2 c}{15} h & \\frac{c h}{15} & - \\frac{c h}{30}\\\\\\frac{c h}{15} & \\frac{8 c}{15} h & \\frac{c h}{15}\\\\- \\frac{c h}{30} & \\frac{c h}{15} & \\frac{2 c}{15} h\\end{matrix}\\right]\n",
       "\\end{aligned}$$"
      ],
      "text/plain": [
       "<IPython.core.display.Math object>"
      ]
     },
     "execution_count": 86,
     "metadata": {},
     "output_type": "execute_result"
    }
   ],
   "source": [
    "subs = [(alpha, alpha/(2*alpha))]  # Dirty trick to get 1/2 as fraction instead of float\n",
    "show_add([K1.subs(subs), K2.subs(subs)], r'K^e\\big|_{\\alpha=0.5}')"
   ]
  },
  {
   "cell_type": "markdown",
   "metadata": {},
   "source": [
    "That's correct. \n",
    "\n",
    "Now on to $F$"
   ]
  },
  {
   "cell_type": "code",
   "execution_count": 87,
   "metadata": {
    "collapsed": false
   },
   "outputs": [
    {
     "data": {
      "text/latex": [
       "$$F=\\left[\\begin{matrix}- \\frac{h}{60 \\alpha} \\left(5 \\alpha h^{2} + 20 \\alpha h x_{a} + 30 \\alpha x_{a}^{2} - 3 h^{2} - 10 h x_{a} - 10 x_{a}^{2}\\right)\\\\\\frac{h \\left(3 h^{2} + 10 h x_{a} + 10 x_{a}^{2}\\right)}{60 \\alpha \\left(\\alpha - 1\\right)}\\\\- \\frac{h}{60 \\alpha - 60} \\left(30 \\alpha x_{a}^{2} - 12 h^{2} + 15 h \\left(\\alpha h - 2 x_{a}\\right) + 20 x_{a} \\left(2 \\alpha h - x_{a}\\right)\\right)\\end{matrix}\\right]$$"
      ],
      "text/plain": [
       "<IPython.core.display.Math object>"
      ]
     },
     "execution_count": 87,
     "metadata": {},
     "output_type": "execute_result"
    }
   ],
   "source": [
    "show(F, 'F')"
   ]
  },
  {
   "cell_type": "markdown",
   "metadata": {},
   "source": [
    "And compare with the result in Example 3.2.1"
   ]
  },
  {
   "cell_type": "code",
   "execution_count": 88,
   "metadata": {
    "collapsed": false
   },
   "outputs": [
    {
     "data": {
      "text/latex": [
       "$$F\\big|_{\\alpha=0.5}=\\left[\\begin{matrix}- \\frac{h}{30} \\left(- \\frac{h^{2}}{2} + 5 x_{a}^{2}\\right)\\\\- \\frac{h}{15} \\left(3 h^{2} + 10 h x_{a} + 10 x_{a}^{2}\\right)\\\\\\frac{h}{30} \\left(- 12 h^{2} + 15 h \\left(\\frac{h}{2} - 2 x_{a}\\right) + 15 x_{a}^{2} + 20 x_{a} \\left(h - x_{a}\\right)\\right)\\end{matrix}\\right]$$"
      ],
      "text/plain": [
       "<IPython.core.display.Math object>"
      ]
     },
     "execution_count": 88,
     "metadata": {},
     "output_type": "execute_result"
    }
   ],
   "source": [
    "show(F.subs(subs), r'F\\big|_{\\alpha=0.5}')"
   ]
  },
  {
   "cell_type": "markdown",
   "metadata": {},
   "source": [
    "That's correct as well. Great. "
   ]
  },
  {
   "cell_type": "code",
   "execution_count": 94,
   "metadata": {
    "collapsed": false
   },
   "outputs": [
    {
     "name": "stdout",
     "output_type": "stream",
     "text": [
      "Kelem(1,1) = a/h + a/(3*alpha^2*h) + c*h*(10*alpha^2 - 5*alpha + 1)/(30*alpha^2);\n",
      "Kelem(1,2) = a/(3*alpha^2*h*(alpha - 1)) - c*h*(5*alpha - 2)/(60*alpha^2*(alpha - 1));\n",
      "Kelem(1,3) = -a*(3*alpha^2 - 3*alpha + 1)/(3*alpha*h*(alpha - 1)) + c*h*(10*alpha^2 - 10*alpha + 3)/(60*alpha*(alpha - 1));\n",
      "Kelem(2,2) = a/(3*alpha^2*h*(alpha^2 - 2*alpha + 1)) + c*h/(30*alpha^2*(alpha^2 - 2*alpha + 1));\n",
      "Kelem(2,3) = -a/(3*alpha*h*(alpha^2 - 2*alpha + 1)) - c*h*(5*alpha - 3)/(60*alpha*(alpha^2 - 2*alpha + 1));\n",
      "Kelem(3,3) = a*(3*alpha^2 - 6*alpha + 4)/(3*h*(alpha^2 - 2*alpha + 1)) + c*h*(10*alpha^2 - 15*alpha + 6)/(30*(alpha^2 - 2*alpha + 1));\n",
      "Felem(1) = -h*(5*alpha*h^2 + 20*alpha*h*xa + 30*alpha*xa^2 - 3*h^2 - 10*h*xa - 10*xa^2)/(60*alpha);\n",
      "Felem(2) = h*(3*h^2 + 10*h*xa + 10*xa^2)/(60*alpha*(alpha - 1));\n",
      "Felem(3) = -h*(30*alpha*xa^2 - 12*h^2 + 15*h*(alpha*h - 2*xa) + 20*xa*(2*alpha*h - xa))/(60*alpha - 60);\n"
     ]
    }
   ],
   "source": [
    "# So we can copy-paste into MATLAB\n",
    "def fmt(expr):\n",
    "    return str(expr).replace('**','^').replace('x_a', 'xa')\n",
    "for i in range(3):\n",
    "    for j in range(i,3):\n",
    "        print(' = '.join( ['Kelem(%i,%i)' % (i+1,j+1), \n",
    "                          fmt(K1[i,j] + K2[i,j])] ) + ';')\n",
    "\n",
    "for i in range(3):\n",
    "    print(' = '.join( ['Felem(%i)' % (i+1), fmt(F[i])] ) + ';')"
   ]
  },
  {
   "cell_type": "markdown",
   "metadata": {},
   "source": [
    "### Analytical Solution"
   ]
  },
  {
   "cell_type": "code",
   "execution_count": 108,
   "metadata": {
    "collapsed": false
   },
   "outputs": [
    {
     "data": {
      "text/plain": [
       " \n",
       "ans =\n",
       " \n",
       "2*cos(x) + x^2 - (sin(x)*(2*cos(1) - 1))/sin(1) - 2\n",
       " \n"
      ]
     },
     "metadata": {},
     "output_type": "display_data"
    }
   ],
   "source": [
    "%%matlab\n",
    "x = sym('x');\n",
    "u(x) = sym('u(x)');\n",
    "dsolve(-diff(u,2) - u + x^2, u(0) == 0, u(1) == 0)"
   ]
  },
  {
   "cell_type": "code",
   "execution_count": null,
   "metadata": {
    "collapsed": true
   },
   "outputs": [],
   "source": []
  }
 ],
 "metadata": {
  "kernelspec": {
   "display_name": "Python 2",
   "language": "python",
   "name": "python2"
  },
  "language_info": {
   "codemirror_mode": {
    "name": "ipython",
    "version": 2
   },
   "file_extension": ".py",
   "mimetype": "text/x-python",
   "name": "python",
   "nbconvert_exporter": "python",
   "pygments_lexer": "ipython2",
   "version": "2.7.11"
  }
 },
 "nbformat": 4,
 "nbformat_minor": 0
}
