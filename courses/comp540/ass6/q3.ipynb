{
 "cells": [
  {
   "cell_type": "markdown",
   "metadata": {},
   "source": [
    "# Question 3"
   ]
  },
  {
   "cell_type": "code",
   "execution_count": 1,
   "metadata": {
    "collapsed": true
   },
   "outputs": [],
   "source": [
    "import numpy as np\n",
    "from numpy.linalg import qr, eig"
   ]
  },
  {
   "cell_type": "code",
   "execution_count": 2,
   "metadata": {
    "collapsed": false
   },
   "outputs": [],
   "source": [
    "np.set_printoptions(\n",
    "    suppress=True, \n",
    "    formatter={\n",
    "        'float': lambda x: '%.2f' % x,\n",
    "        'complexfloat': lambda x: '%.2f + %.2fi' % (x.real, x.imag)\n",
    "    }, \n",
    "    linewidth=100\n",
    ")"
   ]
  },
  {
   "cell_type": "code",
   "execution_count": 3,
   "metadata": {
    "collapsed": true
   },
   "outputs": [],
   "source": [
    "def step_generator(A):\n",
    "    for i in range(1000): # Dummy step\n",
    "        Q, R = qr(A)\n",
    "        A = R.dot(Q)\n",
    "        yield A"
   ]
  },
  {
   "cell_type": "markdown",
   "metadata": {},
   "source": [
    "## a)"
   ]
  },
  {
   "cell_type": "code",
   "execution_count": 4,
   "metadata": {
    "collapsed": false
   },
   "outputs": [],
   "source": [
    "A = np.array([[5, 4, 1, 1], [4, 5, 1, 1], [1, 1, 4, 2], [1, 1, 2, 4]])"
   ]
  },
  {
   "cell_type": "code",
   "execution_count": 5,
   "metadata": {
    "collapsed": true
   },
   "outputs": [],
   "source": [
    "Ak = step_generator(A)"
   ]
  },
  {
   "cell_type": "code",
   "execution_count": 6,
   "metadata": {
    "collapsed": false
   },
   "outputs": [
    {
     "data": {
      "text/plain": [
       "array([[9.60, 0.93, 1.10, -0.40],\n",
       "       [0.93, 1.10, 0.12, -0.04],\n",
       "       [1.10, 0.12, 4.90, -1.07],\n",
       "       [-0.40, -0.04, -1.07, 2.39]])"
      ]
     },
     "execution_count": 6,
     "metadata": {},
     "output_type": "execute_result"
    }
   ],
   "source": [
    "next(Ak)"
   ]
  },
  {
   "cell_type": "code",
   "execution_count": 7,
   "metadata": {
    "collapsed": false
   },
   "outputs": [
    {
     "data": {
      "text/plain": [
       "array([[9.92, 0.10, 0.61, 0.09],\n",
       "       [0.10, 1.00, 0.01, 0.00],\n",
       "       [0.61, 0.01, 5.01, 0.43],\n",
       "       [0.09, 0.00, 0.43, 2.06]])"
      ]
     },
     "execution_count": 7,
     "metadata": {},
     "output_type": "execute_result"
    }
   ],
   "source": [
    "next(Ak)"
   ]
  },
  {
   "cell_type": "markdown",
   "metadata": {},
   "source": [
    "The off-diagonal entries are decreasing, whereas the diagonal entries are converging to the eigenvalues. One could also say that the norm of the diagonal is increasing.\n",
    "\n",
    "In other words, the iteration converges to a diagonal matrix containing the eigenvalues. This makes sense because $A$ is real and symmetric. "
   ]
  },
  {
   "cell_type": "markdown",
   "metadata": {},
   "source": [
    "## b)"
   ]
  },
  {
   "cell_type": "code",
   "execution_count": 8,
   "metadata": {
    "collapsed": false
   },
   "outputs": [],
   "source": [
    "A = np.array([[6, 4, 4, 1], [4, 6, 1, 4], [4, 1, 6, 4], [1, 4, 4, 6]])\n",
    "Ak = step_generator(A)"
   ]
  },
  {
   "cell_type": "code",
   "execution_count": 9,
   "metadata": {
    "collapsed": false
   },
   "outputs": [
    {
     "data": {
      "text/plain": [
       "array([[13.13, 2.70, 2.87, 0.23],\n",
       "       [2.70, 5.64, 0.68, 1.26],\n",
       "       [2.87, 0.68, 5.72, 1.34],\n",
       "       [0.23, 1.26, 1.34, -0.49]])"
      ]
     },
     "execution_count": 9,
     "metadata": {},
     "output_type": "execute_result"
    }
   ],
   "source": [
    "next(Ak)"
   ]
  },
  {
   "cell_type": "code",
   "execution_count": 10,
   "metadata": {
    "collapsed": false
   },
   "outputs": [
    {
     "data": {
      "text/plain": [
       "array([[14.76, 1.08, 1.09, 0.02],\n",
       "       [1.08, 5.11, 0.11, 0.24],\n",
       "       [1.09, 0.11, 5.11, 0.25],\n",
       "       [0.02, 0.24, 0.25, -0.98]])"
      ]
     },
     "execution_count": 10,
     "metadata": {},
     "output_type": "execute_result"
    }
   ],
   "source": [
    "next(Ak)"
   ]
  },
  {
   "cell_type": "markdown",
   "metadata": {},
   "source": [
    "Similar to **a)**"
   ]
  },
  {
   "cell_type": "markdown",
   "metadata": {},
   "source": [
    "## c)"
   ]
  },
  {
   "cell_type": "code",
   "execution_count": 11,
   "metadata": {
    "collapsed": true
   },
   "outputs": [],
   "source": [
    "A = np.array([[33, 16, 72], [-24, -10, -57], [-8, -4, -17]])\n",
    "Ak = step_generator(A)"
   ]
  },
  {
   "cell_type": "code",
   "execution_count": 12,
   "metadata": {
    "collapsed": false
   },
   "outputs": [
    {
     "data": {
      "text/plain": [
       "array([[3.94, 17.53, -102.39],\n",
       "       [-0.04, 1.96, 3.61],\n",
       "       [0.02, 0.02, 0.10]])"
      ]
     },
     "execution_count": 12,
     "metadata": {},
     "output_type": "execute_result"
    }
   ],
   "source": [
    "next(Ak)"
   ]
  },
  {
   "cell_type": "code",
   "execution_count": 13,
   "metadata": {
    "collapsed": false
   },
   "outputs": [
    {
     "data": {
      "text/plain": [
       "array([[3.24, 20.78, 101.83],\n",
       "       [-0.01, 2.05, -2.64],\n",
       "       [-0.00, 0.02, 0.71]])"
      ]
     },
     "execution_count": 13,
     "metadata": {},
     "output_type": "execute_result"
    }
   ],
   "source": [
    "next(Ak)"
   ]
  },
  {
   "cell_type": "code",
   "execution_count": 14,
   "metadata": {
    "collapsed": false
   },
   "outputs": [
    {
     "data": {
      "text/plain": [
       "array([[3.07, 23.04, -101.35],\n",
       "       [-0.00, 2.04, 2.43],\n",
       "       [0.00, -0.02, 0.88]])"
      ]
     },
     "execution_count": 14,
     "metadata": {},
     "output_type": "execute_result"
    }
   ],
   "source": [
    "next(Ak)"
   ]
  },
  {
   "cell_type": "code",
   "execution_count": 15,
   "metadata": {
    "collapsed": false
   },
   "outputs": [
    {
     "data": {
      "text/plain": [
       "array([[3.02, 24.37, 101.04],\n",
       "       [-0.00, 2.03, -2.37],\n",
       "       [-0.00, 0.01, 0.95]])"
      ]
     },
     "execution_count": 15,
     "metadata": {},
     "output_type": "execute_result"
    }
   ],
   "source": [
    "next(Ak)"
   ]
  },
  {
   "cell_type": "code",
   "execution_count": 16,
   "metadata": {
    "collapsed": false
   },
   "outputs": [
    {
     "data": {
      "text/plain": [
       "array([[3.01, 25.12, -100.86],\n",
       "       [-0.00, 2.02, 2.36],\n",
       "       [0.00, -0.01, 0.98]])"
      ]
     },
     "execution_count": 16,
     "metadata": {},
     "output_type": "execute_result"
    }
   ],
   "source": [
    "next(Ak)"
   ]
  },
  {
   "cell_type": "markdown",
   "metadata": {},
   "source": [
    "In this case, the diagonal entries converge to the correct eigenvalues but the matrix is upper triangular. However, $A$ is non-defective. Why is convergence slow?"
   ]
  },
  {
   "cell_type": "code",
   "execution_count": 17,
   "metadata": {
    "collapsed": false
   },
   "outputs": [
    {
     "data": {
      "text/plain": [
       "array([[0.78, 0.76, 0.76],\n",
       "       [-0.59, -0.61, -0.62],\n",
       "       [-0.20, -0.20, -0.19]])"
      ]
     },
     "execution_count": 17,
     "metadata": {},
     "output_type": "execute_result"
    }
   ],
   "source": [
    "vals, vecs = eig(A)\n",
    "vecs"
   ]
  },
  {
   "cell_type": "markdown",
   "metadata": {},
   "source": [
    "The eigenvectors are nearly the same! This is the only explanation for slow convergence."
   ]
  },
  {
   "cell_type": "markdown",
   "metadata": {},
   "source": [
    "## d)"
   ]
  },
  {
   "cell_type": "code",
   "execution_count": 18,
   "metadata": {
    "collapsed": true
   },
   "outputs": [],
   "source": [
    "A = np.array([[6, -3, 4, 1], [4, 2, 4, 0], [4, -2, 3, 1], [4, 2, 3, 1]])\n",
    "Ak = step_generator(A)"
   ]
  },
  {
   "cell_type": "code",
   "execution_count": 19,
   "metadata": {
    "collapsed": false
   },
   "outputs": [
    {
     "name": "stdout",
     "output_type": "stream",
     "text": [
      "5.2360679775\n",
      "0.7639320225\n"
     ]
    }
   ],
   "source": [
    "print(3. + np.sqrt(5))\n",
    "print(3. - np.sqrt(5))"
   ]
  },
  {
   "cell_type": "code",
   "execution_count": 20,
   "metadata": {
    "collapsed": false
   },
   "outputs": [
    {
     "data": {
      "text/plain": [
       "array([[5.72, -8.51, -2.20, -0.06],\n",
       "       [0.03, 4.75, 3.97, -2.66],\n",
       "       [0.00, -0.00, 0.84, -1.18],\n",
       "       [-0.00, -0.00, 0.00, 0.69]])"
      ]
     },
     "execution_count": 20,
     "metadata": {},
     "output_type": "execute_result"
    }
   ],
   "source": [
    "for i in range(10):\n",
    "    next(Ak)\n",
    "next(Ak)"
   ]
  },
  {
   "cell_type": "code",
   "execution_count": 21,
   "metadata": {
    "collapsed": false
   },
   "outputs": [
    {
     "data": {
      "text/plain": [
       "array([[5.48, -8.53, -2.08, 0.07],\n",
       "       [0.01, 5.00, 3.94, 2.79],\n",
       "       [0.00, -0.00, 0.80, 1.18],\n",
       "       [0.00, 0.00, -0.00, 0.73]])"
      ]
     },
     "execution_count": 21,
     "metadata": {},
     "output_type": "execute_result"
    }
   ],
   "source": [
    "for i in range(10):\n",
    "    next(Ak)\n",
    "next(Ak)"
   ]
  },
  {
   "cell_type": "code",
   "execution_count": 22,
   "metadata": {
    "collapsed": false
   },
   "outputs": [
    {
     "data": {
      "text/plain": [
       "array([[5.40, -8.54, -2.05, -0.07],\n",
       "       [0.00, 5.08, 3.93, -2.83],\n",
       "       [0.00, -0.00, 0.79, -1.18],\n",
       "       [-0.00, -0.00, 0.00, 0.74]])"
      ]
     },
     "execution_count": 22,
     "metadata": {},
     "output_type": "execute_result"
    }
   ],
   "source": [
    "for i in range(10):\n",
    "    next(Ak)\n",
    "next(Ak)"
   ]
  },
  {
   "cell_type": "code",
   "execution_count": 23,
   "metadata": {
    "collapsed": false
   },
   "outputs": [
    {
     "data": {
      "text/plain": [
       "array([[-0.26 + 0.00i, 0.26 + 0.00i, -0.33 + 0.00i, -0.33 + -0.00i],\n",
       "       [-0.62 + 0.00i, 0.62 + 0.00i, 0.11 + 0.00i, 0.11 + -0.00i],\n",
       "       [-0.24 + 0.00i, 0.24 + 0.00i, 0.30 + -0.00i, 0.30 + 0.00i],\n",
       "       [-0.71 + 0.00i, 0.71 + 0.00i, 0.89 + 0.00i, 0.89 + -0.00i]])"
      ]
     },
     "execution_count": 23,
     "metadata": {},
     "output_type": "execute_result"
    }
   ],
   "source": [
    "vals, vecs = eig(A)\n",
    "vecs"
   ]
  },
  {
   "cell_type": "markdown",
   "metadata": {},
   "source": [
    "Two of the eigenvalues are defective: they have algeabric multiplicity of 2. Each eigenvalue also has geometric multiplicity of 1. \n",
    "\n",
    "Thus, convergence is very slow and the matrix is triangular. "
   ]
  },
  {
   "cell_type": "markdown",
   "metadata": {},
   "source": [
    "## e)"
   ]
  },
  {
   "cell_type": "code",
   "execution_count": 24,
   "metadata": {
    "collapsed": true
   },
   "outputs": [],
   "source": [
    "A = np.array([[4, -5, 0, 3], [0, 4, -3, -5], [5, -3, 4, 0], [3, 0, 5, 4]])\n",
    "Ak = step_generator(A)"
   ]
  },
  {
   "cell_type": "code",
   "execution_count": 25,
   "metadata": {
    "collapsed": false
   },
   "outputs": [
    {
     "data": {
      "text/plain": [
       "array([[12.00, -0.00, 0.00, -0.00],\n",
       "       [-0.00, 1.00, -5.00, 0.00],\n",
       "       [0.00, 5.00, 1.00, 0.00],\n",
       "       [-0.00, -0.00, -0.00, 2.00]])"
      ]
     },
     "execution_count": 25,
     "metadata": {},
     "output_type": "execute_result"
    }
   ],
   "source": [
    "for i in range(10):\n",
    "    next(Ak)\n",
    "next(Ak)"
   ]
  },
  {
   "cell_type": "markdown",
   "metadata": {},
   "source": [
    "It is easy to see that we have a 2x2 block in the middle, which corresponds to the complex eigenvalue pair, and two 1x1 at either corner! None of the eigenvalues are defective, hence the diagonal form. "
   ]
  },
  {
   "cell_type": "markdown",
   "metadata": {},
   "source": [
    "## f)"
   ]
  },
  {
   "cell_type": "code",
   "execution_count": 54,
   "metadata": {
    "collapsed": true
   },
   "outputs": [],
   "source": [
    "A = np.array([\n",
    "    [10, -19, 17, -12, 4, 1], \n",
    "    [ 9, -18, 17, -12, 4, 1],\n",
    "    [ 8, -16, 15, -11, 4, 1],\n",
    "    [ 6, -12, 12, -10, 4, 1],\n",
    "    [ 4,  -8,  8,  -6, 1, 2],\n",
    "    [ 2,  -4,  4,  -3, 1, 0]\n",
    "])\n",
    "Ak = step_generator(A)"
   ]
  },
  {
   "cell_type": "code",
   "execution_count": 55,
   "metadata": {
    "collapsed": false
   },
   "outputs": [
    {
     "data": {
      "text/plain": [
       "array([[1.06, -20.48, 14.65, -45.17, -20.69, 1.38],\n",
       "       [-0.03, -0.02, 1.31, -1.72, -1.77, -0.08],\n",
       "       [0.02, 0.01, -1.04, 0.44, 1.52, 0.57],\n",
       "       [0.04, 0.03, -0.08, -0.01, 0.59, -0.01],\n",
       "       [0.00, 0.00, -0.00, 0.00, -1.00, 1.34],\n",
       "       [0.00, 0.00, -0.00, 0.00, -0.00, -1.00]])"
      ]
     },
     "execution_count": 55,
     "metadata": {},
     "output_type": "execute_result"
    }
   ],
   "source": [
    "for i in range(500):\n",
    "    next(Ak)\n",
    "next(Ak)"
   ]
  },
  {
   "cell_type": "markdown",
   "metadata": {},
   "source": [
    "In this case, -1 is a defective eigenvalue with multiplicity 1 and we have a complex pair. The iteration is clearly not converging for the complex pair. It was said in the notes that defective eigenvalues are very sensitive, which is clearly the case here. "
   ]
  },
  {
   "cell_type": "code",
   "execution_count": 28,
   "metadata": {
    "collapsed": false
   },
   "outputs": [
    {
     "data": {
      "text/plain": [
       "array([[0.47 + 0.00i, -0.47 + 0.00i, -0.47 + -0.00i],\n",
       "       [0.47 + 0.00i, -0.47 + 0.00i, -0.47 + -0.00i],\n",
       "       [0.47 + 0.00i, -0.47 + 0.00i, -0.47 + -0.00i],\n",
       "       [0.47 + 0.00i, -0.47 + 0.00i, -0.47 + -0.00i],\n",
       "       [0.31 + 0.00i, -0.31 + -0.00i, -0.31 + 0.00i],\n",
       "       [0.16 + 0.00i, -0.16 + -0.00i, -0.16 + 0.00i]])"
      ]
     },
     "execution_count": 28,
     "metadata": {},
     "output_type": "execute_result"
    }
   ],
   "source": [
    "vals, vecs = eig(A)\n",
    "# Eigenvectors for the -1 eigenvalue\n",
    "vecs.T[np.isclose(vals, -1.0)].T"
   ]
  },
  {
   "cell_type": "markdown",
   "metadata": {},
   "source": [
    "Moreover, the eigenvalue -1 has geometric multiplicity of 1.\n",
    "\n",
    "We could keep going with the iteration and it would never converge to the right eigenvalues."
   ]
  }
 ],
 "metadata": {
  "kernelspec": {
   "display_name": "Python 2",
   "language": "python",
   "name": "python2"
  },
  "language_info": {
   "codemirror_mode": {
    "name": "ipython",
    "version": 2
   },
   "file_extension": ".py",
   "mimetype": "text/x-python",
   "name": "python",
   "nbconvert_exporter": "python",
   "pygments_lexer": "ipython2",
   "version": "2.7.10"
  }
 },
 "nbformat": 4,
 "nbformat_minor": 0
}
