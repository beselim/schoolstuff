{
 "cells": [
  {
   "cell_type": "markdown",
   "metadata": {},
   "source": [
    "# COMP 540 Assignment 3\n",
    "\n",
    "## Question 3\n",
    "\n",
    "### c)"
   ]
  },
  {
   "cell_type": "markdown",
   "metadata": {},
   "source": [
    "### Note\n",
    "\n",
    "`scipy.linalg.solve` is the same as `\\ ` in MATLAB, i.e. `scipy.linalg.solve(A, b)` is the same as `A \\ b`"
   ]
  },
  {
   "cell_type": "code",
   "execution_count": 1,
   "metadata": {
    "collapsed": true
   },
   "outputs": [],
   "source": [
    "import numpy as np\n",
    "from scipy import linalg"
   ]
  },
  {
   "cell_type": "code",
   "execution_count": 2,
   "metadata": {
    "collapsed": false
   },
   "outputs": [],
   "source": [
    "n = 10\n",
    "A = linalg.hilbert(n)\n",
    "e = np.ones(n)\n",
    "b = A.dot(e)\n",
    "k2 = np.linalg.cond(A)"
   ]
  },
  {
   "cell_type": "code",
   "execution_count": 3,
   "metadata": {
    "collapsed": false
   },
   "outputs": [
    {
     "name": "stdout",
     "output_type": "stream",
     "text": [
      "k2 = 1.60e+13\n"
     ]
    }
   ],
   "source": [
    "print('k2 = %.2e' % k2)"
   ]
  },
  {
   "cell_type": "markdown",
   "metadata": {},
   "source": [
    "$k_2(A)$ is quite large! Problem is ill-conditioned."
   ]
  },
  {
   "cell_type": "markdown",
   "metadata": {},
   "source": [
    "Let\n",
    "$$\n",
    "\\frac{||x - x_c||_2}{||x||_2} = LHS\\\\\n",
    "\\frac{2\\eta k_2(A)}{1 - \\eta k_2(A)} = RHS\n",
    "$$\n",
    "    We're going to perturb $b$ -- which gives us our $\\eta$ -- solve for $x_c$ and compute $LHS$ and $RHS$."
   ]
  },
  {
   "cell_type": "code",
   "execution_count": 4,
   "metadata": {
    "collapsed": true
   },
   "outputs": [],
   "source": [
    "def doIt(biggest_perturb):\n",
    "    b2 = b + np.random.random(n)*biggest_perturb\n",
    "    xc = linalg.solve(A, b2)\n",
    "    eta = linalg.norm(b2 - b)/linalg.norm(b)\n",
    "    lhs = linalg.norm(e - xc)/linalg.norm(e)\n",
    "    rhs = 2*eta*k2/(1 - eta*k2)\n",
    "    print('eta = %.2e' % eta)\n",
    "    print('max(|xc|) = %.1e' % (np.abs(xc).max()))\n",
    "    print('LHS = %.3e' % lhs)\n",
    "    print('RHS = %.3e' % rhs)"
   ]
  },
  {
   "cell_type": "code",
   "execution_count": 5,
   "metadata": {
    "collapsed": false
   },
   "outputs": [
    {
     "name": "stdout",
     "output_type": "stream",
     "text": [
      "eta = 2.62e-08\n",
      "max(|xc|) = 8.0e+04\n",
      "LHS = 4.089e+04\n",
      "RHS = -2.000e+00\n"
     ]
    }
   ],
   "source": [
    "doIt(1e-7)"
   ]
  },
  {
   "cell_type": "code",
   "execution_count": 6,
   "metadata": {
    "collapsed": false
   },
   "outputs": [
    {
     "name": "stdout",
     "output_type": "stream",
     "text": [
      "eta = 5.44e-07\n",
      "max(|xc|) = 3.9e+05\n",
      "LHS = 1.997e+05\n",
      "RHS = -2.000e+00\n"
     ]
    }
   ],
   "source": [
    "doIt(1e-6)"
   ]
  },
  {
   "cell_type": "markdown",
   "metadata": {},
   "source": [
    "### Small perturbations in $b$ lead to very large changes in $x_c$. "
   ]
  }
 ],
 "metadata": {
  "kernelspec": {
   "display_name": "Python 2",
   "language": "python",
   "name": "python2"
  },
  "language_info": {
   "codemirror_mode": {
    "name": "ipython",
    "version": 2
   },
   "file_extension": ".py",
   "mimetype": "text/x-python",
   "name": "python",
   "nbconvert_exporter": "python",
   "pygments_lexer": "ipython2",
   "version": "2.7.10"
  }
 },
 "nbformat": 4,
 "nbformat_minor": 0
}
