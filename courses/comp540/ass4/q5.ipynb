{
 "cells": [
  {
   "cell_type": "markdown",
   "metadata": {},
   "source": [
    "# Question 5"
   ]
  },
  {
   "cell_type": "markdown",
   "metadata": {},
   "source": [
    "Let's define the following:\n",
    "$$\n",
    "\\text{residual}(A, Q_1, R) = \n",
    "    \\frac{\\big|\\big|A - Q_1 R\\big|\\big|_2}{\\big|\\big|A\\big|\\big|_2}\n",
    "$$\n",
    "$$\n",
    "\\text{orthoerr}(Q1) = \\big|\\big|Q_1^T Q_1 - I\\big|\\big|_2\n",
    "$$"
   ]
  },
  {
   "cell_type": "markdown",
   "metadata": {},
   "source": [
    "## m = 20, n = 10"
   ]
  },
  {
   "cell_type": "code",
   "execution_count": 1,
   "metadata": {
    "collapsed": false
   },
   "outputs": [
    {
     "data": {
      "text/plain": [
       "ans =\n",
       "\n",
       "    1.0000    1.0000    1.0000    1.0000    1.0000\n",
       "    0.1000    0.2000    0.3000    0.4000    0.5000\n",
       "    0.0100    0.0400    0.0900    0.1600    0.2500\n",
       "    0.0010    0.0080    0.0270    0.0640    0.1250\n",
       "    0.0001    0.0016    0.0081    0.0256    0.0625"
      ]
     },
     "execution_count": 1,
     "metadata": {},
     "output_type": "execute_result"
    }
   ],
   "source": [
    "m = 20; n = 10;\n",
    "V = vandermonde(m, n);\n",
    "V(1:5, 1:5)"
   ]
  },
  {
   "cell_type": "markdown",
   "metadata": {},
   "source": [
    "#### Matlab built-in"
   ]
  },
  {
   "cell_type": "code",
   "execution_count": 2,
   "metadata": {
    "collapsed": false
   },
   "outputs": [
    {
     "data": {
      "text/plain": [
       "Residual: 6.4e-16\n",
       "Orthoerr: 9.7e-16"
      ]
     },
     "execution_count": 2,
     "metadata": {},
     "output_type": "execute_result"
    }
   ],
   "source": [
    "[Q, R] = qr(V);\n",
    "disp(residual(V, Q, R))\n",
    "disp(orthoerr(Q(:, 1:n)));"
   ]
  },
  {
   "cell_type": "markdown",
   "metadata": {},
   "source": [
    "#### CGS"
   ]
  },
  {
   "cell_type": "code",
   "execution_count": 3,
   "metadata": {
    "collapsed": false
   },
   "outputs": [
    {
     "data": {
      "text/plain": [
       "Residual: 1.1e-16\n",
       "Orthoerr: 4.7e-03"
      ]
     },
     "execution_count": 3,
     "metadata": {},
     "output_type": "execute_result"
    }
   ],
   "source": [
    "[Q, R] = cgs(V);\n",
    "disp(residual(V, Q, R))\n",
    "disp(orthoerr(Q));"
   ]
  },
  {
   "cell_type": "markdown",
   "metadata": {},
   "source": [
    "#### MGS"
   ]
  },
  {
   "cell_type": "code",
   "execution_count": 4,
   "metadata": {
    "collapsed": false
   },
   "outputs": [
    {
     "data": {
      "text/plain": [
       "Residual: 1.0e-16\n",
       "Orthoerr: 2.3e-12"
      ]
     },
     "execution_count": 4,
     "metadata": {},
     "output_type": "execute_result"
    }
   ],
   "source": [
    "[Q, R] = mgs(V);\n",
    "disp(residual(V, Q, R))\n",
    "disp(orthoerr(Q));"
   ]
  },
  {
   "cell_type": "markdown",
   "metadata": {},
   "source": [
    "---\n",
    "## m = 30, n = 20"
   ]
  },
  {
   "cell_type": "code",
   "execution_count": 5,
   "metadata": {
    "collapsed": false
   },
   "outputs": [],
   "source": [
    "m = 30; n = 20;\n",
    "V = vandermonde(m, n);"
   ]
  },
  {
   "cell_type": "markdown",
   "metadata": {},
   "source": [
    "#### Matlab built-in"
   ]
  },
  {
   "cell_type": "code",
   "execution_count": 6,
   "metadata": {
    "collapsed": false
   },
   "outputs": [
    {
     "data": {
      "text/plain": [
       "Residual: 3.9e-16\n",
       "Orthoerr: 1.1e-15"
      ]
     },
     "execution_count": 6,
     "metadata": {},
     "output_type": "execute_result"
    }
   ],
   "source": [
    "[Q, R] = qr(V);\n",
    "disp(residual(V, Q, R))\n",
    "disp(orthoerr(Q(:, 1:n)));"
   ]
  },
  {
   "cell_type": "markdown",
   "metadata": {},
   "source": [
    "#### CGS"
   ]
  },
  {
   "cell_type": "code",
   "execution_count": 7,
   "metadata": {
    "collapsed": false
   },
   "outputs": [
    {
     "data": {
      "text/plain": [
       "Residual: 2.3e-16\n",
       "Orthoerr: 8.8e+00"
      ]
     },
     "execution_count": 7,
     "metadata": {},
     "output_type": "execute_result"
    }
   ],
   "source": [
    "[Q, R] = cgs(V);\n",
    "disp(residual(V, Q, R))\n",
    "disp(orthoerr(Q));"
   ]
  },
  {
   "cell_type": "markdown",
   "metadata": {},
   "source": [
    "#### MGS"
   ]
  },
  {
   "cell_type": "code",
   "execution_count": 8,
   "metadata": {
    "collapsed": false
   },
   "outputs": [
    {
     "data": {
      "text/plain": [
       "Residual: 1.4e-16\n",
       "Orthoerr: 2.8e-04"
      ]
     },
     "execution_count": 8,
     "metadata": {},
     "output_type": "execute_result"
    }
   ],
   "source": [
    "[Q, R] = mgs(V);\n",
    "disp(residual(V, Q, R))\n",
    "disp(orthoerr(Q));"
   ]
  },
  {
   "cell_type": "markdown",
   "metadata": {},
   "source": [
    "---\n",
    "\n",
    "### Discussion\n",
    "\n",
    "All algorithms have a residual close to machine precision, which is good. \n",
    "\n",
    "However, the Classical Gram-Schmidt method results in a serious loss of orthogonality. The Modified Gram-Schmidt method corrects for this error, but is not perfect either. On the other hand, the MATLAB built-in gives an \"orthogonality error\" of the order of $10^{-15}$ for the largest Vandermonde matrix."
   ]
  },
  {
   "cell_type": "markdown",
   "metadata": {},
   "source": [
    "---\n",
    "\n",
    "### Code\n",
    "\n",
    "To save paper, if you want to see the code please refer to the following link:\n",
    "\n",
    "#### github.com/selimb/schoolstuff/tree/master/comp540/ass4"
   ]
  }
 ],
 "metadata": {
  "kernelspec": {
   "display_name": "Matlab",
   "language": "matlab",
   "name": "matlab_kernel"
  },
  "language_info": {
   "codemirror_mode": "Octave",
   "file_extension": ".m",
   "help_links": [
    {
     "text": "MetaKernel Magics",
     "url": "https://github.com/calysto/metakernel/blob/master/metakernel/magics/README.md"
    }
   ],
   "mimetype": "text/x-matlab",
   "name": "octave"
  }
 },
 "nbformat": 4,
 "nbformat_minor": 0
}
