{
 "cells": [
  {
   "cell_type": "code",
   "execution_count": 1,
   "metadata": {
    "collapsed": true
   },
   "outputs": [],
   "source": [
    "import numpy as np\n",
    "import numpy.linalg as LA"
   ]
  },
  {
   "cell_type": "code",
   "execution_count": 2,
   "metadata": {
    "collapsed": true
   },
   "outputs": [],
   "source": [
    "single = np.float32\n",
    "double = np.float64\n",
    "np.set_printoptions(linewidth=120)"
   ]
  },
  {
   "cell_type": "markdown",
   "metadata": {},
   "source": [
    "# Question 1"
   ]
  },
  {
   "cell_type": "code",
   "execution_count": 3,
   "metadata": {
    "collapsed": true
   },
   "outputs": [],
   "source": [
    "def qr(A, b):\n",
    "    q, r = LA.qr(A)\n",
    "    p = q.T.dot(b)\n",
    "    cond = LA.cond(A)\n",
    "    x = LA.inv(r).dot(p)\n",
    "    err = LA.norm(A.dot(x) - b, ord=2)\n",
    "    print('k2(A) : %.2f' % cond)\n",
    "    print('Error : %.2e' % err)\n",
    "    return x\n",
    "\n",
    "def ne(A, b):\n",
    "    AT = A.T\n",
    "    ATA = AT.dot(A)\n",
    "    cond = LA.cond(ATA)\n",
    "    p = AT.dot(b)\n",
    "    x = LA.solve(ATA, p)\n",
    "    err = LA.norm(A.dot(x) - b, ord=2)\n",
    "    print(\"k2(A'A) : %.2f\" % cond)\n",
    "    print('Error : %.2e' % err)\n",
    "    return x\n",
    "\n",
    "def ls(A, b):\n",
    "    Ad = A.astype(double)\n",
    "    bd = b.astype(double)\n",
    "    x = LA.lstsq(Ad, bd)[0]\n",
    "    return x\n",
    "\n",
    "def compare(xqr, xne, xls):\n",
    "    labels = ['QR', 'NE']\n",
    "    errs = [LA.norm(xqr - xls, 2), LA.norm(xne - xls, 2)]\n",
    "    for label, err in zip(labels, errs):\n",
    "        print('%s error : %.2e' % (label, err))\n",
    "    print('Ratio : %.0f' % (max(errs)/min(errs)))\n",
    "    \n",
    "def q1(A, b):\n",
    "    print('i.')\n",
    "    xqr = qr(A, b)\n",
    "    print('ii.')\n",
    "    xne = ne(A, b)\n",
    "    print('iii.')\n",
    "    xls = ls(A, b)\n",
    "    compare(xqr, xne, xls)"
   ]
  },
  {
   "cell_type": "code",
   "execution_count": 4,
   "metadata": {
    "collapsed": false
   },
   "outputs": [],
   "source": [
    "t = np.arange(1.11, 1.118, 0.001)\n",
    "b = np.array([2.1101, 2.1111, 2.1121, 2.1130, 2.1140, 2.1150, 2.1160, 2.1170, 2.1180]).astype(single)\n",
    "m = len(b)\n",
    "A = np.vstack([np.ones(m), t]).T.astype(single)"
   ]
  },
  {
   "cell_type": "code",
   "execution_count": 5,
   "metadata": {
    "collapsed": false
   },
   "outputs": [
    {
     "name": "stdout",
     "output_type": "stream",
     "text": [
      "i.\n",
      "k2(A) : 867.93\n",
      "Error : 8.06e-05\n",
      "ii.\n",
      "k2(A'A) : 760117.50\n",
      "Error : 1.75e-04\n",
      "iii.\n",
      "QR error : 2.08e-05\n",
      "NE error : 3.01e-02\n",
      "Ratio : 1449\n"
     ]
    }
   ],
   "source": [
    "q1(A, b)"
   ]
  },
  {
   "cell_type": "markdown",
   "metadata": {},
   "source": [
    "## b)"
   ]
  },
  {
   "cell_type": "code",
   "execution_count": 6,
   "metadata": {
    "collapsed": false
   },
   "outputs": [],
   "source": [
    "A[:, 1] = 100.0*(t - 1.11)"
   ]
  },
  {
   "cell_type": "code",
   "execution_count": 7,
   "metadata": {
    "collapsed": false
   },
   "outputs": [
    {
     "name": "stdout",
     "output_type": "stream",
     "text": [
      "i.\n",
      "k2(A) : 4.53\n",
      "Error : 8.06e-05\n",
      "ii.\n",
      "k2(A'A) : 20.52\n",
      "Error : 8.07e-05\n",
      "iii.\n",
      "QR error : 3.37e-07\n",
      "NE error : 1.90e-06\n",
      "Ratio : 6\n"
     ]
    }
   ],
   "source": [
    "q1(A, b)"
   ]
  },
  {
   "cell_type": "markdown",
   "metadata": {},
   "source": [
    "---\n",
    "\n",
    "# Question 3\n",
    "\n",
    "## a)"
   ]
  },
  {
   "cell_type": "code",
   "execution_count": 8,
   "metadata": {
    "collapsed": true
   },
   "outputs": [],
   "source": [
    "def iszero(x):\n",
    "    return np.isclose(x, 0, rtol=1e-10)\n",
    "\n",
    "def mkmat(c, s):\n",
    "    return np.array([[c, -s], [s, c]])\n",
    "\n",
    "def symmetric_transform(A):\n",
    "    (w, x), (y, z) = A\n",
    "    if iszero(w + z):\n",
    "        c = 0\n",
    "        s = 1\n",
    "    else:\n",
    "        t = (x - y)/(w + z)\n",
    "        c = 1/np.sqrt(1 + t**2)\n",
    "        s = t*c\n",
    "    return mkmat(c, s)\n",
    "\n",
    "def diagonalize(A):\n",
    "    (w, x), (y, z) = A\n",
    "    if iszero(y):\n",
    "        c = 1\n",
    "        s = 0\n",
    "    else:\n",
    "        rho = (z - w)/(2*y)\n",
    "        t = np.sign(rho)/(np.abs(rho) + np.sqrt(rho**2 + 1))\n",
    "        c = 1/np.sqrt(1 + t**2)\n",
    "        s = t*c\n",
    "    return mkmat(c, s)\n",
    "\n",
    "def jacobi(A):\n",
    "    \"\"\"\n",
    "    Compute Jacobi rotation on A.\n",
    "    \n",
    "    Args:\n",
    "        A (2x2 ndarray)\n",
    "    \n",
    "    Returns:\n",
    "        Jl, Jr (2x2 ndarray) : Left and right Jacobi rotators\n",
    "    \"\"\"\n",
    "    # Step 1\n",
    "    cs = symmetric_transform(A)\n",
    "    Asym = cs.dot(A)\n",
    "    # Step 2\n",
    "    cs2 = diagonalize(Asym)\n",
    "    Jl = cs2.dot(cs)\n",
    "    Jr = cs2.T\n",
    "    return Jl, Jr"
   ]
  },
  {
   "cell_type": "code",
   "execution_count": 9,
   "metadata": {
    "collapsed": false
   },
   "outputs": [],
   "source": [
    "# Test\n",
    "for i in range(5):\n",
    "    A = np.random.rand(2, 2)\n",
    "    Jl, Jr = jacobi(A)\n",
    "    Ap = Jl.dot(A).dot(Jr)\n",
    "    assert iszero(Ap[0, 1])\n",
    "    assert iszero(Ap[1, 0])\n",
    "    assert np.isclose(LA.norm(A), LA.norm(Ap), rtol=1e-10)"
   ]
  },
  {
   "cell_type": "markdown",
   "metadata": {},
   "source": [
    "No Assertion Errors. Very good.\n",
    "\n",
    "## b, c)"
   ]
  },
  {
   "cell_type": "code",
   "execution_count": 10,
   "metadata": {
    "collapsed": true
   },
   "outputs": [],
   "source": [
    "def givens(y):\n",
    "    \"\"\"\n",
    "    Compute Givens rotation\n",
    "    \n",
    "    Args:\n",
    "        y (2x1 ndarray)\n",
    "        \n",
    "    Returns:\n",
    "        G (2x2 ndarray)\n",
    "    \"\"\"\n",
    "    a, b = y\n",
    "    if iszero(b):\n",
    "        c = 1\n",
    "        s = 0\n",
    "    else:\n",
    "        r = LA.norm(y)\n",
    "        s = b/r\n",
    "        c = a/r\n",
    "    return mkmat(c, s).T"
   ]
  },
  {
   "cell_type": "code",
   "execution_count": 11,
   "metadata": {
    "collapsed": false
   },
   "outputs": [],
   "source": [
    "def mk_off(m, n):\n",
    "    \"\"\"\n",
    "    Make off-diagonal norm function based on shape.\n",
    "    \n",
    "    It is assumed that m >= n.\n",
    "    \"\"\"\n",
    "    diag_indices = (range(n), range(n))\n",
    "    mask = np.ones((m, n), dtype=bool)\n",
    "    mask[diag_indices] = False\n",
    "    def off(A):\n",
    "        return LA.norm(A[mask])\n",
    "    return off\n",
    "\n",
    "def svd(A, tol):\n",
    "    \"\"\"Kogbetliantz algorithm. Overwrites A.\"\"\"\n",
    "    m, n = A.shape\n",
    "    U = np.eye(m, dtype=float)\n",
    "    V = np.eye(n, dtype=float)\n",
    "    eps = tol*LA.norm(A, ord='fro')\n",
    "    off = mk_off(m, n)\n",
    "    max_iter = 100000\n",
    "    for it in range(max_iter):\n",
    "        for i in range(n):\n",
    "            for j in range(i + 1, n):\n",
    "                selector = [((i, i), (j, j)), ((i, j), (i, j))]\n",
    "                Jl, Jr = jacobi(A[selector])\n",
    "                Ql, Qr = np.eye(m, dtype=float), np.eye(n, dtype=float)\n",
    "                Ql[selector], Qr[selector] = Jl, Jr\n",
    "                A = Ql.dot(A).dot(Qr)\n",
    "                U = U.dot(Ql)\n",
    "                V = V.dot(Qr)\n",
    "            for j in range(n, m):\n",
    "                selector = [((i, i), (j, j)), ((i, j), (i, j))]\n",
    "                Ql = np.eye(m, dtype=float)\n",
    "                G = givens(A[(i, j), (i, i)])\n",
    "                Ql[selector] = G\n",
    "                A = Ql.dot(A)\n",
    "                U = U.dot(Ql)\n",
    "            \n",
    "        if off(A) < eps:\n",
    "            break\n",
    "    else:\n",
    "        print(\"Max number of iterations\")\n",
    "    S = A\n",
    "    return U, V, S"
   ]
  },
  {
   "cell_type": "code",
   "execution_count": 12,
   "metadata": {
    "collapsed": true
   },
   "outputs": [],
   "source": [
    "B = np.array([\n",
    "    [-1.1, -6, -11],\n",
    "    [2, 7, 12],\n",
    "    [-3, -8, -13],\n",
    "    [4, 9, 14],\n",
    "    [-5, -10, -15]\n",
    "], dtype=double)"
   ]
  },
  {
   "cell_type": "code",
   "execution_count": 13,
   "metadata": {
    "collapsed": false
   },
   "outputs": [
    {
     "data": {
      "text/plain": [
       "[35.134394975254473, 2.4049094338397534, 0.026463896961604845]"
      ]
     },
     "execution_count": 13,
     "metadata": {},
     "output_type": "execute_result"
    }
   ],
   "source": [
    "U, V, S = svd(B, 1e-10)\n",
    "_, n = S.shape\n",
    "singvals = sorted(abs(S[range(n), range(n)]), reverse=True)\n",
    "singvals"
   ]
  },
  {
   "cell_type": "code",
   "execution_count": 14,
   "metadata": {
    "collapsed": false
   },
   "outputs": [],
   "source": [
    "_, exact_singvals, _ = LA.svd(B)"
   ]
  },
  {
   "cell_type": "code",
   "execution_count": 15,
   "metadata": {
    "collapsed": false
   },
   "outputs": [
    {
     "data": {
      "text/plain": [
       "array([  3.51343950e+01,   2.40490943e+00,   2.64638970e-02])"
      ]
     },
     "execution_count": 15,
     "metadata": {},
     "output_type": "execute_result"
    }
   ],
   "source": [
    "exact_singvals"
   ]
  },
  {
   "cell_type": "code",
   "execution_count": 16,
   "metadata": {
    "collapsed": false
   },
   "outputs": [
    {
     "data": {
      "text/plain": [
       "array([  7.73861369e-15,   2.41831678e-15,   4.68548876e-15])"
      ]
     },
     "execution_count": 16,
     "metadata": {},
     "output_type": "execute_result"
    }
   ],
   "source": [
    "err = abs(singvals - exact_singvals)\n",
    "err/LA.norm(A)"
   ]
  },
  {
   "cell_type": "markdown",
   "metadata": {},
   "source": [
    "If we suppose that the values given by SciPy are the exact ones, then we can say that our algorithm might be stable, due to the singular values obtained being of order $O(u)\\cdot||A||$. General stability can only be proven mathematically."
   ]
  },
  {
   "cell_type": "markdown",
   "metadata": {},
   "source": [
    "## e)"
   ]
  },
  {
   "cell_type": "code",
   "execution_count": 17,
   "metadata": {
    "collapsed": true
   },
   "outputs": [],
   "source": [
    "A = np.array([\n",
    "    [-1, -6, -11],\n",
    "    [2, 7, 12],\n",
    "    [-3, -8, -13],\n",
    "    [4, 9, 14],\n",
    "    [-5, -10, -15]\n",
    "], dtype=double)\n",
    "\n",
    "U, s, V = LA.svd(A)"
   ]
  },
  {
   "cell_type": "markdown",
   "metadata": {},
   "source": [
    "The third column is clearly a multiple of the other two"
   ]
  },
  {
   "cell_type": "code",
   "execution_count": 18,
   "metadata": {
    "collapsed": false
   },
   "outputs": [
    {
     "data": {
      "text/plain": [
       "array([-11.,  12., -13.,  14., -15.])"
      ]
     },
     "execution_count": 18,
     "metadata": {},
     "output_type": "execute_result"
    }
   ],
   "source": [
    "col3 = 2*A[:, 1] - A[:, 0]\n",
    "col3"
   ]
  },
  {
   "cell_type": "code",
   "execution_count": 19,
   "metadata": {
    "collapsed": false
   },
   "outputs": [
    {
     "data": {
      "text/plain": [
       "array([ True,  True,  True,  True,  True], dtype=bool)"
      ]
     },
     "execution_count": 19,
     "metadata": {},
     "output_type": "execute_result"
    }
   ],
   "source": [
    "col3 == A[:, 2]"
   ]
  },
  {
   "cell_type": "code",
   "execution_count": 20,
   "metadata": {
    "collapsed": false
   },
   "outputs": [
    {
     "data": {
      "text/plain": [
       "array([[-0.35455706, -0.68868664,  0.4974389 ,  0.15945456, -0.35655124],\n",
       "       [ 0.39869637,  0.37555453,  0.15918469,  0.33532577, -0.74981122],\n",
       "       [-0.44283568, -0.06242242, -0.69972506,  0.52744566, -0.17940435],\n",
       "       [ 0.486975  , -0.2507097 ,  0.1127514 ,  0.68673226,  0.46441999],\n",
       "       [-0.53111431,  0.56384181,  0.47422225,  0.33515781,  0.25056436]])"
      ]
     },
     "execution_count": 20,
     "metadata": {},
     "output_type": "execute_result"
    }
   ],
   "source": [
    "U"
   ]
  },
  {
   "cell_type": "code",
   "execution_count": 21,
   "metadata": {
    "collapsed": false
   },
   "outputs": [
    {
     "data": {
      "text/plain": [
       "array([  3.51272233e+01,   2.46539670e+00,   8.10792259e-16])"
      ]
     },
     "execution_count": 21,
     "metadata": {},
     "output_type": "execute_result"
    }
   ],
   "source": [
    "s"
   ]
  },
  {
   "cell_type": "code",
   "execution_count": 22,
   "metadata": {
    "collapsed": false
   },
   "outputs": [
    {
     "data": {
      "text/plain": [
       "array([[ 0.20166491,  0.5168305 ,  0.83199609],\n",
       "       [-0.89031713, -0.25733163,  0.37565388],\n",
       "       [ 0.40824829, -0.81649658,  0.40824829]])"
      ]
     },
     "execution_count": 22,
     "metadata": {},
     "output_type": "execute_result"
    }
   ],
   "source": [
    "V"
   ]
  },
  {
   "cell_type": "markdown",
   "metadata": {},
   "source": [
    "We're probably going to run into trouble with that third singular value: it's close to zero, but not quite. "
   ]
  },
  {
   "cell_type": "markdown",
   "metadata": {},
   "source": [
    "## f)"
   ]
  },
  {
   "cell_type": "code",
   "execution_count": 23,
   "metadata": {
    "collapsed": false
   },
   "outputs": [
    {
     "data": {
      "text/plain": [
       "array([[  2.84679489e-02,   0.00000000e+00,   0.00000000e+00,   0.00000000e+00,   0.00000000e+00],\n",
       "       [  0.00000000e+00,   4.05614237e-01,   0.00000000e+00,   0.00000000e+00,   0.00000000e+00],\n",
       "       [  0.00000000e+00,   0.00000000e+00,   1.23336155e+15,   0.00000000e+00,   0.00000000e+00]])"
      ]
     },
     "execution_count": 23,
     "metadata": {},
     "output_type": "execute_result"
    }
   ],
   "source": [
    "sinv = 1/s\n",
    "Sinv = np.zeros_like(A).T\n",
    "Sinv[range(3), range(3)] = sinv\n",
    "Sinv"
   ]
  },
  {
   "cell_type": "code",
   "execution_count": 24,
   "metadata": {
    "collapsed": false
   },
   "outputs": [
    {
     "data": {
      "text/plain": [
       "array([[  2.50469312e+14,   8.01523159e+13,  -3.52323983e+14,   5.67723319e+13,   2.38779320e+14],\n",
       "       [ -5.00938623e+14,  -1.60304632e+14,   7.04647967e+14,  -1.13544664e+14,  -4.77558639e+14],\n",
       "       [  2.50469312e+14,   8.01523159e+13,  -3.52323983e+14,   5.67723319e+13,   2.38779320e+14]])"
      ]
     },
     "execution_count": 24,
     "metadata": {},
     "output_type": "execute_result"
    }
   ],
   "source": [
    "G = V.T.dot(Sinv).dot(U.T)\n",
    "G"
   ]
  },
  {
   "cell_type": "markdown",
   "metadata": {},
   "source": [
    "Woah. "
   ]
  },
  {
   "cell_type": "markdown",
   "metadata": {},
   "source": [
    "Test $AGA = A$"
   ]
  },
  {
   "cell_type": "code",
   "execution_count": 25,
   "metadata": {
    "collapsed": false
   },
   "outputs": [
    {
     "data": {
      "text/plain": [
       "1.117526700987209"
      ]
     },
     "execution_count": 25,
     "metadata": {},
     "output_type": "execute_result"
    }
   ],
   "source": [
    "normA = LA.norm(A)\n",
    "LA.norm((A.dot(G).dot(A) - A))/normA"
   ]
  },
  {
   "cell_type": "markdown",
   "metadata": {},
   "source": [
    "Test $GAG = G$"
   ]
  },
  {
   "cell_type": "code",
   "execution_count": 26,
   "metadata": {
    "collapsed": false
   },
   "outputs": [
    {
     "data": {
      "text/plain": [
       "0.30618621784789773"
      ]
     },
     "execution_count": 26,
     "metadata": {},
     "output_type": "execute_result"
    }
   ],
   "source": [
    "normG = LA.norm(G)\n",
    "LA.norm((G.dot(A).dot(G) - G))/normG"
   ]
  },
  {
   "cell_type": "markdown",
   "metadata": {},
   "source": [
    "Test $(AG)^T = AG$"
   ]
  },
  {
   "cell_type": "code",
   "execution_count": 27,
   "metadata": {
    "collapsed": false
   },
   "outputs": [
    {
     "data": {
      "text/plain": [
       "1.4196178374164063"
      ]
     },
     "execution_count": 27,
     "metadata": {},
     "output_type": "execute_result"
    }
   ],
   "source": [
    "AG = A.dot(G)\n",
    "normAG = LA.norm(AG)\n",
    "LA.norm(AG.T - AG)/normAG"
   ]
  },
  {
   "cell_type": "markdown",
   "metadata": {},
   "source": [
    "Test $(GA)^T = GA$"
   ]
  },
  {
   "cell_type": "code",
   "execution_count": 28,
   "metadata": {
    "collapsed": false
   },
   "outputs": [
    {
     "data": {
      "text/plain": [
       "1.3562969981821595"
      ]
     },
     "execution_count": 28,
     "metadata": {},
     "output_type": "execute_result"
    }
   ],
   "source": [
    "GA = G.dot(A)\n",
    "normGA = LA.norm(GA)\n",
    "LA.norm(GA.T - GA)/normGA"
   ]
  },
  {
   "cell_type": "markdown",
   "metadata": {},
   "source": [
    "Overall, G is a terrible approximation."
   ]
  },
  {
   "cell_type": "markdown",
   "metadata": {},
   "source": [
    "## g)"
   ]
  },
  {
   "cell_type": "code",
   "execution_count": 29,
   "metadata": {
    "collapsed": false
   },
   "outputs": [],
   "source": [
    "b = np.array([5, 4, 3, 2, 1])\n",
    "b.resize((len(b), 1))"
   ]
  },
  {
   "cell_type": "code",
   "execution_count": 30,
   "metadata": {
    "collapsed": true
   },
   "outputs": [],
   "source": [
    "x = G.dot(b)"
   ]
  },
  {
   "cell_type": "code",
   "execution_count": 31,
   "metadata": {
    "collapsed": false
   },
   "outputs": [
    {
     "data": {
      "text/plain": [
       "2126911183522930.8"
      ]
     },
     "execution_count": 31,
     "metadata": {},
     "output_type": "execute_result"
    }
   ],
   "source": [
    "LA.norm(x)"
   ]
  },
  {
   "cell_type": "markdown",
   "metadata": {},
   "source": [
    "$||x||$ is huge!"
   ]
  },
  {
   "cell_type": "code",
   "execution_count": 32,
   "metadata": {
    "collapsed": false
   },
   "outputs": [
    {
     "data": {
      "text/plain": [
       "8.8881944173155887"
      ]
     },
     "execution_count": 32,
     "metadata": {},
     "output_type": "execute_result"
    }
   ],
   "source": [
    "LA.norm(b - A.dot(x))"
   ]
  },
  {
   "cell_type": "code",
   "execution_count": 33,
   "metadata": {
    "collapsed": false
   },
   "outputs": [
    {
     "data": {
      "text/plain": [
       "0.83857021172946622"
      ]
     },
     "execution_count": 33,
     "metadata": {},
     "output_type": "execute_result"
    }
   ],
   "source": [
    "x_exact = LA.lstsq(A, b)[0]\n",
    "LA.norm(x_exact)"
   ]
  },
  {
   "cell_type": "code",
   "execution_count": 34,
   "metadata": {
    "collapsed": false
   },
   "outputs": [
    {
     "data": {
      "text/plain": [
       "7.0427267446636028"
      ]
     },
     "execution_count": 34,
     "metadata": {},
     "output_type": "execute_result"
    }
   ],
   "source": [
    "LA.norm(b - A.dot(x_exact))"
   ]
  },
  {
   "cell_type": "markdown",
   "metadata": {},
   "source": [
    "Not only did we fail to find the solution to $||Ax - b||$, but we clearly did not minimize $||x||$. "
   ]
  },
  {
   "cell_type": "markdown",
   "metadata": {},
   "source": [
    "## h)\n",
    "\n",
    "Clearly, our Moore-Penrose inverse was not good. However, let's see what happens if we realize that the third column is redundant. "
   ]
  },
  {
   "cell_type": "code",
   "execution_count": 35,
   "metadata": {
    "collapsed": false
   },
   "outputs": [
    {
     "data": {
      "text/plain": [
       "array([[ -1.,  -6.],\n",
       "       [  2.,   7.],\n",
       "       [ -3.,  -8.],\n",
       "       [  4.,   9.],\n",
       "       [ -5., -10.]])"
      ]
     },
     "execution_count": 35,
     "metadata": {},
     "output_type": "execute_result"
    }
   ],
   "source": [
    "A = A[:, :2]\n",
    "A"
   ]
  },
  {
   "cell_type": "code",
   "execution_count": 36,
   "metadata": {
    "collapsed": false
   },
   "outputs": [
    {
     "data": {
      "text/plain": [
       "array([[ 0.36, -0.2 ,  0.04,  0.12, -0.28],\n",
       "       [-0.16,  0.1 , -0.04, -0.02,  0.08]])"
      ]
     },
     "execution_count": 36,
     "metadata": {},
     "output_type": "execute_result"
    }
   ],
   "source": [
    "U, s, V = LA.svd(A)\n",
    "sinv = 1/s\n",
    "Sinv = np.zeros_like(A).T\n",
    "Sinv[range(2), range(2)] = sinv\n",
    "G = V.T.dot(Sinv).dot(U.T)\n",
    "G"
   ]
  },
  {
   "cell_type": "code",
   "execution_count": 37,
   "metadata": {
    "collapsed": false
   },
   "outputs": [
    {
     "data": {
      "text/plain": [
       "1.8247212710005693e-16"
      ]
     },
     "execution_count": 37,
     "metadata": {},
     "output_type": "execute_result"
    }
   ],
   "source": [
    "normA = LA.norm(A)\n",
    "LA.norm((A.dot(G).dot(A) - A))/normA"
   ]
  },
  {
   "cell_type": "code",
   "execution_count": 38,
   "metadata": {
    "collapsed": true
   },
   "outputs": [],
   "source": [
    "x = G.dot(b)"
   ]
  },
  {
   "cell_type": "code",
   "execution_count": 39,
   "metadata": {
    "collapsed": false
   },
   "outputs": [
    {
     "data": {
      "text/plain": [
       "1.1818629362155337"
      ]
     },
     "execution_count": 39,
     "metadata": {},
     "output_type": "execute_result"
    }
   ],
   "source": [
    "LA.norm(x)"
   ]
  },
  {
   "cell_type": "code",
   "execution_count": 40,
   "metadata": {
    "collapsed": false
   },
   "outputs": [
    {
     "data": {
      "text/plain": [
       "7.0427267446636028"
      ]
     },
     "execution_count": 40,
     "metadata": {},
     "output_type": "execute_result"
    }
   ],
   "source": [
    "LA.norm(b - A.dot(x))"
   ]
  },
  {
   "cell_type": "markdown",
   "metadata": {},
   "source": [
    "Much better! So, not checking for very small singular values leads to problems. However, keeping that in mind and flushing out the computational artifacts, the right answer can be obtained."
   ]
  }
 ],
 "metadata": {
  "kernelspec": {
   "display_name": "Python 2",
   "language": "python",
   "name": "python2"
  },
  "language_info": {
   "codemirror_mode": {
    "name": "ipython",
    "version": 2
   },
   "file_extension": ".py",
   "mimetype": "text/x-python",
   "name": "python",
   "nbconvert_exporter": "python",
   "pygments_lexer": "ipython2",
   "version": "2.7.10"
  }
 },
 "nbformat": 4,
 "nbformat_minor": 0
}
