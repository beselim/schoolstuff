{
 "cells": [
  {
   "cell_type": "markdown",
   "metadata": {},
   "source": [
    "# MATH 578 - Homework 2"
   ]
  },
  {
   "cell_type": "markdown",
   "metadata": {},
   "source": [
    "You can find the source code for the *utils* and *q2* modules at:\n",
    "\n",
    "https://github.com/selimb/schoolstuff/tree/master/math578/hw2"
   ]
  },
  {
   "cell_type": "code",
   "execution_count": 1,
   "metadata": {
    "collapsed": true
   },
   "outputs": [],
   "source": [
    "# Required imports\n",
    "import numpy as np\n",
    "import matplotlib.pyplot as plt\n",
    "import pandas as pd\n",
    "import seaborn\n",
    "import sympy as sp\n",
    "import scipy.linalg as scilin\n",
    "sp.init_printing()\n",
    "%matplotlib inline"
   ]
  },
  {
   "cell_type": "code",
   "execution_count": 2,
   "metadata": {
    "collapsed": true
   },
   "outputs": [],
   "source": [
    "from utils import *"
   ]
  },
  {
   "cell_type": "code",
   "execution_count": 3,
   "metadata": {
    "collapsed": true
   },
   "outputs": [],
   "source": [
    "def newton_iter(x, f, fp):\n",
    "    \"\"\"\n",
    "    A single (scalar) Newton method iteration.\n",
    "    \"\"\"\n",
    "    return x - f(x)/fp(x)\n",
    "\n",
    "def calc_err(a):\n",
    "    \"\"\"\n",
    "    Calculate error. \n",
    "    \n",
    "    Since we're trying to find a root, just returning the \n",
    "    euclidian norm of `a` is fine.\n",
    "    \"\"\"\n",
    "    return np.linalg.norm(a)\n",
    "\n",
    "def solve(iter_func, x0, f, fp, tol=1e-8, iter_max = 100):\n",
    "    \"\"\"\n",
    "    Find root using Newton's method.\n",
    "    \n",
    "    Parameters\n",
    "    ----------\n",
    "    iter_func : func\n",
    "        Function used to iterate. \n",
    "    x0 : float\n",
    "        Initial guess for the root.\n",
    "    f, fp : func\n",
    "        Function and its derivative.\n",
    "    tol : float, optional\n",
    "        Tolerance.\n",
    "    iter_max : int, optional\n",
    "        Maximum number of iterations\n",
    "        \n",
    "    Returns\n",
    "    -------\n",
    "    all_x : list\n",
    "        Progression of `x`. `x[-1]` should be the value of the root \n",
    "        with a given tolerance -- hopefully.\n",
    "    all_err : list\n",
    "        Progression of the absolute error. Should go to 0.\n",
    "    \"\"\"\n",
    "    err = 1\n",
    "    all_x = []\n",
    "    all_err = []\n",
    "    x = x0\n",
    "    all_x.append(x0)\n",
    "    all_err.append(calc_err(f(x0)))\n",
    "    for i in range(iter_max):\n",
    "        x1 = iter_func(x, f, fp)\n",
    "        err = calc_err(f(x1))\n",
    "        all_err.append(err)\n",
    "        all_x.append(x1)\n",
    "        x = x1\n",
    "        if err < tol:\n",
    "            break\n",
    "    else:\n",
    "        print('Maximum number of iterations reached.')\n",
    "    return np.array(all_x), np.array(all_err)"
   ]
  },
  {
   "cell_type": "markdown",
   "metadata": {},
   "source": [
    "## Question 1.\n",
    "\n",
    "\\begin{align}\n",
    "f(x) &= \\cos(x) - x\\\\\n",
    "f\\prime(x) &= -\\sin(x) - 1\n",
    "\\end{align}"
   ]
  },
  {
   "cell_type": "code",
   "execution_count": 4,
   "metadata": {
    "collapsed": true
   },
   "outputs": [],
   "source": [
    "f = lambda x: np.cos(x) - x\n",
    "fp = lambda x: -np.sin(x) - 1\n",
    "x0 = -1"
   ]
  },
  {
   "cell_type": "markdown",
   "metadata": {},
   "source": [
    "Let's visualize that function."
   ]
  },
  {
   "cell_type": "code",
   "execution_count": 5,
   "metadata": {
    "collapsed": false
   },
   "outputs": [
    {
     "data": {
      "image/png": "[encoded data removed]",
      "text/plain": [
       "<matplotlib.figure.Figure at 0x7f2decf3fd90>"
      ]
     },
     "metadata": {},
     "output_type": "display_data"
    }
   ],
   "source": [
    "fig, ax = plt.subplots(figsize=(10, 6))\n",
    "x = np.linspace(-10, 10, 1000)\n",
    "plot_init(ax, x, f, x0)\n",
    "pi_plot(ax, -1, 1)\n",
    "plt.show()"
   ]
  },
  {
   "cell_type": "markdown",
   "metadata": {},
   "source": [
    "This is obviously not an optimal starting point -- we're close to being on a saddle point. Were we directly on the saddle point, the root-finding algorithm would have to divide by 0 and we would not be able to proceed without picking another starting point."
   ]
  },
  {
   "cell_type": "markdown",
   "metadata": {},
   "source": [
    "### $x_0$ = -1"
   ]
  },
  {
   "cell_type": "code",
   "execution_count": 6,
   "metadata": {
    "collapsed": false
   },
   "outputs": [
    {
     "data": {
      "text/latex": [
       "\\begin{tabular}{@{}lll@{}}\n",
       "\\toprule\n",
       "Iteration & $x_i$ & $||f(x_i)||_2$ \\\\\n",
       "\\midrule\n",
       "0 & -1.00000000 & 1.54030231 \\\\\n",
       "1 & 8.71621696 & 9.47551604 \\\\\n",
       "2 & 2.97606066 & 3.96239149 \\\\\n",
       "3 & -0.42578469 & 1.33649960 \\\\\n",
       "4 & 1.85118382 & 2.12791185 \\\\\n",
       "5 & 0.76603952 & 0.04537746 \\\\\n",
       "6 & 0.73924107 & 0.00026098 \\\\\n",
       "7 & 0.73908514 & 0.00000001 \\\\\n",
       "\\bottomrule\n",
       "\\end{tabular}\n"
      ],
      "text/plain": [
       "<IPython.core.display.Latex object>"
      ]
     },
     "execution_count": 6,
     "metadata": {},
     "output_type": "execute_result"
    }
   ],
   "source": [
    "x0 = -1\n",
    "all_x, all_err = solve(newton_iter, x0, f, fp)\n",
    "disp.Latex(arr2tex(np.array([all_x, all_err]).T, ['$x_i$', '$||f(x_i)||_2$']))"
   ]
  },
  {
   "cell_type": "markdown",
   "metadata": {},
   "source": [
    "### Picture\n",
    "\n",
    "Only with first 4 iterations."
   ]
  },
  {
   "cell_type": "code",
   "execution_count": 7,
   "metadata": {
    "collapsed": false
   },
   "outputs": [
    {
     "data": {
      "image/png": "[encoded data removed]",
      "text/plain": [
       "<matplotlib.figure.Figure at 0x7f2decf3fc50>"
      ]
     },
     "metadata": {},
     "output_type": "display_data"
    }
   ],
   "source": [
    "fig, ax = plt.subplots(figsize=(12, 8))\n",
    "plot_init(ax, x, f, x0, legend=False)\n",
    "showoff(ax, all_x[:5], f, fp)\n",
    "ax.set_title('$x_0 = -1$', fontsize=20)\n",
    "plt.show()"
   ]
  },
  {
   "cell_type": "markdown",
   "metadata": {},
   "source": [
    "### $x_0$ = $\\pi/4$"
   ]
  },
  {
   "cell_type": "code",
   "execution_count": 8,
   "metadata": {
    "collapsed": false
   },
   "outputs": [
    {
     "data": {
      "text/latex": [
       "\\begin{tabular}{@{}lll@{}}\n",
       "\\toprule\n",
       "Iteration & $x_i$ & $||f(x_i)||_2$ \\\\\n",
       "\\midrule\n",
       "0 & 0.78539816 & 0.07829138 \\\\\n",
       "1 & 0.73953613 & 0.00075487 \\\\\n",
       "2 & 0.73908518 & 0.00000008 \\\\\n",
       "3 & 0.73908513 & 0.00000000 \\\\\n",
       "\\bottomrule\n",
       "\\end{tabular}\n"
      ],
      "text/plain": [
       "<IPython.core.display.Latex object>"
      ]
     },
     "execution_count": 8,
     "metadata": {},
     "output_type": "execute_result"
    }
   ],
   "source": [
    "x0 = np.pi/4\n",
    "all_x, all_err = solve(newton_iter, x0, f, fp)\n",
    "disp.Latex(arr2tex(np.array([all_x, all_err]).T, ['$x_i$', '$||f(x_i)||_2$']))"
   ]
  },
  {
   "cell_type": "markdown",
   "metadata": {},
   "source": [
    "\n",
    "We get to machine precision after 4 iterations with this new initial guess. It's easy to see that the accuracy doubles in magnitude at each iteration. \n",
    "\n",
    "We won't be plotting the derivatives for this one for obvious reasons."
   ]
  },
  {
   "cell_type": "markdown",
   "metadata": {},
   "source": [
    "## Question 2"
   ]
  },
  {
   "cell_type": "code",
   "execution_count": 9,
   "metadata": {
    "collapsed": false
   },
   "outputs": [],
   "source": [
    "np.set_printoptions(precision=7)"
   ]
  },
  {
   "cell_type": "code",
   "execution_count": 10,
   "metadata": {
    "collapsed": true
   },
   "outputs": [],
   "source": [
    "# Did some symbolic stuff here\n",
    "from q2 import F, J"
   ]
  },
  {
   "cell_type": "code",
   "execution_count": 11,
   "metadata": {
    "collapsed": false
   },
   "outputs": [
    {
     "data": {
      "text/latex": [
       "$$F = \\left[\\begin{matrix}3 x^{2} - y^{2}\\\\- x^{3} + 3 x y^{2} - 1\\end{matrix}\\right]$$"
      ],
      "text/plain": [
       "<IPython.core.display.Math object>"
      ]
     },
     "execution_count": 11,
     "metadata": {},
     "output_type": "execute_result"
    }
   ],
   "source": [
    "F()"
   ]
  },
  {
   "cell_type": "code",
   "execution_count": 12,
   "metadata": {
    "collapsed": false
   },
   "outputs": [
    {
     "data": {
      "text/latex": [
       "$$J = \\left[\\begin{matrix}6 x & - 2 y\\\\- 3 x^{2} + 3 y^{2} & 6 x y\\end{matrix}\\right]$$"
      ],
      "text/plain": [
       "<IPython.core.display.Math object>"
      ]
     },
     "execution_count": 12,
     "metadata": {},
     "output_type": "execute_result"
    }
   ],
   "source": [
    "J()"
   ]
  },
  {
   "cell_type": "code",
   "execution_count": 13,
   "metadata": {
    "collapsed": false
   },
   "outputs": [],
   "source": [
    "def newton_iter_2d(x, F, J):\n",
    "    \"\"\"\n",
    "    A single (vector) Newton Method iteration.\n",
    "    \"\"\"\n",
    "    return x - scilin.inv( J(x)).dot(F(x) ).flatten()"
   ]
  },
  {
   "cell_type": "markdown",
   "metadata": {},
   "source": [
    "We can re-use our solve function!"
   ]
  },
  {
   "cell_type": "code",
   "execution_count": 14,
   "metadata": {
    "collapsed": false
   },
   "outputs": [],
   "source": [
    "x0 = [1, 1]\n",
    "all_xy, all_err = solve(newton_iter_2d, x0, F, J, tol=1e-6)"
   ]
  },
  {
   "cell_type": "code",
   "execution_count": 15,
   "metadata": {
    "collapsed": false
   },
   "outputs": [
    {
     "data": {
      "text/latex": [
       "\\begin{tabular}{@{}llll@{}}\n",
       "\\toprule\n",
       "Iteration & $x$ & $y$ & $||F(x, y)||_2$ \\\\\n",
       "\\midrule\n",
       "0 & 1.0000000 & 1.0000000 & 2.2360680 \\\\\n",
       "1 & 0.6111111 & 0.8333333 & 0.4282885 \\\\\n",
       "2 & 0.5036591 & 0.8524944 & 0.0453276 \\\\\n",
       "3 & 0.4999641 & 0.8660456 & 0.0001427 \\\\\n",
       "4 & 0.5000000 & 0.8660254 & 0.0000000 \\\\\n",
       "\\bottomrule\n",
       "\\end{tabular}\n"
      ],
      "text/plain": [
       "<IPython.core.display.Latex object>"
      ]
     },
     "execution_count": 15,
     "metadata": {},
     "output_type": "execute_result"
    }
   ],
   "source": [
    "disp.Latex(arr2tex(\n",
    "    np.vstack([all_xy.T, all_err]).T,\n",
    "    ['$x$', '$y$', '$||F(x, y)||_2$']\n",
    "))"
   ]
  },
  {
   "cell_type": "markdown",
   "metadata": {},
   "source": [
    "Picture is a tiny bit more complicated in this case. \n",
    "\n",
    "We notice the quadratic convergence in action yet again!"
   ]
  },
  {
   "cell_type": "markdown",
   "metadata": {},
   "source": [
    "## Question 3 -- confirming results\n",
    "\n",
    "### a)"
   ]
  },
  {
   "cell_type": "code",
   "execution_count": 16,
   "metadata": {
    "collapsed": false
   },
   "outputs": [
    {
     "data": {
      "text/latex": [
       "$||M||_2 = 5.0$"
      ],
      "text/plain": [
       "<IPython.core.display.Latex object>"
      ]
     },
     "execution_count": 16,
     "metadata": {},
     "output_type": "execute_result"
    }
   ],
   "source": [
    "M = np.array([\n",
    "    [4, 1],\n",
    "    [1, 4],\n",
    "])\n",
    "disp.Latex('$||M||_2 = %.1f$' % scilin.norm(M, ord=2))"
   ]
  },
  {
   "cell_type": "code",
   "execution_count": 17,
   "metadata": {
    "collapsed": false
   },
   "outputs": [
    {
     "data": {
      "text/latex": [
       "$\\rho (M) = (5+0j)$"
      ],
      "text/plain": [
       "<IPython.core.display.Latex object>"
      ]
     },
     "execution_count": 17,
     "metadata": {},
     "output_type": "execute_result"
    }
   ],
   "source": [
    "disp.Latex(r'$\\rho (M) = %r$' % max(scilin.eigvals(M)))"
   ]
  },
  {
   "cell_type": "markdown",
   "metadata": {},
   "source": [
    "### b)"
   ]
  },
  {
   "cell_type": "code",
   "execution_count": 18,
   "metadata": {
    "collapsed": false
   },
   "outputs": [
    {
     "data": {
      "text/latex": [
       "$||M||_2 = 7.0$"
      ],
      "text/plain": [
       "<IPython.core.display.Latex object>"
      ]
     },
     "execution_count": 18,
     "metadata": {},
     "output_type": "execute_result"
    }
   ],
   "source": [
    "U = np.sqrt(1.0/5.0)*np.array([[2, 1], [1, -2]])\n",
    "D = np.diag((7, 3))\n",
    "V = np.sqrt(1.0/2.0)*np.array([[1, 1], [1, -1]])\n",
    "M = U.dot(D).dot(V)\n",
    "disp.Latex('$||M||_2 = %.1f$' % scilin.norm(M, ord=2))"
   ]
  },
  {
   "cell_type": "code",
   "execution_count": 19,
   "metadata": {
    "collapsed": false
   },
   "outputs": [
    {
     "data": {
      "text/latex": [
       "$\\rho (M) = (5.9681613616441584+0j)$"
      ],
      "text/plain": [
       "<IPython.core.display.Latex object>"
      ]
     },
     "execution_count": 19,
     "metadata": {},
     "output_type": "execute_result"
    }
   ],
   "source": [
    "disp.Latex(r'$\\rho (M) = %r$' % max(scilin.eigvals(M)))"
   ]
  }
 ],
 "metadata": {
  "kernelspec": {
   "display_name": "Python 2",
   "language": "python",
   "name": "python2"
  },
  "language_info": {
   "codemirror_mode": {
    "name": "ipython",
    "version": 2
   },
   "file_extension": ".py",
   "mimetype": "text/x-python",
   "name": "python",
   "nbconvert_exporter": "python",
   "pygments_lexer": "ipython2",
   "version": "2.7.10"
  }
 },
 "nbformat": 4,
 "nbformat_minor": 0
}
