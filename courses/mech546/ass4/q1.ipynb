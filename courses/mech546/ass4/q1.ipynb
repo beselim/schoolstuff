{
 "cells": [
  {
   "cell_type": "code",
   "execution_count": 1,
   "metadata": {
    "collapsed": true
   },
   "outputs": [],
   "source": [
    "import numpy as np\n",
    "from scipy.linalg import solve"
   ]
  },
  {
   "cell_type": "code",
   "execution_count": 2,
   "metadata": {
    "collapsed": false
   },
   "outputs": [],
   "source": [
    "Es = 30.0e6\n",
    "Ea = 10.0e6\n",
    "P1 = 500.0\n",
    "P2 = 200.0\n",
    "h1 = 12.0\n",
    "h2 = 8.0\n",
    "h3 = 10.0\n",
    "d1 = 4.0\n",
    "d2 = 2.5\n",
    "d3 = 2.0\n",
    "A1 = 0.25*d1**2\n",
    "A2 = 0.25*d2**2\n",
    "A3 = 0.25*d3**2"
   ]
  },
  {
   "cell_type": "code",
   "execution_count": 3,
   "metadata": {
    "collapsed": false
   },
   "outputs": [
    {
     "name": "stdout",
     "output_type": "stream",
     "text": [
      "1.000e+07\n",
      "1.953e+06\n",
      "3.000e+06\n"
     ]
    }
   ],
   "source": [
    "a1 = Es*A1/h1\n",
    "a2 = Ea*A2/h2\n",
    "a3 = Es*A3/h3\n",
    "print('%.3e' % a1)\n",
    "print('%.3e' % a2)\n",
    "print('%.3e' % a3)"
   ]
  },
  {
   "cell_type": "code",
   "execution_count": 4,
   "metadata": {
    "collapsed": true
   },
   "outputs": [],
   "source": [
    "p2 = 200.0*1000.0\n",
    "p1 = 500.0*1000.0"
   ]
  },
  {
   "cell_type": "code",
   "execution_count": 5,
   "metadata": {
    "collapsed": false
   },
   "outputs": [
    {
     "data": {
      "text/plain": [
       "array([[ 37551849.68744049,  -6135923.15154256,         0.        ],\n",
       "       [ -6135923.15154256,  15560701.11231194,  -9424777.96076938],\n",
       "       [        0.        ,  -9424777.96076938,   9424777.96076938]])"
      ]
     },
     "execution_count": 5,
     "metadata": {},
     "output_type": "execute_result"
    }
   ],
   "source": [
    "K = np.pi*np.array([\n",
    "    [a1 + a2, -a2, 0],\n",
    "    [-a2, a2 + a3, -a3],\n",
    "    [0, -a3, a3]\n",
    "])\n",
    "K"
   ]
  },
  {
   "cell_type": "code",
   "execution_count": 10,
   "metadata": {
    "collapsed": true
   },
   "outputs": [],
   "source": [
    "Q = np.array([[0], [-p2], [p1]])"
   ]
  },
  {
   "cell_type": "code",
   "execution_count": 11,
   "metadata": {
    "collapsed": false
   },
   "outputs": [
    {
     "data": {
      "text/plain": [
       "array([[      0.],\n",
       "       [-200000.],\n",
       "       [ 500000.]])"
      ]
     },
     "execution_count": 11,
     "metadata": {},
     "output_type": "execute_result"
    }
   ],
   "source": [
    "Q"
   ]
  },
  {
   "cell_type": "code",
   "execution_count": 12,
   "metadata": {
    "collapsed": false
   },
   "outputs": [
    {
     "data": {
      "text/plain": [
       "array([[ 0.0095493 ],\n",
       "       [ 0.0584417 ],\n",
       "       [ 0.11149334]])"
      ]
     },
     "execution_count": 12,
     "metadata": {},
     "output_type": "execute_result"
    }
   ],
   "source": [
    "solve(K, Q)"
   ]
  },
  {
   "cell_type": "code",
   "execution_count": 8,
   "metadata": {
    "collapsed": false
   },
   "outputs": [
    {
     "data": {
      "text/plain": [
       "array([      0., -200000.,  500000.])"
      ]
     },
     "execution_count": 8,
     "metadata": {},
     "output_type": "execute_result"
    }
   ],
   "source": [
    "Q"
   ]
  }
 ],
 "metadata": {
  "kernelspec": {
   "display_name": "Python 2",
   "language": "python",
   "name": "python2"
  },
  "language_info": {
   "codemirror_mode": {
    "name": "ipython",
    "version": 2
   },
   "file_extension": ".py",
   "mimetype": "text/x-python",
   "name": "python",
   "nbconvert_exporter": "python",
   "pygments_lexer": "ipython2",
   "version": "2.7.10"
  }
 },
 "nbformat": 4,
 "nbformat_minor": 0
}
