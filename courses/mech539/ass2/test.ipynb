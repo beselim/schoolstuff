{
 "cells": [
  {
   "cell_type": "code",
   "execution_count": 1,
   "metadata": {
    "collapsed": true
   },
   "outputs": [],
   "source": [
    "import numpy as np\n",
    "import scipy.linalg as LA\n",
    "import scipy.sparse\n",
    "import scipy.sparse.linalg as SLA\n",
    "import matplotlib.pyplot as plt\n",
    "%matplotlib inline"
   ]
  },
  {
   "cell_type": "code",
   "execution_count": 2,
   "metadata": {
    "collapsed": true
   },
   "outputs": [],
   "source": [
    "def spcond(A):\n",
    "    Ainv = SLA.inv(A.tocsc())\n",
    "    return SLA.norm(A)*SLA.norm(Ainv)"
   ]
  },
  {
   "cell_type": "code",
   "execution_count": null,
   "metadata": {
    "collapsed": true
   },
   "outputs": [],
   "source": [
    "# Construct A\n",
    "Asp = scipy.sparse.dok_matrix((nx*nx, nx*nx))\n",
    "# A = np.zeros((nx*nx, nx*nx))\n",
    "b = np.zeros(nx*nx)\n",
    "for i in range(nx):\n",
    "    for j in range(nx):\n",
    "        row = j + nx*i\n",
    "        Asp[row, row] = -4\n",
    "        if i == 0 or j == 0 or j == nx - 1:\n",
    "            b[row] = 0\n",
    "            continue\n",
    "        if i == nx - 1:\n",
    "            b[row] = -0.25\n",
    "            continue\n",
    "        \n",
    "        Asp[row, row-1] = 1\n",
    "        Asp[row, row+1] = 1\n",
    "        Asp[row, row-nx] = 1\n",
    "        Asp[row, row+nx] = 1"
   ]
  },
  {
   "cell_type": "code",
   "execution_count": 8,
   "metadata": {
    "collapsed": false
   },
   "outputs": [],
   "source": [
    "nx = 50\n",
    "u = np.zeros((nx, nx))\n",
    "u[-1, :] = 1\n",
    "u = u.flatten()"
   ]
  },
  {
   "cell_type": "code",
   "execution_count": 9,
   "metadata": {
    "collapsed": false
   },
   "outputs": [],
   "source": [
    "# Construct A\n",
    "A = np.zeros((nx*nx, nx*nx), dtype=float)\n",
    "b = np.zeros(nx*nx, dtype=float)\n",
    "for i in range(nx):\n",
    "    for j in range(nx):\n",
    "        row = j + nx*i\n",
    "        A[row, row] = -4\n",
    "        if i == 0 or j == 0 or j == nx - 1:\n",
    "            b[row] = 0\n",
    "            continue\n",
    "        if i == nx - 1:\n",
    "            b[row] = -0.25\n",
    "            continue\n",
    "        \n",
    "        A[row, row-1] = 1\n",
    "        A[row, row+1] = 1\n",
    "        A[row, row-nx] = 1\n",
    "        A[row, row+nx] = 1"
   ]
  },
  {
   "cell_type": "code",
   "execution_count": 10,
   "metadata": {
    "collapsed": false
   },
   "outputs": [
    {
     "data": {
      "text/plain": [
       "972.44984926983579"
      ]
     },
     "execution_count": 10,
     "metadata": {},
     "output_type": "execute_result"
    }
   ],
   "source": [
    "np.linalg.cond(A)"
   ]
  },
  {
   "cell_type": "code",
   "execution_count": 114,
   "metadata": {
    "collapsed": true
   },
   "outputs": [],
   "source": [
    "x0 = np.ones(len(A))"
   ]
  },
  {
   "cell_type": "code",
   "execution_count": 115,
   "metadata": {
    "collapsed": false
   },
   "outputs": [
    {
     "data": {
      "text/plain": [
       "2.2204460492503131e-16"
      ]
     },
     "execution_count": 115,
     "metadata": {},
     "output_type": "execute_result"
    }
   ],
   "source": [
    "EPS = np.finfo(float).eps\n",
    "EPS"
   ]
  },
  {
   "cell_type": "code",
   "execution_count": 116,
   "metadata": {
    "collapsed": true
   },
   "outputs": [],
   "source": [
    "U = LA.solve(A, b)\n",
    "# U = U.reshape((nx, nx))"
   ]
  },
  {
   "cell_type": "code",
   "execution_count": 117,
   "metadata": {
    "collapsed": false
   },
   "outputs": [
    {
     "data": {
      "text/plain": [
       "9.1850537175842355"
      ]
     },
     "execution_count": 117,
     "metadata": {},
     "output_type": "execute_result"
    }
   ],
   "source": [
    "r = b - A.dot(U)\n",
    "z = LA.solve(A, r)\n",
    "LA.norm(z)/LA.norm(U)/EPS"
   ]
  },
  {
   "cell_type": "code",
   "execution_count": 110,
   "metadata": {
    "collapsed": false
   },
   "outputs": [
    {
     "data": {
      "text/plain": [
       "5.3141500195755675"
      ]
     },
     "execution_count": 110,
     "metadata": {},
     "output_type": "execute_result"
    }
   ],
   "source": [
    "r = b - A.dot(U)\n",
    "z = LA.solve(A, r)\n",
    "LA.norm(z)/LA.norm(U)/EPS"
   ]
  },
  {
   "cell_type": "code",
   "execution_count": 102,
   "metadata": {
    "collapsed": false
   },
   "outputs": [
    {
     "data": {
      "text/plain": [
       "1.1828781688075689"
      ]
     },
     "execution_count": 102,
     "metadata": {},
     "output_type": "execute_result"
    }
   ],
   "source": [
    "LA.norm(np.linalg.inv(A).dot(b) - U)/LA.norm(U)/EPS"
   ]
  },
  {
   "cell_type": "code",
   "execution_count": 103,
   "metadata": {
    "collapsed": false
   },
   "outputs": [
    {
     "data": {
      "text/plain": [
       "2.2518576112092334e-15"
      ]
     },
     "execution_count": 103,
     "metadata": {},
     "output_type": "execute_result"
    }
   ],
   "source": [
    "LA.norm(z - (np.linalg.inv(A).dot(b) - U))"
   ]
  },
  {
   "cell_type": "code",
   "execution_count": null,
   "metadata": {
    "collapsed": false
   },
   "outputs": [],
   "source": [
    "plt.contourf(U)"
   ]
  },
  {
   "cell_type": "code",
   "execution_count": null,
   "metadata": {
    "collapsed": false
   },
   "outputs": [],
   "source": [
    "np.linalg.cond(A)"
   ]
  },
  {
   "cell_type": "code",
   "execution_count": null,
   "metadata": {
    "collapsed": false
   },
   "outputs": [],
   "source": [
    "# Construct A\n",
    "nx = 8\n",
    "l = (nx-2)*(nx-2)\n",
    "A = np.zeros((nx*nx, nx*nx))\n",
    "b = np.zeros(nx*nx)\n",
    "for i in range(nx):\n",
    "    for j in range(nx):\n",
    "        row = j + nx*i\n",
    "        A[row, row] = -4\n",
    "#         if i == 0 or j == 0 or j == nx - 1:\n",
    "#             b[row] = 0\n",
    "#             continue\n",
    "#         if i == nx - 1:\n",
    "#             b[row] = -1\n",
    "#             continue\n",
    "        if i != 0:\n",
    "            A[row, row-nx] = 1\n",
    "        if i != nx-1:\n",
    "            A[row, row+nx] = 1\n",
    "        else:\n",
    "            b[row] = -1\n",
    "        if j != 0:\n",
    "            A[row, row-1] = 1\n",
    "        if j != nx-1:\n",
    "            A[row, row+1] = 1\n",
    "             "
   ]
  },
  {
   "cell_type": "code",
   "execution_count": null,
   "metadata": {
    "collapsed": false
   },
   "outputs": [],
   "source": [
    "for a in A:\n",
    "    print(a)"
   ]
  },
  {
   "cell_type": "code",
   "execution_count": null,
   "metadata": {
    "collapsed": true
   },
   "outputs": [],
   "source": [
    "U = LA.solve(A, b)\n",
    "U = U.reshape((nx, nx))"
   ]
  },
  {
   "cell_type": "code",
   "execution_count": null,
   "metadata": {
    "collapsed": false
   },
   "outputs": [],
   "source": [
    "plt.contourf(U)"
   ]
  },
  {
   "cell_type": "code",
   "execution_count": null,
   "metadata": {
    "collapsed": false
   },
   "outputs": [],
   "source": [
    "np.linalg.cond(A)"
   ]
  }
 ],
 "metadata": {
  "kernelspec": {
   "display_name": "Python 2",
   "language": "python",
   "name": "python2"
  },
  "language_info": {
   "codemirror_mode": {
    "name": "ipython",
    "version": 2
   },
   "file_extension": ".py",
   "mimetype": "text/x-python",
   "name": "python",
   "nbconvert_exporter": "python",
   "pygments_lexer": "ipython2",
   "version": "2.7.10"
  }
 },
 "nbformat": 4,
 "nbformat_minor": 0
}
