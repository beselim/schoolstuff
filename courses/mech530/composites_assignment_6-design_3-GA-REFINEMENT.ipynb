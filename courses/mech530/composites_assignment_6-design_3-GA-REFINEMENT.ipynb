{
 "metadata": {
  "name": "",
  "signature": "sha256:543b4ca6dccd00ff49265449b9e15b6d2c34c444d44cedc2fe8d7944da29b937"
 },
 "nbformat": 3,
 "nbformat_minor": 0,
 "worksheets": [
  {
   "cells": [
    {
     "cell_type": "markdown",
     "metadata": {},
     "source": [
      "Design #3\n",
      "========="
     ]
    },
    {
     "cell_type": "markdown",
     "metadata": {},
     "source": [
      "Best Layups found : \n",
      "\n",
      "1. [10, 20, -10, -20, -20, 30, 30, 20]\n",
      "2. [10, 20, -10, -20, 30, 30, -20, -10] "
     ]
    },
    {
     "cell_type": "code",
     "collapsed": false,
     "input": [
      "%matplotlib inline\n",
      "from composites.sim import Sim,ureg,Q_\n",
      "from composites.failure import FailureAnalysis\n",
      "import numpy as np\n",
      "import composites.floatformat\n",
      "from composites.laminate import Laminate\n",
      "import pandas as pd\n",
      "import matplotlib.pyplot as plt\n",
      "import os"
     ],
     "language": "python",
     "metadata": {},
     "outputs": [],
     "prompt_number": 9
    },
    {
     "cell_type": "code",
     "collapsed": false,
     "input": [
      "import random\n",
      "\n",
      "from operator import attrgetter\n",
      "from deap import base\n",
      "from deap import creator\n",
      "from deap import tools\n",
      "from deap import algorithms\n",
      "from genetic.algorithm import MEtwo\n",
      "from genetic import makechildren"
     ],
     "language": "python",
     "metadata": {},
     "outputs": [],
     "prompt_number": 10
    },
    {
     "cell_type": "code",
     "collapsed": false,
     "input": [
      "zc = 0.15/100.0\n",
      "w = Q_(3.0/100.0,'m')\n",
      "B = Q_(10.0/100.0,'m')\n",
      "M_1 = Q_([-1000,-100,-100],'N')\n",
      "N_1 = Q_([-22400,-3000,-2000],'Nperm')\n",
      "M_2 = Q_([-980,-98,-110],'N')\n",
      "N_2 = Q_([-20800,-2800,-2200],'Nperm')"
     ],
     "language": "python",
     "metadata": {},
     "outputs": [],
     "prompt_number": 11
    },
    {
     "cell_type": "code",
     "collapsed": false,
     "input": [
      "base_layup = [10, 20, -10, -20, -20, 30, 30, 20]\n",
      "individual = [-5,-4,3,2,1,5,2]\n",
      "processed_individual = [sum(x) for x in zip(base_layup,individual)]\n",
      "list_of_str = ['{0:d}'.format(k) for k in processed_individual]\n",
      "layup = '/'.join(list_of_str)+'s'\n",
      "print layup"
     ],
     "language": "python",
     "metadata": {},
     "outputs": [
      {
       "output_type": "stream",
       "stream": "stdout",
       "text": [
        "5/16/-7/-18/-19/35/32s\n"
       ]
      }
     ],
     "prompt_number": 12
    },
    {
     "cell_type": "code",
     "collapsed": false,
     "input": [
      "def evaluate_layup(individual,materialID):\n",
      "    #Individual is [-5,5,2,3]\n",
      "    processed_individual = [sum(x) for x in zip(base_layup,individual)]\n",
      "    list_of_str = ['{0:d}'.format(k) for k in processed_individual]\n",
      "    layup = '/'.join(list_of_str)+'s'\n",
      "    laminate=Laminate(layup,materialID,zc)\n",
      "    sim_1 = Sim(laminate=laminate)\n",
      "    sim_1.apply_N(N_1)\n",
      "    sim_1.apply_M(M_1)\n",
      "    sim_1.solve()\n",
      "    fail = FailureAnalysis(sim_1)\n",
      "    the_mins = fail.find_min()\n",
      "    first_min = min([R[0] for R in the_mins.values()])\n",
      "    sim_1.apply_N(N_2)\n",
      "    sim_1.apply_M(M_2)\n",
      "    fail = FailureAnalysis(sim_1)\n",
      "    the_mins = fail.find_min()\n",
      "    second_min = min([R[0] for R in the_mins.values()])\n",
      "    return float(min((first_min,second_min))),"
     ],
     "language": "python",
     "metadata": {},
     "outputs": [],
     "prompt_number": 13
    },
    {
     "cell_type": "code",
     "collapsed": false,
     "input": [
      "creator.create(\"FitnessMax\", base.Fitness, weights = (1.0,))\n",
      "creator.create(\"Individual\",list,fitness=creator.FitnessMax)"
     ],
     "language": "python",
     "metadata": {},
     "outputs": [],
     "prompt_number": 14
    },
    {
     "cell_type": "code",
     "collapsed": false,
     "input": [
      "def new_angle(a,b,coeff):\n",
      "    return random.randint(a,b)*coeff"
     ],
     "language": "python",
     "metadata": {},
     "outputs": [],
     "prompt_number": 15
    },
    {
     "cell_type": "code",
     "collapsed": false,
     "input": [
      "materialID = 1\n",
      "num_of_plies = 8\n",
      "pop_size = 300\n",
      "nk = 30\n",
      "plateau_max = 10\n",
      "add_random_max = 2\n",
      "rand_ind = 100\n",
      "gen_numbers = 100\n",
      "run_number = 2\n",
      "base_layup = [10, 20, -10, -20, -20, 30, 30, 20]\n",
      "mutpb = 0.1"
     ],
     "language": "python",
     "metadata": {},
     "outputs": [],
     "prompt_number": 16
    },
    {
     "cell_type": "code",
     "collapsed": false,
     "input": [
      "# ##For testing\n",
      "# materialID = 4\n",
      "# num_of_plies = 7\n",
      "# pop_size = 10\n",
      "# nk = 1\n",
      "# plateau_max = 5\n",
      "# add_random_max = 2\n",
      "# rand_ind = 5\n",
      "# gen_numbers = 100\n",
      "# run_number = 2"
     ],
     "language": "python",
     "metadata": {},
     "outputs": [],
     "prompt_number": 17
    },
    {
     "cell_type": "code",
     "collapsed": false,
     "input": [
      "toolbox = base.Toolbox()\n",
      "toolbox.register(\"ply\",new_angle,-20,20,1)\n",
      "toolbox.register(\"individual\",tools.initRepeat,creator.Individual,toolbox.ply,n=num_of_plies)\n",
      "toolbox.register(\"population\",tools.initRepeat,list, toolbox.individual,n=pop_size)\n",
      "toolbox.register(\"evaluate\",evaluate_layup,materialID=materialID)\n",
      "toolbox.register(\"mate\",makechildren.one_point_cross)"
     ],
     "language": "python",
     "metadata": {},
     "outputs": [],
     "prompt_number": 18
    },
    {
     "cell_type": "code",
     "collapsed": false,
     "input": [
      "for i in ['2_3','2_4','2_5']:\n",
      "    filename = \"material%i--%iplies--run%s-refinement.txt\" % (materialID,num_of_plies,i)\n",
      "    file_path = 'design3_results/'+filename\n",
      "    f = open(file_path,'a')\n",
      "    header = \"\"\"Material ID : %i\n",
      "Number of Plies : %i\n",
      "Population Size : %i\n",
      "Nk : %i\n",
      "Base Layup : %r \\n\\n\"\"\" % (materialID,num_of_plies,pop_size,nk,base_layup)\n",
      "    print header,; f.write(header)\n",
      "    try:\n",
      "        population = toolbox.population()\n",
      "        fits = toolbox.map(toolbox.evaluate,population)\n",
      "        for fit,ind in zip(fits,population):\n",
      "            ind.fitness.values = fit\n",
      "\n",
      "        sorted_pop = sorted(population, key=attrgetter(\"fitness\"), reverse=True)\n",
      "        last_fit = sorted_pop[0].fitness.values[0]\n",
      "        plateau_counter = 0\n",
      "        add_random_counter = 0\n",
      "        bumped_nk = False\n",
      "\n",
      "#         print len(population)\n",
      "#         print \"Writing to %s\" % file_path\n",
      "\n",
      "        for gen in range(gen_numbers):\n",
      "            population = MEtwo(population,nk,toolbox,1.0,mutpb,0.9)\n",
      "            sorted_pop = sorted(population, key=attrgetter(\"fitness\"), reverse=True)\n",
      "            new_fit = sorted_pop[0].fitness.values[0]\n",
      "            if new_fit - last_fit < 10**-5:\n",
      "                plateau_counter += 1\n",
      "            else:\n",
      "                plateau_counter = 0\n",
      "            last_fit = new_fit        \n",
      "#             results = \"Generation %i (%i) \\n%r \\n %r \\n\" % (gen, \n",
      "#                                                           plateau_counter,\n",
      "#                                                           sorted_pop[0],\n",
      "#                                                           sorted_pop[0].fitness.values\n",
      "#                                                           )\n",
      "#             print results,\n",
      "#             f.write(results)\n",
      "            \n",
      "            if gen==50:\n",
      "#             mutpb = 0.6\n",
      "#             message = \"Increased Mutation probability to 0.6\"\n",
      "                nk = pop_size\n",
      "#             print message,; f.write(message)\n",
      "\n",
      "            if plateau_counter == plateau_max:\n",
      "                if add_random_counter == add_random_max:\n",
      "                    message = \"Couldn't find better :(\"\n",
      "                    print message,; f.write(message)\n",
      "                    raise AssertionError\n",
      "\n",
      "                random_individuals = toolbox.population()[:rand_ind]\n",
      "                sorted_pop[-rand_ind:] = random_individuals\n",
      "                population = sorted_pop\n",
      "                message = \"Inserted %i random individuals\\n\" % rand_ind\n",
      "#                 print message,; f.write(message)\n",
      "                plateau_counter = 0\n",
      "                add_random_counter += 1\n",
      "\n",
      "    #                 \n",
      "    #             if bumped_nk:\n",
      "    #                 message = \"Could not get higher\"\n",
      "    #                 print message; f.write(message)\n",
      "    #                 raise AssertionError\n",
      "    #             else:\n",
      "    #                 random_individuals = toolbox.population()[:rand_ind]\n",
      "    #                 sorted_pop[-rand_ind:] = random_individuals\n",
      "    #                 population = sorted_pop\n",
      "    #                 message = \"Inserted %i random individuals\\n\" % rand_ind\n",
      "    #                 counter = 0\n",
      "    #                 print message,; f.write(message)\n",
      "    #                 nk = pop_size\n",
      "    #                 bumped_nk = True\n",
      "    #                 message = \"Bumping N_k to population size (%i)\" % pop_size\n",
      "    #                 print message; f.write(message)\n",
      "    except AssertionError,KeyboardInterrupt:\n",
      "        message = \"Run aborted \\n\"\n",
      "        print message,\n",
      "        f.write(message)\n",
      "        pass\n",
      "    finally:\n",
      "        results = \"Generation %i (%i) \\n%r \\n %r \\n\" % (gen, \n",
      "                                                          plateau_counter,\n",
      "                                                          sorted_pop[0],\n",
      "                                                          sorted_pop[0].fitness.values\n",
      "                                                          )\n",
      "        print results,\n",
      "        f.write(results)\n",
      "        f.close()\n",
      "    nk = 30\n",
      "    print \"Done!\"\n",
      "    run_number += 1"
     ],
     "language": "python",
     "metadata": {},
     "outputs": [
      {
       "output_type": "stream",
       "stream": "stdout",
       "text": [
        "Material ID : 1\n",
        "Number of Plies : 8\n",
        "Population Size : 300\n",
        "Nk : 300\n",
        "Base Layup : [10, 20, -10, -20, -20, 30, 30, 20] \n",
        "\n",
        "Generation 58 (2) \n",
        "[-1, 0, -1, 2, 3, 0, 2, 6] \n",
        " (2.2530591700009124,) \n"
       ]
      },
      {
       "ename": "KeyboardInterrupt",
       "evalue": "",
       "output_type": "pyerr",
       "traceback": [
        "\u001b[1;31m---------------------------------------------------------------------------\u001b[0m\n\u001b[1;31mKeyboardInterrupt\u001b[0m                         Traceback (most recent call last)",
        "\u001b[1;32m<ipython-input-20-d3a1942c492e>\u001b[0m in \u001b[0;36m<module>\u001b[1;34m()\u001b[0m\n\u001b[0;32m     25\u001b[0m \u001b[1;33m\u001b[0m\u001b[0m\n\u001b[0;32m     26\u001b[0m         \u001b[1;32mfor\u001b[0m \u001b[0mgen\u001b[0m \u001b[1;32min\u001b[0m \u001b[0mrange\u001b[0m\u001b[1;33m(\u001b[0m\u001b[0mgen_numbers\u001b[0m\u001b[1;33m)\u001b[0m\u001b[1;33m:\u001b[0m\u001b[1;33m\u001b[0m\u001b[0m\n\u001b[1;32m---> 27\u001b[1;33m             \u001b[0mpopulation\u001b[0m \u001b[1;33m=\u001b[0m \u001b[0mMEtwo\u001b[0m\u001b[1;33m(\u001b[0m\u001b[0mpopulation\u001b[0m\u001b[1;33m,\u001b[0m\u001b[0mnk\u001b[0m\u001b[1;33m,\u001b[0m\u001b[0mtoolbox\u001b[0m\u001b[1;33m,\u001b[0m\u001b[1;36m1.0\u001b[0m\u001b[1;33m,\u001b[0m\u001b[0mmutpb\u001b[0m\u001b[1;33m,\u001b[0m\u001b[1;36m0.9\u001b[0m\u001b[1;33m)\u001b[0m\u001b[1;33m\u001b[0m\u001b[0m\n\u001b[0m\u001b[0;32m     28\u001b[0m             \u001b[0msorted_pop\u001b[0m \u001b[1;33m=\u001b[0m \u001b[0msorted\u001b[0m\u001b[1;33m(\u001b[0m\u001b[0mpopulation\u001b[0m\u001b[1;33m,\u001b[0m \u001b[0mkey\u001b[0m\u001b[1;33m=\u001b[0m\u001b[0mattrgetter\u001b[0m\u001b[1;33m(\u001b[0m\u001b[1;34m\"fitness\"\u001b[0m\u001b[1;33m)\u001b[0m\u001b[1;33m,\u001b[0m \u001b[0mreverse\u001b[0m\u001b[1;33m=\u001b[0m\u001b[0mTrue\u001b[0m\u001b[1;33m)\u001b[0m\u001b[1;33m\u001b[0m\u001b[0m\n\u001b[0;32m     29\u001b[0m             \u001b[0mnew_fit\u001b[0m \u001b[1;33m=\u001b[0m \u001b[0msorted_pop\u001b[0m\u001b[1;33m[\u001b[0m\u001b[1;36m0\u001b[0m\u001b[1;33m]\u001b[0m\u001b[1;33m.\u001b[0m\u001b[0mfitness\u001b[0m\u001b[1;33m.\u001b[0m\u001b[0mvalues\u001b[0m\u001b[1;33m[\u001b[0m\u001b[1;36m0\u001b[0m\u001b[1;33m]\u001b[0m\u001b[1;33m\u001b[0m\u001b[0m\n",
        "\u001b[1;32mc:\\Users\\Selimb\\Documents\\GitHub\\mech_530\\genetic\\algorithm.pyc\u001b[0m in \u001b[0;36mMEtwo\u001b[1;34m(parents, nk, toolbox, cxpb, mutpb, swappb)\u001b[0m\n\u001b[0;32m     38\u001b[0m                               toolbox,cxpb,mutpb,swappb)\n\u001b[0;32m     39\u001b[0m \u001b[1;33m\u001b[0m\u001b[0m\n\u001b[1;32m---> 40\u001b[1;33m     \u001b[0mfits\u001b[0m \u001b[1;33m=\u001b[0m \u001b[0mtoolbox\u001b[0m\u001b[1;33m.\u001b[0m\u001b[0mmap\u001b[0m\u001b[1;33m(\u001b[0m\u001b[0mtoolbox\u001b[0m\u001b[1;33m.\u001b[0m\u001b[0mevaluate\u001b[0m\u001b[1;33m,\u001b[0m\u001b[0mchildren\u001b[0m\u001b[1;33m)\u001b[0m\u001b[1;33m\u001b[0m\u001b[0m\n\u001b[0m\u001b[0;32m     41\u001b[0m     \u001b[1;32mfor\u001b[0m \u001b[0mfit\u001b[0m\u001b[1;33m,\u001b[0m\u001b[0mind\u001b[0m \u001b[1;32min\u001b[0m \u001b[0mzip\u001b[0m\u001b[1;33m(\u001b[0m\u001b[0mfits\u001b[0m\u001b[1;33m,\u001b[0m\u001b[0mchildren\u001b[0m\u001b[1;33m)\u001b[0m\u001b[1;33m:\u001b[0m\u001b[1;33m\u001b[0m\u001b[0m\n\u001b[0;32m     42\u001b[0m         \u001b[0mind\u001b[0m\u001b[1;33m.\u001b[0m\u001b[0mfitness\u001b[0m\u001b[1;33m.\u001b[0m\u001b[0mvalues\u001b[0m \u001b[1;33m=\u001b[0m \u001b[0mfit\u001b[0m\u001b[1;33m\u001b[0m\u001b[0m\n",
        "\u001b[1;32m<ipython-input-13-6a430d98683f>\u001b[0m in \u001b[0;36mevaluate_layup\u001b[1;34m(individual, materialID)\u001b[0m\n\u001b[0;32m      5\u001b[0m     \u001b[0mlayup\u001b[0m \u001b[1;33m=\u001b[0m \u001b[1;34m'/'\u001b[0m\u001b[1;33m.\u001b[0m\u001b[0mjoin\u001b[0m\u001b[1;33m(\u001b[0m\u001b[0mlist_of_str\u001b[0m\u001b[1;33m)\u001b[0m\u001b[1;33m+\u001b[0m\u001b[1;34m's'\u001b[0m\u001b[1;33m\u001b[0m\u001b[0m\n\u001b[0;32m      6\u001b[0m     \u001b[0mlaminate\u001b[0m\u001b[1;33m=\u001b[0m\u001b[0mLaminate\u001b[0m\u001b[1;33m(\u001b[0m\u001b[0mlayup\u001b[0m\u001b[1;33m,\u001b[0m\u001b[0mmaterialID\u001b[0m\u001b[1;33m,\u001b[0m\u001b[0mzc\u001b[0m\u001b[1;33m)\u001b[0m\u001b[1;33m\u001b[0m\u001b[0m\n\u001b[1;32m----> 7\u001b[1;33m     \u001b[0msim_1\u001b[0m \u001b[1;33m=\u001b[0m \u001b[0mSim\u001b[0m\u001b[1;33m(\u001b[0m\u001b[0mlaminate\u001b[0m\u001b[1;33m=\u001b[0m\u001b[0mlaminate\u001b[0m\u001b[1;33m)\u001b[0m\u001b[1;33m\u001b[0m\u001b[0m\n\u001b[0m\u001b[0;32m      8\u001b[0m     \u001b[0msim_1\u001b[0m\u001b[1;33m.\u001b[0m\u001b[0mapply_N\u001b[0m\u001b[1;33m(\u001b[0m\u001b[0mN_1\u001b[0m\u001b[1;33m)\u001b[0m\u001b[1;33m\u001b[0m\u001b[0m\n\u001b[0;32m      9\u001b[0m     \u001b[0msim_1\u001b[0m\u001b[1;33m.\u001b[0m\u001b[0mapply_M\u001b[0m\u001b[1;33m(\u001b[0m\u001b[0mM_1\u001b[0m\u001b[1;33m)\u001b[0m\u001b[1;33m\u001b[0m\u001b[0m\n",
        "\u001b[1;32mc:\\Users\\Selimb\\Documents\\GitHub\\mech_530\\composites\\sim.pyc\u001b[0m in \u001b[0;36m__init__\u001b[1;34m(self, **kwargs)\u001b[0m\n\u001b[0;32m    114\u001b[0m                                 \u001b[1;32mraise\u001b[0m \u001b[0mKeyError\u001b[0m\u001b[1;33m(\u001b[0m\u001b[1;34m\"Could not find keyword args 'laminate' or 'layup' and 'id'\"\u001b[0m\u001b[1;33m)\u001b[0m\u001b[1;33m\u001b[0m\u001b[0m\n\u001b[0;32m    115\u001b[0m \u001b[1;33m\u001b[0m\u001b[0m\n\u001b[1;32m--> 116\u001b[1;33m                 \u001b[0mself\u001b[0m\u001b[1;33m.\u001b[0m\u001b[0mlaminate\u001b[0m\u001b[1;33m.\u001b[0m\u001b[0mcompute_all\u001b[0m\u001b[1;33m(\u001b[0m\u001b[1;33m)\u001b[0m\u001b[1;33m\u001b[0m\u001b[0m\n\u001b[0m\u001b[0;32m    117\u001b[0m                 \u001b[0mself\u001b[0m\u001b[1;33m.\u001b[0m\u001b[0me0\u001b[0m \u001b[1;33m=\u001b[0m \u001b[0mnumpy\u001b[0m\u001b[1;33m.\u001b[0m\u001b[0mzeros\u001b[0m\u001b[1;33m(\u001b[0m\u001b[1;33m(\u001b[0m\u001b[1;36m3\u001b[0m\u001b[1;33m,\u001b[0m\u001b[1;33m)\u001b[0m\u001b[1;33m)\u001b[0m   \u001b[1;31m#Average strain from overall in-plane stress 'N'\u001b[0m\u001b[1;33m\u001b[0m\u001b[0m\n\u001b[0;32m    118\u001b[0m                 \u001b[0mself\u001b[0m\u001b[1;33m.\u001b[0m\u001b[0me_k\u001b[0m \u001b[1;33m=\u001b[0m \u001b[0mNone\u001b[0m\u001b[1;33m\u001b[0m\u001b[0m\n",
        "\u001b[1;32mc:\\Users\\Selimb\\Documents\\GitHub\\mech_530\\composites\\laminate.pyc\u001b[0m in \u001b[0;36mcompute_all\u001b[1;34m(self, method)\u001b[0m\n\u001b[0;32m    166\u001b[0m \u001b[1;33m\u001b[0m\u001b[0m\n\u001b[0;32m    167\u001b[0m                 \u001b[0mself\u001b[0m\u001b[1;33m.\u001b[0m\u001b[0m_compute_A\u001b[0m\u001b[1;33m(\u001b[0m\u001b[1;33m)\u001b[0m\u001b[1;33m\u001b[0m\u001b[0m\n\u001b[1;32m--> 168\u001b[1;33m                 \u001b[0mself\u001b[0m\u001b[1;33m.\u001b[0m\u001b[0m_compute_D\u001b[0m\u001b[1;33m(\u001b[0m\u001b[1;33m)\u001b[0m\u001b[1;33m\u001b[0m\u001b[0m\n\u001b[0m\u001b[0;32m    169\u001b[0m                 \u001b[0mself\u001b[0m\u001b[1;33m.\u001b[0m\u001b[0mcomputed\u001b[0m \u001b[1;33m=\u001b[0m \u001b[0mTrue\u001b[0m\u001b[1;33m\u001b[0m\u001b[0m\n\u001b[0;32m    170\u001b[0m                 \u001b[1;32mreturn\u001b[0m \u001b[0mTrue\u001b[0m\u001b[1;33m\u001b[0m\u001b[0m\n",
        "\u001b[1;32mc:\\Users\\Selimb\\Documents\\GitHub\\mech_530\\composites\\laminate.pyc\u001b[0m in \u001b[0;36m_compute_D\u001b[1;34m(self)\u001b[0m\n\u001b[0;32m    216\u001b[0m                 \u001b[0mvec\u001b[0m \u001b[1;33m=\u001b[0m \u001b[0mnumpy\u001b[0m\u001b[1;33m.\u001b[0m\u001b[0marray\u001b[0m\u001b[1;33m(\u001b[0m\u001b[1;33m[\u001b[0m\u001b[0mh_star\u001b[0m\u001b[1;33m,\u001b[0m\u001b[0mU2\u001b[0m\u001b[1;33m,\u001b[0m\u001b[0mU3\u001b[0m\u001b[1;33m]\u001b[0m\u001b[1;33m)\u001b[0m\u001b[1;33m\u001b[0m\u001b[0m\n\u001b[0;32m    217\u001b[0m                 \u001b[0mself\u001b[0m\u001b[1;33m.\u001b[0m\u001b[0mD_vec\u001b[0m \u001b[1;33m=\u001b[0m \u001b[0mthe_array\u001b[0m\u001b[1;33m.\u001b[0m\u001b[0mdot\u001b[0m\u001b[1;33m(\u001b[0m\u001b[0mvec\u001b[0m\u001b[1;33m)\u001b[0m\u001b[1;33m\u001b[0m\u001b[0m\n\u001b[1;32m--> 218\u001b[1;33m                 \u001b[0mself\u001b[0m\u001b[1;33m.\u001b[0m\u001b[0mD\u001b[0m \u001b[1;33m=\u001b[0m \u001b[0mmake_array\u001b[0m\u001b[1;33m(\u001b[0m\u001b[0mself\u001b[0m\u001b[1;33m.\u001b[0m\u001b[0mD_vec\u001b[0m\u001b[1;33m)\u001b[0m \u001b[1;31m#**9 to obtain Nm\u001b[0m\u001b[1;33m\u001b[0m\u001b[0m\n\u001b[0m\u001b[0;32m    219\u001b[0m \u001b[1;33m\u001b[0m\u001b[0m\n\u001b[0;32m    220\u001b[0m                 \u001b[0mself\u001b[0m\u001b[1;33m.\u001b[0m\u001b[0md\u001b[0m \u001b[1;33m=\u001b[0m \u001b[0mscipy\u001b[0m\u001b[1;33m.\u001b[0m\u001b[0mlinalg\u001b[0m\u001b[1;33m.\u001b[0m\u001b[0minv\u001b[0m\u001b[1;33m(\u001b[0m\u001b[0mself\u001b[0m\u001b[1;33m.\u001b[0m\u001b[0mD\u001b[0m\u001b[1;33m)\u001b[0m\u001b[1;33m\u001b[0m\u001b[0m\n",
        "\u001b[1;32mc:\\Users\\Selimb\\Documents\\GitHub\\mech_530\\composites\\laminate.pyc\u001b[0m in \u001b[0;36mmake_array\u001b[1;34m(a)\u001b[0m\n\u001b[0;32m     14\u001b[0m                 \u001b[1;32mimport\u001b[0m \u001b[0mnumpy\u001b[0m\u001b[1;33m\u001b[0m\u001b[0m\n\u001b[0;32m     15\u001b[0m                 \u001b[1;31m# vec = {indices[i]:a[i] for i in range(len(a))}\u001b[0m\u001b[1;33m\u001b[0m\u001b[1;33m\u001b[0m\u001b[0m\n\u001b[1;32m---> 16\u001b[1;33m                 \u001b[0marr\u001b[0m \u001b[1;33m=\u001b[0m \u001b[0mnumpy\u001b[0m\u001b[1;33m.\u001b[0m\u001b[0mones\u001b[0m\u001b[1;33m(\u001b[0m\u001b[1;33m(\u001b[0m\u001b[1;36m3\u001b[0m\u001b[1;33m,\u001b[0m\u001b[1;36m3\u001b[0m\u001b[1;33m)\u001b[0m\u001b[1;33m,\u001b[0m\u001b[0mnumpy\u001b[0m\u001b[1;33m.\u001b[0m\u001b[0mfloat\u001b[0m\u001b[1;33m)\u001b[0m\u001b[1;33m\u001b[0m\u001b[0m\n\u001b[0m\u001b[0;32m     17\u001b[0m                 \u001b[0marr\u001b[0m\u001b[1;33m[\u001b[0m\u001b[1;36m0\u001b[0m\u001b[1;33m,\u001b[0m\u001b[1;33m:\u001b[0m\u001b[1;33m]\u001b[0m \u001b[1;33m=\u001b[0m \u001b[0ma\u001b[0m\u001b[1;33m[\u001b[0m\u001b[1;36m0\u001b[0m\u001b[1;33m]\u001b[0m\u001b[1;33m,\u001b[0m\u001b[0ma\u001b[0m\u001b[1;33m[\u001b[0m\u001b[1;36m2\u001b[0m\u001b[1;33m]\u001b[0m\u001b[1;33m,\u001b[0m\u001b[0ma\u001b[0m\u001b[1;33m[\u001b[0m\u001b[1;36m4\u001b[0m\u001b[1;33m]\u001b[0m\u001b[1;33m\u001b[0m\u001b[0m\n\u001b[0;32m     18\u001b[0m                 \u001b[0marr\u001b[0m\u001b[1;33m[\u001b[0m\u001b[1;36m1\u001b[0m\u001b[1;33m,\u001b[0m\u001b[1;33m:\u001b[0m\u001b[1;33m]\u001b[0m \u001b[1;33m=\u001b[0m \u001b[0ma\u001b[0m\u001b[1;33m[\u001b[0m\u001b[1;36m2\u001b[0m\u001b[1;33m]\u001b[0m\u001b[1;33m,\u001b[0m\u001b[0ma\u001b[0m\u001b[1;33m[\u001b[0m\u001b[1;36m1\u001b[0m\u001b[1;33m]\u001b[0m\u001b[1;33m,\u001b[0m\u001b[0ma\u001b[0m\u001b[1;33m[\u001b[0m\u001b[1;36m5\u001b[0m\u001b[1;33m]\u001b[0m\u001b[1;33m\u001b[0m\u001b[0m\n",
        "\u001b[1;32mC:\\Python27\\lib\\site-packages\\numpy\\core\\numeric.pyc\u001b[0m in \u001b[0;36mones\u001b[1;34m(shape, dtype, order)\u001b[0m\n\u001b[0;32m    177\u001b[0m     \"\"\"\n\u001b[0;32m    178\u001b[0m     \u001b[0ma\u001b[0m \u001b[1;33m=\u001b[0m \u001b[0mempty\u001b[0m\u001b[1;33m(\u001b[0m\u001b[0mshape\u001b[0m\u001b[1;33m,\u001b[0m \u001b[0mdtype\u001b[0m\u001b[1;33m,\u001b[0m \u001b[0morder\u001b[0m\u001b[1;33m)\u001b[0m\u001b[1;33m\u001b[0m\u001b[0m\n\u001b[1;32m--> 179\u001b[1;33m     \u001b[0mmultiarray\u001b[0m\u001b[1;33m.\u001b[0m\u001b[0mcopyto\u001b[0m\u001b[1;33m(\u001b[0m\u001b[0ma\u001b[0m\u001b[1;33m,\u001b[0m \u001b[1;36m1\u001b[0m\u001b[1;33m,\u001b[0m \u001b[0mcasting\u001b[0m\u001b[1;33m=\u001b[0m\u001b[1;34m'unsafe'\u001b[0m\u001b[1;33m)\u001b[0m\u001b[1;33m\u001b[0m\u001b[0m\n\u001b[0m\u001b[0;32m    180\u001b[0m     \u001b[1;32mreturn\u001b[0m \u001b[0ma\u001b[0m\u001b[1;33m\u001b[0m\u001b[0m\n\u001b[0;32m    181\u001b[0m \u001b[1;33m\u001b[0m\u001b[0m\n",
        "\u001b[1;31mKeyboardInterrupt\u001b[0m: "
       ]
      }
     ],
     "prompt_number": 20
    },
    {
     "cell_type": "code",
     "collapsed": false,
     "input": [
      "sorted"
     ],
     "language": "python",
     "metadata": {},
     "outputs": []
    }
   ],
   "metadata": {}
  }
 ]
}