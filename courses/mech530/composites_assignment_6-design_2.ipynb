{
 "metadata": {
  "name": "",
  "signature": "sha256:24ca7bcea9a9c820959e6c073f0550ecb7eb802ed51d7bf9df277eab3330fe57"
 },
 "nbformat": 3,
 "nbformat_minor": 0,
 "worksheets": [
  {
   "cells": [
    {
     "cell_type": "code",
     "collapsed": false,
     "input": [
      "%matplotlib inline\n",
      "import numpy as np\n",
      "import composites.floatformat\n",
      "from composites.laminate import Laminate\n",
      "from composites.sim import Sim\n",
      "import pandas as pd"
     ],
     "language": "python",
     "metadata": {},
     "outputs": [],
     "prompt_number": 7
    },
    {
     "cell_type": "markdown",
     "metadata": {},
     "source": [
      "Design #2\n",
      "========="
     ]
    },
    {
     "cell_type": "markdown",
     "metadata": {},
     "source": [
      "Chosen layup\n",
      "------------\n",
      "\n",
      "[-55/-25/55/25]s"
     ]
    },
    {
     "cell_type": "markdown",
     "metadata": {},
     "source": [
      "Complete output\n",
      "---------------\n",
      "\n",
      "**Ply orientation list **"
     ]
    },
    {
     "cell_type": "code",
     "collapsed": false,
     "input": [
      "sim = Sim(layup='-55/-25/55/25s',materialID=3)"
     ],
     "language": "python",
     "metadata": {},
     "outputs": [],
     "prompt_number": 8
    },
    {
     "cell_type": "code",
     "collapsed": false,
     "input": [
      "print sim.laminate.print_orientation()"
     ],
     "language": "python",
     "metadata": {},
     "outputs": [
      {
       "output_type": "stream",
       "stream": "stdout",
       "text": [
        "Orientation [degrees] : \n",
        "[-55, -25, 55, 25, 25, 55, -25, -55]\n"
       ]
      }
     ],
     "prompt_number": 9
    },
    {
     "cell_type": "markdown",
     "metadata": {},
     "source": [
      "**Number of plies **"
     ]
    },
    {
     "cell_type": "code",
     "collapsed": false,
     "input": [
      "print sim.laminate.num_of_layers()"
     ],
     "language": "python",
     "metadata": {},
     "outputs": [
      {
       "output_type": "stream",
       "stream": "stdout",
       "text": [
        "8\n"
       ]
      }
     ],
     "prompt_number": 10
    },
    {
     "cell_type": "markdown",
     "metadata": {},
     "source": [
      "**Material properties **"
     ]
    },
    {
     "cell_type": "code",
     "collapsed": false,
     "input": [
      "params = sim.laminate.print_param()\n",
      "print params"
     ],
     "language": "python",
     "metadata": {},
     "outputs": [
      {
       "output_type": "stream",
       "stream": "stdout",
       "text": [
        "'          ID :          3  [-]'\n",
        "'fiber/matrix : E-glass/Epoxy  [-]'\n",
        "'        name : Fiberglass  [-]'\n",
        "'          ex :    38.6000  [GPA]'\n",
        "'          ey :     8.2700  [GPA]'\n",
        "'          es :     4.1400  [GPA]'\n",
        "'         nux :     0.2600  [-]'\n",
        "'          xt :  1062.0000  [MPA]'\n",
        "'          xc :   610.0000  [MPA]'\n",
        "'          yt :    31.0000  [MPA]'\n",
        "'          yc :   118.0000  [MPA]'\n",
        "'          sc :    72.0000  [MPA]'\n",
        "'          h0 :     0.1250  [mm]'\n",
        "'         rho :     1.8000  [g/cm3]'\n",
        "'         nuy :     0.0557  [-]'\n",
        "\n"
       ]
      }
     ],
     "prompt_number": 11
    },
    {
     "cell_type": "markdown",
     "metadata": {},
     "source": [
      "**Thickness**"
     ]
    },
    {
     "cell_type": "code",
     "collapsed": false,
     "input": [
      "print \"Total thickness : %7.6f [m]\" % sim.laminate.total_thickness\n",
      "print \"Ply thickness   : %7.6f [m]\" % sim.laminate.total_ply_thickness"
     ],
     "language": "python",
     "metadata": {},
     "outputs": [
      {
       "output_type": "stream",
       "stream": "stdout",
       "text": [
        "Total thickness : 0.001000 [m]\n",
        "Ply thickness   : 0.001000 [m]\n"
       ]
      }
     ],
     "prompt_number": 12
    },
    {
     "cell_type": "markdown",
     "metadata": {},
     "source": [
      "**On-axis Modulus and Compliance matrices -- [Q] and [S] **"
     ]
    },
    {
     "cell_type": "code",
     "collapsed": false,
     "input": [
      "print sim.laminate.print_array('QSon',1)"
     ],
     "language": "python",
     "metadata": {},
     "outputs": [
      {
       "output_type": "stream",
       "stream": "stdout",
       "text": [
        "S_on [1/GPa] : \n",
        "[[   0.0259   -0.0067    0.0000]\n",
        " [  -0.0067    0.1209    0.0000]\n",
        " [   0.0000    0.0000    0.2415]]\n",
        "U's for S [1/GPa]\n",
        "U1 :  0.0836\n",
        "U2 : -0.0475\n",
        "U3 : -0.0102\n",
        "U4 : -0.0169\n",
        "U5 :  0.2009\n",
        "\n",
        "Q_on [GPa] : \n",
        "[[  39.1673    2.1818    0.0000]\n",
        " [   2.1818    8.3915    0.0000]\n",
        " [   0.0000    0.0000    4.1400]]\n",
        "U's for Q [GPa]\n",
        "U1 : 20.4500\n",
        "U2 : 15.3879\n",
        "U3 :  3.3294\n",
        "U4 :  5.5112\n",
        "U5 :  7.4694\n",
        "\n",
        "\n",
        "\n"
       ]
      }
     ],
     "prompt_number": 13
    },
    {
     "cell_type": "markdown",
     "metadata": {},
     "source": [
      "**In-plane Modulus and Compliance -- [A] and [a]**"
     ]
    },
    {
     "cell_type": "code",
     "collapsed": false,
     "input": [
      "print sim.laminate.print_A()"
     ],
     "language": "python",
     "metadata": {},
     "outputs": [
      {
       "output_type": "stream",
       "stream": "stdout",
       "text": [
        "A [GN/m] : \n",
        "[[   0.0212    0.0071    0.0000]\n",
        " [   0.0071    0.0166    0.0000]\n",
        " [   0.0000    0.0000    0.0090]]\n",
        "a [m/GN] : \n",
        "[[  55.0092  -23.4870   -0.0000]\n",
        " [ -23.4870   70.3723   -0.0000]\n",
        " [  -0.0000   -0.0000  110.6965]]\n"
       ]
      }
     ],
     "prompt_number": 14
    },
    {
     "cell_type": "markdown",
     "metadata": {},
     "source": [
      "**Flexural Modulus and Compliance -- [D] and [d]**"
     ]
    },
    {
     "cell_type": "code",
     "collapsed": false,
     "input": [
      "print sim.laminate.print_D()"
     ],
     "language": "python",
     "metadata": {},
     "outputs": [
      {
       "output_type": "stream",
       "stream": "stdout",
       "text": [
        "D [kNm] : \n",
        "[[   0.0015    0.0006   -0.0004]\n",
        " [   0.0006    0.0016   -0.0004]\n",
        " [  -0.0004   -0.0004    0.0008]]\n",
        "d [1/MNm] : \n",
        "[[858067.0903 -250207.2728 316679.9763]\n",
        " [-250207.2728 811552.9001 310409.5587]\n",
        " [316679.9763 310409.5587 1612611.0848]]\n"
       ]
      }
     ],
     "prompt_number": 15
    },
    {
     "cell_type": "code",
     "collapsed": false,
     "input": [
      "print \"The ratio of D11 to D22 is :\"\n",
      "print sim.laminate.D[0,0]/sim.laminate.D[1,1]"
     ],
     "language": "python",
     "metadata": {},
     "outputs": [
      {
       "output_type": "stream",
       "stream": "stdout",
       "text": [
        "The ratio of D11 to D22 is :\n",
        "0.94461988227\n"
       ]
      }
     ],
     "prompt_number": 16
    },
    {
     "cell_type": "code",
     "collapsed": false,
     "input": [],
     "language": "python",
     "metadata": {},
     "outputs": []
    }
   ],
   "metadata": {}
  }
 ]
}