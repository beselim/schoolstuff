{
 "metadata": {
  "name": "",
  "signature": "sha256:a4433e7ab110caa36d6617a9e44f0c5af70854652a996e0fb83343cb7fcf46fb"
 },
 "nbformat": 3,
 "nbformat_minor": 0,
 "worksheets": [
  {
   "cells": [
    {
     "cell_type": "markdown",
     "metadata": {},
     "source": [
      "Code Testing\n",
      "------------"
     ]
    },
    {
     "cell_type": "code",
     "collapsed": false,
     "input": [
      "import random\n",
      "from composites.sim import Sim,ureg,Q_\n",
      "from composites.failure import FailureAnalysis\n",
      "from deap import base\n",
      "from deap import creator\n",
      "from deap import tools\n",
      "from deap import algorithms\n",
      "from genetic import makechildren"
     ],
     "language": "python",
     "metadata": {},
     "outputs": [],
     "prompt_number": 1
    },
    {
     "cell_type": "code",
     "collapsed": false,
     "input": [
      "creator.create(\"FitnessMax\", base.Fitness, weights = (1.0,))\n",
      "creator.create(\"Individual\",list,fitness=creator.FitnessMax)"
     ],
     "language": "python",
     "metadata": {},
     "outputs": [],
     "prompt_number": 2
    },
    {
     "cell_type": "code",
     "collapsed": false,
     "input": [
      "def new_angle(a,b,coeff):\n",
      "    return random.randint(a,b)*coeff"
     ],
     "language": "python",
     "metadata": {},
     "outputs": [],
     "prompt_number": 3
    },
    {
     "cell_type": "code",
     "collapsed": false,
     "input": [
      "def evaluate_layup(individual):\n",
      "    list_of_str = ['p{0:d}'.format(k) for k in individual]\n",
      "    layup = '/'.join(list_of_str)+'s'\n",
      "    sim_1 = Sim(layup=layup,\n",
      "                materialID=materialID)\n",
      "    sim_1.apply_N(N)\n",
      "    sim_1.solve()\n",
      "    fail = FailureAnalysis(sim_1)\n",
      "    the_mins = fail.find_min()\n",
      "    return float(min([R[0] for R in the_mins.values()])),"
     ],
     "language": "python",
     "metadata": {},
     "outputs": [],
     "prompt_number": 4
    },
    {
     "cell_type": "code",
     "collapsed": false,
     "input": [
      "toolbox = base.Toolbox()\n",
      "toolbox.register(\"ply\",new_angle,0,9,10)\n",
      "toolbox.register(\"individual\",tools.initRepeat,creator.Individual,toolbox.ply,n=4)\n",
      "toolbox.register(\"population\",tools.initRepeat,list, toolbox.individual,n=3)\n",
      "toolbox.register(\"evaluate\",evaluate_layup)\n",
      "# toolbox.register(\"evaluate\",evalOneMax)\n",
      "toolbox.register(\"mate\",makechildren.one_point_cross)\n",
      "toolbox.register(\"mutate\",tools.mutFlipBit,indpb = 0.1)\n",
      "toolbox.register(\"select\",tools.selNSGA2)"
     ],
     "language": "python",
     "metadata": {},
     "outputs": [],
     "prompt_number": 5
    },
    {
     "cell_type": "code",
     "collapsed": false,
     "input": [
      "materialID = 4; \n",
      "P = Q_(1.25,'MPa'); D = Q_(0.08,'m')\n",
      "N1 = P*D/4; N2 = P*D/2\n",
      "N = Q_([N1.magnitude,N2.magnitude,0],N1.units)"
     ],
     "language": "python",
     "metadata": {},
     "outputs": [],
     "prompt_number": 6
    },
    {
     "cell_type": "code",
     "collapsed": false,
     "input": [
      "population = toolbox.population()\n",
      "fits = toolbox.map(toolbox.evaluate,population)\n",
      "for fit,ind in zip(fits,population):\n",
      "    ind.fitness.values = fit"
     ],
     "language": "python",
     "metadata": {},
     "outputs": [],
     "prompt_number": 7
    },
    {
     "cell_type": "code",
     "collapsed": false,
     "input": [
      "makechildren.createChildren(population,toolbox,1.0,0.01,0.9)"
     ],
     "language": "python",
     "metadata": {},
     "outputs": [
      {
       "metadata": {},
       "output_type": "pyout",
       "prompt_number": 8,
       "text": [
        "[[50, 80, 10, 80], [20, 40, 90, 80], [80, 70, 80, 50]]"
       ]
      }
     ],
     "prompt_number": 8
    },
    {
     "cell_type": "code",
     "collapsed": false,
     "input": [
      "a = [None,2]"
     ],
     "language": "python",
     "metadata": {},
     "outputs": [],
     "prompt_number": 6
    },
    {
     "cell_type": "code",
     "collapsed": false,
     "input": [
      "None not in a"
     ],
     "language": "python",
     "metadata": {},
     "outputs": [
      {
       "metadata": {},
       "output_type": "pyout",
       "prompt_number": 7,
       "text": [
        "False"
       ]
      }
     ],
     "prompt_number": 7
    }
   ],
   "metadata": {}
  }
 ]
}