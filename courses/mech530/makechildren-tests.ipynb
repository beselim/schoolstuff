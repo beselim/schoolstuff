{
 "metadata": {
  "name": "",
  "signature": "sha256:9369c907ac7e772118e3e3e1378e706ddae3abe6b218802dfb40db9389d5a895"
 },
 "nbformat": 3,
 "nbformat_minor": 0,
 "worksheets": [
  {
   "cells": [
    {
     "cell_type": "code",
     "collapsed": false,
     "input": [
      "from operator import attrgetter\n",
      "from itertools import izip\n",
      "import random\n",
      "from composites.sim import Sim,ureg,Q_\n",
      "from composites.failure import FailureAnalysis\n",
      "import numpy as np"
     ],
     "language": "python",
     "metadata": {},
     "outputs": [],
     "prompt_number": 156
    },
    {
     "cell_type": "markdown",
     "metadata": {},
     "source": [
      "My Own GA functions\n",
      "-------------------"
     ]
    },
    {
     "cell_type": "code",
     "collapsed": false,
     "input": [
      "def rank_parents(parents):\n",
      "    \"\"\"This ranks the parents according to a \n",
      "    LINEAR roulette wheel.\n",
      "    \n",
      "    Returns a list of weights and \n",
      "    a list of sorted parents.\n",
      "    \n",
      "    As an example, the weights will be \n",
      "    [0.5,0.33,0.17] for a list of 3 parents.\n",
      "    \"\"\"\n",
      "    sorted_parents = sorted(parents, \n",
      "                            key=attrgetter(\"fitness\"), \n",
      "                            reverse=True)\n",
      "    P = len(parents)\n",
      "    i_range = xrange(1, P + 1)\n",
      "    def get_rank(i):\n",
      "        return 2.0*(P-i+1)/(P*(P+1))\n",
      "    weights = [get_rank(k) for k in i_range]\n",
      "    \n",
      "    return weights,sorted_parents"
     ],
     "language": "python",
     "metadata": {},
     "outputs": [],
     "prompt_number": 213
    },
    {
     "cell_type": "code",
     "collapsed": false,
     "input": [
      "def two_point_cross(ind1,ind2):\n",
      "    assert(len(ind1)==len(ind2))\n",
      "    size = len(ind1)\n",
      "    cxpoint1 = random.randint(1, size)\n",
      "    cxpoint2 = random.randint(1, size - 1)\n",
      "    print cxpoint1\n",
      "    print cxpoint2\n",
      "    if cxpoint2 >= cxpoint1:\n",
      "        cxpoint2 += 1\n",
      "    else: # Swap the two cx points\n",
      "        cxpoint1, cxpoint2 = cxpoint2, cxpoint1\n",
      "   \n",
      "    child = toolbox.clone(ind1)\n",
      "    child[cxpoint1:cxpoint2] = ind2[cxpoint1:cxpoint2]\n",
      "    return child"
     ],
     "language": "python",
     "metadata": {},
     "outputs": [],
     "prompt_number": 227
    },
    {
     "cell_type": "code",
     "collapsed": false,
     "input": [
      "def one_point_cross(ind1,ind2):\n",
      "    assert(len(ind1)==len(ind2))\n",
      "    size = len(ind1)\n",
      "    cxpoint = random.randint(1, size-1)\n",
      "    child = toolbox.clone(ind1)\n",
      "    child[cxpoint:] = ind2[cxpoint:]\n",
      "    return child"
     ],
     "language": "python",
     "metadata": {},
     "outputs": [],
     "prompt_number": 286
    },
    {
     "cell_type": "code",
     "collapsed": false,
     "input": [
      "#http://eli.thegreenplace.net/2010/01/22/weighted-random-generation-in-python#id2\n",
      "def roulette(weights):\n",
      "    \"\"\"Turns roulette wheel and returns the INDEX\n",
      "    of the chosen individual. To be used in conjunction\n",
      "    with rank_parents()\n",
      "    \"\"\"\n",
      "    rnd = random.random() * sum(weights)\n",
      "    for i, w in enumerate(weights):\n",
      "        rnd -= w\n",
      "        if rnd < 0:\n",
      "            return i"
     ],
     "language": "python",
     "metadata": {},
     "outputs": [],
     "prompt_number": 228
    },
    {
     "cell_type": "code",
     "collapsed": false,
     "input": [
      "def select_parents(sorted_parents,weights):\n",
      "    \"\"\"Selects a pair of parents to be crossed to\n",
      "    form a child via a linear roulette.\n",
      "    \n",
      "    The parents must be unique!\n",
      "    \n",
      "    Returns the indices corresponding to the parents.\n",
      "    \"\"\"\n",
      "    while True:\n",
      "        index_1 = roulette(weights)\n",
      "        index_2 = roulette(weights)\n",
      "        if index_1 != index_2:\n",
      "            break\n",
      "    \n",
      "    return sorted_parents[index_1],sorted_parents[index_2]"
     ],
     "language": "python",
     "metadata": {},
     "outputs": [],
     "prompt_number": 229
    },
    {
     "cell_type": "code",
     "collapsed": false,
     "input": [
      "def breed(sorted_parents,weights,toolbox,cxpb):\n",
      "    \"\"\"Makes *k* children from the list of parents\n",
      "    with crossover-rate cxpb.\n",
      "    \n",
      "    The parents are first ranked w.r.t fitness. \n",
      "    If crossover occurs:\n",
      "        two unique parents are selected using a linear roulette \n",
      "        wheel to form a single child.\n",
      "    otherwise:\n",
      "        a parent is cloned in the child string\n",
      "    \"\"\"\n",
      "    children = [toolbox.clone(ind) for ind in sorted_parents]\n",
      "    \n",
      "    # Apply crossover. This needs to be changed such that two parents only make one child, not two. \n",
      "    for i in range(len(children)):\n",
      "        if random.random() < cxpb:\n",
      "            parents = select_parents(sorted_parents,weights)\n",
      "            children[i] = toolbox.mate(*parents)\n",
      "            del children[i].fitness.values\n",
      "    \n",
      "    return children"
     ],
     "language": "python",
     "metadata": {},
     "outputs": [],
     "prompt_number": 287
    },
    {
     "cell_type": "code",
     "collapsed": false,
     "input": [
      "def mutAddRandom(ind,new_angle,mutpb):\n",
      "    \"\"\" In this implementation, each gene is given a\n",
      "    small probability to switch to any other permissible in-\n",
      "    teger value except the value of the gene before ply al-\n",
      "    teration occurs.\n",
      "    \n",
      "    new_angle : toolbox function used to generate ply angle.\n",
      "    I could've required \"toolbox\" instead but I want to provide\n",
      "    the user freedom over what he calls it.\n",
      "    \"\"\"\n",
      "    for i,gene in enumerate(ind):\n",
      "        r = random.random()\n",
      "        if r < mutpb:\n",
      "            while True:\n",
      "                new_gene = new_angle()\n",
      "                if new_gene != gene:\n",
      "                    break\n",
      "            ind[i]=new_gene"
     ],
     "language": "python",
     "metadata": {},
     "outputs": [],
     "prompt_number": 231
    },
    {
     "cell_type": "code",
     "collapsed": false,
     "input": [
      "def mutPlySwap(ind,swappb):\n",
      "    \"\"\" The gene swap operator is implemented by randomly \n",
      "    selecting two unique genes in the string and switching \n",
      "    their positions.\n",
      "    \"\"\"\n",
      "    r = random.random()\n",
      "    if r > swappb:\n",
      "        return\n",
      "    \n",
      "    size = len(ind)-1\n",
      "    while True:\n",
      "        gene1 = random.randint(0,size)\n",
      "        gene2 = random.randint(0,size)\n",
      "        if gene1 != gene2:\n",
      "            break\n",
      "    \n",
      "    ind[gene1],ind[gene2] = ind[gene2],ind[gene1]"
     ],
     "language": "python",
     "metadata": {},
     "outputs": [],
     "prompt_number": 237
    },
    {
     "cell_type": "code",
     "collapsed": false,
     "input": [
      "def createChildren(parents,toolbox,cxpb,mutpb,swappb):\n",
      "    \"\"\"Algorithm from Soremekun[2000]. \n",
      "    \n",
      "    1. Rank parents\n",
      "    2. Breed children (crossover)\n",
      "    3. Apply mutation (random insert and replace)\n",
      "    4. Gene swap\n",
      "    \n",
      "    Returns a population of children.\n",
      "    \n",
      "    The number of children is equal to the number\n",
      "    of parents.\n",
      "    \"\"\"\n",
      "    #1.\n",
      "    weights,sorted_parents = rank_parents(parents)\n",
      "    #2. \n",
      "    children = breed(sorted_parents,weights,toolbox,cxpb)\n",
      "    #3/#4\n",
      "    for child in children:\n",
      "        mutAddRandom(child,toolbox.ply,mutpb)\n",
      "        mutPlySwap(child,swappb)\n",
      "    \n",
      "    return children"
     ],
     "language": "python",
     "metadata": {},
     "outputs": [],
     "prompt_number": 288
    },
    {
     "cell_type": "code",
     "collapsed": false,
     "input": [
      "geneSwap([1,2,3,4,5,6])"
     ],
     "language": "python",
     "metadata": {},
     "outputs": [
      {
       "metadata": {},
       "output_type": "pyout",
       "prompt_number": 148,
       "text": [
        "[4, 2, 3, 1, 5, 6]"
       ]
      }
     ],
     "prompt_number": 148
    },
    {
     "cell_type": "markdown",
     "metadata": {},
     "source": [
      "Code Testing\n",
      "------------"
     ]
    },
    {
     "cell_type": "code",
     "collapsed": false,
     "input": [
      "import random\n",
      "from composites.sim import Sim,ureg,Q_\n",
      "from composites.failure import FailureAnalysis\n",
      "from deap import base\n",
      "from deap import creator\n",
      "from deap import tools\n",
      "from deap import algorithms\n",
      "from genetic import makechildren"
     ],
     "language": "python",
     "metadata": {},
     "outputs": [],
     "prompt_number": 1
    },
    {
     "cell_type": "code",
     "collapsed": false,
     "input": [
      "creator.create(\"FitnessMax\", base.Fitness, weights = (1.0,))\n",
      "creator.create(\"Individual\",list,fitness=creator.FitnessMax)"
     ],
     "language": "python",
     "metadata": {},
     "outputs": [],
     "prompt_number": 2
    },
    {
     "cell_type": "code",
     "collapsed": false,
     "input": [
      "def new_angle(a,b,coeff):\n",
      "    return random.randint(a,b)*coeff"
     ],
     "language": "python",
     "metadata": {},
     "outputs": [],
     "prompt_number": 3
    },
    {
     "cell_type": "code",
     "collapsed": false,
     "input": [
      "def evaluate_layup(individual):\n",
      "    list_of_str = ['p{0:d}'.format(k) for k in individual]\n",
      "    layup = '/'.join(list_of_str)+'s'\n",
      "    sim_1 = Sim(layup=layup,\n",
      "                materialID=materialID)\n",
      "    sim_1.apply_N(N)\n",
      "    sim_1.solve()\n",
      "    fail = FailureAnalysis(sim_1)\n",
      "    the_mins = fail.find_min()\n",
      "    return float(min([R[0] for R in the_mins.values()])),"
     ],
     "language": "python",
     "metadata": {},
     "outputs": [],
     "prompt_number": 4
    },
    {
     "cell_type": "code",
     "collapsed": false,
     "input": [
      "toolbox = base.Toolbox()\n",
      "toolbox.register(\"ply\",new_angle,0,9,10)\n",
      "toolbox.register(\"individual\",tools.initRepeat,creator.Individual,toolbox.ply,n=4)\n",
      "toolbox.register(\"population\",tools.initRepeat,list, toolbox.individual,n=3)\n",
      "toolbox.register(\"evaluate\",evaluate_layup)\n",
      "# toolbox.register(\"evaluate\",evalOneMax)\n",
      "toolbox.register(\"mate\",makechildren.one_point_cross)\n",
      "toolbox.register(\"mutate\",tools.mutFlipBit,indpb = 0.1)\n",
      "toolbox.register(\"select\",tools.selNSGA2)"
     ],
     "language": "python",
     "metadata": {},
     "outputs": [],
     "prompt_number": 5
    },
    {
     "cell_type": "code",
     "collapsed": false,
     "input": [
      "materialID = 4; \n",
      "P = Q_(1.25,'MPa'); D = Q_(0.08,'m')\n",
      "N1 = P*D/4; N2 = P*D/2\n",
      "N = Q_([N1.magnitude,N2.magnitude,0],N1.units)"
     ],
     "language": "python",
     "metadata": {},
     "outputs": [],
     "prompt_number": 6
    },
    {
     "cell_type": "code",
     "collapsed": false,
     "input": [
      "population = toolbox.population()\n",
      "fits = toolbox.map(toolbox.evaluate,population)\n",
      "for fit,ind in zip(fits,population):\n",
      "    ind.fitness.values = fit"
     ],
     "language": "python",
     "metadata": {},
     "outputs": [],
     "prompt_number": 7
    },
    {
     "cell_type": "code",
     "collapsed": false,
     "input": [
      "makechildren.createChildren(population,toolbox,1.0,0.01,0.9)"
     ],
     "language": "python",
     "metadata": {},
     "outputs": [
      {
       "metadata": {},
       "output_type": "pyout",
       "prompt_number": 41,
       "text": [
        "[[60, 0, 30, 80], [70, 80, 20, 60], [30, 10, 40, 60]]"
       ]
      }
     ],
     "prompt_number": 41
    }
   ],
   "metadata": {}
  }
 ]
}