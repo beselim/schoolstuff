{
 "metadata": {
  "name": "",
  "signature": "sha256:f17c420c35fb92b888ddbba3bac276231ed2bdac9321a5a636d0cdd216da8981"
 },
 "nbformat": 3,
 "nbformat_minor": 0,
 "worksheets": [
  {
   "cells": [
    {
     "cell_type": "code",
     "collapsed": false,
     "input": [
      "%matplotlib inline\n",
      "from composites.sim import Sim,ureg,Q_\n",
      "from composites.failure import FailureAnalysis\n",
      "import numpy as np\n",
      "import composites.floatformat\n",
      "from composites.laminate import Laminate\n",
      "import pandas as pd\n",
      "import matplotlib.pyplot as plt\n",
      "import os"
     ],
     "language": "python",
     "metadata": {},
     "outputs": [],
     "prompt_number": 1
    },
    {
     "cell_type": "code",
     "collapsed": false,
     "input": [
      "zc = 0.15/100.0\n",
      "W = Q_(3.0,'cm')\n",
      "B = Q_(10.0,'cm')\n",
      "M_1 = Q_([-1000,-100,-100],'N')\n",
      "N_1 = Q_([-22400,-3000,-2000],'Nperm')\n",
      "M_2 = Q_([-980,-98,-110],'N')\n",
      "N_2 = Q_([-20800,-2800,-2200],'Nperm')"
     ],
     "language": "python",
     "metadata": {},
     "outputs": [],
     "prompt_number": 2
    },
    {
     "cell_type": "code",
     "collapsed": false,
     "input": [
      "layup = '/'.join([\"%s\" % (i+j) for i,j in zip([10, 20, -10, -20, -20, 30, 30, 20],[0, 0, -3, 4, 2, -1, 1, 7])])+'s'"
     ],
     "language": "python",
     "metadata": {},
     "outputs": [],
     "prompt_number": 3
    },
    {
     "cell_type": "code",
     "collapsed": false,
     "input": [
      "lam = Laminate(layup=layup,materialID=1,core_thick = zc)\n",
      "sim_1 = Sim(laminate = lam); sim_2 = Sim(laminate = lam)"
     ],
     "language": "python",
     "metadata": {},
     "outputs": [],
     "prompt_number": 4
    },
    {
     "cell_type": "code",
     "collapsed": false,
     "input": [
      "sim_1.apply_M(M_1);sim_1.apply_N(N_1)\n",
      "sim_1.solve()\n",
      "stresses_1 = sim_1.return_results()\n",
      "# stresses_1"
     ],
     "language": "python",
     "metadata": {},
     "outputs": [],
     "prompt_number": 5
    },
    {
     "cell_type": "code",
     "collapsed": false,
     "input": [
      "fail_1 = FailureAnalysis(sim_1)\n",
      "R_table_1 = fail_1.make_table()\n",
      "# R_table_1[-6:]"
     ],
     "language": "python",
     "metadata": {},
     "outputs": [],
     "prompt_number": 6
    },
    {
     "cell_type": "code",
     "collapsed": false,
     "input": [
      "min_R_1 = fail_1.find_min()"
     ],
     "language": "python",
     "metadata": {},
     "outputs": [],
     "prompt_number": 7
    },
    {
     "cell_type": "code",
     "collapsed": false,
     "input": [
      "lowest_1 = min([value[0] for value in min_R_1.values() ])"
     ],
     "language": "python",
     "metadata": {},
     "outputs": [],
     "prompt_number": 8
    },
    {
     "cell_type": "code",
     "collapsed": false,
     "input": [
      "sim_2.apply_M(M_2);sim_2.apply_N(N_2)\n",
      "sim_2.solve()\n",
      "stresses_2 = sim_2.return_results()\n",
      "# stresses_2"
     ],
     "language": "python",
     "metadata": {},
     "outputs": [],
     "prompt_number": 9
    },
    {
     "cell_type": "code",
     "collapsed": false,
     "input": [
      "fail_2 = FailureAnalysis(sim_2)\n",
      "R_table_2 = fail_2.make_table()\n",
      "# R_table_2[-6:]"
     ],
     "language": "python",
     "metadata": {},
     "outputs": [],
     "prompt_number": 10
    },
    {
     "cell_type": "code",
     "collapsed": false,
     "input": [
      "min_R_2 = fail_2.find_min()"
     ],
     "language": "python",
     "metadata": {},
     "outputs": [],
     "prompt_number": 11
    },
    {
     "cell_type": "code",
     "collapsed": false,
     "input": [
      "lowest_2 =  min([value[0] for value in min_R_2.values() ])"
     ],
     "language": "python",
     "metadata": {},
     "outputs": [],
     "prompt_number": 12
    },
    {
     "cell_type": "markdown",
     "metadata": {},
     "source": [
      "Design #3\n",
      "========="
     ]
    },
    {
     "cell_type": "markdown",
     "metadata": {},
     "source": [
      "## In a Nutshell"
     ]
    },
    {
     "cell_type": "code",
     "collapsed": false,
     "input": [
      "ply_thick = Q_(sim_1.laminate.total_ply_thickness,'m')"
     ],
     "language": "python",
     "metadata": {},
     "outputs": [],
     "prompt_number": 13
    },
    {
     "cell_type": "code",
     "collapsed": false,
     "input": [
      "density = Q_(sim_1.laminate.layers[0].PROPS['rho'],'g')/(Q_(1.0,'cm')**3)"
     ],
     "language": "python",
     "metadata": {},
     "outputs": [],
     "prompt_number": 14
    },
    {
     "cell_type": "code",
     "collapsed": false,
     "input": [
      "print \"Material Chosen :\"\n",
      "print sim_1.laminate.layers[0].PROPS['fiber/matrix']\n",
      "print \n",
      "print sim_1.laminate.print_orientation()\n",
      "print \n",
      "print \"Number of layers :\"\n",
      "print sim_1.laminate.num_of_layers()\n",
      "print\n",
      "print \"Weight : \"\n",
      "print (ply_thick*density*B*W).to('g')\n",
      "print\n",
      "print \"Minimum safety factor for load I / load II : \"\n",
      "print \"%.2f / %.2f\" % (lowest_1,lowest_2)"
     ],
     "language": "python",
     "metadata": {},
     "outputs": [
      {
       "output_type": "stream",
       "stream": "stdout",
       "text": [
        "Material Chosen :\n",
        "T300/N5208\n",
        "\n",
        "Orientation [degrees] : \n",
        "[10, 20, -13, -16, -18, 29, 31, 27, 27, 31, 29, -18, -16, -13, 20, 10]\n",
        "\n",
        "Number of layers :\n",
        "16\n",
        "\n",
        "Weight : \n",
        "9.6 gram\n",
        "\n",
        "Minimum safety factor for load I / load II : \n",
        "2.26 / 2.28\n"
       ]
      }
     ],
     "prompt_number": 15
    },
    {
     "cell_type": "markdown",
     "metadata": {},
     "source": [
      "----------------\n",
      "\n",
      "Complete output\n",
      "---------------\n",
      "\n",
      "**Ply orientation list **"
     ]
    },
    {
     "cell_type": "code",
     "collapsed": false,
     "input": [
      "print sim.laminate.print_orientation()"
     ],
     "language": "python",
     "metadata": {},
     "outputs": [
      {
       "output_type": "stream",
       "stream": "stdout",
       "text": [
        "Orientation [degrees] : \n",
        "[10, 20, -13, -16, -18, 29, 31, 27, 27, 31, 29, -18, -16, -13, 20, 10]\n"
       ]
      }
     ],
     "prompt_number": 18
    },
    {
     "cell_type": "code",
     "collapsed": false,
     "input": [
      "# sim = Sim(layup='0/15/-15/30/-30/45/-45s',materialID=3)"
     ],
     "language": "python",
     "metadata": {},
     "outputs": [],
     "prompt_number": 16
    },
    {
     "cell_type": "code",
     "collapsed": false,
     "input": [
      "sim = sim_1"
     ],
     "language": "python",
     "metadata": {},
     "outputs": [],
     "prompt_number": 17
    },
    {
     "cell_type": "markdown",
     "metadata": {},
     "source": [
      "**Number of plies **"
     ]
    },
    {
     "cell_type": "code",
     "collapsed": false,
     "input": [
      "print sim.laminate.num_of_layers()"
     ],
     "language": "python",
     "metadata": {},
     "outputs": [
      {
       "output_type": "stream",
       "stream": "stdout",
       "text": [
        "16\n"
       ]
      }
     ],
     "prompt_number": 19
    },
    {
     "cell_type": "markdown",
     "metadata": {},
     "source": [
      "**Material properties **"
     ]
    },
    {
     "cell_type": "code",
     "collapsed": false,
     "input": [
      "params = sim.laminate.print_param()\n",
      "print params"
     ],
     "language": "python",
     "metadata": {},
     "outputs": [
      {
       "output_type": "stream",
       "stream": "stdout",
       "text": [
        "'          ID :          1  [-]'\n",
        "'fiber/matrix : T300/N5208  [-]'\n",
        "'        name : Graphite/Epoxy  [-]'\n",
        "'          ex :   181.0000  [GPA]'\n",
        "'          ey :    10.3000  [GPA]'\n",
        "'          es :     7.1700  [GPA]'\n",
        "'         nux :     0.2800  [-]'\n",
        "'          xt :  1500.0000  [MPA]'\n",
        "'          xc :  1500.0000  [MPA]'\n",
        "'          yt :    40.0000  [MPA]'\n",
        "'          yc :   246.0000  [MPA]'\n",
        "'          sc :    68.0000  [MPA]'\n",
        "'          h0 :     0.1250  [mm]'\n",
        "'         rho :     1.6000  [g/cm3]'\n",
        "'         nuy :     0.0159  [-]'\n",
        "\n"
       ]
      }
     ],
     "prompt_number": 20
    },
    {
     "cell_type": "markdown",
     "metadata": {},
     "source": [
      "**Thickness**"
     ]
    },
    {
     "cell_type": "code",
     "collapsed": false,
     "input": [
      "print \"Total thickness : %7.6f [cm]\" % (sim.laminate.total_thickness*100)\n",
      "print \"Ply thickness   : %7.6f [cm]\" % (sim.laminate.total_ply_thickness*100)"
     ],
     "language": "python",
     "metadata": {},
     "outputs": [
      {
       "output_type": "stream",
       "stream": "stdout",
       "text": [
        "Total thickness : 0.350000 [cm]\n",
        "Ply thickness   : 0.200000 [cm]\n"
       ]
      }
     ],
     "prompt_number": 21
    },
    {
     "cell_type": "markdown",
     "metadata": {},
     "source": [
      "**On-axis Modulus and Compliance matrices -- [Q] and [S] **"
     ]
    },
    {
     "cell_type": "code",
     "collapsed": false,
     "input": [
      "print sim.laminate.print_array('QSon',1)"
     ],
     "language": "python",
     "metadata": {},
     "outputs": [
      {
       "output_type": "stream",
       "stream": "stdout",
       "text": [
        "S_on [1/GPa] : \n",
        "[[   0.0055   -0.0015    0.0000]\n",
        " [  -0.0015    0.0971    0.0000]\n",
        " [   0.0000    0.0000    0.1395]]\n",
        "U's for S [1/GPa]\n",
        "U1 :  0.0555\n",
        "U2 : -0.0458\n",
        "U3 : -0.0042\n",
        "U4 : -0.0058\n",
        "U5 :  0.1226\n",
        "\n",
        "Q_on [GPa] : \n",
        "[[ 181.8111    2.8969    0.0000]\n",
        " [   2.8969   10.3462    0.0000]\n",
        " [   0.0000    0.0000    7.1700]]\n",
        "U's for Q [GPa]\n",
        "U1 : 76.3682\n",
        "U2 : 85.7325\n",
        "U3 : 19.7104\n",
        "U4 : 22.6074\n",
        "U5 : 26.8804\n",
        "\n",
        "\n",
        "\n"
       ]
      }
     ],
     "prompt_number": 22
    },
    {
     "cell_type": "markdown",
     "metadata": {},
     "source": [
      "**In-plane Modulus and Compliance -- [A] and [a]**"
     ]
    },
    {
     "cell_type": "code",
     "collapsed": false,
     "input": [
      "print sim.laminate.print_A()"
     ],
     "language": "python",
     "metadata": {},
     "outputs": [
      {
       "output_type": "stream",
       "stream": "stdout",
       "text": [
        "A [GN/m] : \n",
        "[[   0.2830    0.0403    0.0293]\n",
        " [   0.0403    0.0323    0.0129]\n",
        " [   0.0293    0.0129    0.0489]]\n",
        "a [m/GN] : \n",
        "[[   4.3731   -4.9306   -1.3251]\n",
        " [  -4.9306   40.1686   -7.6278]\n",
        " [  -1.3251   -7.6278   23.2757]]\n"
       ]
      }
     ],
     "prompt_number": 23
    },
    {
     "cell_type": "markdown",
     "metadata": {},
     "source": [
      "**Flexural Modulus and Compliance -- [D] and [d]**"
     ]
    },
    {
     "cell_type": "code",
     "collapsed": false,
     "input": [
      "print sim.laminate.print_D()"
     ],
     "language": "python",
     "metadata": {},
     "outputs": [
      {
       "output_type": "stream",
       "stream": "stdout",
       "text": [
        "D [kNm] : \n",
        "[[   0.4936    0.0553    0.0335]\n",
        " [   0.0553    0.0473    0.0129]\n",
        " [   0.0335    0.0129    0.0694]]\n",
        "d [1/MNm] : \n",
        "[[2359.0757 -2575.6152 -660.3018]\n",
        " [-2575.6152 25064.6523 -3420.3223]\n",
        " [-660.3018 -3420.3223 15371.9932]]\n"
       ]
      }
     ],
     "prompt_number": 24
    },
    {
     "cell_type": "markdown",
     "metadata": {},
     "source": [
      "### Load Case 1"
     ]
    },
    {
     "cell_type": "code",
     "collapsed": false,
     "input": [
      "print \"N [N/m]: \"\n",
      "print N_1.to('Nperm').magnitude\n",
      "print \"M [N]: \"\n",
      "print M_1.to('N').magnitude"
     ],
     "language": "python",
     "metadata": {},
     "outputs": [
      {
       "output_type": "stream",
       "stream": "stdout",
       "text": [
        "N [N/m]: \n",
        "[-22400  -3000  -2000]\n",
        "M [N]: \n",
        "[-1000  -100  -100]\n"
       ]
      }
     ],
     "prompt_number": 25
    },
    {
     "cell_type": "code",
     "collapsed": false,
     "input": [
      "my_format = composites.floatformat.set_options_float('%.5f')\n",
      "eval(my_format)\n",
      "print \"e0 [-] : \"\n",
      "print sim.e0\n",
      "np.set_printoptions()\n",
      "###### No curvature because only a N is applied.\n",
      "print \"k [-] : \"\n",
      "print sim.k"
     ],
     "language": "python",
     "metadata": {},
     "outputs": [
      {
       "output_type": "stream",
       "stream": "stdout",
       "text": [
        "e0 [-] : \n",
        "[-0.00008 0.00001 0.00001]\n",
        "k [-] : \n",
        "[-2.03548405  0.41118216 -0.53486525]\n"
       ]
      }
     ],
     "prompt_number": 26
    },
    {
     "cell_type": "markdown",
     "metadata": {},
     "source": [
      "See Appendix B for stresses/strains and safety factors."
     ]
    },
    {
     "cell_type": "markdown",
     "metadata": {},
     "source": [
      "### Load case 2"
     ]
    },
    {
     "cell_type": "code",
     "collapsed": false,
     "input": [
      "print \"N [N/m]: \"\n",
      "print N_2.to('Nperm').magnitude\n",
      "print \"M [N]: \"\n",
      "print M_2.to('N').magnitude"
     ],
     "language": "python",
     "metadata": {},
     "outputs": [
      {
       "output_type": "stream",
       "stream": "stdout",
       "text": [
        "N [N/m]: \n",
        "[-20800  -2800  -2200]\n",
        "M [N]: \n",
        "[-980  -98 -110]\n"
       ]
      }
     ],
     "prompt_number": 27
    },
    {
     "cell_type": "code",
     "collapsed": false,
     "input": [
      "my_format = composites.floatformat.set_options_float('%.5f')\n",
      "eval(my_format)\n",
      "print \"e0 [-] : \"\n",
      "print sim_2.e0\n",
      "np.set_printoptions()\n",
      "###### No curvature because only a N is applied.\n",
      "print \"k [-] : \"\n",
      "print sim_2.k"
     ],
     "language": "python",
     "metadata": {},
     "outputs": [
      {
       "output_type": "stream",
       "stream": "stdout",
       "text": [
        "e0 [-] : \n",
        "[-0.00007 0.00001 -0.00000]\n",
        "k [-] : \n",
        "[-1.98685075  0.44400239 -0.70863186]\n"
       ]
      }
     ],
     "prompt_number": 28
    },
    {
     "cell_type": "markdown",
     "metadata": {},
     "source": [
      "See Appendix C for stresses/strains and safety factors."
     ]
    },
    {
     "cell_type": "code",
     "collapsed": false,
     "input": [
      "# sim.return_results()\n",
      "# fail.make_table()"
     ],
     "language": "python",
     "metadata": {},
     "outputs": [],
     "prompt_number": 29
    },
    {
     "cell_type": "code",
     "collapsed": false,
     "input": [
      "from composites.maketable import maketable,make_stress_table,make_safety_table"
     ],
     "language": "python",
     "metadata": {},
     "outputs": [],
     "prompt_number": 30
    },
    {
     "cell_type": "code",
     "collapsed": false,
     "input": [
      "#Require pandas 0.14.1+\n",
      "pd.set_option('display.float_format',lambda x:'%.5f' % x)\n",
      "df_1 = sim_1.return_results()\n",
      "# df\n",
      "df_latex_1 = df_1[::-1].to_latex(escape = False,longtable = True, index = False)\n",
      "make_stress_table(df_latex_1,'docs/ass6/design3/stresstable_1.tex',is_reversed = True)\n",
      "# print \"See Appendix A.1\""
     ],
     "language": "python",
     "metadata": {},
     "outputs": [],
     "prompt_number": 42
    },
    {
     "cell_type": "code",
     "collapsed": false,
     "input": [
      "R_data_1 = fail_1.make_table()\n",
      "pd.set_option('display.float_format',lambda x:'%.2f' % x)\n",
      "# R_data\n",
      "R_latex_1 = R_data_1[::-1].to_latex(escape = False,longtable = True, index = False)\n",
      "make_safety_table(R_latex_1,'docs/ass6/design3/safetytable_1.tex',is_reversed = True)"
     ],
     "language": "python",
     "metadata": {},
     "outputs": [],
     "prompt_number": 43
    },
    {
     "cell_type": "code",
     "collapsed": false,
     "input": [
      "#Require pandas 0.14.1+\n",
      "pd.set_option('display.float_format',lambda x:'%.5f' % x)\n",
      "df_2 = sim_2.return_results()\n",
      "# df\n",
      "df_latex_2 = df_2[::-1].to_latex(escape = False,longtable = True, index = False)\n",
      "make_stress_table(df_latex_2,'docs/ass6/design3/stresstable_2.tex',is_reversed = True)\n",
      "# print \"See Appendix A.1\""
     ],
     "language": "python",
     "metadata": {},
     "outputs": [],
     "prompt_number": 44
    },
    {
     "cell_type": "code",
     "collapsed": false,
     "input": [
      "R_data_2 = fail_2.make_table()\n",
      "pd.set_option('display.float_format',lambda x:'%.2f' % x)\n",
      "# R_data\n",
      "R_latex_2 = R_data_2[::-1].to_latex(escape = False,longtable = True, index = False)\n",
      "make_safety_table(R_latex_2,'docs/ass6/design3/safetytable_2.tex',is_reversed = True)"
     ],
     "language": "python",
     "metadata": {},
     "outputs": [],
     "prompt_number": 45
    },
    {
     "cell_type": "code",
     "collapsed": false,
     "input": [],
     "language": "python",
     "metadata": {},
     "outputs": []
    }
   ],
   "metadata": {}
  }
 ]
}